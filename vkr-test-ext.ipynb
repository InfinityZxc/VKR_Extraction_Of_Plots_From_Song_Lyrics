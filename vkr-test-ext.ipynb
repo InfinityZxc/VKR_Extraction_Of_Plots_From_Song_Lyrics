{
 "cells": [
  {
   "cell_type": "code",
   "execution_count": 1,
   "id": "28ad37f4",
   "metadata": {
    "_cell_guid": "b1076dfc-b9ad-4769-8c92-a6c4dae69d19",
    "_uuid": "8f2839f25d086af736a60e9eeb907d3b93b6e0e5",
    "execution": {
     "iopub.execute_input": "2024-05-18T12:32:17.571751Z",
     "iopub.status.busy": "2024-05-18T12:32:17.571269Z",
     "iopub.status.idle": "2024-05-18T12:32:18.726748Z",
     "shell.execute_reply": "2024-05-18T12:32:18.725086Z"
    },
    "papermill": {
     "duration": 1.21906,
     "end_time": "2024-05-18T12:32:18.729735",
     "exception": false,
     "start_time": "2024-05-18T12:32:17.510675",
     "status": "completed"
    },
    "tags": []
   },
   "outputs": [
    {
     "name": "stdout",
     "output_type": "stream",
     "text": [
      "/kaggle/input/generated-results/generated_LexRank_sumy.csv\n",
      "/kaggle/input/generated-results/generated_all_bert_ext_sum_simple.csv\n",
      "/kaggle/input/generated-results/generated_spacy_topicrank.csv\n",
      "/kaggle/input/generated-results/generated_spacy_textrank.csv\n",
      "/kaggle/input/generated-results/generated_coref_sbert_ext_sum_simple.csv\n",
      "/kaggle/input/generated-results/generated_all_Lsa_sumy.csv\n",
      "/kaggle/input/generated-results/generated_coref_spacy_textrank.csv\n",
      "/kaggle/input/generated-results/generated_coref_spacy_topicrank.csv\n",
      "/kaggle/input/generated-results/generated_all_sbert_ext_sum_simple.csv\n",
      "/kaggle/input/generated-results/generated_bert_ext_sum_simple.csv\n",
      "/kaggle/input/generated-results/generated_all_spacy_textrank.csv\n",
      "/kaggle/input/generated-results/generated_all_LexRank_sumy.csv\n",
      "/kaggle/input/generated-results/generated_coref_seq_to_seq_bart-base.csv\n",
      "/kaggle/input/generated-results/generated_coref_KLSummarizer_sumy.csv\n",
      "/kaggle/input/generated-results/generated_coref_Lsa_sumy.csv\n",
      "/kaggle/input/generated-results/generated_all_seq_to_seq_bart-base.csv\n",
      "/kaggle/input/generated-results/generated_all_spacy_positionrank.csv\n",
      "/kaggle/input/generated-results/generated_all_KLSummarizer_sumy.csv\n",
      "/kaggle/input/generated-results/generated_coref_spacy_positionrank.csv\n",
      "/kaggle/input/generated-results/generated_coref_bert_ext_sum_simple.csv\n",
      "/kaggle/input/generated-results/generated_Lsa_sumy.csv\n",
      "/kaggle/input/generated-results/generated_TextRank_sumy.csv\n",
      "/kaggle/input/generated-results/generated_coref_TextRank_sumy.csv\n",
      "/kaggle/input/generated-results/generated_seq_to_seq_t5_small.csv\n",
      "/kaggle/input/generated-results/generated_all_spacy_topicrank.csv\n",
      "/kaggle/input/generated-results/generated_all_seq_to_seq_t5_small.csv\n",
      "/kaggle/input/generated-results/generated_coref_LexRank_sumy.csv\n",
      "/kaggle/input/generated-results/generated_coref.csv\n",
      "/kaggle/input/generated-results/generated_all_Luhn_sumy.csv\n",
      "/kaggle/input/generated-results/generated_all_TextRank_sumy.csv\n",
      "/kaggle/input/generated-results/generated_seq_to_seq_bart-base.csv\n",
      "/kaggle/input/generated-results/generated_spacy_positionrank.csv\n",
      "/kaggle/input/generated-results/generated_KLSummarizer_sumy.csv\n",
      "/kaggle/input/generated-results/generated_coref_Luhn_sumy.csv\n",
      "/kaggle/input/generated-results/generated_sbert_ext_sum_simple.csv\n",
      "/kaggle/input/generated-results/generated_Luhn_sumy.csv\n",
      "/kaggle/input/generated-results/generated_coref_seq_to_seq_t5_small.csv\n",
      "/kaggle/input/tmp-results/generated_sum_coref_train.csv\n",
      "/kaggle/input/tmp-results/generated_sum_coref_test.csv\n",
      "/kaggle/input/tmp-results/generated_sum_coref_validation.csv\n",
      "/kaggle/input/tmp-results/generated_coref_test.csv\n",
      "/kaggle/input/tmp-results/generated_coref_validation.csv\n",
      "/kaggle/input/tmp-results/generated_coref_train.csv\n",
      "/kaggle/input/combined-partial/combined_second_tags.csv\n",
      "/kaggle/input/combined-partial/combined_train.csv\n",
      "/kaggle/input/combined-partial/combined_first_tags.csv\n",
      "/kaggle/input/combined-partial/combined_tags.csv\n",
      "/kaggle/input/combined-partial/combined_test.csv\n",
      "/kaggle/input/combined-partial/combined_validation.csv\n"
     ]
    }
   ],
   "source": [
    "# This Python 3 environment comes with many helpful analytics libraries installed\n",
    "# It is defined by the kaggle/python Docker image: https://github.com/kaggle/docker-python\n",
    "# For example, here's several helpful packages to load\n",
    "\n",
    "import numpy as np # linear algebra\n",
    "import pandas as pd # data processing, CSV file I/O (e.g. pd.read_csv)\n",
    "\n",
    "# Input data files are available in the read-only \"../input/\" directory\n",
    "# For example, running this (by clicking run or pressing Shift+Enter) will list all files under the input directory\n",
    "\n",
    "import os\n",
    "for dirname, _, filenames in os.walk('/kaggle/input'):\n",
    "    for filename in filenames:\n",
    "        print(os.path.join(dirname, filename))\n",
    "\n",
    "# You can write up to 20GB to the current directory (/kaggle/working/) that gets preserved as output when you create a version using \"Save & Run All\" \n",
    "# You can also write temporary files to /kaggle/temp/, but they won't be saved outside of the current session"
   ]
  },
  {
   "cell_type": "code",
   "execution_count": 2,
   "id": "dca028d8",
   "metadata": {
    "execution": {
     "iopub.execute_input": "2024-05-18T12:32:18.844501Z",
     "iopub.status.busy": "2024-05-18T12:32:18.843251Z",
     "iopub.status.idle": "2024-05-18T12:32:37.702486Z",
     "shell.execute_reply": "2024-05-18T12:32:37.700350Z"
    },
    "papermill": {
     "duration": 18.919612,
     "end_time": "2024-05-18T12:32:37.705900",
     "exception": false,
     "start_time": "2024-05-18T12:32:18.786288",
     "status": "completed"
    },
    "tags": []
   },
   "outputs": [
    {
     "name": "stdout",
     "output_type": "stream",
     "text": [
      "Collecting bert-extractive-summarizer\r\n",
      "  Downloading bert_extractive_summarizer-0.10.1-py3-none-any.whl.metadata (15 kB)\r\n",
      "Requirement already satisfied: transformers in /opt/conda/lib/python3.10/site-packages (from bert-extractive-summarizer) (4.39.3)\r\n",
      "Requirement already satisfied: scikit-learn in /opt/conda/lib/python3.10/site-packages (from bert-extractive-summarizer) (1.2.2)\r\n",
      "Requirement already satisfied: spacy in /opt/conda/lib/python3.10/site-packages (from bert-extractive-summarizer) (3.7.4)\r\n",
      "Requirement already satisfied: numpy>=1.17.3 in /opt/conda/lib/python3.10/site-packages (from scikit-learn->bert-extractive-summarizer) (1.26.4)\r\n",
      "Requirement already satisfied: scipy>=1.3.2 in /opt/conda/lib/python3.10/site-packages (from scikit-learn->bert-extractive-summarizer) (1.11.4)\r\n",
      "Requirement already satisfied: joblib>=1.1.1 in /opt/conda/lib/python3.10/site-packages (from scikit-learn->bert-extractive-summarizer) (1.4.0)\r\n",
      "Requirement already satisfied: threadpoolctl>=2.0.0 in /opt/conda/lib/python3.10/site-packages (from scikit-learn->bert-extractive-summarizer) (3.2.0)\r\n",
      "Requirement already satisfied: spacy-legacy<3.1.0,>=3.0.11 in /opt/conda/lib/python3.10/site-packages (from spacy->bert-extractive-summarizer) (3.0.12)\r\n",
      "Requirement already satisfied: spacy-loggers<2.0.0,>=1.0.0 in /opt/conda/lib/python3.10/site-packages (from spacy->bert-extractive-summarizer) (1.0.5)\r\n",
      "Requirement already satisfied: murmurhash<1.1.0,>=0.28.0 in /opt/conda/lib/python3.10/site-packages (from spacy->bert-extractive-summarizer) (1.0.10)\r\n",
      "Requirement already satisfied: cymem<2.1.0,>=2.0.2 in /opt/conda/lib/python3.10/site-packages (from spacy->bert-extractive-summarizer) (2.0.8)\r\n",
      "Requirement already satisfied: preshed<3.1.0,>=3.0.2 in /opt/conda/lib/python3.10/site-packages (from spacy->bert-extractive-summarizer) (3.0.9)\r\n",
      "Requirement already satisfied: thinc<8.3.0,>=8.2.2 in /opt/conda/lib/python3.10/site-packages (from spacy->bert-extractive-summarizer) (8.2.3)\r\n",
      "Requirement already satisfied: wasabi<1.2.0,>=0.9.1 in /opt/conda/lib/python3.10/site-packages (from spacy->bert-extractive-summarizer) (1.1.2)\r\n",
      "Requirement already satisfied: srsly<3.0.0,>=2.4.3 in /opt/conda/lib/python3.10/site-packages (from spacy->bert-extractive-summarizer) (2.4.8)\r\n",
      "Requirement already satisfied: catalogue<2.1.0,>=2.0.6 in /opt/conda/lib/python3.10/site-packages (from spacy->bert-extractive-summarizer) (2.0.10)\r\n",
      "Requirement already satisfied: weasel<0.4.0,>=0.1.0 in /opt/conda/lib/python3.10/site-packages (from spacy->bert-extractive-summarizer) (0.3.4)\r\n",
      "Requirement already satisfied: typer<0.10.0,>=0.3.0 in /opt/conda/lib/python3.10/site-packages (from spacy->bert-extractive-summarizer) (0.9.0)\r\n",
      "Requirement already satisfied: smart-open<7.0.0,>=5.2.1 in /opt/conda/lib/python3.10/site-packages (from spacy->bert-extractive-summarizer) (6.4.0)\r\n",
      "Requirement already satisfied: tqdm<5.0.0,>=4.38.0 in /opt/conda/lib/python3.10/site-packages (from spacy->bert-extractive-summarizer) (4.66.1)\r\n",
      "Requirement already satisfied: requests<3.0.0,>=2.13.0 in /opt/conda/lib/python3.10/site-packages (from spacy->bert-extractive-summarizer) (2.31.0)\r\n",
      "Requirement already satisfied: pydantic!=1.8,!=1.8.1,<3.0.0,>=1.7.4 in /opt/conda/lib/python3.10/site-packages (from spacy->bert-extractive-summarizer) (2.5.3)\r\n",
      "Requirement already satisfied: jinja2 in /opt/conda/lib/python3.10/site-packages (from spacy->bert-extractive-summarizer) (3.1.2)\r\n",
      "Requirement already satisfied: setuptools in /opt/conda/lib/python3.10/site-packages (from spacy->bert-extractive-summarizer) (69.0.3)\r\n",
      "Requirement already satisfied: packaging>=20.0 in /opt/conda/lib/python3.10/site-packages (from spacy->bert-extractive-summarizer) (21.3)\r\n",
      "Requirement already satisfied: langcodes<4.0.0,>=3.2.0 in /opt/conda/lib/python3.10/site-packages (from spacy->bert-extractive-summarizer) (3.3.0)\r\n",
      "Requirement already satisfied: filelock in /opt/conda/lib/python3.10/site-packages (from transformers->bert-extractive-summarizer) (3.13.1)\r\n",
      "Requirement already satisfied: huggingface-hub<1.0,>=0.19.3 in /opt/conda/lib/python3.10/site-packages (from transformers->bert-extractive-summarizer) (0.22.2)\r\n",
      "Requirement already satisfied: pyyaml>=5.1 in /opt/conda/lib/python3.10/site-packages (from transformers->bert-extractive-summarizer) (6.0.1)\r\n",
      "Requirement already satisfied: regex!=2019.12.17 in /opt/conda/lib/python3.10/site-packages (from transformers->bert-extractive-summarizer) (2023.12.25)\r\n",
      "Requirement already satisfied: tokenizers<0.19,>=0.14 in /opt/conda/lib/python3.10/site-packages (from transformers->bert-extractive-summarizer) (0.15.2)\r\n",
      "Requirement already satisfied: safetensors>=0.4.1 in /opt/conda/lib/python3.10/site-packages (from transformers->bert-extractive-summarizer) (0.4.3)\r\n",
      "Requirement already satisfied: fsspec>=2023.5.0 in /opt/conda/lib/python3.10/site-packages (from huggingface-hub<1.0,>=0.19.3->transformers->bert-extractive-summarizer) (2024.2.0)\r\n",
      "Requirement already satisfied: typing-extensions>=3.7.4.3 in /opt/conda/lib/python3.10/site-packages (from huggingface-hub<1.0,>=0.19.3->transformers->bert-extractive-summarizer) (4.9.0)\r\n",
      "Requirement already satisfied: pyparsing!=3.0.5,>=2.0.2 in /opt/conda/lib/python3.10/site-packages (from packaging>=20.0->spacy->bert-extractive-summarizer) (3.1.1)\r\n",
      "Requirement already satisfied: annotated-types>=0.4.0 in /opt/conda/lib/python3.10/site-packages (from pydantic!=1.8,!=1.8.1,<3.0.0,>=1.7.4->spacy->bert-extractive-summarizer) (0.6.0)\r\n",
      "Requirement already satisfied: pydantic-core==2.14.6 in /opt/conda/lib/python3.10/site-packages (from pydantic!=1.8,!=1.8.1,<3.0.0,>=1.7.4->spacy->bert-extractive-summarizer) (2.14.6)\r\n",
      "Requirement already satisfied: charset-normalizer<4,>=2 in /opt/conda/lib/python3.10/site-packages (from requests<3.0.0,>=2.13.0->spacy->bert-extractive-summarizer) (3.3.2)\r\n",
      "Requirement already satisfied: idna<4,>=2.5 in /opt/conda/lib/python3.10/site-packages (from requests<3.0.0,>=2.13.0->spacy->bert-extractive-summarizer) (3.6)\r\n",
      "Requirement already satisfied: urllib3<3,>=1.21.1 in /opt/conda/lib/python3.10/site-packages (from requests<3.0.0,>=2.13.0->spacy->bert-extractive-summarizer) (1.26.18)\r\n",
      "Requirement already satisfied: certifi>=2017.4.17 in /opt/conda/lib/python3.10/site-packages (from requests<3.0.0,>=2.13.0->spacy->bert-extractive-summarizer) (2024.2.2)\r\n",
      "Requirement already satisfied: blis<0.8.0,>=0.7.8 in /opt/conda/lib/python3.10/site-packages (from thinc<8.3.0,>=8.2.2->spacy->bert-extractive-summarizer) (0.7.11)\r\n",
      "Requirement already satisfied: confection<1.0.0,>=0.0.1 in /opt/conda/lib/python3.10/site-packages (from thinc<8.3.0,>=8.2.2->spacy->bert-extractive-summarizer) (0.1.4)\r\n",
      "Requirement already satisfied: click<9.0.0,>=7.1.1 in /opt/conda/lib/python3.10/site-packages (from typer<0.10.0,>=0.3.0->spacy->bert-extractive-summarizer) (8.1.7)\r\n",
      "Requirement already satisfied: cloudpathlib<0.17.0,>=0.7.0 in /opt/conda/lib/python3.10/site-packages (from weasel<0.4.0,>=0.1.0->spacy->bert-extractive-summarizer) (0.16.0)\r\n",
      "Requirement already satisfied: MarkupSafe>=2.0 in /opt/conda/lib/python3.10/site-packages (from jinja2->spacy->bert-extractive-summarizer) (2.1.3)\r\n",
      "Downloading bert_extractive_summarizer-0.10.1-py3-none-any.whl (25 kB)\r\n",
      "Installing collected packages: bert-extractive-summarizer\r\n",
      "Successfully installed bert-extractive-summarizer-0.10.1\r\n",
      "Note: you may need to restart the kernel to use updated packages.\n"
     ]
    }
   ],
   "source": [
    "pip install bert-extractive-summarizer"
   ]
  },
  {
   "cell_type": "code",
   "execution_count": 3,
   "id": "3f7ba3cb",
   "metadata": {
    "execution": {
     "iopub.execute_input": "2024-05-18T12:32:37.824740Z",
     "iopub.status.busy": "2024-05-18T12:32:37.824212Z",
     "iopub.status.idle": "2024-05-18T12:33:02.728445Z",
     "shell.execute_reply": "2024-05-18T12:33:02.726981Z"
    },
    "papermill": {
     "duration": 24.965773,
     "end_time": "2024-05-18T12:33:02.731068",
     "exception": false,
     "start_time": "2024-05-18T12:32:37.765295",
     "status": "completed"
    },
    "tags": []
   },
   "outputs": [
    {
     "name": "stdout",
     "output_type": "stream",
     "text": [
      "Requirement already satisfied: gensim in /opt/conda/lib/python3.10/site-packages (4.3.2)\r\n",
      "Collecting pytextrank\r\n",
      "  Downloading pytextrank-3.3.0-py3-none-any.whl.metadata (12 kB)\r\n",
      "Collecting summa\r\n",
      "  Downloading summa-1.2.0.tar.gz (54 kB)\r\n",
      "\u001b[2K     \u001b[90m━━━━━━━━━━━━━━━━━━━━━━━━━━━━━━━━━━━━━━━━\u001b[0m \u001b[32m54.9/54.9 kB\u001b[0m \u001b[31m1.5 MB/s\u001b[0m eta \u001b[36m0:00:00\u001b[0m\r\n",
      "\u001b[?25h  Preparing metadata (setup.py) ... \u001b[?25l-\b \b\\\b \bdone\r\n",
      "\u001b[?25hCollecting sumy\r\n",
      "  Downloading sumy-0.11.0-py2.py3-none-any.whl.metadata (7.5 kB)\r\n",
      "Requirement already satisfied: numpy>=1.18.5 in /opt/conda/lib/python3.10/site-packages (from gensim) (1.26.4)\r\n",
      "Requirement already satisfied: scipy>=1.7.0 in /opt/conda/lib/python3.10/site-packages (from gensim) (1.11.4)\r\n",
      "Requirement already satisfied: smart-open>=1.8.1 in /opt/conda/lib/python3.10/site-packages (from gensim) (6.4.0)\r\n",
      "Requirement already satisfied: GitPython>=3.1 in /opt/conda/lib/python3.10/site-packages (from pytextrank) (3.1.41)\r\n",
      "Requirement already satisfied: graphviz>=0.13 in /opt/conda/lib/python3.10/site-packages (from pytextrank) (0.20.3)\r\n",
      "Collecting icecream>=2.1 (from pytextrank)\r\n",
      "  Downloading icecream-2.1.3-py2.py3-none-any.whl.metadata (1.4 kB)\r\n",
      "Requirement already satisfied: networkx>=2.6 in /opt/conda/lib/python3.10/site-packages (from networkx[default]>=2.6->pytextrank) (3.2.1)\r\n",
      "Requirement already satisfied: pygments>=2.7.4 in /opt/conda/lib/python3.10/site-packages (from pytextrank) (2.17.2)\r\n",
      "Requirement already satisfied: spacy>=3.0 in /opt/conda/lib/python3.10/site-packages (from pytextrank) (3.7.4)\r\n",
      "Requirement already satisfied: docopt<0.7,>=0.6.1 in /opt/conda/lib/python3.10/site-packages (from sumy) (0.6.2)\r\n",
      "Collecting breadability>=0.1.20 (from sumy)\r\n",
      "  Downloading breadability-0.1.20.tar.gz (32 kB)\r\n",
      "  Preparing metadata (setup.py) ... \u001b[?25l-\b \bdone\r\n",
      "\u001b[?25hRequirement already satisfied: requests>=2.7.0 in /opt/conda/lib/python3.10/site-packages (from sumy) (2.31.0)\r\n",
      "Collecting pycountry>=18.2.23 (from sumy)\r\n",
      "  Downloading pycountry-23.12.11-py3-none-any.whl.metadata (12 kB)\r\n",
      "Requirement already satisfied: nltk>=3.0.2 in /opt/conda/lib/python3.10/site-packages (from sumy) (3.2.4)\r\n",
      "Collecting chardet (from breadability>=0.1.20->sumy)\r\n",
      "  Downloading chardet-5.2.0-py3-none-any.whl.metadata (3.4 kB)\r\n",
      "Requirement already satisfied: lxml>=2.0 in /opt/conda/lib/python3.10/site-packages (from breadability>=0.1.20->sumy) (5.2.1)\r\n",
      "Requirement already satisfied: gitdb<5,>=4.0.1 in /opt/conda/lib/python3.10/site-packages (from GitPython>=3.1->pytextrank) (4.0.11)\r\n",
      "Requirement already satisfied: colorama>=0.3.9 in /opt/conda/lib/python3.10/site-packages (from icecream>=2.1->pytextrank) (0.4.6)\r\n",
      "Requirement already satisfied: executing>=0.3.1 in /opt/conda/lib/python3.10/site-packages (from icecream>=2.1->pytextrank) (2.0.1)\r\n",
      "Requirement already satisfied: asttokens>=2.0.1 in /opt/conda/lib/python3.10/site-packages (from icecream>=2.1->pytextrank) (2.4.1)\r\n",
      "Requirement already satisfied: matplotlib>=3.5 in /opt/conda/lib/python3.10/site-packages (from networkx[default]>=2.6->pytextrank) (3.7.5)\r\n",
      "Requirement already satisfied: pandas>=1.4 in /opt/conda/lib/python3.10/site-packages (from networkx[default]>=2.6->pytextrank) (2.2.2)\r\n",
      "Requirement already satisfied: six in /opt/conda/lib/python3.10/site-packages (from nltk>=3.0.2->sumy) (1.16.0)\r\n",
      "Requirement already satisfied: charset-normalizer<4,>=2 in /opt/conda/lib/python3.10/site-packages (from requests>=2.7.0->sumy) (3.3.2)\r\n",
      "Requirement already satisfied: idna<4,>=2.5 in /opt/conda/lib/python3.10/site-packages (from requests>=2.7.0->sumy) (3.6)\r\n",
      "Requirement already satisfied: urllib3<3,>=1.21.1 in /opt/conda/lib/python3.10/site-packages (from requests>=2.7.0->sumy) (1.26.18)\r\n",
      "Requirement already satisfied: certifi>=2017.4.17 in /opt/conda/lib/python3.10/site-packages (from requests>=2.7.0->sumy) (2024.2.2)\r\n",
      "Requirement already satisfied: spacy-legacy<3.1.0,>=3.0.11 in /opt/conda/lib/python3.10/site-packages (from spacy>=3.0->pytextrank) (3.0.12)\r\n",
      "Requirement already satisfied: spacy-loggers<2.0.0,>=1.0.0 in /opt/conda/lib/python3.10/site-packages (from spacy>=3.0->pytextrank) (1.0.5)\r\n",
      "Requirement already satisfied: murmurhash<1.1.0,>=0.28.0 in /opt/conda/lib/python3.10/site-packages (from spacy>=3.0->pytextrank) (1.0.10)\r\n",
      "Requirement already satisfied: cymem<2.1.0,>=2.0.2 in /opt/conda/lib/python3.10/site-packages (from spacy>=3.0->pytextrank) (2.0.8)\r\n",
      "Requirement already satisfied: preshed<3.1.0,>=3.0.2 in /opt/conda/lib/python3.10/site-packages (from spacy>=3.0->pytextrank) (3.0.9)\r\n",
      "Requirement already satisfied: thinc<8.3.0,>=8.2.2 in /opt/conda/lib/python3.10/site-packages (from spacy>=3.0->pytextrank) (8.2.3)\r\n",
      "Requirement already satisfied: wasabi<1.2.0,>=0.9.1 in /opt/conda/lib/python3.10/site-packages (from spacy>=3.0->pytextrank) (1.1.2)\r\n",
      "Requirement already satisfied: srsly<3.0.0,>=2.4.3 in /opt/conda/lib/python3.10/site-packages (from spacy>=3.0->pytextrank) (2.4.8)\r\n",
      "Requirement already satisfied: catalogue<2.1.0,>=2.0.6 in /opt/conda/lib/python3.10/site-packages (from spacy>=3.0->pytextrank) (2.0.10)\r\n",
      "Requirement already satisfied: weasel<0.4.0,>=0.1.0 in /opt/conda/lib/python3.10/site-packages (from spacy>=3.0->pytextrank) (0.3.4)\r\n",
      "Requirement already satisfied: typer<0.10.0,>=0.3.0 in /opt/conda/lib/python3.10/site-packages (from spacy>=3.0->pytextrank) (0.9.0)\r\n",
      "Requirement already satisfied: tqdm<5.0.0,>=4.38.0 in /opt/conda/lib/python3.10/site-packages (from spacy>=3.0->pytextrank) (4.66.1)\r\n",
      "Requirement already satisfied: pydantic!=1.8,!=1.8.1,<3.0.0,>=1.7.4 in /opt/conda/lib/python3.10/site-packages (from spacy>=3.0->pytextrank) (2.5.3)\r\n",
      "Requirement already satisfied: jinja2 in /opt/conda/lib/python3.10/site-packages (from spacy>=3.0->pytextrank) (3.1.2)\r\n",
      "Requirement already satisfied: setuptools in /opt/conda/lib/python3.10/site-packages (from spacy>=3.0->pytextrank) (69.0.3)\r\n",
      "Requirement already satisfied: packaging>=20.0 in /opt/conda/lib/python3.10/site-packages (from spacy>=3.0->pytextrank) (21.3)\r\n",
      "Requirement already satisfied: langcodes<4.0.0,>=3.2.0 in /opt/conda/lib/python3.10/site-packages (from spacy>=3.0->pytextrank) (3.3.0)\r\n",
      "Requirement already satisfied: smmap<6,>=3.0.1 in /opt/conda/lib/python3.10/site-packages (from gitdb<5,>=4.0.1->GitPython>=3.1->pytextrank) (5.0.1)\r\n",
      "Requirement already satisfied: contourpy>=1.0.1 in /opt/conda/lib/python3.10/site-packages (from matplotlib>=3.5->networkx[default]>=2.6->pytextrank) (1.2.0)\r\n",
      "Requirement already satisfied: cycler>=0.10 in /opt/conda/lib/python3.10/site-packages (from matplotlib>=3.5->networkx[default]>=2.6->pytextrank) (0.12.1)\r\n",
      "Requirement already satisfied: fonttools>=4.22.0 in /opt/conda/lib/python3.10/site-packages (from matplotlib>=3.5->networkx[default]>=2.6->pytextrank) (4.47.0)\r\n",
      "Requirement already satisfied: kiwisolver>=1.0.1 in /opt/conda/lib/python3.10/site-packages (from matplotlib>=3.5->networkx[default]>=2.6->pytextrank) (1.4.5)\r\n",
      "Requirement already satisfied: pillow>=6.2.0 in /opt/conda/lib/python3.10/site-packages (from matplotlib>=3.5->networkx[default]>=2.6->pytextrank) (9.5.0)\r\n",
      "Requirement already satisfied: pyparsing>=2.3.1 in /opt/conda/lib/python3.10/site-packages (from matplotlib>=3.5->networkx[default]>=2.6->pytextrank) (3.1.1)\r\n",
      "Requirement already satisfied: python-dateutil>=2.7 in /opt/conda/lib/python3.10/site-packages (from matplotlib>=3.5->networkx[default]>=2.6->pytextrank) (2.9.0.post0)\r\n",
      "Requirement already satisfied: pytz>=2020.1 in /opt/conda/lib/python3.10/site-packages (from pandas>=1.4->networkx[default]>=2.6->pytextrank) (2023.3.post1)\r\n",
      "Requirement already satisfied: tzdata>=2022.7 in /opt/conda/lib/python3.10/site-packages (from pandas>=1.4->networkx[default]>=2.6->pytextrank) (2023.4)\r\n",
      "Requirement already satisfied: annotated-types>=0.4.0 in /opt/conda/lib/python3.10/site-packages (from pydantic!=1.8,!=1.8.1,<3.0.0,>=1.7.4->spacy>=3.0->pytextrank) (0.6.0)\r\n",
      "Requirement already satisfied: pydantic-core==2.14.6 in /opt/conda/lib/python3.10/site-packages (from pydantic!=1.8,!=1.8.1,<3.0.0,>=1.7.4->spacy>=3.0->pytextrank) (2.14.6)\r\n",
      "Requirement already satisfied: typing-extensions>=4.6.1 in /opt/conda/lib/python3.10/site-packages (from pydantic!=1.8,!=1.8.1,<3.0.0,>=1.7.4->spacy>=3.0->pytextrank) (4.9.0)\r\n",
      "Requirement already satisfied: blis<0.8.0,>=0.7.8 in /opt/conda/lib/python3.10/site-packages (from thinc<8.3.0,>=8.2.2->spacy>=3.0->pytextrank) (0.7.11)\r\n",
      "Requirement already satisfied: confection<1.0.0,>=0.0.1 in /opt/conda/lib/python3.10/site-packages (from thinc<8.3.0,>=8.2.2->spacy>=3.0->pytextrank) (0.1.4)\r\n",
      "Requirement already satisfied: click<9.0.0,>=7.1.1 in /opt/conda/lib/python3.10/site-packages (from typer<0.10.0,>=0.3.0->spacy>=3.0->pytextrank) (8.1.7)\r\n",
      "Requirement already satisfied: cloudpathlib<0.17.0,>=0.7.0 in /opt/conda/lib/python3.10/site-packages (from weasel<0.4.0,>=0.1.0->spacy>=3.0->pytextrank) (0.16.0)\r\n",
      "Requirement already satisfied: MarkupSafe>=2.0 in /opt/conda/lib/python3.10/site-packages (from jinja2->spacy>=3.0->pytextrank) (2.1.3)\r\n",
      "Downloading pytextrank-3.3.0-py3-none-any.whl (26 kB)\r\n",
      "Downloading sumy-0.11.0-py2.py3-none-any.whl (97 kB)\r\n",
      "\u001b[2K   \u001b[90m━━━━━━━━━━━━━━━━━━━━━━━━━━━━━━━━━━━━━━━━\u001b[0m \u001b[32m97.3/97.3 kB\u001b[0m \u001b[31m3.3 MB/s\u001b[0m eta \u001b[36m0:00:00\u001b[0m\r\n",
      "\u001b[?25hDownloading icecream-2.1.3-py2.py3-none-any.whl (8.4 kB)\r\n",
      "Downloading pycountry-23.12.11-py3-none-any.whl (6.2 MB)\r\n",
      "\u001b[2K   \u001b[90m━━━━━━━━━━━━━━━━━━━━━━━━━━━━━━━━━━━━━━━━\u001b[0m \u001b[32m6.2/6.2 MB\u001b[0m \u001b[31m49.2 MB/s\u001b[0m eta \u001b[36m0:00:00\u001b[0m\r\n",
      "\u001b[?25hDownloading chardet-5.2.0-py3-none-any.whl (199 kB)\r\n",
      "\u001b[2K   \u001b[90m━━━━━━━━━━━━━━━━━━━━━━━━━━━━━━━━━━━━━━━━\u001b[0m \u001b[32m199.4/199.4 kB\u001b[0m \u001b[31m10.8 MB/s\u001b[0m eta \u001b[36m0:00:00\u001b[0m\r\n",
      "\u001b[?25hBuilding wheels for collected packages: summa, breadability\r\n",
      "  Building wheel for summa (setup.py) ... \u001b[?25l-\b \b\\\b \b|\b \bdone\r\n",
      "\u001b[?25h  Created wheel for summa: filename=summa-1.2.0-py3-none-any.whl size=54388 sha256=67d340bf01dc67d7b39cd3812afcd5bd849815e7445074cfc48998dbf102cb57\r\n",
      "  Stored in directory: /root/.cache/pip/wheels/4a/ca/c5/4958614cfba88ed6ceb7cb5a849f9f89f9ac49971616bc919f\r\n",
      "  Building wheel for breadability (setup.py) ... \u001b[?25l-\b \bdone\r\n",
      "\u001b[?25h  Created wheel for breadability: filename=breadability-0.1.20-py2.py3-none-any.whl size=21691 sha256=c2ad8280287f66109656c8d16d58378ee5ee8973d3c00f74fd0813f508ffa67a\r\n",
      "  Stored in directory: /root/.cache/pip/wheels/64/22/90/b84fcc30e16598db20a0d41340616dbf9b1e82bbcc627b0b33\r\n",
      "Successfully built summa breadability\r\n",
      "Installing collected packages: pycountry, chardet, summa, icecream, breadability, sumy, pytextrank\r\n",
      "Successfully installed breadability-0.1.20 chardet-5.2.0 icecream-2.1.3 pycountry-23.12.11 pytextrank-3.3.0 summa-1.2.0 sumy-0.11.0\r\n",
      "Note: you may need to restart the kernel to use updated packages.\n"
     ]
    }
   ],
   "source": [
    "pip install gensim pytextrank summa sumy"
   ]
  },
  {
   "cell_type": "code",
   "execution_count": 4,
   "id": "eb587bc6",
   "metadata": {
    "execution": {
     "iopub.execute_input": "2024-05-18T12:33:02.858721Z",
     "iopub.status.busy": "2024-05-18T12:33:02.858154Z",
     "iopub.status.idle": "2024-05-18T12:33:19.462752Z",
     "shell.execute_reply": "2024-05-18T12:33:19.460109Z"
    },
    "papermill": {
     "duration": 16.672405,
     "end_time": "2024-05-18T12:33:19.466494",
     "exception": false,
     "start_time": "2024-05-18T12:33:02.794089",
     "status": "completed"
    },
    "tags": []
   },
   "outputs": [
    {
     "name": "stdout",
     "output_type": "stream",
     "text": [
      "Collecting sentence-transformers\r\n",
      "  Downloading sentence_transformers-2.7.0-py3-none-any.whl.metadata (11 kB)\r\n",
      "Requirement already satisfied: transformers<5.0.0,>=4.34.0 in /opt/conda/lib/python3.10/site-packages (from sentence-transformers) (4.39.3)\r\n",
      "Requirement already satisfied: tqdm in /opt/conda/lib/python3.10/site-packages (from sentence-transformers) (4.66.1)\r\n",
      "Requirement already satisfied: torch>=1.11.0 in /opt/conda/lib/python3.10/site-packages (from sentence-transformers) (2.1.2+cpu)\r\n",
      "Requirement already satisfied: numpy in /opt/conda/lib/python3.10/site-packages (from sentence-transformers) (1.26.4)\r\n",
      "Requirement already satisfied: scikit-learn in /opt/conda/lib/python3.10/site-packages (from sentence-transformers) (1.2.2)\r\n",
      "Requirement already satisfied: scipy in /opt/conda/lib/python3.10/site-packages (from sentence-transformers) (1.11.4)\r\n",
      "Requirement already satisfied: huggingface-hub>=0.15.1 in /opt/conda/lib/python3.10/site-packages (from sentence-transformers) (0.22.2)\r\n",
      "Requirement already satisfied: Pillow in /opt/conda/lib/python3.10/site-packages (from sentence-transformers) (9.5.0)\r\n",
      "Requirement already satisfied: filelock in /opt/conda/lib/python3.10/site-packages (from huggingface-hub>=0.15.1->sentence-transformers) (3.13.1)\r\n",
      "Requirement already satisfied: fsspec>=2023.5.0 in /opt/conda/lib/python3.10/site-packages (from huggingface-hub>=0.15.1->sentence-transformers) (2024.2.0)\r\n",
      "Requirement already satisfied: packaging>=20.9 in /opt/conda/lib/python3.10/site-packages (from huggingface-hub>=0.15.1->sentence-transformers) (21.3)\r\n",
      "Requirement already satisfied: pyyaml>=5.1 in /opt/conda/lib/python3.10/site-packages (from huggingface-hub>=0.15.1->sentence-transformers) (6.0.1)\r\n",
      "Requirement already satisfied: requests in /opt/conda/lib/python3.10/site-packages (from huggingface-hub>=0.15.1->sentence-transformers) (2.31.0)\r\n",
      "Requirement already satisfied: typing-extensions>=3.7.4.3 in /opt/conda/lib/python3.10/site-packages (from huggingface-hub>=0.15.1->sentence-transformers) (4.9.0)\r\n",
      "Requirement already satisfied: sympy in /opt/conda/lib/python3.10/site-packages (from torch>=1.11.0->sentence-transformers) (1.12)\r\n",
      "Requirement already satisfied: networkx in /opt/conda/lib/python3.10/site-packages (from torch>=1.11.0->sentence-transformers) (3.2.1)\r\n",
      "Requirement already satisfied: jinja2 in /opt/conda/lib/python3.10/site-packages (from torch>=1.11.0->sentence-transformers) (3.1.2)\r\n",
      "Requirement already satisfied: regex!=2019.12.17 in /opt/conda/lib/python3.10/site-packages (from transformers<5.0.0,>=4.34.0->sentence-transformers) (2023.12.25)\r\n",
      "Requirement already satisfied: tokenizers<0.19,>=0.14 in /opt/conda/lib/python3.10/site-packages (from transformers<5.0.0,>=4.34.0->sentence-transformers) (0.15.2)\r\n",
      "Requirement already satisfied: safetensors>=0.4.1 in /opt/conda/lib/python3.10/site-packages (from transformers<5.0.0,>=4.34.0->sentence-transformers) (0.4.3)\r\n",
      "Requirement already satisfied: joblib>=1.1.1 in /opt/conda/lib/python3.10/site-packages (from scikit-learn->sentence-transformers) (1.4.0)\r\n",
      "Requirement already satisfied: threadpoolctl>=2.0.0 in /opt/conda/lib/python3.10/site-packages (from scikit-learn->sentence-transformers) (3.2.0)\r\n",
      "Requirement already satisfied: pyparsing!=3.0.5,>=2.0.2 in /opt/conda/lib/python3.10/site-packages (from packaging>=20.9->huggingface-hub>=0.15.1->sentence-transformers) (3.1.1)\r\n",
      "Requirement already satisfied: MarkupSafe>=2.0 in /opt/conda/lib/python3.10/site-packages (from jinja2->torch>=1.11.0->sentence-transformers) (2.1.3)\r\n",
      "Requirement already satisfied: charset-normalizer<4,>=2 in /opt/conda/lib/python3.10/site-packages (from requests->huggingface-hub>=0.15.1->sentence-transformers) (3.3.2)\r\n",
      "Requirement already satisfied: idna<4,>=2.5 in /opt/conda/lib/python3.10/site-packages (from requests->huggingface-hub>=0.15.1->sentence-transformers) (3.6)\r\n",
      "Requirement already satisfied: urllib3<3,>=1.21.1 in /opt/conda/lib/python3.10/site-packages (from requests->huggingface-hub>=0.15.1->sentence-transformers) (1.26.18)\r\n",
      "Requirement already satisfied: certifi>=2017.4.17 in /opt/conda/lib/python3.10/site-packages (from requests->huggingface-hub>=0.15.1->sentence-transformers) (2024.2.2)\r\n",
      "Requirement already satisfied: mpmath>=0.19 in /opt/conda/lib/python3.10/site-packages (from sympy->torch>=1.11.0->sentence-transformers) (1.3.0)\r\n",
      "Downloading sentence_transformers-2.7.0-py3-none-any.whl (171 kB)\r\n",
      "\u001b[2K   \u001b[90m━━━━━━━━━━━━━━━━━━━━━━━━━━━━━━━━━━━━━━━━\u001b[0m \u001b[32m171.5/171.5 kB\u001b[0m \u001b[31m3.2 MB/s\u001b[0m eta \u001b[36m0:00:00\u001b[0m\r\n",
      "\u001b[?25hInstalling collected packages: sentence-transformers\r\n",
      "Successfully installed sentence-transformers-2.7.0\r\n",
      "Note: you may need to restart the kernel to use updated packages.\n"
     ]
    }
   ],
   "source": [
    "pip install -U sentence-transformers"
   ]
  },
  {
   "cell_type": "code",
   "execution_count": 5,
   "id": "5863b38e",
   "metadata": {
    "execution": {
     "iopub.execute_input": "2024-05-18T12:33:19.696412Z",
     "iopub.status.busy": "2024-05-18T12:33:19.695060Z",
     "iopub.status.idle": "2024-05-18T12:34:00.350979Z",
     "shell.execute_reply": "2024-05-18T12:34:00.349006Z"
    },
    "papermill": {
     "duration": 40.823538,
     "end_time": "2024-05-18T12:34:00.354129",
     "exception": false,
     "start_time": "2024-05-18T12:33:19.530591",
     "status": "completed"
    },
    "tags": []
   },
   "outputs": [
    {
     "name": "stdout",
     "output_type": "stream",
     "text": [
      "Requirement already satisfied: nltk in /opt/conda/lib/python3.10/site-packages (3.2.4)\r\n",
      "Collecting nltk\r\n",
      "  Downloading nltk-3.8.1-py3-none-any.whl.metadata (2.8 kB)\r\n",
      "Requirement already satisfied: click in /opt/conda/lib/python3.10/site-packages (from nltk) (8.1.7)\r\n",
      "Requirement already satisfied: joblib in /opt/conda/lib/python3.10/site-packages (from nltk) (1.4.0)\r\n",
      "Requirement already satisfied: regex>=2021.8.3 in /opt/conda/lib/python3.10/site-packages (from nltk) (2023.12.25)\r\n",
      "Requirement already satisfied: tqdm in /opt/conda/lib/python3.10/site-packages (from nltk) (4.66.1)\r\n",
      "Downloading nltk-3.8.1-py3-none-any.whl (1.5 MB)\r\n",
      "\u001b[2K   \u001b[90m━━━━━━━━━━━━━━━━━━━━━━━━━━━━━━━━━━━━━━━━\u001b[0m \u001b[32m1.5/1.5 MB\u001b[0m \u001b[31m14.7 MB/s\u001b[0m eta \u001b[36m0:00:00\u001b[0m\r\n",
      "\u001b[?25hInstalling collected packages: nltk\r\n",
      "  Attempting uninstall: nltk\r\n",
      "    Found existing installation: nltk 3.2.4\r\n",
      "    Uninstalling nltk-3.2.4:\r\n",
      "      Successfully uninstalled nltk-3.2.4\r\n",
      "\u001b[31mERROR: pip's dependency resolver does not currently take into account all the packages that are installed. This behaviour is the source of the following dependency conflicts.\r\n",
      "preprocessing 0.1.13 requires nltk==3.2.4, but you have nltk 3.8.1 which is incompatible.\u001b[0m\u001b[31m\r\n",
      "\u001b[0mSuccessfully installed nltk-3.8.1\r\n",
      "Collecting nltk==3.5\r\n",
      "  Downloading nltk-3.5.zip (1.4 MB)\r\n",
      "\u001b[2K     \u001b[90m━━━━━━━━━━━━━━━━━━━━━━━━━━━━━━━━━━━━━━━━\u001b[0m \u001b[32m1.4/1.4 MB\u001b[0m \u001b[31m13.4 MB/s\u001b[0m eta \u001b[36m0:00:00\u001b[0m\r\n",
      "\u001b[?25h  Preparing metadata (setup.py) ... \u001b[?25l-\b \bdone\r\n",
      "\u001b[?25hRequirement already satisfied: click in /opt/conda/lib/python3.10/site-packages (from nltk==3.5) (8.1.7)\r\n",
      "Requirement already satisfied: joblib in /opt/conda/lib/python3.10/site-packages (from nltk==3.5) (1.4.0)\r\n",
      "Requirement already satisfied: regex in /opt/conda/lib/python3.10/site-packages (from nltk==3.5) (2023.12.25)\r\n",
      "Requirement already satisfied: tqdm in /opt/conda/lib/python3.10/site-packages (from nltk==3.5) (4.66.1)\r\n",
      "Building wheels for collected packages: nltk\r\n",
      "  Building wheel for nltk (setup.py) ... \u001b[?25l-\b \b\\\b \bdone\r\n",
      "\u001b[?25h  Created wheel for nltk: filename=nltk-3.5-py3-none-any.whl size=1434676 sha256=a46ff565e1dd02711f16aac3370f604e780ac766cf919b8084374009aa439318\r\n",
      "  Stored in directory: /root/.cache/pip/wheels/35/ab/82/f9667f6f884d272670a15382599a9c753a1dfdc83f7412e37d\r\n",
      "Successfully built nltk\r\n",
      "Installing collected packages: nltk\r\n",
      "  Attempting uninstall: nltk\r\n",
      "    Found existing installation: nltk 3.8.1\r\n",
      "    Uninstalling nltk-3.8.1:\r\n",
      "      Successfully uninstalled nltk-3.8.1\r\n",
      "\u001b[31mERROR: pip's dependency resolver does not currently take into account all the packages that are installed. This behaviour is the source of the following dependency conflicts.\r\n",
      "preprocessing 0.1.13 requires nltk==3.2.4, but you have nltk 3.5 which is incompatible.\r\n",
      "textblob 0.18.0.post0 requires nltk>=3.8, but you have nltk 3.5 which is incompatible.\u001b[0m\u001b[31m\r\n",
      "\u001b[0mSuccessfully installed nltk-3.5\r\n"
     ]
    }
   ],
   "source": [
    "!pip install -U nltk\n",
    "!pip install nltk==3.5"
   ]
  },
  {
   "cell_type": "code",
   "execution_count": 6,
   "id": "70b2ef17",
   "metadata": {
    "execution": {
     "iopub.execute_input": "2024-05-18T12:34:00.490946Z",
     "iopub.status.busy": "2024-05-18T12:34:00.490380Z",
     "iopub.status.idle": "2024-05-18T12:34:00.496611Z",
     "shell.execute_reply": "2024-05-18T12:34:00.495064Z"
    },
    "papermill": {
     "duration": 0.077964,
     "end_time": "2024-05-18T12:34:00.499573",
     "exception": false,
     "start_time": "2024-05-18T12:34:00.421609",
     "status": "completed"
    },
    "tags": []
   },
   "outputs": [],
   "source": [
    "# pip install blanc"
   ]
  },
  {
   "cell_type": "code",
   "execution_count": 7,
   "id": "53b58d21",
   "metadata": {
    "execution": {
     "iopub.execute_input": "2024-05-18T12:34:00.636456Z",
     "iopub.status.busy": "2024-05-18T12:34:00.635942Z",
     "iopub.status.idle": "2024-05-18T12:34:02.972969Z",
     "shell.execute_reply": "2024-05-18T12:34:02.971383Z"
    },
    "papermill": {
     "duration": 2.409321,
     "end_time": "2024-05-18T12:34:02.976239",
     "exception": false,
     "start_time": "2024-05-18T12:34:00.566918",
     "status": "completed"
    },
    "tags": []
   },
   "outputs": [],
   "source": [
    "import re\n",
    "import time\n",
    "import nltk\n",
    "import gc           # gc.collect()\n",
    "import math\n",
    "from nltk.corpus import stopwords"
   ]
  },
  {
   "cell_type": "code",
   "execution_count": 8,
   "id": "25eb3f5b",
   "metadata": {
    "execution": {
     "iopub.execute_input": "2024-05-18T12:34:03.114671Z",
     "iopub.status.busy": "2024-05-18T12:34:03.113713Z",
     "iopub.status.idle": "2024-05-18T12:34:07.629953Z",
     "shell.execute_reply": "2024-05-18T12:34:07.628530Z"
    },
    "papermill": {
     "duration": 4.587938,
     "end_time": "2024-05-18T12:34:07.632940",
     "exception": false,
     "start_time": "2024-05-18T12:34:03.045002",
     "status": "completed"
    },
    "tags": []
   },
   "outputs": [
    {
     "name": "stdout",
     "output_type": "stream",
     "text": [
      "cpu -1\n"
     ]
    }
   ],
   "source": [
    "import torch\n",
    "\n",
    "if torch.cuda.is_available():\n",
    "    device_id = 0\n",
    "    device = 'cuda'\n",
    "else:\n",
    "    device_id = -1\n",
    "    device = 'cpu'\n",
    "    \n",
    "print(device, device_id)"
   ]
  },
  {
   "cell_type": "code",
   "execution_count": 9,
   "id": "87cff9aa",
   "metadata": {
    "execution": {
     "iopub.execute_input": "2024-05-18T12:34:07.774699Z",
     "iopub.status.busy": "2024-05-18T12:34:07.773145Z",
     "iopub.status.idle": "2024-05-18T12:34:09.272094Z",
     "shell.execute_reply": "2024-05-18T12:34:09.270355Z"
    },
    "papermill": {
     "duration": 1.572506,
     "end_time": "2024-05-18T12:34:09.275535",
     "exception": false,
     "start_time": "2024-05-18T12:34:07.703029",
     "status": "completed"
    },
    "tags": []
   },
   "outputs": [
    {
     "name": "stdout",
     "output_type": "stream",
     "text": [
      "Archive:  /usr/share/nltk_data/corpora/wordnet.zip\r\n",
      "   creating: /usr/share/nltk_data/corpora/wordnet/\r\n",
      "  inflating: /usr/share/nltk_data/corpora/wordnet/lexnames  \r\n",
      "  inflating: /usr/share/nltk_data/corpora/wordnet/data.verb  \r\n",
      "  inflating: /usr/share/nltk_data/corpora/wordnet/index.adv  \r\n",
      "  inflating: /usr/share/nltk_data/corpora/wordnet/adv.exc  \r\n",
      "  inflating: /usr/share/nltk_data/corpora/wordnet/index.verb  \r\n",
      "  inflating: /usr/share/nltk_data/corpora/wordnet/cntlist.rev  \r\n",
      "  inflating: /usr/share/nltk_data/corpora/wordnet/data.adj  \r\n",
      "  inflating: /usr/share/nltk_data/corpora/wordnet/index.adj  \r\n",
      "  inflating: /usr/share/nltk_data/corpora/wordnet/LICENSE  \r\n",
      "  inflating: /usr/share/nltk_data/corpora/wordnet/citation.bib  \r\n",
      "  inflating: /usr/share/nltk_data/corpora/wordnet/noun.exc  \r\n",
      "  inflating: /usr/share/nltk_data/corpora/wordnet/verb.exc  \r\n",
      "  inflating: /usr/share/nltk_data/corpora/wordnet/README  \r\n",
      "  inflating: /usr/share/nltk_data/corpora/wordnet/index.sense  \r\n",
      "  inflating: /usr/share/nltk_data/corpora/wordnet/data.noun  \r\n",
      "  inflating: /usr/share/nltk_data/corpora/wordnet/data.adv  \r\n",
      "  inflating: /usr/share/nltk_data/corpora/wordnet/index.noun  \r\n",
      "  inflating: /usr/share/nltk_data/corpora/wordnet/adj.exc  \r\n"
     ]
    }
   ],
   "source": [
    "!unzip /usr/share/nltk_data/corpora/wordnet.zip -d /usr/share/nltk_data/corpora/"
   ]
  },
  {
   "cell_type": "code",
   "execution_count": 10,
   "id": "11d41c0f",
   "metadata": {
    "execution": {
     "iopub.execute_input": "2024-05-18T12:34:09.415358Z",
     "iopub.status.busy": "2024-05-18T12:34:09.414410Z",
     "iopub.status.idle": "2024-05-18T12:34:11.040553Z",
     "shell.execute_reply": "2024-05-18T12:34:11.038999Z"
    },
    "papermill": {
     "duration": 1.700358,
     "end_time": "2024-05-18T12:34:11.044005",
     "exception": false,
     "start_time": "2024-05-18T12:34:09.343647",
     "status": "completed"
    },
    "tags": []
   },
   "outputs": [],
   "source": [
    "combined_df = pd.read_csv('/kaggle/input/combined-partial/combined_tags.csv', sep=',')"
   ]
  },
  {
   "cell_type": "code",
   "execution_count": 11,
   "id": "7a1ac862",
   "metadata": {
    "execution": {
     "iopub.execute_input": "2024-05-18T12:34:11.179395Z",
     "iopub.status.busy": "2024-05-18T12:34:11.177867Z",
     "iopub.status.idle": "2024-05-18T12:34:11.207230Z",
     "shell.execute_reply": "2024-05-18T12:34:11.205937Z"
    },
    "papermill": {
     "duration": 0.100481,
     "end_time": "2024-05-18T12:34:11.210277",
     "exception": false,
     "start_time": "2024-05-18T12:34:11.109796",
     "status": "completed"
    },
    "tags": []
   },
   "outputs": [],
   "source": [
    "combined_df['generated_extraction'] = combined_df['unredacted_text'].apply(lambda x:'')"
   ]
  },
  {
   "cell_type": "code",
   "execution_count": 12,
   "id": "63facd57",
   "metadata": {
    "execution": {
     "iopub.execute_input": "2024-05-18T12:34:11.348884Z",
     "iopub.status.busy": "2024-05-18T12:34:11.347593Z",
     "iopub.status.idle": "2024-05-18T12:34:11.383083Z",
     "shell.execute_reply": "2024-05-18T12:34:11.381852Z"
    },
    "papermill": {
     "duration": 0.107786,
     "end_time": "2024-05-18T12:34:11.385736",
     "exception": false,
     "start_time": "2024-05-18T12:34:11.277950",
     "status": "completed"
    },
    "tags": []
   },
   "outputs": [
    {
     "data": {
      "text/html": [
       "<div>\n",
       "<style scoped>\n",
       "    .dataframe tbody tr th:only-of-type {\n",
       "        vertical-align: middle;\n",
       "    }\n",
       "\n",
       "    .dataframe tbody tr th {\n",
       "        vertical-align: top;\n",
       "    }\n",
       "\n",
       "    .dataframe thead th {\n",
       "        text-align: right;\n",
       "    }\n",
       "</style>\n",
       "<table border=\"1\" class=\"dataframe\">\n",
       "  <thead>\n",
       "    <tr style=\"text-align: right;\">\n",
       "      <th></th>\n",
       "      <th>title</th>\n",
       "      <th>tag</th>\n",
       "      <th>unredacted_text</th>\n",
       "      <th>clean_text</th>\n",
       "      <th>id</th>\n",
       "      <th>artist</th>\n",
       "      <th>unredacted_summary</th>\n",
       "      <th>clean_summary</th>\n",
       "      <th>generated_summary</th>\n",
       "      <th>generated_extraction</th>\n",
       "    </tr>\n",
       "  </thead>\n",
       "  <tbody>\n",
       "    <tr>\n",
       "      <th>6433</th>\n",
       "      <td>Lucky Arms</td>\n",
       "      <td>country</td>\n",
       "      <td>He's got lucky arms\\nHe gets to hold her\\nThe ...</td>\n",
       "      <td>NaN</td>\n",
       "      <td>5714ded525ac0d8aee464c7c</td>\n",
       "      <td>John Michael Montgomery</td>\n",
       "      <td>[\"he's got lucky arms\", 'he gets to hold her',...</td>\n",
       "      <td>NaN</td>\n",
       "      <td>NaN</td>\n",
       "      <td></td>\n",
       "    </tr>\n",
       "  </tbody>\n",
       "</table>\n",
       "</div>"
      ],
      "text/plain": [
       "           title      tag                                    unredacted_text  \\\n",
       "6433  Lucky Arms  country  He's got lucky arms\\nHe gets to hold her\\nThe ...   \n",
       "\n",
       "      clean_text                        id                   artist  \\\n",
       "6433         NaN  5714ded525ac0d8aee464c7c  John Michael Montgomery   \n",
       "\n",
       "                                     unredacted_summary  clean_summary  \\\n",
       "6433  [\"he's got lucky arms\", 'he gets to hold her',...            NaN   \n",
       "\n",
       "      generated_summary generated_extraction  \n",
       "6433                NaN                       "
      ]
     },
     "execution_count": 12,
     "metadata": {},
     "output_type": "execute_result"
    }
   ],
   "source": [
    "combined_df.sample()"
   ]
  },
  {
   "cell_type": "code",
   "execution_count": 13,
   "id": "41a663a7",
   "metadata": {
    "execution": {
     "iopub.execute_input": "2024-05-18T12:34:11.523659Z",
     "iopub.status.busy": "2024-05-18T12:34:11.522233Z",
     "iopub.status.idle": "2024-05-18T12:34:11.590455Z",
     "shell.execute_reply": "2024-05-18T12:34:11.589170Z"
    },
    "papermill": {
     "duration": 0.139343,
     "end_time": "2024-05-18T12:34:11.593115",
     "exception": false,
     "start_time": "2024-05-18T12:34:11.453772",
     "status": "completed"
    },
    "tags": []
   },
   "outputs": [
    {
     "data": {
      "text/plain": [
       "0.12336373227740699"
      ]
     },
     "execution_count": 13,
     "metadata": {},
     "output_type": "execute_result"
    }
   ],
   "source": [
    "combined_df['len_ratio'] = combined_df['unredacted_summary'].apply(len) / combined_df['unredacted_text'].apply(len)\n",
    "combined_df['len_ratio'].mean()"
   ]
  },
  {
   "cell_type": "code",
   "execution_count": null,
   "id": "dc254fca",
   "metadata": {
    "papermill": {
     "duration": 0.068608,
     "end_time": "2024-05-18T12:34:11.730350",
     "exception": false,
     "start_time": "2024-05-18T12:34:11.661742",
     "status": "completed"
    },
    "tags": []
   },
   "outputs": [],
   "source": []
  },
  {
   "cell_type": "code",
   "execution_count": 14,
   "id": "7ac7e605",
   "metadata": {
    "execution": {
     "iopub.execute_input": "2024-05-18T12:34:11.869695Z",
     "iopub.status.busy": "2024-05-18T12:34:11.869172Z",
     "iopub.status.idle": "2024-05-18T12:34:11.887164Z",
     "shell.execute_reply": "2024-05-18T12:34:11.885821Z"
    },
    "papermill": {
     "duration": 0.091634,
     "end_time": "2024-05-18T12:34:11.890147",
     "exception": false,
     "start_time": "2024-05-18T12:34:11.798513",
     "status": "completed"
    },
    "tags": []
   },
   "outputs": [],
   "source": [
    "contraction_mapping = {\"ain't\": \"is not\", \"aren't\": \"are not\",\"can't\": \"cannot\", \"'cause\": \"because\", \"could've\": \"could have\", \"couldn't\": \"could not\",\n",
    "                           \"didn't\": \"did not\", \"doesn't\": \"does not\", \"don't\": \"do not\", \"hadn't\": \"had not\", \"hasn't\": \"has not\", \"haven't\": \"have not\",\n",
    "                           \"he'd\": \"he would\",\"he'll\": \"he will\", \"he's\": \"he is\", \"how'd\": \"how did\", \"how'd'y\": \"how do you\", \"how'll\": \"how will\", \"how's\": \"how is\",\n",
    "                           \"I'd\": \"I would\", \"I'd've\": \"I would have\", \"I'll\": \"I will\", \"I'll've\": \"I will have\",\"I'm\": \"I am\", \"I've\": \"I have\", \"i'd\": \"i would\",\n",
    "                           \"i'd've\": \"i would have\", \"i'll\": \"i will\",  \"i'll've\": \"i will have\",\"i'm\": \"i am\", \"i've\": \"i have\", \"isn't\": \"is not\", \"it'd\": \"it would\",\n",
    "                           \"it'd've\": \"it would have\", \"it'll\": \"it will\", \"it'll've\": \"it will have\",\"it's\": \"it is\", \"let's\": \"let us\", \"ma'am\": \"madam\",\n",
    "                           \"mayn't\": \"may not\", \"might've\": \"might have\",\"mightn't\": \"might not\",\"mightn't've\": \"might not have\", \"must've\": \"must have\",\n",
    "                           \"mustn't\": \"must not\", \"mustn't've\": \"must not have\", \"needn't\": \"need not\", \"needn't've\": \"need not have\",\"o'clock\": \"of the clock\",\n",
    "                           \"oughtn't\": \"ought not\", \"oughtn't've\": \"ought not have\", \"shan't\": \"shall not\", \"sha'n't\": \"shall not\", \"shan't've\": \"shall not have\",\n",
    "                           \"she'd\": \"she would\", \"she'd've\": \"she would have\", \"she'll\": \"she will\", \"she'll've\": \"she will have\", \"she's\": \"she is\",\n",
    "                           \"should've\": \"should have\", \"shouldn't\": \"should not\", \"shouldn't've\": \"should not have\", \"so've\": \"so have\",\"so's\": \"so as\",\n",
    "                           \"this's\": \"this is\",\"that'd\": \"that would\", \"that'd've\": \"that would have\", \"that's\": \"that is\", \"there'd\": \"there would\",\n",
    "                           \"there'd've\": \"there would have\", \"there's\": \"there is\", \"here's\": \"here is\",\"they'd\": \"they would\", \"they'd've\": \"they would have\",\n",
    "                           \"they'll\": \"they will\", \"they'll've\": \"they will have\", \"they're\": \"they are\", \"they've\": \"they have\", \"to've\": \"to have\",\n",
    "                           \"wasn't\": \"was not\", \"we'd\": \"we would\", \"we'd've\": \"we would have\", \"we'll\": \"we will\", \"we'll've\": \"we will have\", \"we're\": \"we are\",\n",
    "                           \"we've\": \"we have\", \"weren't\": \"were not\", \"what'll\": \"what will\", \"what'll've\": \"what will have\", \"what're\": \"what are\",\n",
    "                           \"what's\": \"what is\", \"what've\": \"what have\", \"when's\": \"when is\", \"when've\": \"when have\", \"where'd\": \"where did\", \"where's\": \"where is\",\n",
    "                           \"where've\": \"where have\", \"who'll\": \"who will\", \"who'll've\": \"who will have\", \"who's\": \"who is\", \"who've\": \"who have\",\n",
    "                           \"why's\": \"why is\", \"why've\": \"why have\", \"will've\": \"will have\", \"won't\": \"will not\", \"won't've\": \"will not have\",\n",
    "                           \"would've\": \"would have\", \"wouldn't\": \"would not\", \"wouldn't've\": \"would not have\", \"y'all\": \"you all\",\n",
    "                           \"y'all'd\": \"you all would\",\"y'all'd've\": \"you all would have\",\"y'all're\": \"you all are\",\"y'all've\": \"you all have\",\n",
    "                           \"you'd\": \"you would\", \"you'd've\": \"you would have\", \"you'll\": \"you will\", \"you'll've\": \"you will have\",\n",
    "                           \"you're\": \"you are\", \"you've\": \"you have\"}"
   ]
  },
  {
   "cell_type": "code",
   "execution_count": 15,
   "id": "255fbe82",
   "metadata": {
    "execution": {
     "iopub.execute_input": "2024-05-18T12:34:12.032904Z",
     "iopub.status.busy": "2024-05-18T12:34:12.031606Z",
     "iopub.status.idle": "2024-05-18T12:34:12.044737Z",
     "shell.execute_reply": "2024-05-18T12:34:12.043497Z"
    },
    "papermill": {
     "duration": 0.08783,
     "end_time": "2024-05-18T12:34:12.048113",
     "exception": false,
     "start_time": "2024-05-18T12:34:11.960283",
     "status": "completed"
    },
    "tags": []
   },
   "outputs": [],
   "source": [
    "stop_words = stopwords.words('english')"
   ]
  },
  {
   "cell_type": "code",
   "execution_count": null,
   "id": "fae60c57",
   "metadata": {
    "papermill": {
     "duration": 0.066441,
     "end_time": "2024-05-18T12:34:12.182238",
     "exception": false,
     "start_time": "2024-05-18T12:34:12.115797",
     "status": "completed"
    },
    "tags": []
   },
   "outputs": [],
   "source": []
  },
  {
   "cell_type": "code",
   "execution_count": 16,
   "id": "e283ff79",
   "metadata": {
    "execution": {
     "iopub.execute_input": "2024-05-18T12:34:12.320547Z",
     "iopub.status.busy": "2024-05-18T12:34:12.319998Z",
     "iopub.status.idle": "2024-05-18T12:34:12.327837Z",
     "shell.execute_reply": "2024-05-18T12:34:12.326444Z"
    },
    "papermill": {
     "duration": 0.079627,
     "end_time": "2024-05-18T12:34:12.330579",
     "exception": false,
     "start_time": "2024-05-18T12:34:12.250952",
     "status": "completed"
    },
    "tags": []
   },
   "outputs": [],
   "source": [
    "# combination_name     - название комбинации для суммаризации\n",
    "#combination_name = 'bert_ext_sum_simple'             # \n",
    "#combination_name = 'sbert_ext_sum_simple'\n",
    "\n",
    "###combination_name = 'TextRank_summa'\n",
    "\n",
    "combination_name = 'TextRank_sumy'\n",
    "#combination_name = 'LexRank_sumy'\n",
    "#combination_name = 'Luhn_sumy'\n",
    "#combination_name = 'Lsa_sumy'\n",
    "#combination_name = 'KLSummarizer_sumy'\n",
    "\n",
    "#combination_name = 'spacy_textrank'\n",
    "#combination_name = 'spacy_topicrank'\n",
    "#combination_name = 'spacy_positionrank'\n",
    "\n",
    "#combination_name = 'seq_to_seq_t5_small'\n",
    "#combination_name = 'seq_to_seq_bart-base'\n",
    "\n",
    "combination_list = ['TextRank_sumy', 'LexRank_sumy', 'Luhn_sumy', 'Lsa_sumy', 'KLSummarizer_sumy', \\\n",
    "                   'spacy_textrank', 'spacy_topicrank', 'spacy_positionrank', \\\n",
    "                   'bert_ext_sum_simple', 'sbert_ext_sum_simple', \\\n",
    "                   'seq_to_seq_t5_small', 'seq_to_seq_bart-base']"
   ]
  },
  {
   "cell_type": "code",
   "execution_count": null,
   "id": "3cc30631",
   "metadata": {
    "papermill": {
     "duration": 0.067638,
     "end_time": "2024-05-18T12:34:12.465880",
     "exception": false,
     "start_time": "2024-05-18T12:34:12.398242",
     "status": "completed"
    },
    "tags": []
   },
   "outputs": [],
   "source": []
  },
  {
   "cell_type": "code",
   "execution_count": 17,
   "id": "c0619de9",
   "metadata": {
    "execution": {
     "iopub.execute_input": "2024-05-18T12:34:12.604518Z",
     "iopub.status.busy": "2024-05-18T12:34:12.603930Z",
     "iopub.status.idle": "2024-05-18T12:34:12.620946Z",
     "shell.execute_reply": "2024-05-18T12:34:12.619538Z"
    },
    "papermill": {
     "duration": 0.091377,
     "end_time": "2024-05-18T12:34:12.623686",
     "exception": false,
     "start_time": "2024-05-18T12:34:12.532309",
     "status": "completed"
    },
    "tags": []
   },
   "outputs": [],
   "source": [
    "def preprocess_text(text, combination_name):\n",
    "    if combination_name == 'bert_ext_sum_simple':\n",
    "        \n",
    "        text = text.lower()\n",
    "        text = re.sub(r'[[].*?[]]','',text) # remove [words]\n",
    "        text = re.sub(r'(\\n)+','. ',text)\n",
    "        text = re.sub(r'’','\\'',text)\n",
    "        text = text.split() # convert have'nt -> have not\n",
    "        \n",
    "        for i in range(len(text)):\n",
    "            word = text[i]\n",
    "            if word in contraction_mapping:\n",
    "                text[i] = contraction_mapping[word]\n",
    "        text = \" \".join(text)\n",
    "        \n",
    "        text = text.replace(\"'s\",'') # convert your's -> your\n",
    "        text = re.sub(r'[[].*?[]]','',text) # remove [words]\n",
    "        text = re.sub(r'\\.',' .',text)\n",
    "        \n",
    "    elif combination_name == 'bert_abs':\n",
    "        \n",
    "        text = text.lower() # lowercase\n",
    "\n",
    "        text = text.split() # convert have'nt -> have not\n",
    "        for i in range(len(text)):\n",
    "            word = text[i]\n",
    "            if word in contraction_mapping:\n",
    "                text[i] = contraction_mapping[word]\n",
    "        text = \" \".join(text)\n",
    "\n",
    "        '''\n",
    "        text = text.split()\n",
    "        newtext = []\n",
    "        for word in text:\n",
    "            if word not in stop_words:\n",
    "                newtext.append(word)\n",
    "        text = \" \".join(newtext)\n",
    "        '''\n",
    "\n",
    "        text = text.replace(\"'s\",'') # convert your's -> your\n",
    "        #text = re.sub(r'\\(.*\\)','',text) # remove (words)\n",
    "        text = re.sub(r'[[].*?[]]','',text) # remove [words]\n",
    "        #text = re.sub(r'[^a-zA-Z0-9. ]','',text) # remove punctuations\n",
    "        text = re.sub(r'\\.',' . ',text)\n",
    "        \n",
    "    else:\n",
    "        \n",
    "        text = text.lower()\n",
    "        text = re.sub(r'[[].*?[]]','',text) # remove [words]\n",
    "        text = re.sub(r'(\\n)+','. ',text)\n",
    "        text = re.sub(r'’','\\'',text)\n",
    "        \n",
    "        text = text.split() # convert have'nt -> have not\n",
    "        for i in range(len(text)):\n",
    "            word = text[i]\n",
    "            if word in contraction_mapping:\n",
    "                text[i] = contraction_mapping[word]\n",
    "        text = \" \".join(text)\n",
    "        \n",
    "        text = re.sub(r'\\\"','',text)\n",
    "        text = text.replace(\"'s\",'') # convert your's -> your\n",
    "        text = re.sub(r'[[].*?[]]','',text) # remove [words]\n",
    "        text = re.sub(r'\\.',' .',text)\n",
    "    \n",
    "    return text"
   ]
  },
  {
   "cell_type": "code",
   "execution_count": 18,
   "id": "8149a8b5",
   "metadata": {
    "execution": {
     "iopub.execute_input": "2024-05-18T12:34:12.761893Z",
     "iopub.status.busy": "2024-05-18T12:34:12.761367Z",
     "iopub.status.idle": "2024-05-18T12:34:12.766506Z",
     "shell.execute_reply": "2024-05-18T12:34:12.765495Z"
    },
    "papermill": {
     "duration": 0.078546,
     "end_time": "2024-05-18T12:34:12.768782",
     "exception": false,
     "start_time": "2024-05-18T12:34:12.690236",
     "status": "completed"
    },
    "tags": []
   },
   "outputs": [],
   "source": [
    "#test = combined_df.sample()\n",
    "#test_text = test['unredacted_text'].iloc[0]\n",
    "#test_text"
   ]
  },
  {
   "cell_type": "code",
   "execution_count": 19,
   "id": "57cbb1f5",
   "metadata": {
    "execution": {
     "iopub.execute_input": "2024-05-18T12:34:12.906632Z",
     "iopub.status.busy": "2024-05-18T12:34:12.906113Z",
     "iopub.status.idle": "2024-05-18T12:34:12.911655Z",
     "shell.execute_reply": "2024-05-18T12:34:12.910341Z"
    },
    "papermill": {
     "duration": 0.078557,
     "end_time": "2024-05-18T12:34:12.914309",
     "exception": false,
     "start_time": "2024-05-18T12:34:12.835752",
     "status": "completed"
    },
    "tags": []
   },
   "outputs": [],
   "source": [
    "#preprocess_text(test_text, combination_name)"
   ]
  },
  {
   "cell_type": "code",
   "execution_count": null,
   "id": "85d60ef8",
   "metadata": {
    "papermill": {
     "duration": 0.068975,
     "end_time": "2024-05-18T12:34:13.050613",
     "exception": false,
     "start_time": "2024-05-18T12:34:12.981638",
     "status": "completed"
    },
    "tags": []
   },
   "outputs": [],
   "source": []
  },
  {
   "cell_type": "code",
   "execution_count": 20,
   "id": "040ade95",
   "metadata": {
    "execution": {
     "iopub.execute_input": "2024-05-18T12:34:13.192767Z",
     "iopub.status.busy": "2024-05-18T12:34:13.192231Z",
     "iopub.status.idle": "2024-05-18T12:34:13.209145Z",
     "shell.execute_reply": "2024-05-18T12:34:13.207725Z"
    },
    "papermill": {
     "duration": 0.094415,
     "end_time": "2024-05-18T12:34:13.212298",
     "exception": false,
     "start_time": "2024-05-18T12:34:13.117883",
     "status": "completed"
    },
    "tags": []
   },
   "outputs": [],
   "source": [
    "def preprocess_summary(text, combination_name):\n",
    "    if combination_name == 'bert_ext_sum_simple':\n",
    "        \n",
    "        text = text.lower() # lowercase\n",
    "        text = re.sub(r'(\\n+)','. ',text)\n",
    "        text = re.sub(r'’','\\'',text)\n",
    "        text = re.sub(r'\\'|\\\"','',text)\n",
    "        text = re.sub(r'\\[|\\]','',text)\n",
    "        \n",
    "        text = text.split() # convert have'nt -> have not\n",
    "        for i in range(len(text)):\n",
    "            word = text[i]\n",
    "            if word in contraction_mapping:\n",
    "                text[i] = contraction_mapping[word]\n",
    "        text = \" \".join(text)\n",
    "        \n",
    "        '''\n",
    "        text = text.split()\n",
    "        newtext = []\n",
    "        for word in text:\n",
    "            if word not in stop_words:\n",
    "                newtext.append(word)\n",
    "        text = \" \".join(newtext)\n",
    "        '''\n",
    "        \n",
    "        text = text.replace(\"'s\",'') # convert your's -> your\n",
    "        #text = re.sub(r'[^a-zA-Z0-9. ]','',text) # remove punctuations\n",
    "        text = re.sub(r'\\.|,',' . ',text)\n",
    "        \n",
    "    elif combination_name == 'bert_abs':\n",
    "        \n",
    "        text = text.lower() # lowercase\n",
    "        text = text.split() # convert have'nt -> have not\n",
    "        for i in range(len(text)):\n",
    "            word = text[i]\n",
    "            if word in contraction_mapping:\n",
    "                text[i] = contraction_mapping[word]\n",
    "        text = \" \".join(text)\n",
    "        '''\n",
    "        text = text.split()\n",
    "        newtext = []\n",
    "        for word in text:\n",
    "            if word not in stop_words:\n",
    "                newtext.append(word)\n",
    "        text = \" \".join(newtext)\n",
    "        '''\n",
    "        text = text.replace(\"'s\",'') # convert your's -> your\n",
    "        #text = re.sub(r'[^a-zA-Z0-9. ]','',text) # remove punctuations\n",
    "        text = re.sub(r'\\.',' . ',text)\n",
    "    else:\n",
    "        \n",
    "        text = text.lower() # lowercase\n",
    "        text = re.sub(r'(\\n+)','. ',text)\n",
    "        text = re.sub(r'’','\\'',text)\n",
    "        text = re.sub(r'\\\"','',text)\n",
    "        text = re.sub(r'\\[|\\]','',text)\n",
    "        \n",
    "        text = text.split() # convert have'nt -> have not\n",
    "        for i in range(len(text)):\n",
    "            word = text[i]\n",
    "            if word in contraction_mapping:\n",
    "                text[i] = contraction_mapping[word]\n",
    "        text = \" \".join(text)\n",
    "        \n",
    "        '''\n",
    "        text = text.split()\n",
    "        newtext = []\n",
    "        for word in text:\n",
    "            if word not in stop_words:\n",
    "                newtext.append(word)\n",
    "        text = \" \".join(newtext)\n",
    "        '''\n",
    "        \n",
    "        text = re.sub(r'\\'','',text)\n",
    "        \n",
    "        text = text.replace(\"'s\",'') # convert your's -> your\n",
    "        text = re.sub(r'\\.|,',' . ',text)\n",
    "    \n",
    "    return text"
   ]
  },
  {
   "cell_type": "code",
   "execution_count": 21,
   "id": "0cd3ae41",
   "metadata": {
    "execution": {
     "iopub.execute_input": "2024-05-18T12:34:13.372167Z",
     "iopub.status.busy": "2024-05-18T12:34:13.371687Z",
     "iopub.status.idle": "2024-05-18T12:34:13.376705Z",
     "shell.execute_reply": "2024-05-18T12:34:13.375445Z"
    },
    "papermill": {
     "duration": 0.093456,
     "end_time": "2024-05-18T12:34:13.379192",
     "exception": false,
     "start_time": "2024-05-18T12:34:13.285736",
     "status": "completed"
    },
    "tags": []
   },
   "outputs": [],
   "source": [
    "#test_sum = test['unredacted_summary'].iloc[0]\n",
    "#test_sum"
   ]
  },
  {
   "cell_type": "code",
   "execution_count": 22,
   "id": "ba0db629",
   "metadata": {
    "execution": {
     "iopub.execute_input": "2024-05-18T12:34:13.519102Z",
     "iopub.status.busy": "2024-05-18T12:34:13.518630Z",
     "iopub.status.idle": "2024-05-18T12:34:13.523665Z",
     "shell.execute_reply": "2024-05-18T12:34:13.522259Z"
    },
    "papermill": {
     "duration": 0.078738,
     "end_time": "2024-05-18T12:34:13.526619",
     "exception": false,
     "start_time": "2024-05-18T12:34:13.447881",
     "status": "completed"
    },
    "tags": []
   },
   "outputs": [],
   "source": [
    "#ratio = len(test_sum) / len(test_text)\n",
    "#print('ratio: ', ratio)"
   ]
  },
  {
   "cell_type": "code",
   "execution_count": 23,
   "id": "1d78acc5",
   "metadata": {
    "execution": {
     "iopub.execute_input": "2024-05-18T12:34:13.684566Z",
     "iopub.status.busy": "2024-05-18T12:34:13.683049Z",
     "iopub.status.idle": "2024-05-18T12:34:13.688955Z",
     "shell.execute_reply": "2024-05-18T12:34:13.687751Z"
    },
    "papermill": {
     "duration": 0.082376,
     "end_time": "2024-05-18T12:34:13.691664",
     "exception": false,
     "start_time": "2024-05-18T12:34:13.609288",
     "status": "completed"
    },
    "tags": []
   },
   "outputs": [],
   "source": [
    "#preprocess_summary(test_sum, combination_name)"
   ]
  },
  {
   "cell_type": "code",
   "execution_count": 24,
   "id": "2ab19c55",
   "metadata": {
    "execution": {
     "iopub.execute_input": "2024-05-18T12:34:13.832371Z",
     "iopub.status.busy": "2024-05-18T12:34:13.830800Z",
     "iopub.status.idle": "2024-05-18T12:34:13.836295Z",
     "shell.execute_reply": "2024-05-18T12:34:13.835418Z"
    },
    "papermill": {
     "duration": 0.078313,
     "end_time": "2024-05-18T12:34:13.839013",
     "exception": false,
     "start_time": "2024-05-18T12:34:13.760700",
     "status": "completed"
    },
    "tags": []
   },
   "outputs": [],
   "source": [
    "import warnings\n",
    "warnings.filterwarnings(\"ignore\")"
   ]
  },
  {
   "cell_type": "code",
   "execution_count": null,
   "id": "da3f9783",
   "metadata": {
    "papermill": {
     "duration": 0.068719,
     "end_time": "2024-05-18T12:34:13.976172",
     "exception": false,
     "start_time": "2024-05-18T12:34:13.907453",
     "status": "completed"
    },
    "tags": []
   },
   "outputs": [],
   "source": []
  },
  {
   "cell_type": "code",
   "execution_count": 25,
   "id": "40aa8bc0",
   "metadata": {
    "execution": {
     "iopub.execute_input": "2024-05-18T12:34:14.116622Z",
     "iopub.status.busy": "2024-05-18T12:34:14.115695Z",
     "iopub.status.idle": "2024-05-18T12:34:38.596510Z",
     "shell.execute_reply": "2024-05-18T12:34:38.595103Z"
    },
    "papermill": {
     "duration": 24.554377,
     "end_time": "2024-05-18T12:34:38.599756",
     "exception": false,
     "start_time": "2024-05-18T12:34:14.045379",
     "status": "completed"
    },
    "tags": []
   },
   "outputs": [
    {
     "name": "stdout",
     "output_type": "stream",
     "text": [
      "/opt/conda/lib/python3.10/site-packages\n"
     ]
    },
    {
     "name": "stderr",
     "output_type": "stream",
     "text": [
      "2024-05-18 12:34:27.018297: E external/local_xla/xla/stream_executor/cuda/cuda_dnn.cc:9261] Unable to register cuDNN factory: Attempting to register factory for plugin cuDNN when one has already been registered\n",
      "2024-05-18 12:34:27.018485: E external/local_xla/xla/stream_executor/cuda/cuda_fft.cc:607] Unable to register cuFFT factory: Attempting to register factory for plugin cuFFT when one has already been registered\n",
      "2024-05-18 12:34:27.199058: E external/local_xla/xla/stream_executor/cuda/cuda_blas.cc:1515] Unable to register cuBLAS factory: Attempting to register factory for plugin cuBLAS when one has already been registered\n"
     ]
    }
   ],
   "source": [
    "# combination_name == 'bert_ext_sum_simple'\n",
    "from summarizer import Summarizer\n",
    "\n",
    "from summarizer.sbert import SBertSummarizer\n",
    "\n",
    "# combination_name == 'pytextrank'\n",
    "import spacy\n",
    "import pytextrank\n",
    "from math import sqrt\n",
    "from operator import itemgetter\n",
    "from icecream import ic\n",
    "\n",
    "\n",
    "from summa import summarizer\n",
    "from summa import keywords\n",
    "\n",
    "\n",
    "from sumy.parsers.plaintext import PlaintextParser\n",
    "from sumy.nlp.tokenizers import Tokenizer\n",
    "\n",
    "from sumy.summarizers.lex_rank import LexRankSummarizer\n",
    "from sumy.summarizers.luhn import LuhnSummarizer\n",
    "from sumy.summarizers.lsa import LsaSummarizer\n",
    "from sumy.summarizers.text_rank import TextRankSummarizer\n",
    "from sumy.summarizers.kl import KLSummarizer\n",
    "\n",
    "from transformers import pipeline\n",
    "from transformers import BartTokenizer, BartForConditionalGeneration"
   ]
  },
  {
   "cell_type": "code",
   "execution_count": 26,
   "id": "087a2ba7",
   "metadata": {
    "execution": {
     "iopub.execute_input": "2024-05-18T12:34:38.746416Z",
     "iopub.status.busy": "2024-05-18T12:34:38.745881Z",
     "iopub.status.idle": "2024-05-18T12:34:38.755567Z",
     "shell.execute_reply": "2024-05-18T12:34:38.754199Z"
    },
    "papermill": {
     "duration": 0.083577,
     "end_time": "2024-05-18T12:34:38.758150",
     "exception": false,
     "start_time": "2024-05-18T12:34:38.674573",
     "status": "completed"
    },
    "tags": []
   },
   "outputs": [],
   "source": [
    "if combination_name == 'bert_ext_sum_simple':\n",
    "    model_bert_sum_ext = Summarizer()\n",
    "elif combination_name == 'sbert_ext_sum_simple':\n",
    "    model_sbert = SBertSummarizer('all-distilroberta-v1')\n",
    "elif combination_name == 'spacy_textrank':\n",
    "    nlp = spacy.load(\"en_core_web_sm\")\n",
    "    nlp.add_pipe(\"textrank\")\n",
    "elif combination_name == 'spacy_topicrank':\n",
    "    nlp = spacy.load(\"en_core_web_sm\")\n",
    "    nlp.add_pipe(\"topicrank\")\n",
    "elif combination_name == 'spacy_positionrank':\n",
    "    nlp = spacy.load(\"en_core_web_sm\")\n",
    "    nlp.add_pipe(\"positionrank\")\n",
    "elif combination_name == 'seq_to_seq_t5_small':\n",
    "    summarizer_t5 = pipeline(\"summarization\", model = \"InfinityC/test_sum_abs_t5_small_wasa_stops\", device = device_id)\n",
    "elif combination_name == 'seq_to_seq_bart-base':\n",
    "    tokenizer_bart = BartTokenizer.from_pretrained(\"InfinityC/test_sum_abs_bart-base_wasa_stops\")\n",
    "    model_bart = BartForConditionalGeneration.from_pretrained(\"InfinityC/test_sum_abs_bart-base_wasa_stops\")\n",
    "    model_bart.to(device)"
   ]
  },
  {
   "cell_type": "code",
   "execution_count": 27,
   "id": "7c4183b2",
   "metadata": {
    "execution": {
     "iopub.execute_input": "2024-05-18T12:34:38.896909Z",
     "iopub.status.busy": "2024-05-18T12:34:38.896426Z",
     "iopub.status.idle": "2024-05-18T12:34:38.918955Z",
     "shell.execute_reply": "2024-05-18T12:34:38.917155Z"
    },
    "papermill": {
     "duration": 0.096753,
     "end_time": "2024-05-18T12:34:38.922523",
     "exception": false,
     "start_time": "2024-05-18T12:34:38.825770",
     "status": "completed"
    },
    "tags": []
   },
   "outputs": [],
   "source": [
    "ratio = 0.13\n",
    "\n",
    "def generate_summary(text, combination_name):\n",
    "    #sent_count = math.ceil(len(text.split('.')) * ratio)\n",
    "    sent_count = 4\n",
    "    \n",
    "    if combination_name == 'bert_ext_sum_simple':\n",
    "        result = model_bert_sum_ext(text, ratio=0.13, min_length = 9, max_length = 600,  num_sentences = sent_count)\n",
    "    elif combination_name == 'sbert_ext_sum_simple':\n",
    "        result = model_sbert(text, ratio=0.13, min_length = 5, max_length = 600, num_sentences = sent_count)\n",
    "#    elif combination_name == 'TextRank_summa':\n",
    "#        result = summarizer.summarize(text, ratio=ratio)\n",
    "    elif combination_name == 'spacy_textrank':\n",
    "        doc = nlp(text)\n",
    "        tr = doc._.textrank\n",
    "        result = ''\n",
    "        for sent in tr.summary(limit_phrases=10, limit_sentences=4):\n",
    "            result += (str(sent) + ' ')\n",
    "    elif combination_name == 'spacy_topicrank':\n",
    "        doc = nlp(text)\n",
    "        tr = doc._.textrank\n",
    "        result = ''\n",
    "        for sent in tr.summary(limit_phrases=10, limit_sentences=4):\n",
    "            result += (str(sent) + ' ')\n",
    "    elif combination_name == 'spacy_positionrank':\n",
    "        doc = nlp(text)\n",
    "        tr = doc._.textrank\n",
    "        result = ''\n",
    "        for sent in tr.summary(limit_phrases=10, limit_sentences=4):\n",
    "            result += (str(sent) + ' ')\n",
    "    elif combination_name == 'TextRank_sumy':\n",
    "        parser = PlaintextParser.from_string(text,Tokenizer(\"english\"))\n",
    "        summarizer_text_rank = TextRankSummarizer()\n",
    "        sentences = summarizer_text_rank(parser.document, sent_count)\n",
    "        result = ' '\n",
    "        for sent in sentences:\n",
    "            result += (sent._text + ' ')\n",
    "    elif combination_name == 'LexRank_sumy':\n",
    "        parser = PlaintextParser.from_string(text,Tokenizer(\"english\"))\n",
    "        summarizer_lex_rank = LexRankSummarizer()\n",
    "        sentences = summarizer_lex_rank(parser.document, sent_count)\n",
    "        result = ' '\n",
    "        for sent in sentences:\n",
    "            result += (sent._text + ' ')\n",
    "    elif combination_name == 'Luhn_sumy':\n",
    "        parser = PlaintextParser.from_string(text,Tokenizer(\"english\"))\n",
    "        summarizer_luhn = LuhnSummarizer()\n",
    "        sentences = summarizer_luhn(parser.document, sent_count)\n",
    "        result = ' '\n",
    "        for sent in sentences:\n",
    "            result += (sent._text + ' ')\n",
    "    elif combination_name == 'Lsa_sumy':\n",
    "        parser = PlaintextParser.from_string(text,Tokenizer(\"english\"))\n",
    "        summarizer_lsa = LsaSummarizer()\n",
    "        sentences = summarizer_lsa(parser.document, sent_count)\n",
    "        result = ' '\n",
    "        for sent in sentences:\n",
    "            result += (sent._text + ' ')\n",
    "    elif combination_name == 'KLSummarizer_sumy':\n",
    "        parser = PlaintextParser.from_string(text,Tokenizer(\"english\"))\n",
    "        summarizer_KL = KLSummarizer()\n",
    "        sentences = summarizer_KL(parser.document, sent_count)\n",
    "        result = ' '\n",
    "        for sent in sentences:\n",
    "            result += (sent._text + ' ')\n",
    "    elif combination_name == 'seq_to_seq_t5_small':\n",
    "        text = \"summarize: \" + text\n",
    "        result = summarizer_t5(text)[0]['summary_text']\n",
    "    elif combination_name == 'seq_to_seq_bart-base':\n",
    "        inputs = tokenizer_bart(text, max_length=1024, return_tensors='pt', truncation=True)\n",
    "        with torch.no_grad():\n",
    "            summary_ids = model_bart.generate(inputs['input_ids'].to(device), num_beams=4, max_length=200, early_stopping=True)\n",
    "        result = tokenizer_bart.decode(summary_ids[0], skip_special_tokens=True, clean_up_tokenization_spaces=False)\n",
    "    \n",
    "    return result\n"
   ]
  },
  {
   "cell_type": "code",
   "execution_count": null,
   "id": "e04b9d33",
   "metadata": {
    "papermill": {
     "duration": 0.067806,
     "end_time": "2024-05-18T12:34:39.058045",
     "exception": false,
     "start_time": "2024-05-18T12:34:38.990239",
     "status": "completed"
    },
    "tags": []
   },
   "outputs": [],
   "source": []
  },
  {
   "cell_type": "code",
   "execution_count": 28,
   "id": "a32bda95",
   "metadata": {
    "execution": {
     "iopub.execute_input": "2024-05-18T12:34:39.195483Z",
     "iopub.status.busy": "2024-05-18T12:34:39.194419Z",
     "iopub.status.idle": "2024-05-18T12:34:39.199617Z",
     "shell.execute_reply": "2024-05-18T12:34:39.198647Z"
    },
    "papermill": {
     "duration": 0.076106,
     "end_time": "2024-05-18T12:34:39.202202",
     "exception": false,
     "start_time": "2024-05-18T12:34:39.126096",
     "status": "completed"
    },
    "tags": []
   },
   "outputs": [],
   "source": [
    "#sample = combined_df.sample()"
   ]
  },
  {
   "cell_type": "code",
   "execution_count": 29,
   "id": "8e1d5391",
   "metadata": {
    "execution": {
     "iopub.execute_input": "2024-05-18T12:34:39.340449Z",
     "iopub.status.busy": "2024-05-18T12:34:39.339506Z",
     "iopub.status.idle": "2024-05-18T12:34:39.344190Z",
     "shell.execute_reply": "2024-05-18T12:34:39.343379Z"
    },
    "papermill": {
     "duration": 0.075499,
     "end_time": "2024-05-18T12:34:39.346387",
     "exception": false,
     "start_time": "2024-05-18T12:34:39.270888",
     "status": "completed"
    },
    "tags": []
   },
   "outputs": [],
   "source": [
    "#text_sample = sample['unredacted_text'].iloc[0]\n",
    "#text_sample"
   ]
  },
  {
   "cell_type": "code",
   "execution_count": 30,
   "id": "2b7f64a1",
   "metadata": {
    "execution": {
     "iopub.execute_input": "2024-05-18T12:34:39.484310Z",
     "iopub.status.busy": "2024-05-18T12:34:39.483798Z",
     "iopub.status.idle": "2024-05-18T12:34:39.488955Z",
     "shell.execute_reply": "2024-05-18T12:34:39.487829Z"
    },
    "papermill": {
     "duration": 0.078324,
     "end_time": "2024-05-18T12:34:39.491597",
     "exception": false,
     "start_time": "2024-05-18T12:34:39.413273",
     "status": "completed"
    },
    "tags": []
   },
   "outputs": [],
   "source": [
    "#text_sample = sample['clean_text'].iloc[0]\n",
    "#text_sample"
   ]
  },
  {
   "cell_type": "code",
   "execution_count": 31,
   "id": "54d5db07",
   "metadata": {
    "execution": {
     "iopub.execute_input": "2024-05-18T12:34:39.630680Z",
     "iopub.status.busy": "2024-05-18T12:34:39.630123Z",
     "iopub.status.idle": "2024-05-18T12:34:39.638417Z",
     "shell.execute_reply": "2024-05-18T12:34:39.637180Z"
    },
    "papermill": {
     "duration": 0.082262,
     "end_time": "2024-05-18T12:34:39.641156",
     "exception": false,
     "start_time": "2024-05-18T12:34:39.558894",
     "status": "completed"
    },
    "tags": []
   },
   "outputs": [
    {
     "data": {
      "text/plain": [
       "'\\n# example text\\ntext = text_sample\\n# load a spaCy model, depending on language, scale, etc.\\nnlp = spacy.load(\"en_core_web_sm\")\\n# add PyTextRank to the spaCy pipeline\\nnlp.add_pipe(\"textrank\")\\n\\ndoc = nlp(text)\\n# examine the top-ranked phrases in the document\\nfor phrase in doc._.phrases:\\n    print(phrase.text)\\n    print(phrase.rank, phrase.count)\\n    print(phrase.chunks)\\n'"
      ]
     },
     "execution_count": 31,
     "metadata": {},
     "output_type": "execute_result"
    }
   ],
   "source": [
    "'''\n",
    "# example text\n",
    "text = text_sample\n",
    "# load a spaCy model, depending on language, scale, etc.\n",
    "nlp = spacy.load(\"en_core_web_sm\")\n",
    "# add PyTextRank to the spaCy pipeline\n",
    "nlp.add_pipe(\"textrank\")\n",
    "\n",
    "doc = nlp(text)\n",
    "# examine the top-ranked phrases in the document\n",
    "for phrase in doc._.phrases:\n",
    "    print(phrase.text)\n",
    "    print(phrase.rank, phrase.count)\n",
    "    print(phrase.chunks)\n",
    "'''"
   ]
  },
  {
   "cell_type": "code",
   "execution_count": 32,
   "id": "a96dc653",
   "metadata": {
    "execution": {
     "iopub.execute_input": "2024-05-18T12:34:39.779773Z",
     "iopub.status.busy": "2024-05-18T12:34:39.778897Z",
     "iopub.status.idle": "2024-05-18T12:34:39.783519Z",
     "shell.execute_reply": "2024-05-18T12:34:39.782642Z"
    },
    "papermill": {
     "duration": 0.077768,
     "end_time": "2024-05-18T12:34:39.786175",
     "exception": false,
     "start_time": "2024-05-18T12:34:39.708407",
     "status": "completed"
    },
    "tags": []
   },
   "outputs": [],
   "source": [
    "#sent_bounds = [ [s.start, s.end, set([])] for s in doc.sents ]\n",
    "#sent_bounds"
   ]
  },
  {
   "cell_type": "code",
   "execution_count": 33,
   "id": "9f66215a",
   "metadata": {
    "execution": {
     "iopub.execute_input": "2024-05-18T12:34:39.926532Z",
     "iopub.status.busy": "2024-05-18T12:34:39.925579Z",
     "iopub.status.idle": "2024-05-18T12:34:39.930387Z",
     "shell.execute_reply": "2024-05-18T12:34:39.929473Z"
    },
    "papermill": {
     "duration": 0.07646,
     "end_time": "2024-05-18T12:34:39.932852",
     "exception": false,
     "start_time": "2024-05-18T12:34:39.856392",
     "status": "completed"
    },
    "tags": []
   },
   "outputs": [],
   "source": [
    "#from icecream import ic"
   ]
  },
  {
   "cell_type": "code",
   "execution_count": 34,
   "id": "825aa2ce",
   "metadata": {
    "execution": {
     "iopub.execute_input": "2024-05-18T12:34:40.071667Z",
     "iopub.status.busy": "2024-05-18T12:34:40.070652Z",
     "iopub.status.idle": "2024-05-18T12:34:40.078886Z",
     "shell.execute_reply": "2024-05-18T12:34:40.077585Z"
    },
    "papermill": {
     "duration": 0.080985,
     "end_time": "2024-05-18T12:34:40.081360",
     "exception": false,
     "start_time": "2024-05-18T12:34:40.000375",
     "status": "completed"
    },
    "tags": []
   },
   "outputs": [
    {
     "data": {
      "text/plain": [
       "'\\nlimit_phrases = 10\\n\\nphrase_id = 0\\nunit_vector = []\\n\\nfor p in doc._.phrases:\\n    #ic(phrase_id, p.text, p.rank)\\n\\n    unit_vector.append(p.rank)\\n\\n    for chunk in p.chunks:\\n        #ic(chunk.start, chunk.end)\\n\\n        for sent_start, sent_end, sent_vector in sent_bounds:\\n            if chunk.start >= sent_start and chunk.end <= sent_end:\\n                #ic(sent_start, chunk.start, chunk.end, sent_end)\\n                sent_vector.add(phrase_id)\\n                break\\n\\n    phrase_id += 1\\n\\n    if phrase_id == limit_phrases:\\n        break\\n'"
      ]
     },
     "execution_count": 34,
     "metadata": {},
     "output_type": "execute_result"
    }
   ],
   "source": [
    "'''\n",
    "limit_phrases = 10\n",
    "\n",
    "phrase_id = 0\n",
    "unit_vector = []\n",
    "\n",
    "for p in doc._.phrases:\n",
    "    #ic(phrase_id, p.text, p.rank)\n",
    "\n",
    "    unit_vector.append(p.rank)\n",
    "\n",
    "    for chunk in p.chunks:\n",
    "        #ic(chunk.start, chunk.end)\n",
    "\n",
    "        for sent_start, sent_end, sent_vector in sent_bounds:\n",
    "            if chunk.start >= sent_start and chunk.end <= sent_end:\n",
    "                #ic(sent_start, chunk.start, chunk.end, sent_end)\n",
    "                sent_vector.add(phrase_id)\n",
    "                break\n",
    "\n",
    "    phrase_id += 1\n",
    "\n",
    "    if phrase_id == limit_phrases:\n",
    "        break\n",
    "'''"
   ]
  },
  {
   "cell_type": "code",
   "execution_count": 35,
   "id": "de4eb470",
   "metadata": {
    "execution": {
     "iopub.execute_input": "2024-05-18T12:34:40.220895Z",
     "iopub.status.busy": "2024-05-18T12:34:40.220009Z",
     "iopub.status.idle": "2024-05-18T12:34:40.225176Z",
     "shell.execute_reply": "2024-05-18T12:34:40.224264Z"
    },
    "papermill": {
     "duration": 0.07797,
     "end_time": "2024-05-18T12:34:40.227734",
     "exception": false,
     "start_time": "2024-05-18T12:34:40.149764",
     "status": "completed"
    },
    "tags": []
   },
   "outputs": [],
   "source": [
    "#sent_bounds"
   ]
  },
  {
   "cell_type": "code",
   "execution_count": 36,
   "id": "3604e006",
   "metadata": {
    "execution": {
     "iopub.execute_input": "2024-05-18T12:34:40.366403Z",
     "iopub.status.busy": "2024-05-18T12:34:40.365127Z",
     "iopub.status.idle": "2024-05-18T12:34:40.370381Z",
     "shell.execute_reply": "2024-05-18T12:34:40.369454Z"
    },
    "papermill": {
     "duration": 0.077343,
     "end_time": "2024-05-18T12:34:40.373202",
     "exception": false,
     "start_time": "2024-05-18T12:34:40.295859",
     "status": "completed"
    },
    "tags": []
   },
   "outputs": [],
   "source": [
    "#for sent in doc.sents:\n",
    "#    ic(sent)"
   ]
  },
  {
   "cell_type": "code",
   "execution_count": 37,
   "id": "d25efd2f",
   "metadata": {
    "execution": {
     "iopub.execute_input": "2024-05-18T12:34:40.512921Z",
     "iopub.status.busy": "2024-05-18T12:34:40.512420Z",
     "iopub.status.idle": "2024-05-18T12:34:40.517801Z",
     "shell.execute_reply": "2024-05-18T12:34:40.516550Z"
    },
    "papermill": {
     "duration": 0.07992,
     "end_time": "2024-05-18T12:34:40.520661",
     "exception": false,
     "start_time": "2024-05-18T12:34:40.440741",
     "status": "completed"
    },
    "tags": []
   },
   "outputs": [],
   "source": [
    "#unit_vector"
   ]
  },
  {
   "cell_type": "code",
   "execution_count": 38,
   "id": "07aa6e19",
   "metadata": {
    "execution": {
     "iopub.execute_input": "2024-05-18T12:34:40.659450Z",
     "iopub.status.busy": "2024-05-18T12:34:40.658894Z",
     "iopub.status.idle": "2024-05-18T12:34:40.664105Z",
     "shell.execute_reply": "2024-05-18T12:34:40.662804Z"
    },
    "papermill": {
     "duration": 0.077606,
     "end_time": "2024-05-18T12:34:40.666702",
     "exception": false,
     "start_time": "2024-05-18T12:34:40.589096",
     "status": "completed"
    },
    "tags": []
   },
   "outputs": [],
   "source": [
    "#sum_ranks = sum(unit_vector)\n",
    "\n",
    "#unit_vector = [ rank/sum_ranks for rank in unit_vector ]\n",
    "#unit_vector"
   ]
  },
  {
   "cell_type": "code",
   "execution_count": 39,
   "id": "2b9b7098",
   "metadata": {
    "execution": {
     "iopub.execute_input": "2024-05-18T12:34:40.807721Z",
     "iopub.status.busy": "2024-05-18T12:34:40.807212Z",
     "iopub.status.idle": "2024-05-18T12:34:40.814992Z",
     "shell.execute_reply": "2024-05-18T12:34:40.813907Z"
    },
    "papermill": {
     "duration": 0.080874,
     "end_time": "2024-05-18T12:34:40.817243",
     "exception": false,
     "start_time": "2024-05-18T12:34:40.736369",
     "status": "completed"
    },
    "tags": []
   },
   "outputs": [
    {
     "data": {
      "text/plain": [
       "'\\nfrom math import sqrt\\n\\nsent_rank = {}\\nsent_id = 0\\n\\nfor sent_start, sent_end, sent_vector in sent_bounds:\\n    #ic(sent_vector)\\n    sum_sq = 0.0\\n    ic\\n    for phrase_id in range(len(unit_vector)):\\n        #ic(phrase_id, unit_vector[phrase_id])\\n\\n        if phrase_id not in sent_vector:\\n            sum_sq += unit_vector[phrase_id]**2.0\\n\\n    sent_rank[sent_id] = sqrt(sum_sq)\\n    sent_id += 1\\n'"
      ]
     },
     "execution_count": 39,
     "metadata": {},
     "output_type": "execute_result"
    }
   ],
   "source": [
    "'''\n",
    "from math import sqrt\n",
    "\n",
    "sent_rank = {}\n",
    "sent_id = 0\n",
    "\n",
    "for sent_start, sent_end, sent_vector in sent_bounds:\n",
    "    #ic(sent_vector)\n",
    "    sum_sq = 0.0\n",
    "    ic\n",
    "    for phrase_id in range(len(unit_vector)):\n",
    "        #ic(phrase_id, unit_vector[phrase_id])\n",
    "\n",
    "        if phrase_id not in sent_vector:\n",
    "            sum_sq += unit_vector[phrase_id]**2.0\n",
    "\n",
    "    sent_rank[sent_id] = sqrt(sum_sq)\n",
    "    sent_id += 1\n",
    "'''"
   ]
  },
  {
   "cell_type": "code",
   "execution_count": 40,
   "id": "078250b7",
   "metadata": {
    "execution": {
     "iopub.execute_input": "2024-05-18T12:34:40.956663Z",
     "iopub.status.busy": "2024-05-18T12:34:40.955379Z",
     "iopub.status.idle": "2024-05-18T12:34:40.960681Z",
     "shell.execute_reply": "2024-05-18T12:34:40.959432Z"
    },
    "papermill": {
     "duration": 0.076964,
     "end_time": "2024-05-18T12:34:40.963354",
     "exception": false,
     "start_time": "2024-05-18T12:34:40.886390",
     "status": "completed"
    },
    "tags": []
   },
   "outputs": [],
   "source": [
    "#ic(sent_rank)"
   ]
  },
  {
   "cell_type": "code",
   "execution_count": 41,
   "id": "a1dc14c3",
   "metadata": {
    "execution": {
     "iopub.execute_input": "2024-05-18T12:34:41.106940Z",
     "iopub.status.busy": "2024-05-18T12:34:41.106083Z",
     "iopub.status.idle": "2024-05-18T12:34:41.110417Z",
     "shell.execute_reply": "2024-05-18T12:34:41.109583Z"
    },
    "papermill": {
     "duration": 0.076107,
     "end_time": "2024-05-18T12:34:41.112664",
     "exception": false,
     "start_time": "2024-05-18T12:34:41.036557",
     "status": "completed"
    },
    "tags": []
   },
   "outputs": [],
   "source": [
    "#from operator import itemgetter"
   ]
  },
  {
   "cell_type": "code",
   "execution_count": 42,
   "id": "439847d2",
   "metadata": {
    "execution": {
     "iopub.execute_input": "2024-05-18T12:34:41.251173Z",
     "iopub.status.busy": "2024-05-18T12:34:41.250291Z",
     "iopub.status.idle": "2024-05-18T12:34:41.255775Z",
     "shell.execute_reply": "2024-05-18T12:34:41.254450Z"
    },
    "papermill": {
     "duration": 0.078821,
     "end_time": "2024-05-18T12:34:41.258692",
     "exception": false,
     "start_time": "2024-05-18T12:34:41.179871",
     "status": "completed"
    },
    "tags": []
   },
   "outputs": [],
   "source": [
    "#sorted(sent_rank.items(), key=itemgetter(1)) "
   ]
  },
  {
   "cell_type": "code",
   "execution_count": 43,
   "id": "9f8acc2a",
   "metadata": {
    "execution": {
     "iopub.execute_input": "2024-05-18T12:34:41.397240Z",
     "iopub.status.busy": "2024-05-18T12:34:41.395774Z",
     "iopub.status.idle": "2024-05-18T12:34:41.404401Z",
     "shell.execute_reply": "2024-05-18T12:34:41.403129Z"
    },
    "papermill": {
     "duration": 0.080134,
     "end_time": "2024-05-18T12:34:41.406895",
     "exception": false,
     "start_time": "2024-05-18T12:34:41.326761",
     "status": "completed"
    },
    "tags": []
   },
   "outputs": [
    {
     "data": {
      "text/plain": [
       "'\\nlimit_sentences = 10\\n\\nsent_text = {}\\nsent_id = 0\\n\\nfor sent in doc.sents:\\n    sent_text[sent_id] = sent.text\\n    sent_id += 1\\n\\nnum_sent = 0\\n\\nfor sent_id, rank in sorted(sent_rank.items(), key=itemgetter(1)):\\n    ic(sent_id, sent_text[sent_id])\\n    num_sent += 1\\n\\n    if num_sent == limit_sentences:\\n        break\\n'"
      ]
     },
     "execution_count": 43,
     "metadata": {},
     "output_type": "execute_result"
    }
   ],
   "source": [
    "'''\n",
    "limit_sentences = 10\n",
    "\n",
    "sent_text = {}\n",
    "sent_id = 0\n",
    "\n",
    "for sent in doc.sents:\n",
    "    sent_text[sent_id] = sent.text\n",
    "    sent_id += 1\n",
    "\n",
    "num_sent = 0\n",
    "\n",
    "for sent_id, rank in sorted(sent_rank.items(), key=itemgetter(1)):\n",
    "    ic(sent_id, sent_text[sent_id])\n",
    "    num_sent += 1\n",
    "\n",
    "    if num_sent == limit_sentences:\n",
    "        break\n",
    "'''"
   ]
  },
  {
   "cell_type": "code",
   "execution_count": 44,
   "id": "5e2fb0ca",
   "metadata": {
    "execution": {
     "iopub.execute_input": "2024-05-18T12:34:41.554671Z",
     "iopub.status.busy": "2024-05-18T12:34:41.553795Z",
     "iopub.status.idle": "2024-05-18T12:34:41.561842Z",
     "shell.execute_reply": "2024-05-18T12:34:41.560578Z"
    },
    "papermill": {
     "duration": 0.082523,
     "end_time": "2024-05-18T12:34:41.564307",
     "exception": false,
     "start_time": "2024-05-18T12:34:41.481784",
     "status": "completed"
    },
    "tags": []
   },
   "outputs": [
    {
     "data": {
      "text/plain": [
       "'\\nlimit_sentences = 10\\n\\nsent_text = {}\\nsent_id = 0\\n\\nfor sent in doc.sents:\\n    sent_text[sent_id] = sent.text\\n    sent_id += 1\\n\\nnum_sent = 0\\n\\nfor sent_id, rank in sorted(sent_rank.items(), key=itemgetter(1)):\\n    ic(sent_id, sent_text[sent_id])\\n    num_sent += 1\\n\\n    if num_sent == limit_sentences:\\n        break\\n'"
      ]
     },
     "execution_count": 44,
     "metadata": {},
     "output_type": "execute_result"
    }
   ],
   "source": [
    "'''\n",
    "limit_sentences = 10\n",
    "\n",
    "sent_text = {}\n",
    "sent_id = 0\n",
    "\n",
    "for sent in doc.sents:\n",
    "    sent_text[sent_id] = sent.text\n",
    "    sent_id += 1\n",
    "\n",
    "num_sent = 0\n",
    "\n",
    "for sent_id, rank in sorted(sent_rank.items(), key=itemgetter(1)):\n",
    "    ic(sent_id, sent_text[sent_id])\n",
    "    num_sent += 1\n",
    "\n",
    "    if num_sent == limit_sentences:\n",
    "        break\n",
    "'''"
   ]
  },
  {
   "cell_type": "code",
   "execution_count": 45,
   "id": "9d37ca60",
   "metadata": {
    "execution": {
     "iopub.execute_input": "2024-05-18T12:34:41.701770Z",
     "iopub.status.busy": "2024-05-18T12:34:41.701238Z",
     "iopub.status.idle": "2024-05-18T12:34:41.707027Z",
     "shell.execute_reply": "2024-05-18T12:34:41.705519Z"
    },
    "papermill": {
     "duration": 0.077756,
     "end_time": "2024-05-18T12:34:41.709825",
     "exception": false,
     "start_time": "2024-05-18T12:34:41.632069",
     "status": "completed"
    },
    "tags": []
   },
   "outputs": [],
   "source": [
    "#from summa import summarizer\n",
    "\n",
    "#print(summarizer.summarize(text))"
   ]
  },
  {
   "cell_type": "code",
   "execution_count": 46,
   "id": "6a81096a",
   "metadata": {
    "execution": {
     "iopub.execute_input": "2024-05-18T12:34:41.851172Z",
     "iopub.status.busy": "2024-05-18T12:34:41.850674Z",
     "iopub.status.idle": "2024-05-18T12:34:41.856402Z",
     "shell.execute_reply": "2024-05-18T12:34:41.855049Z"
    },
    "papermill": {
     "duration": 0.079535,
     "end_time": "2024-05-18T12:34:41.858917",
     "exception": false,
     "start_time": "2024-05-18T12:34:41.779382",
     "status": "completed"
    },
    "tags": []
   },
   "outputs": [],
   "source": [
    "#from summa import keywords\n",
    "\n",
    "#print(keywords.keywords(text))"
   ]
  },
  {
   "cell_type": "code",
   "execution_count": 47,
   "id": "886de3fa",
   "metadata": {
    "execution": {
     "iopub.execute_input": "2024-05-18T12:34:41.998977Z",
     "iopub.status.busy": "2024-05-18T12:34:41.998478Z",
     "iopub.status.idle": "2024-05-18T12:34:42.005373Z",
     "shell.execute_reply": "2024-05-18T12:34:42.003735Z"
    },
    "papermill": {
     "duration": 0.081218,
     "end_time": "2024-05-18T12:34:42.008417",
     "exception": false,
     "start_time": "2024-05-18T12:34:41.927199",
     "status": "completed"
    },
    "tags": []
   },
   "outputs": [],
   "source": [
    "#from sumy.parsers.plaintext import PlaintextParser\n",
    "#from sumy.nlp.tokenizers import Tokenizer\n",
    "#from sumy.summarizers.lex_rank import LexRankSummarizer"
   ]
  },
  {
   "cell_type": "code",
   "execution_count": 48,
   "id": "665c588e",
   "metadata": {
    "execution": {
     "iopub.execute_input": "2024-05-18T12:34:42.150386Z",
     "iopub.status.busy": "2024-05-18T12:34:42.149888Z",
     "iopub.status.idle": "2024-05-18T12:34:42.155144Z",
     "shell.execute_reply": "2024-05-18T12:34:42.153786Z"
    },
    "papermill": {
     "duration": 0.078931,
     "end_time": "2024-05-18T12:34:42.157665",
     "exception": false,
     "start_time": "2024-05-18T12:34:42.078734",
     "status": "completed"
    },
    "tags": []
   },
   "outputs": [],
   "source": [
    "#text_sample"
   ]
  },
  {
   "cell_type": "code",
   "execution_count": 49,
   "id": "85c7eb99",
   "metadata": {
    "execution": {
     "iopub.execute_input": "2024-05-18T12:34:42.296316Z",
     "iopub.status.busy": "2024-05-18T12:34:42.295850Z",
     "iopub.status.idle": "2024-05-18T12:34:42.301193Z",
     "shell.execute_reply": "2024-05-18T12:34:42.299786Z"
    },
    "papermill": {
     "duration": 0.07808,
     "end_time": "2024-05-18T12:34:42.303962",
     "exception": false,
     "start_time": "2024-05-18T12:34:42.225882",
     "status": "completed"
    },
    "tags": []
   },
   "outputs": [],
   "source": [
    "#parser = PlaintextParser.from_string(text_sample,Tokenizer(\"english\"))"
   ]
  },
  {
   "cell_type": "code",
   "execution_count": 50,
   "id": "316652a9",
   "metadata": {
    "execution": {
     "iopub.execute_input": "2024-05-18T12:34:42.442304Z",
     "iopub.status.busy": "2024-05-18T12:34:42.441797Z",
     "iopub.status.idle": "2024-05-18T12:34:42.448136Z",
     "shell.execute_reply": "2024-05-18T12:34:42.446711Z"
    },
    "papermill": {
     "duration": 0.078649,
     "end_time": "2024-05-18T12:34:42.450928",
     "exception": false,
     "start_time": "2024-05-18T12:34:42.372279",
     "status": "completed"
    },
    "tags": []
   },
   "outputs": [],
   "source": [
    "#sample['clean_summary'].iloc[0]"
   ]
  },
  {
   "cell_type": "code",
   "execution_count": 51,
   "id": "34e29a06",
   "metadata": {
    "execution": {
     "iopub.execute_input": "2024-05-18T12:34:42.595157Z",
     "iopub.status.busy": "2024-05-18T12:34:42.594649Z",
     "iopub.status.idle": "2024-05-18T12:34:42.600752Z",
     "shell.execute_reply": "2024-05-18T12:34:42.599452Z"
    },
    "papermill": {
     "duration": 0.082266,
     "end_time": "2024-05-18T12:34:42.603517",
     "exception": false,
     "start_time": "2024-05-18T12:34:42.521251",
     "status": "completed"
    },
    "tags": []
   },
   "outputs": [],
   "source": [
    "#sample['len_ratio']"
   ]
  },
  {
   "cell_type": "code",
   "execution_count": 52,
   "id": "0ee8cbf1",
   "metadata": {
    "execution": {
     "iopub.execute_input": "2024-05-18T12:34:42.745375Z",
     "iopub.status.busy": "2024-05-18T12:34:42.744857Z",
     "iopub.status.idle": "2024-05-18T12:34:42.749782Z",
     "shell.execute_reply": "2024-05-18T12:34:42.748797Z"
    },
    "papermill": {
     "duration": 0.079491,
     "end_time": "2024-05-18T12:34:42.752286",
     "exception": false,
     "start_time": "2024-05-18T12:34:42.672795",
     "status": "completed"
    },
    "tags": []
   },
   "outputs": [],
   "source": [
    "#summarizer = LexRankSummarizer()\n",
    "#summary = summarizer(parser.document, 4)\n",
    "#summary"
   ]
  },
  {
   "cell_type": "code",
   "execution_count": 53,
   "id": "f4467f30",
   "metadata": {
    "execution": {
     "iopub.execute_input": "2024-05-18T12:34:42.894921Z",
     "iopub.status.busy": "2024-05-18T12:34:42.894297Z",
     "iopub.status.idle": "2024-05-18T12:34:42.900457Z",
     "shell.execute_reply": "2024-05-18T12:34:42.899173Z"
    },
    "papermill": {
     "duration": 0.081764,
     "end_time": "2024-05-18T12:34:42.903120",
     "exception": false,
     "start_time": "2024-05-18T12:34:42.821356",
     "status": "completed"
    },
    "tags": []
   },
   "outputs": [],
   "source": [
    "#from sumy.summarizers.luhn import LuhnSummarizer"
   ]
  },
  {
   "cell_type": "code",
   "execution_count": 54,
   "id": "242603db",
   "metadata": {
    "execution": {
     "iopub.execute_input": "2024-05-18T12:34:43.047308Z",
     "iopub.status.busy": "2024-05-18T12:34:43.045731Z",
     "iopub.status.idle": "2024-05-18T12:34:43.051082Z",
     "shell.execute_reply": "2024-05-18T12:34:43.050137Z"
    },
    "papermill": {
     "duration": 0.080927,
     "end_time": "2024-05-18T12:34:43.053912",
     "exception": false,
     "start_time": "2024-05-18T12:34:42.972985",
     "status": "completed"
    },
    "tags": []
   },
   "outputs": [],
   "source": [
    "#summarizer_luhn = LuhnSummarizer()\n",
    "#summary_1 =summarizer_luhn(parser.document, 4)\n",
    "#summary_1"
   ]
  },
  {
   "cell_type": "code",
   "execution_count": 55,
   "id": "3f3e7951",
   "metadata": {
    "execution": {
     "iopub.execute_input": "2024-05-18T12:34:43.197372Z",
     "iopub.status.busy": "2024-05-18T12:34:43.196818Z",
     "iopub.status.idle": "2024-05-18T12:34:43.202552Z",
     "shell.execute_reply": "2024-05-18T12:34:43.201235Z"
    },
    "papermill": {
     "duration": 0.081617,
     "end_time": "2024-05-18T12:34:43.205357",
     "exception": false,
     "start_time": "2024-05-18T12:34:43.123740",
     "status": "completed"
    },
    "tags": []
   },
   "outputs": [],
   "source": [
    "#from sumy.summarizers.lsa import LsaSummarizer"
   ]
  },
  {
   "cell_type": "code",
   "execution_count": 56,
   "id": "9aaa3a7e",
   "metadata": {
    "execution": {
     "iopub.execute_input": "2024-05-18T12:34:43.369634Z",
     "iopub.status.busy": "2024-05-18T12:34:43.368797Z",
     "iopub.status.idle": "2024-05-18T12:34:43.373941Z",
     "shell.execute_reply": "2024-05-18T12:34:43.372971Z"
    },
    "papermill": {
     "duration": 0.097866,
     "end_time": "2024-05-18T12:34:43.376412",
     "exception": false,
     "start_time": "2024-05-18T12:34:43.278546",
     "status": "completed"
    },
    "tags": []
   },
   "outputs": [],
   "source": [
    "#summarizer_lsa = LsaSummarizer()\n",
    "#summary_2 = summarizer_lsa(parser.document, 4)\n",
    "#summary_2"
   ]
  },
  {
   "cell_type": "code",
   "execution_count": 57,
   "id": "f4f4ee82",
   "metadata": {
    "execution": {
     "iopub.execute_input": "2024-05-18T12:34:43.516039Z",
     "iopub.status.busy": "2024-05-18T12:34:43.514777Z",
     "iopub.status.idle": "2024-05-18T12:34:43.520559Z",
     "shell.execute_reply": "2024-05-18T12:34:43.519589Z"
    },
    "papermill": {
     "duration": 0.078429,
     "end_time": "2024-05-18T12:34:43.523041",
     "exception": false,
     "start_time": "2024-05-18T12:34:43.444612",
     "status": "completed"
    },
    "tags": []
   },
   "outputs": [],
   "source": [
    "#from sumy.summarizers.text_rank import TextRankSummarizer"
   ]
  },
  {
   "cell_type": "code",
   "execution_count": 58,
   "id": "4ffab1eb",
   "metadata": {
    "execution": {
     "iopub.execute_input": "2024-05-18T12:34:43.661653Z",
     "iopub.status.busy": "2024-05-18T12:34:43.661105Z",
     "iopub.status.idle": "2024-05-18T12:34:43.666484Z",
     "shell.execute_reply": "2024-05-18T12:34:43.665057Z"
    },
    "papermill": {
     "duration": 0.077888,
     "end_time": "2024-05-18T12:34:43.669032",
     "exception": false,
     "start_time": "2024-05-18T12:34:43.591144",
     "status": "completed"
    },
    "tags": []
   },
   "outputs": [],
   "source": [
    "#summarizer = TextRankSummarizer()\n",
    "#summary = summarizer(parser.document, 4)\n",
    "#summary"
   ]
  },
  {
   "cell_type": "code",
   "execution_count": 59,
   "id": "db094c93",
   "metadata": {
    "execution": {
     "iopub.execute_input": "2024-05-18T12:34:43.811598Z",
     "iopub.status.busy": "2024-05-18T12:34:43.810638Z",
     "iopub.status.idle": "2024-05-18T12:34:43.816116Z",
     "shell.execute_reply": "2024-05-18T12:34:43.815058Z"
    },
    "papermill": {
     "duration": 0.081243,
     "end_time": "2024-05-18T12:34:43.818803",
     "exception": false,
     "start_time": "2024-05-18T12:34:43.737560",
     "status": "completed"
    },
    "tags": []
   },
   "outputs": [],
   "source": [
    "#from sumy.summarizers.kl import KLSummarizer"
   ]
  },
  {
   "cell_type": "code",
   "execution_count": 60,
   "id": "96ce9aa6",
   "metadata": {
    "execution": {
     "iopub.execute_input": "2024-05-18T12:34:43.959183Z",
     "iopub.status.busy": "2024-05-18T12:34:43.958665Z",
     "iopub.status.idle": "2024-05-18T12:34:43.963721Z",
     "shell.execute_reply": "2024-05-18T12:34:43.962393Z"
    },
    "papermill": {
     "duration": 0.077188,
     "end_time": "2024-05-18T12:34:43.966532",
     "exception": false,
     "start_time": "2024-05-18T12:34:43.889344",
     "status": "completed"
    },
    "tags": []
   },
   "outputs": [],
   "source": [
    "#summarizer = KLSummarizer()\n",
    "#summary = summarizer(parser.document, 4)\n",
    "#summary"
   ]
  },
  {
   "cell_type": "code",
   "execution_count": null,
   "id": "26f4aaab",
   "metadata": {
    "papermill": {
     "duration": 0.069228,
     "end_time": "2024-05-18T12:34:44.106015",
     "exception": false,
     "start_time": "2024-05-18T12:34:44.036787",
     "status": "completed"
    },
    "tags": []
   },
   "outputs": [],
   "source": []
  },
  {
   "cell_type": "code",
   "execution_count": null,
   "id": "1c847a72",
   "metadata": {
    "papermill": {
     "duration": 0.068097,
     "end_time": "2024-05-18T12:34:44.243394",
     "exception": false,
     "start_time": "2024-05-18T12:34:44.175297",
     "status": "completed"
    },
    "tags": []
   },
   "outputs": [],
   "source": []
  },
  {
   "cell_type": "code",
   "execution_count": 61,
   "id": "aec237e4",
   "metadata": {
    "execution": {
     "iopub.execute_input": "2024-05-18T12:34:44.420489Z",
     "iopub.status.busy": "2024-05-18T12:34:44.419978Z",
     "iopub.status.idle": "2024-05-18T12:34:44.424866Z",
     "shell.execute_reply": "2024-05-18T12:34:44.423835Z"
    },
    "papermill": {
     "duration": 0.101717,
     "end_time": "2024-05-18T12:34:44.427225",
     "exception": false,
     "start_time": "2024-05-18T12:34:44.325508",
     "status": "completed"
    },
    "tags": []
   },
   "outputs": [],
   "source": [
    "#pip install fastcoref"
   ]
  },
  {
   "cell_type": "code",
   "execution_count": 62,
   "id": "85d6ccaa",
   "metadata": {
    "execution": {
     "iopub.execute_input": "2024-05-18T12:34:44.567507Z",
     "iopub.status.busy": "2024-05-18T12:34:44.566559Z",
     "iopub.status.idle": "2024-05-18T12:34:44.571406Z",
     "shell.execute_reply": "2024-05-18T12:34:44.570400Z"
    },
    "papermill": {
     "duration": 0.078514,
     "end_time": "2024-05-18T12:34:44.574077",
     "exception": false,
     "start_time": "2024-05-18T12:34:44.495563",
     "status": "completed"
    },
    "tags": []
   },
   "outputs": [],
   "source": [
    "#from fastcoref import spacy_component"
   ]
  },
  {
   "cell_type": "code",
   "execution_count": 63,
   "id": "dc66b1cd",
   "metadata": {
    "execution": {
     "iopub.execute_input": "2024-05-18T12:34:44.715138Z",
     "iopub.status.busy": "2024-05-18T12:34:44.714245Z",
     "iopub.status.idle": "2024-05-18T12:34:44.720847Z",
     "shell.execute_reply": "2024-05-18T12:34:44.719841Z"
    },
    "papermill": {
     "duration": 0.080656,
     "end_time": "2024-05-18T12:34:44.723171",
     "exception": false,
     "start_time": "2024-05-18T12:34:44.642515",
     "status": "completed"
    },
    "tags": []
   },
   "outputs": [
    {
     "data": {
      "text/plain": [
       "'\\n\\nnlp_coref = spacy.load(\"en_core_web_sm\")\\nnlp_coref.add_pipe(\\n    \"fastcoref\",\\n    config={\\'device\\': device}\\n)\\n'"
      ]
     },
     "execution_count": 63,
     "metadata": {},
     "output_type": "execute_result"
    }
   ],
   "source": [
    "'''\n",
    "\n",
    "nlp_coref = spacy.load(\"en_core_web_sm\")\n",
    "nlp_coref.add_pipe(\n",
    "    \"fastcoref\",\n",
    "    config={'device': device}\n",
    ")\n",
    "'''"
   ]
  },
  {
   "cell_type": "code",
   "execution_count": 64,
   "id": "2e33a379",
   "metadata": {
    "execution": {
     "iopub.execute_input": "2024-05-18T12:34:44.864004Z",
     "iopub.status.busy": "2024-05-18T12:34:44.862673Z",
     "iopub.status.idle": "2024-05-18T12:34:44.870755Z",
     "shell.execute_reply": "2024-05-18T12:34:44.869900Z"
    },
    "papermill": {
     "duration": 0.081496,
     "end_time": "2024-05-18T12:34:44.873110",
     "exception": false,
     "start_time": "2024-05-18T12:34:44.791614",
     "status": "completed"
    },
    "tags": []
   },
   "outputs": [
    {
     "data": {
      "text/plain": [
       "\"\\n\\nsize = 10\\n\\n# temp_df = combined_df.sample(size)\\n# temp_df = pd.read_csv('/kaggle/input/combined-partial/combined_test.csv', sep=',')\\ntemp_df = pd.read_csv('/kaggle/input/combined-partial/combined_validation.csv', sep=',')\\n# temp_df = pd.read_csv('/kaggle/input/combined-partial/combined_train.csv', sep=',')\\n\\n#temp_df = temp_df.sample(size)\\n\\ntemp_df['clean_text'] = temp_df['unredacted_text'].apply(lambda x:preprocess_text(x, combination_name))\\ntemp_df['clean_summary'] = temp_df['unredacted_summary'].apply(lambda x:preprocess_summary(x, combination_name))\\n\\nlen(temp_df)\\n\\n\""
      ]
     },
     "execution_count": 64,
     "metadata": {},
     "output_type": "execute_result"
    }
   ],
   "source": [
    "'''\n",
    "\n",
    "size = 10\n",
    "\n",
    "# temp_df = combined_df.sample(size)\n",
    "# temp_df = pd.read_csv('/kaggle/input/combined-partial/combined_test.csv', sep=',')\n",
    "temp_df = pd.read_csv('/kaggle/input/combined-partial/combined_validation.csv', sep=',')\n",
    "# temp_df = pd.read_csv('/kaggle/input/combined-partial/combined_train.csv', sep=',')\n",
    "\n",
    "#temp_df = temp_df.sample(size)\n",
    "\n",
    "temp_df['clean_text'] = temp_df['unredacted_text'].apply(lambda x:preprocess_text(x, combination_name))\n",
    "temp_df['clean_summary'] = temp_df['unredacted_summary'].apply(lambda x:preprocess_summary(x, combination_name))\n",
    "\n",
    "len(temp_df)\n",
    "\n",
    "'''"
   ]
  },
  {
   "cell_type": "code",
   "execution_count": 65,
   "id": "057c6122",
   "metadata": {
    "execution": {
     "iopub.execute_input": "2024-05-18T12:34:45.012510Z",
     "iopub.status.busy": "2024-05-18T12:34:45.011977Z",
     "iopub.status.idle": "2024-05-18T12:34:45.019984Z",
     "shell.execute_reply": "2024-05-18T12:34:45.018408Z"
    },
    "papermill": {
     "duration": 0.081525,
     "end_time": "2024-05-18T12:34:45.022937",
     "exception": false,
     "start_time": "2024-05-18T12:34:44.941412",
     "status": "completed"
    },
    "tags": []
   },
   "outputs": [
    {
     "data": {
      "text/plain": [
       "'\\n\\nstart = time.time()\\n\\ncoref_text = nlp_coref.pipe(      \\n   temp_df[\\'clean_text\\'], \\n   component_cfg={\"fastcoref\": {\\'resolve_text\\': True}}\\n)\\n\\nend = time.time()\\nprint(\\'time: \\', end - start)\\n\\n'"
      ]
     },
     "execution_count": 65,
     "metadata": {},
     "output_type": "execute_result"
    }
   ],
   "source": [
    "'''\n",
    "\n",
    "start = time.time()\n",
    "\n",
    "coref_text = nlp_coref.pipe(      \n",
    "   temp_df['clean_text'], \n",
    "   component_cfg={\"fastcoref\": {'resolve_text': True}}\n",
    ")\n",
    "\n",
    "end = time.time()\n",
    "print('time: ', end - start)\n",
    "\n",
    "'''"
   ]
  },
  {
   "cell_type": "code",
   "execution_count": 66,
   "id": "af7ac833",
   "metadata": {
    "execution": {
     "iopub.execute_input": "2024-05-18T12:34:45.166559Z",
     "iopub.status.busy": "2024-05-18T12:34:45.165404Z",
     "iopub.status.idle": "2024-05-18T12:34:45.170209Z",
     "shell.execute_reply": "2024-05-18T12:34:45.169407Z"
    },
    "papermill": {
     "duration": 0.078098,
     "end_time": "2024-05-18T12:34:45.172727",
     "exception": false,
     "start_time": "2024-05-18T12:34:45.094629",
     "status": "completed"
    },
    "tags": []
   },
   "outputs": [],
   "source": [
    "#print('coref')"
   ]
  },
  {
   "cell_type": "code",
   "execution_count": 67,
   "id": "d87e4790",
   "metadata": {
    "execution": {
     "iopub.execute_input": "2024-05-18T12:34:45.317068Z",
     "iopub.status.busy": "2024-05-18T12:34:45.315743Z",
     "iopub.status.idle": "2024-05-18T12:34:45.324209Z",
     "shell.execute_reply": "2024-05-18T12:34:45.322841Z"
    },
    "papermill": {
     "duration": 0.084726,
     "end_time": "2024-05-18T12:34:45.327408",
     "exception": false,
     "start_time": "2024-05-18T12:34:45.242682",
     "status": "completed"
    },
    "tags": []
   },
   "outputs": [
    {
     "data": {
      "text/plain": [
       "\"\\n\\nstart = time.time()\\n\\ntemp_df['coref_text'] = [doc._.resolved_text for doc in coref_text]\\n\\nend = time.time()\\nprint('time: ', end - start)\\n\\n#temp_df\\n\\n\""
      ]
     },
     "execution_count": 67,
     "metadata": {},
     "output_type": "execute_result"
    }
   ],
   "source": [
    "'''\n",
    "\n",
    "start = time.time()\n",
    "\n",
    "temp_df['coref_text'] = [doc._.resolved_text for doc in coref_text]\n",
    "\n",
    "end = time.time()\n",
    "print('time: ', end - start)\n",
    "\n",
    "#temp_df\n",
    "\n",
    "'''"
   ]
  },
  {
   "cell_type": "code",
   "execution_count": 68,
   "id": "6b16c752",
   "metadata": {
    "execution": {
     "iopub.execute_input": "2024-05-18T12:34:45.471904Z",
     "iopub.status.busy": "2024-05-18T12:34:45.470561Z",
     "iopub.status.idle": "2024-05-18T12:34:45.476585Z",
     "shell.execute_reply": "2024-05-18T12:34:45.475446Z"
    },
    "papermill": {
     "duration": 0.080908,
     "end_time": "2024-05-18T12:34:45.479373",
     "exception": false,
     "start_time": "2024-05-18T12:34:45.398465",
     "status": "completed"
    },
    "tags": []
   },
   "outputs": [],
   "source": [
    "#temp_df.to_csv('generated_coref_validation' + '.csv', index = False)"
   ]
  },
  {
   "cell_type": "code",
   "execution_count": 69,
   "id": "a228b654",
   "metadata": {
    "execution": {
     "iopub.execute_input": "2024-05-18T12:34:45.625753Z",
     "iopub.status.busy": "2024-05-18T12:34:45.624479Z",
     "iopub.status.idle": "2024-05-18T12:34:45.630136Z",
     "shell.execute_reply": "2024-05-18T12:34:45.629179Z"
    },
    "papermill": {
     "duration": 0.080474,
     "end_time": "2024-05-18T12:34:45.632588",
     "exception": false,
     "start_time": "2024-05-18T12:34:45.552114",
     "status": "completed"
    },
    "tags": []
   },
   "outputs": [],
   "source": [
    "#break_now"
   ]
  },
  {
   "cell_type": "code",
   "execution_count": null,
   "id": "38a60f5b",
   "metadata": {
    "papermill": {
     "duration": 0.069283,
     "end_time": "2024-05-18T12:34:45.771957",
     "exception": false,
     "start_time": "2024-05-18T12:34:45.702674",
     "status": "completed"
    },
    "tags": []
   },
   "outputs": [],
   "source": []
  },
  {
   "cell_type": "code",
   "execution_count": 70,
   "id": "546ae28b",
   "metadata": {
    "execution": {
     "iopub.execute_input": "2024-05-18T12:34:45.914747Z",
     "iopub.status.busy": "2024-05-18T12:34:45.913843Z",
     "iopub.status.idle": "2024-05-18T12:34:45.918236Z",
     "shell.execute_reply": "2024-05-18T12:34:45.917394Z"
    },
    "papermill": {
     "duration": 0.07938,
     "end_time": "2024-05-18T12:34:45.920505",
     "exception": false,
     "start_time": "2024-05-18T12:34:45.841125",
     "status": "completed"
    },
    "tags": []
   },
   "outputs": [],
   "source": [
    "#pip install fuzzywuzzy python-Levenshtein"
   ]
  },
  {
   "cell_type": "code",
   "execution_count": 71,
   "id": "57826e64",
   "metadata": {
    "execution": {
     "iopub.execute_input": "2024-05-18T12:34:46.061772Z",
     "iopub.status.busy": "2024-05-18T12:34:46.060841Z",
     "iopub.status.idle": "2024-05-18T12:34:46.065256Z",
     "shell.execute_reply": "2024-05-18T12:34:46.064403Z"
    },
    "papermill": {
     "duration": 0.077766,
     "end_time": "2024-05-18T12:34:46.067988",
     "exception": false,
     "start_time": "2024-05-18T12:34:45.990222",
     "status": "completed"
    },
    "tags": []
   },
   "outputs": [],
   "source": [
    "#from fuzzywuzzy import fuzz\n",
    "#from fuzzywuzzy import process"
   ]
  },
  {
   "cell_type": "code",
   "execution_count": 72,
   "id": "193e151e",
   "metadata": {
    "execution": {
     "iopub.execute_input": "2024-05-18T12:34:46.209822Z",
     "iopub.status.busy": "2024-05-18T12:34:46.208755Z",
     "iopub.status.idle": "2024-05-18T12:34:46.214967Z",
     "shell.execute_reply": "2024-05-18T12:34:46.213479Z"
    },
    "papermill": {
     "duration": 0.079944,
     "end_time": "2024-05-18T12:34:46.218055",
     "exception": false,
     "start_time": "2024-05-18T12:34:46.138111",
     "status": "completed"
    },
    "tags": []
   },
   "outputs": [],
   "source": [
    "#coref_df = pd.read_csv('/kaggle/input/tmp-results/generated_coref_test.csv', sep=',')\n",
    "\n",
    "#coref_df['clean_text'] = coref_df['unredacted_text'].apply(lambda x:preprocess_text(x, combination_name))\n",
    "#coref_df['clean_summary'] = coref_df['unredacted_summary'].apply(lambda x:preprocess_summary(x, combination_name))\n",
    "\n",
    "#len(coref_df)"
   ]
  },
  {
   "cell_type": "code",
   "execution_count": 73,
   "id": "3e2d03de",
   "metadata": {
    "execution": {
     "iopub.execute_input": "2024-05-18T12:34:46.358963Z",
     "iopub.status.busy": "2024-05-18T12:34:46.358068Z",
     "iopub.status.idle": "2024-05-18T12:34:46.363608Z",
     "shell.execute_reply": "2024-05-18T12:34:46.362256Z"
    },
    "papermill": {
     "duration": 0.078247,
     "end_time": "2024-05-18T12:34:46.366164",
     "exception": false,
     "start_time": "2024-05-18T12:34:46.287917",
     "status": "completed"
    },
    "tags": []
   },
   "outputs": [],
   "source": [
    "#coref_df.drop(coref_df[coref_df.clean_text == ''].index, inplace=True)\n",
    "#len(coref_df)"
   ]
  },
  {
   "cell_type": "code",
   "execution_count": null,
   "id": "4aa1449a",
   "metadata": {
    "papermill": {
     "duration": 0.068399,
     "end_time": "2024-05-18T12:34:46.503277",
     "exception": false,
     "start_time": "2024-05-18T12:34:46.434878",
     "status": "completed"
    },
    "tags": []
   },
   "outputs": [],
   "source": []
  },
  {
   "cell_type": "code",
   "execution_count": 74,
   "id": "3f0248a3",
   "metadata": {
    "execution": {
     "iopub.execute_input": "2024-05-18T12:34:46.645501Z",
     "iopub.status.busy": "2024-05-18T12:34:46.644922Z",
     "iopub.status.idle": "2024-05-18T12:34:46.649923Z",
     "shell.execute_reply": "2024-05-18T12:34:46.648852Z"
    },
    "papermill": {
     "duration": 0.078546,
     "end_time": "2024-05-18T12:34:46.652338",
     "exception": false,
     "start_time": "2024-05-18T12:34:46.573792",
     "status": "completed"
    },
    "tags": []
   },
   "outputs": [],
   "source": [
    "#sample = coref_df.sample()\n",
    "#sample"
   ]
  },
  {
   "cell_type": "code",
   "execution_count": 75,
   "id": "e717d485",
   "metadata": {
    "execution": {
     "iopub.execute_input": "2024-05-18T12:34:46.794397Z",
     "iopub.status.busy": "2024-05-18T12:34:46.793404Z",
     "iopub.status.idle": "2024-05-18T12:34:46.799117Z",
     "shell.execute_reply": "2024-05-18T12:34:46.797900Z"
    },
    "papermill": {
     "duration": 0.079753,
     "end_time": "2024-05-18T12:34:46.801934",
     "exception": false,
     "start_time": "2024-05-18T12:34:46.722181",
     "status": "completed"
    },
    "tags": []
   },
   "outputs": [],
   "source": [
    "#sample['clean_summary'].iloc[0]"
   ]
  },
  {
   "cell_type": "code",
   "execution_count": 76,
   "id": "28f4c3dd",
   "metadata": {
    "execution": {
     "iopub.execute_input": "2024-05-18T12:34:46.944438Z",
     "iopub.status.busy": "2024-05-18T12:34:46.943927Z",
     "iopub.status.idle": "2024-05-18T12:34:46.953062Z",
     "shell.execute_reply": "2024-05-18T12:34:46.951843Z"
    },
    "papermill": {
     "duration": 0.083882,
     "end_time": "2024-05-18T12:34:46.955821",
     "exception": false,
     "start_time": "2024-05-18T12:34:46.871939",
     "status": "completed"
    },
    "tags": []
   },
   "outputs": [
    {
     "data": {
      "text/plain": [
       "\"'\\n\\ndef summary_to_coref(sample):\\n    split_text = sample['clean_text'].split('.')\\n    split_coref = sample['coref_text'].split('.')\\n    split_summary = sample['clean_summary'].split('.')\\n    \\n    if len(split_text) != len(split_coref):\\n        return 'wrong_stuff'\\n\\n    best_match = [0 for sum_str in split_summary]\\n    best_score = [0 for sum_str in split_summary]\\n\\n    for text_index in range(len(split_text)):\\n        for sum_index in range(len(split_summary)):\\n            score = fuzz.WRatio(split_text[text_index], split_summary[sum_index])\\n            #score = fuzz.token_sort_ratio(split_text[text_index], split_summary[sum_index])\\n            #print(score)\\n            if score > best_score[sum_index]:\\n                best_match[sum_index] = text_index\\n                best_score[sum_index] = score\\n                \\n    #for i in range(len(split_summary)):\\n    #    print(split_summary[i], split_text[best_match[i]], split_coref[best_match[i]])\\n    \\n\\n    coref_text = ' '\\n    for i in range(len(split_summary)):\\n        if i != 0:\\n            coref_text += '.'\\n        coref_text = coref_text + split_coref[best_match[i]] \\n\\n    return coref_text\\n\\n\""
      ]
     },
     "execution_count": 76,
     "metadata": {},
     "output_type": "execute_result"
    }
   ],
   "source": [
    "''''\n",
    "\n",
    "def summary_to_coref(sample):\n",
    "    split_text = sample['clean_text'].split('.')\n",
    "    split_coref = sample['coref_text'].split('.')\n",
    "    split_summary = sample['clean_summary'].split('.')\n",
    "    \n",
    "    if len(split_text) != len(split_coref):\n",
    "        return 'wrong_stuff'\n",
    "\n",
    "    best_match = [0 for sum_str in split_summary]\n",
    "    best_score = [0 for sum_str in split_summary]\n",
    "\n",
    "    for text_index in range(len(split_text)):\n",
    "        for sum_index in range(len(split_summary)):\n",
    "            score = fuzz.WRatio(split_text[text_index], split_summary[sum_index])\n",
    "            #score = fuzz.token_sort_ratio(split_text[text_index], split_summary[sum_index])\n",
    "            #print(score)\n",
    "            if score > best_score[sum_index]:\n",
    "                best_match[sum_index] = text_index\n",
    "                best_score[sum_index] = score\n",
    "                \n",
    "    #for i in range(len(split_summary)):\n",
    "    #    print(split_summary[i], split_text[best_match[i]], split_coref[best_match[i]])\n",
    "    \n",
    "\n",
    "    coref_text = ' '\n",
    "    for i in range(len(split_summary)):\n",
    "        if i != 0:\n",
    "            coref_text += '.'\n",
    "        coref_text = coref_text + split_coref[best_match[i]] \n",
    "\n",
    "    return coref_text\n",
    "\n",
    "'''"
   ]
  },
  {
   "cell_type": "code",
   "execution_count": 77,
   "id": "295531bd",
   "metadata": {
    "execution": {
     "iopub.execute_input": "2024-05-18T12:34:47.096559Z",
     "iopub.status.busy": "2024-05-18T12:34:47.096045Z",
     "iopub.status.idle": "2024-05-18T12:34:47.103205Z",
     "shell.execute_reply": "2024-05-18T12:34:47.102139Z"
    },
    "papermill": {
     "duration": 0.080891,
     "end_time": "2024-05-18T12:34:47.105652",
     "exception": false,
     "start_time": "2024-05-18T12:34:47.024761",
     "status": "completed"
    },
    "tags": []
   },
   "outputs": [
    {
     "data": {
      "text/plain": [
       "\"\\n\\nstart = time.time()\\n\\nfor index, row in coref_df.iterrows():\\n    coref_summary = summary_to_coref(row)\\n    if coref_summary == 'wrong_stuff':\\n        coref_df = coref_df.drop(index, axis='index')\\n    else:\\n        coref_df['coref_summary'].loc[index] = coref_summary\\n\\nend = time.time()\\nprint('time: ', end - start)\\n\\n\""
      ]
     },
     "execution_count": 77,
     "metadata": {},
     "output_type": "execute_result"
    }
   ],
   "source": [
    "'''\n",
    "\n",
    "start = time.time()\n",
    "\n",
    "for index, row in coref_df.iterrows():\n",
    "    coref_summary = summary_to_coref(row)\n",
    "    if coref_summary == 'wrong_stuff':\n",
    "        coref_df = coref_df.drop(index, axis='index')\n",
    "    else:\n",
    "        coref_df['coref_summary'].loc[index] = coref_summary\n",
    "\n",
    "end = time.time()\n",
    "print('time: ', end - start)\n",
    "\n",
    "'''"
   ]
  },
  {
   "cell_type": "code",
   "execution_count": 78,
   "id": "81696d27",
   "metadata": {
    "execution": {
     "iopub.execute_input": "2024-05-18T12:34:47.247178Z",
     "iopub.status.busy": "2024-05-18T12:34:47.246657Z",
     "iopub.status.idle": "2024-05-18T12:34:47.252265Z",
     "shell.execute_reply": "2024-05-18T12:34:47.250941Z"
    },
    "papermill": {
     "duration": 0.080717,
     "end_time": "2024-05-18T12:34:47.255069",
     "exception": false,
     "start_time": "2024-05-18T12:34:47.174352",
     "status": "completed"
    },
    "tags": []
   },
   "outputs": [],
   "source": [
    "#len(coref_df)"
   ]
  },
  {
   "cell_type": "code",
   "execution_count": 79,
   "id": "d5aaccfe",
   "metadata": {
    "execution": {
     "iopub.execute_input": "2024-05-18T12:34:47.395300Z",
     "iopub.status.busy": "2024-05-18T12:34:47.394778Z",
     "iopub.status.idle": "2024-05-18T12:34:47.400470Z",
     "shell.execute_reply": "2024-05-18T12:34:47.399133Z"
    },
    "papermill": {
     "duration": 0.079429,
     "end_time": "2024-05-18T12:34:47.403575",
     "exception": false,
     "start_time": "2024-05-18T12:34:47.324146",
     "status": "completed"
    },
    "tags": []
   },
   "outputs": [],
   "source": [
    "#sample = coref_df.sample()\n",
    "#sample"
   ]
  },
  {
   "cell_type": "code",
   "execution_count": 80,
   "id": "f99f780b",
   "metadata": {
    "execution": {
     "iopub.execute_input": "2024-05-18T12:34:47.546246Z",
     "iopub.status.busy": "2024-05-18T12:34:47.545232Z",
     "iopub.status.idle": "2024-05-18T12:34:47.551278Z",
     "shell.execute_reply": "2024-05-18T12:34:47.549775Z"
    },
    "papermill": {
     "duration": 0.080191,
     "end_time": "2024-05-18T12:34:47.554231",
     "exception": false,
     "start_time": "2024-05-18T12:34:47.474040",
     "status": "completed"
    },
    "tags": []
   },
   "outputs": [],
   "source": [
    "#coref_df.to_csv('generated_sum_coref_test' + '.csv', index = False)"
   ]
  },
  {
   "cell_type": "code",
   "execution_count": null,
   "id": "0b63672c",
   "metadata": {
    "papermill": {
     "duration": 0.068615,
     "end_time": "2024-05-18T12:34:47.692895",
     "exception": false,
     "start_time": "2024-05-18T12:34:47.624280",
     "status": "completed"
    },
    "tags": []
   },
   "outputs": [],
   "source": []
  },
  {
   "cell_type": "code",
   "execution_count": null,
   "id": "bae7faa4",
   "metadata": {
    "papermill": {
     "duration": 0.069186,
     "end_time": "2024-05-18T12:34:47.832414",
     "exception": false,
     "start_time": "2024-05-18T12:34:47.763228",
     "status": "completed"
    },
    "tags": []
   },
   "outputs": [],
   "source": []
  },
  {
   "cell_type": "code",
   "execution_count": 81,
   "id": "edabc0eb",
   "metadata": {
    "execution": {
     "iopub.execute_input": "2024-05-18T12:34:47.975701Z",
     "iopub.status.busy": "2024-05-18T12:34:47.974735Z",
     "iopub.status.idle": "2024-05-18T12:34:47.981928Z",
     "shell.execute_reply": "2024-05-18T12:34:47.980901Z"
    },
    "papermill": {
     "duration": 0.080886,
     "end_time": "2024-05-18T12:34:47.984717",
     "exception": false,
     "start_time": "2024-05-18T12:34:47.903831",
     "status": "completed"
    },
    "tags": []
   },
   "outputs": [],
   "source": [
    "# combination_name     - название комбинации для суммаризации\n",
    "#combination_name = 'bert_ext_sum_simple'             # \n",
    "#combination_name = 'sbert_ext_sum_simple'\n",
    "\n",
    "###combination_name = 'TextRank_summa'                no\n",
    "\n",
    "#combination_name = 'TextRank_sumy'\n",
    "#combination_name = 'LexRank_sumy'\n",
    "#combination_name = 'Luhn_sumy'\n",
    "#combination_name = 'Lsa_sumy'\n",
    "#combination_name = 'KLSummarizer_sumy'\n",
    "\n",
    "#combination_name = 'spacy_textrank'\n",
    "#combination_name = 'spacy_topicrank'\n",
    "#combination_name = 'spacy_positionrank'\n",
    "\n",
    "#combination_name = 'seq_to_seq_t5_small'\n",
    "#combination_name = 'seq_to_seq_bart-base'\n",
    "\n",
    "combination_list = ['TextRank_sumy', 'LexRank_sumy', 'Luhn_sumy', 'Lsa_sumy', 'KLSummarizer_sumy', \\\n",
    "                   'spacy_textrank', 'spacy_topicrank', 'spacy_positionrank', \\\n",
    "                   'bert_ext_sum_simple', 'sbert_ext_sum_simple', \\\n",
    "                   'seq_to_seq_t5_small', 'seq_to_seq_bart-base']"
   ]
  },
  {
   "cell_type": "code",
   "execution_count": 82,
   "id": "80692ac9",
   "metadata": {
    "execution": {
     "iopub.execute_input": "2024-05-18T12:34:48.127362Z",
     "iopub.status.busy": "2024-05-18T12:34:48.126505Z",
     "iopub.status.idle": "2024-05-18T12:34:48.130834Z",
     "shell.execute_reply": "2024-05-18T12:34:48.129883Z"
    },
    "papermill": {
     "duration": 0.077764,
     "end_time": "2024-05-18T12:34:48.133159",
     "exception": false,
     "start_time": "2024-05-18T12:34:48.055395",
     "status": "completed"
    },
    "tags": []
   },
   "outputs": [],
   "source": [
    "#coref_df = pd.read_csv('/kaggle/input/generated-results/generated_coref.csv', sep=',')\n",
    "#coref_df"
   ]
  },
  {
   "cell_type": "code",
   "execution_count": 83,
   "id": "a7a4d341",
   "metadata": {
    "execution": {
     "iopub.execute_input": "2024-05-18T12:34:48.273667Z",
     "iopub.status.busy": "2024-05-18T12:34:48.272765Z",
     "iopub.status.idle": "2024-05-18T12:34:48.283245Z",
     "shell.execute_reply": "2024-05-18T12:34:48.281906Z"
    },
    "papermill": {
     "duration": 0.084332,
     "end_time": "2024-05-18T12:34:48.286171",
     "exception": false,
     "start_time": "2024-05-18T12:34:48.201839",
     "status": "completed"
    },
    "tags": []
   },
   "outputs": [
    {
     "data": {
      "text/plain": [
       "\"\\nprint(combination_name)\\ntemp_df = pd.read_csv('/kaggle/input/generated-results/generated_' + combination_name + '.csv', sep=',')\\ntemp_df['coref_text'] = coref_df['coref_text']\\ntemp_df['coref_generated_summary'] = temp_df['coref_text'].apply(lambda x:generate_summary(x, combination_name))\\ntemp_df.to_csv('generated_coref_' + combination_name + '.csv', index = False)\\nprint('\\n')\\n\""
      ]
     },
     "execution_count": 83,
     "metadata": {},
     "output_type": "execute_result"
    }
   ],
   "source": [
    "'''\n",
    "print('start_coref_sum')\n",
    "\n",
    "for combination_name in combination_list:\n",
    "    \n",
    "    if combination_name == 'bert_ext_sum_simple':\n",
    "        model_bert_sum_ext = Summarizer()\n",
    "    elif combination_name == 'sbert_ext_sum_simple':\n",
    "        model_sbert = SBertSummarizer('all-distilroberta-v1')\n",
    "    elif combination_name == 'spacy_textrank':\n",
    "        nlp = spacy.load(\"en_core_web_sm\")\n",
    "        nlp.add_pipe(\"textrank\")\n",
    "    elif combination_name == 'spacy_topicrank':\n",
    "        nlp = spacy.load(\"en_core_web_sm\")\n",
    "        nlp.add_pipe(\"topicrank\")\n",
    "    elif combination_name == 'spacy_positionrank':\n",
    "        nlp = spacy.load(\"en_core_web_sm\")\n",
    "        nlp.add_pipe(\"positionrank\")\n",
    "    elif combination_name == 'seq_to_seq_t5_small':\n",
    "        summarizer_t5 = pipeline(\"summarization\", model = \"InfinityC/test_sum_abs_t5_small_wasa_stops\", device = device_id)\n",
    "    elif combination_name == 'seq_to_seq_bart-base':\n",
    "        tokenizer_bart = BartTokenizer.from_pretrained(\"InfinityC/test_sum_abs_bart-base_wasa_stops\")\n",
    "        model_bart = BartForConditionalGeneration.from_pretrained(\"InfinityC/test_sum_abs_bart-base_wasa_stops\")\n",
    "        model_bart.to(device)\n",
    "'''\n",
    "\n",
    "'''\n",
    "print(combination_name)\n",
    "temp_df = pd.read_csv('/kaggle/input/generated-results/generated_' + combination_name + '.csv', sep=',')\n",
    "temp_df['coref_text'] = coref_df['coref_text']\n",
    "temp_df['coref_generated_summary'] = temp_df['coref_text'].apply(lambda x:generate_summary(x, combination_name))\n",
    "temp_df.to_csv('generated_coref_' + combination_name + '.csv', index = False)\n",
    "print('\\n')\n",
    "'''\n"
   ]
  },
  {
   "cell_type": "code",
   "execution_count": null,
   "id": "fcc166f2",
   "metadata": {
    "papermill": {
     "duration": 0.068868,
     "end_time": "2024-05-18T12:34:48.424822",
     "exception": false,
     "start_time": "2024-05-18T12:34:48.355954",
     "status": "completed"
    },
    "tags": []
   },
   "outputs": [],
   "source": []
  },
  {
   "cell_type": "code",
   "execution_count": 84,
   "id": "182e539d",
   "metadata": {
    "execution": {
     "iopub.execute_input": "2024-05-18T12:34:48.568544Z",
     "iopub.status.busy": "2024-05-18T12:34:48.568008Z",
     "iopub.status.idle": "2024-05-18T12:34:48.574499Z",
     "shell.execute_reply": "2024-05-18T12:34:48.573030Z"
    },
    "papermill": {
     "duration": 0.08405,
     "end_time": "2024-05-18T12:34:48.577532",
     "exception": false,
     "start_time": "2024-05-18T12:34:48.493482",
     "status": "completed"
    },
    "tags": []
   },
   "outputs": [],
   "source": [
    "#temp_df"
   ]
  },
  {
   "cell_type": "code",
   "execution_count": 85,
   "id": "778af1a9",
   "metadata": {
    "execution": {
     "iopub.execute_input": "2024-05-18T12:34:48.720479Z",
     "iopub.status.busy": "2024-05-18T12:34:48.719963Z",
     "iopub.status.idle": "2024-05-18T12:34:48.725027Z",
     "shell.execute_reply": "2024-05-18T12:34:48.723764Z"
    },
    "papermill": {
     "duration": 0.07915,
     "end_time": "2024-05-18T12:34:48.727598",
     "exception": false,
     "start_time": "2024-05-18T12:34:48.648448",
     "status": "completed"
    },
    "tags": []
   },
   "outputs": [],
   "source": [
    "#combination_name = 'seq_to_seq_t5_small'"
   ]
  },
  {
   "cell_type": "code",
   "execution_count": 86,
   "id": "170bfe8a",
   "metadata": {
    "execution": {
     "iopub.execute_input": "2024-05-18T12:34:48.876036Z",
     "iopub.status.busy": "2024-05-18T12:34:48.875556Z",
     "iopub.status.idle": "2024-05-18T12:34:48.883434Z",
     "shell.execute_reply": "2024-05-18T12:34:48.881238Z"
    },
    "papermill": {
     "duration": 0.088956,
     "end_time": "2024-05-18T12:34:48.886370",
     "exception": false,
     "start_time": "2024-05-18T12:34:48.797414",
     "status": "completed"
    },
    "tags": []
   },
   "outputs": [],
   "source": [
    "#summarizer_t5 = pipeline(\"summarization\", model = \"InfinityC/test_sum_abs_t5_small_wasa_coref_stops\", device = device_id)"
   ]
  },
  {
   "cell_type": "code",
   "execution_count": 87,
   "id": "0685225b",
   "metadata": {
    "execution": {
     "iopub.execute_input": "2024-05-18T12:34:49.038679Z",
     "iopub.status.busy": "2024-05-18T12:34:49.037730Z",
     "iopub.status.idle": "2024-05-18T12:34:49.046758Z",
     "shell.execute_reply": "2024-05-18T12:34:49.045764Z"
    },
    "papermill": {
     "duration": 0.084023,
     "end_time": "2024-05-18T12:34:49.049389",
     "exception": false,
     "start_time": "2024-05-18T12:34:48.965366",
     "status": "completed"
    },
    "tags": []
   },
   "outputs": [
    {
     "data": {
      "text/plain": [
       "\"\\nsize = 10\\n\\n#temp_df = combined_df.sample(size)\\ntemp_df = pd.read_csv('/kaggle/input/tmp-results/generated_sum_coref_test.csv', sep=',')\\n\\n#temp_df = temp_df.sample(size)\\n\\nlen(temp_df)\\n\""
      ]
     },
     "execution_count": 87,
     "metadata": {},
     "output_type": "execute_result"
    }
   ],
   "source": [
    "'''\n",
    "size = 10\n",
    "\n",
    "#temp_df = combined_df.sample(size)\n",
    "temp_df = pd.read_csv('/kaggle/input/tmp-results/generated_sum_coref_test.csv', sep=',')\n",
    "\n",
    "#temp_df = temp_df.sample(size)\n",
    "\n",
    "len(temp_df)\n",
    "'''"
   ]
  },
  {
   "cell_type": "code",
   "execution_count": 88,
   "id": "0deb522b",
   "metadata": {
    "execution": {
     "iopub.execute_input": "2024-05-18T12:34:49.193586Z",
     "iopub.status.busy": "2024-05-18T12:34:49.192669Z",
     "iopub.status.idle": "2024-05-18T12:34:49.200797Z",
     "shell.execute_reply": "2024-05-18T12:34:49.199534Z"
    },
    "papermill": {
     "duration": 0.082871,
     "end_time": "2024-05-18T12:34:49.203281",
     "exception": false,
     "start_time": "2024-05-18T12:34:49.120410",
     "status": "completed"
    },
    "tags": []
   },
   "outputs": [
    {
     "data": {
      "text/plain": [
       "\"\\nstart = time.time()\\n\\ntemp_df['clean_text'] = temp_df['unredacted_text'].apply(lambda x:preprocess_text(x, combination_name))\\ntemp_df['clean_summary'] = temp_df['unredacted_summary'].apply(lambda x:preprocess_summary(x, combination_name))\\n\\nend = time.time()\\nprint('time: ', end - start)\\n\""
      ]
     },
     "execution_count": 88,
     "metadata": {},
     "output_type": "execute_result"
    }
   ],
   "source": [
    "'''\n",
    "start = time.time()\n",
    "\n",
    "temp_df['clean_text'] = temp_df['unredacted_text'].apply(lambda x:preprocess_text(x, combination_name))\n",
    "temp_df['clean_summary'] = temp_df['unredacted_summary'].apply(lambda x:preprocess_summary(x, combination_name))\n",
    "\n",
    "end = time.time()\n",
    "print('time: ', end - start)\n",
    "'''"
   ]
  },
  {
   "cell_type": "code",
   "execution_count": 89,
   "id": "c48a7d4c",
   "metadata": {
    "execution": {
     "iopub.execute_input": "2024-05-18T12:34:49.349519Z",
     "iopub.status.busy": "2024-05-18T12:34:49.347926Z",
     "iopub.status.idle": "2024-05-18T12:34:49.355691Z",
     "shell.execute_reply": "2024-05-18T12:34:49.354764Z"
    },
    "papermill": {
     "duration": 0.083575,
     "end_time": "2024-05-18T12:34:49.358043",
     "exception": false,
     "start_time": "2024-05-18T12:34:49.274468",
     "status": "completed"
    },
    "tags": []
   },
   "outputs": [
    {
     "data": {
      "text/plain": [
       "\"\\nstart = time.time()\\n\\n#temp_df['generated_summary'] = temp_df['clean_text'].apply(lambda x:generate_summary(x, combination_name))\\ntemp_df['coref_generated_summary'] = temp_df['coref_text'].apply(lambda x:generate_summary(x, combination_name))\\n\\nend = time.time()\\nprint('time: ', end - start)\\n\""
      ]
     },
     "execution_count": 89,
     "metadata": {},
     "output_type": "execute_result"
    }
   ],
   "source": [
    "'''\n",
    "start = time.time()\n",
    "\n",
    "#temp_df['generated_summary'] = temp_df['clean_text'].apply(lambda x:generate_summary(x, combination_name))\n",
    "temp_df['coref_generated_summary'] = temp_df['coref_text'].apply(lambda x:generate_summary(x, combination_name))\n",
    "\n",
    "end = time.time()\n",
    "print('time: ', end - start)\n",
    "'''"
   ]
  },
  {
   "cell_type": "code",
   "execution_count": 90,
   "id": "35c4c7c3",
   "metadata": {
    "execution": {
     "iopub.execute_input": "2024-05-18T12:34:49.507902Z",
     "iopub.status.busy": "2024-05-18T12:34:49.506882Z",
     "iopub.status.idle": "2024-05-18T12:34:49.512291Z",
     "shell.execute_reply": "2024-05-18T12:34:49.511407Z"
    },
    "papermill": {
     "duration": 0.080194,
     "end_time": "2024-05-18T12:34:49.515165",
     "exception": false,
     "start_time": "2024-05-18T12:34:49.434971",
     "status": "completed"
    },
    "tags": []
   },
   "outputs": [],
   "source": [
    "#temp_df['generated_summary'].iloc[0]"
   ]
  },
  {
   "cell_type": "code",
   "execution_count": 91,
   "id": "69bfa0be",
   "metadata": {
    "execution": {
     "iopub.execute_input": "2024-05-18T12:34:49.663942Z",
     "iopub.status.busy": "2024-05-18T12:34:49.662935Z",
     "iopub.status.idle": "2024-05-18T12:34:49.668436Z",
     "shell.execute_reply": "2024-05-18T12:34:49.667437Z"
    },
    "papermill": {
     "duration": 0.081266,
     "end_time": "2024-05-18T12:34:49.670915",
     "exception": false,
     "start_time": "2024-05-18T12:34:49.589649",
     "status": "completed"
    },
    "tags": []
   },
   "outputs": [],
   "source": [
    "#temp_df['clean_summary'].iloc[0]"
   ]
  },
  {
   "cell_type": "code",
   "execution_count": 92,
   "id": "ab28d45f",
   "metadata": {
    "execution": {
     "iopub.execute_input": "2024-05-18T12:34:49.820043Z",
     "iopub.status.busy": "2024-05-18T12:34:49.819538Z",
     "iopub.status.idle": "2024-05-18T12:34:49.825105Z",
     "shell.execute_reply": "2024-05-18T12:34:49.823755Z"
    },
    "papermill": {
     "duration": 0.081909,
     "end_time": "2024-05-18T12:34:49.827731",
     "exception": false,
     "start_time": "2024-05-18T12:34:49.745822",
     "status": "completed"
    },
    "tags": []
   },
   "outputs": [],
   "source": [
    "#temp_df.to_csv('generated_coref_' + combination_name + '.csv', index = False)"
   ]
  },
  {
   "cell_type": "code",
   "execution_count": 93,
   "id": "882999d8",
   "metadata": {
    "execution": {
     "iopub.execute_input": "2024-05-18T12:34:49.973603Z",
     "iopub.status.busy": "2024-05-18T12:34:49.973065Z",
     "iopub.status.idle": "2024-05-18T12:34:49.978998Z",
     "shell.execute_reply": "2024-05-18T12:34:49.977688Z"
    },
    "papermill": {
     "duration": 0.07991,
     "end_time": "2024-05-18T12:34:49.981733",
     "exception": false,
     "start_time": "2024-05-18T12:34:49.901823",
     "status": "completed"
    },
    "tags": []
   },
   "outputs": [],
   "source": [
    "###\n",
    "\n",
    "# temp_df = pd.read_csv('/kaggle/input/generated-results/generated_' + combination_name + '.csv', sep=',')\n",
    "\n",
    "###"
   ]
  },
  {
   "cell_type": "code",
   "execution_count": 94,
   "id": "b8a43c61",
   "metadata": {
    "execution": {
     "iopub.execute_input": "2024-05-18T12:34:50.127065Z",
     "iopub.status.busy": "2024-05-18T12:34:50.126597Z",
     "iopub.status.idle": "2024-05-18T12:34:50.132689Z",
     "shell.execute_reply": "2024-05-18T12:34:50.131220Z"
    },
    "papermill": {
     "duration": 0.0816,
     "end_time": "2024-05-18T12:34:50.135220",
     "exception": false,
     "start_time": "2024-05-18T12:34:50.053620",
     "status": "completed"
    },
    "tags": []
   },
   "outputs": [],
   "source": [
    "# temp_df"
   ]
  },
  {
   "cell_type": "code",
   "execution_count": null,
   "id": "ef014ae6",
   "metadata": {
    "papermill": {
     "duration": 0.070855,
     "end_time": "2024-05-18T12:34:50.277636",
     "exception": false,
     "start_time": "2024-05-18T12:34:50.206781",
     "status": "completed"
    },
    "tags": []
   },
   "outputs": [],
   "source": []
  },
  {
   "cell_type": "code",
   "execution_count": null,
   "id": "870179d2",
   "metadata": {
    "papermill": {
     "duration": 0.070719,
     "end_time": "2024-05-18T12:34:50.419752",
     "exception": false,
     "start_time": "2024-05-18T12:34:50.349033",
     "status": "completed"
    },
    "tags": []
   },
   "outputs": [],
   "source": []
  },
  {
   "cell_type": "code",
   "execution_count": 95,
   "id": "9407f3cb",
   "metadata": {
    "execution": {
     "iopub.execute_input": "2024-05-18T12:34:50.563738Z",
     "iopub.status.busy": "2024-05-18T12:34:50.562744Z",
     "iopub.status.idle": "2024-05-18T12:34:50.567670Z",
     "shell.execute_reply": "2024-05-18T12:34:50.566660Z"
    },
    "papermill": {
     "duration": 0.080207,
     "end_time": "2024-05-18T12:34:50.570344",
     "exception": false,
     "start_time": "2024-05-18T12:34:50.490137",
     "status": "completed"
    },
    "tags": []
   },
   "outputs": [],
   "source": [
    "# temp_df.to_csv('generated_' + combination_name + '.csv', index = False)"
   ]
  },
  {
   "cell_type": "code",
   "execution_count": 96,
   "id": "a17c5189",
   "metadata": {
    "execution": {
     "iopub.execute_input": "2024-05-18T12:34:50.716692Z",
     "iopub.status.busy": "2024-05-18T12:34:50.715467Z",
     "iopub.status.idle": "2024-05-18T12:35:27.285945Z",
     "shell.execute_reply": "2024-05-18T12:35:27.284058Z"
    },
    "papermill": {
     "duration": 36.646615,
     "end_time": "2024-05-18T12:35:27.289405",
     "exception": false,
     "start_time": "2024-05-18T12:34:50.642790",
     "status": "completed"
    },
    "tags": []
   },
   "outputs": [
    {
     "name": "stdout",
     "output_type": "stream",
     "text": [
      "Collecting git+https://github.com/google-research/bleurt.git\r\n",
      "  Cloning https://github.com/google-research/bleurt.git to /tmp/pip-req-build-l4yl7qcm\r\n",
      "  Running command git clone --filter=blob:none --quiet https://github.com/google-research/bleurt.git /tmp/pip-req-build-l4yl7qcm\r\n",
      "  Resolved https://github.com/google-research/bleurt.git to commit cebe7e6f996b40910cfaa520a63db47807e3bf5c\r\n",
      "  Preparing metadata (setup.py) ... \u001b[?25ldone\r\n",
      "\u001b[?25hCollecting evaluate\r\n",
      "  Downloading evaluate-0.4.2-py3-none-any.whl.metadata (9.3 kB)\r\n",
      "Collecting rouge_score\r\n",
      "  Downloading rouge_score-0.1.2.tar.gz (17 kB)\r\n",
      "  Preparing metadata (setup.py) ... \u001b[?25l-\b \bdone\r\n",
      "\u001b[?25hCollecting rouge\r\n",
      "  Downloading rouge-1.0.1-py3-none-any.whl.metadata (4.1 kB)\r\n",
      "Collecting bert_score\r\n",
      "  Downloading bert_score-0.3.13-py3-none-any.whl.metadata (15 kB)\r\n",
      "Collecting sacrebleu\r\n",
      "  Downloading sacrebleu-2.4.2-py3-none-any.whl.metadata (58 kB)\r\n",
      "\u001b[2K     \u001b[90m━━━━━━━━━━━━━━━━━━━━━━━━━━━━━━━━━━━━━━━━\u001b[0m \u001b[32m58.0/58.0 kB\u001b[0m \u001b[31m1.9 MB/s\u001b[0m eta \u001b[36m0:00:00\u001b[0m\r\n",
      "\u001b[?25hRequirement already satisfied: datasets>=2.0.0 in /opt/conda/lib/python3.10/site-packages (from evaluate) (2.18.0)\r\n",
      "Requirement already satisfied: numpy>=1.17 in /opt/conda/lib/python3.10/site-packages (from evaluate) (1.26.4)\r\n",
      "Requirement already satisfied: dill in /opt/conda/lib/python3.10/site-packages (from evaluate) (0.3.8)\r\n",
      "Requirement already satisfied: pandas in /opt/conda/lib/python3.10/site-packages (from evaluate) (2.2.2)\r\n",
      "Requirement already satisfied: requests>=2.19.0 in /opt/conda/lib/python3.10/site-packages (from evaluate) (2.31.0)\r\n",
      "Requirement already satisfied: tqdm>=4.62.1 in /opt/conda/lib/python3.10/site-packages (from evaluate) (4.66.1)\r\n",
      "Requirement already satisfied: xxhash in /opt/conda/lib/python3.10/site-packages (from evaluate) (3.4.1)\r\n",
      "Requirement already satisfied: multiprocess in /opt/conda/lib/python3.10/site-packages (from evaluate) (0.70.16)\r\n",
      "Requirement already satisfied: fsspec>=2021.05.0 in /opt/conda/lib/python3.10/site-packages (from fsspec[http]>=2021.05.0->evaluate) (2024.2.0)\r\n",
      "Requirement already satisfied: huggingface-hub>=0.7.0 in /opt/conda/lib/python3.10/site-packages (from evaluate) (0.22.2)\r\n",
      "Requirement already satisfied: packaging in /opt/conda/lib/python3.10/site-packages (from evaluate) (21.3)\r\n",
      "Requirement already satisfied: absl-py in /opt/conda/lib/python3.10/site-packages (from rouge_score) (1.4.0)\r\n",
      "Requirement already satisfied: nltk in /opt/conda/lib/python3.10/site-packages (from rouge_score) (3.5)\r\n",
      "Requirement already satisfied: six>=1.14.0 in /opt/conda/lib/python3.10/site-packages (from rouge_score) (1.16.0)\r\n",
      "Requirement already satisfied: torch>=1.0.0 in /opt/conda/lib/python3.10/site-packages (from bert_score) (2.1.2+cpu)\r\n",
      "Requirement already satisfied: transformers>=3.0.0 in /opt/conda/lib/python3.10/site-packages (from bert_score) (4.39.3)\r\n",
      "Requirement already satisfied: matplotlib in /opt/conda/lib/python3.10/site-packages (from bert_score) (3.7.5)\r\n",
      "Collecting portalocker (from sacrebleu)\r\n",
      "  Downloading portalocker-2.8.2-py3-none-any.whl.metadata (8.5 kB)\r\n",
      "Requirement already satisfied: regex in /opt/conda/lib/python3.10/site-packages (from sacrebleu) (2023.12.25)\r\n",
      "Requirement already satisfied: tabulate>=0.8.9 in /opt/conda/lib/python3.10/site-packages (from sacrebleu) (0.9.0)\r\n",
      "Requirement already satisfied: colorama in /opt/conda/lib/python3.10/site-packages (from sacrebleu) (0.4.6)\r\n",
      "Requirement already satisfied: lxml in /opt/conda/lib/python3.10/site-packages (from sacrebleu) (5.2.1)\r\n",
      "Requirement already satisfied: scipy in /opt/conda/lib/python3.10/site-packages (from BLEURT==0.0.2) (1.11.4)\r\n",
      "Requirement already satisfied: tensorflow in /opt/conda/lib/python3.10/site-packages (from BLEURT==0.0.2) (2.15.0)\r\n",
      "Collecting tf-slim>=1.1 (from BLEURT==0.0.2)\r\n",
      "  Downloading tf_slim-1.1.0-py2.py3-none-any.whl.metadata (1.6 kB)\r\n",
      "Requirement already satisfied: sentencepiece in /opt/conda/lib/python3.10/site-packages (from BLEURT==0.0.2) (0.2.0)\r\n",
      "Requirement already satisfied: filelock in /opt/conda/lib/python3.10/site-packages (from datasets>=2.0.0->evaluate) (3.13.1)\r\n",
      "Requirement already satisfied: pyarrow>=12.0.0 in /opt/conda/lib/python3.10/site-packages (from datasets>=2.0.0->evaluate) (15.0.2)\r\n",
      "Requirement already satisfied: pyarrow-hotfix in /opt/conda/lib/python3.10/site-packages (from datasets>=2.0.0->evaluate) (0.6)\r\n",
      "Requirement already satisfied: aiohttp in /opt/conda/lib/python3.10/site-packages (from datasets>=2.0.0->evaluate) (3.9.1)\r\n",
      "Requirement already satisfied: pyyaml>=5.1 in /opt/conda/lib/python3.10/site-packages (from datasets>=2.0.0->evaluate) (6.0.1)\r\n",
      "Requirement already satisfied: typing-extensions>=3.7.4.3 in /opt/conda/lib/python3.10/site-packages (from huggingface-hub>=0.7.0->evaluate) (4.9.0)\r\n",
      "Requirement already satisfied: pyparsing!=3.0.5,>=2.0.2 in /opt/conda/lib/python3.10/site-packages (from packaging->evaluate) (3.1.1)\r\n",
      "Requirement already satisfied: python-dateutil>=2.8.2 in /opt/conda/lib/python3.10/site-packages (from pandas->evaluate) (2.9.0.post0)\r\n",
      "Requirement already satisfied: pytz>=2020.1 in /opt/conda/lib/python3.10/site-packages (from pandas->evaluate) (2023.3.post1)\r\n",
      "Requirement already satisfied: tzdata>=2022.7 in /opt/conda/lib/python3.10/site-packages (from pandas->evaluate) (2023.4)\r\n",
      "Requirement already satisfied: charset-normalizer<4,>=2 in /opt/conda/lib/python3.10/site-packages (from requests>=2.19.0->evaluate) (3.3.2)\r\n",
      "Requirement already satisfied: idna<4,>=2.5 in /opt/conda/lib/python3.10/site-packages (from requests>=2.19.0->evaluate) (3.6)\r\n",
      "Requirement already satisfied: urllib3<3,>=1.21.1 in /opt/conda/lib/python3.10/site-packages (from requests>=2.19.0->evaluate) (1.26.18)\r\n",
      "Requirement already satisfied: certifi>=2017.4.17 in /opt/conda/lib/python3.10/site-packages (from requests>=2.19.0->evaluate) (2024.2.2)\r\n",
      "Requirement already satisfied: sympy in /opt/conda/lib/python3.10/site-packages (from torch>=1.0.0->bert_score) (1.12)\r\n",
      "Requirement already satisfied: networkx in /opt/conda/lib/python3.10/site-packages (from torch>=1.0.0->bert_score) (3.2.1)\r\n",
      "Requirement already satisfied: jinja2 in /opt/conda/lib/python3.10/site-packages (from torch>=1.0.0->bert_score) (3.1.2)\r\n",
      "Requirement already satisfied: tokenizers<0.19,>=0.14 in /opt/conda/lib/python3.10/site-packages (from transformers>=3.0.0->bert_score) (0.15.2)\r\n",
      "Requirement already satisfied: safetensors>=0.4.1 in /opt/conda/lib/python3.10/site-packages (from transformers>=3.0.0->bert_score) (0.4.3)\r\n",
      "Requirement already satisfied: contourpy>=1.0.1 in /opt/conda/lib/python3.10/site-packages (from matplotlib->bert_score) (1.2.0)\r\n",
      "Requirement already satisfied: cycler>=0.10 in /opt/conda/lib/python3.10/site-packages (from matplotlib->bert_score) (0.12.1)\r\n",
      "Requirement already satisfied: fonttools>=4.22.0 in /opt/conda/lib/python3.10/site-packages (from matplotlib->bert_score) (4.47.0)\r\n",
      "Requirement already satisfied: kiwisolver>=1.0.1 in /opt/conda/lib/python3.10/site-packages (from matplotlib->bert_score) (1.4.5)\r\n",
      "Requirement already satisfied: pillow>=6.2.0 in /opt/conda/lib/python3.10/site-packages (from matplotlib->bert_score) (9.5.0)\r\n",
      "Requirement already satisfied: click in /opt/conda/lib/python3.10/site-packages (from nltk->rouge_score) (8.1.7)\r\n",
      "Requirement already satisfied: joblib in /opt/conda/lib/python3.10/site-packages (from nltk->rouge_score) (1.4.0)\r\n",
      "Requirement already satisfied: astunparse>=1.6.0 in /opt/conda/lib/python3.10/site-packages (from tensorflow->BLEURT==0.0.2) (1.6.3)\r\n",
      "Requirement already satisfied: flatbuffers>=23.5.26 in /opt/conda/lib/python3.10/site-packages (from tensorflow->BLEURT==0.0.2) (23.5.26)\r\n",
      "Requirement already satisfied: gast!=0.5.0,!=0.5.1,!=0.5.2,>=0.2.1 in /opt/conda/lib/python3.10/site-packages (from tensorflow->BLEURT==0.0.2) (0.5.4)\r\n",
      "Requirement already satisfied: google-pasta>=0.1.1 in /opt/conda/lib/python3.10/site-packages (from tensorflow->BLEURT==0.0.2) (0.2.0)\r\n",
      "Requirement already satisfied: h5py>=2.9.0 in /opt/conda/lib/python3.10/site-packages (from tensorflow->BLEURT==0.0.2) (3.10.0)\r\n",
      "Requirement already satisfied: libclang>=13.0.0 in /opt/conda/lib/python3.10/site-packages (from tensorflow->BLEURT==0.0.2) (16.0.6)\r\n",
      "Requirement already satisfied: ml-dtypes~=0.2.0 in /opt/conda/lib/python3.10/site-packages (from tensorflow->BLEURT==0.0.2) (0.2.0)\r\n",
      "Requirement already satisfied: opt-einsum>=2.3.2 in /opt/conda/lib/python3.10/site-packages (from tensorflow->BLEURT==0.0.2) (3.3.0)\r\n",
      "Requirement already satisfied: protobuf!=4.21.0,!=4.21.1,!=4.21.2,!=4.21.3,!=4.21.4,!=4.21.5,<5.0.0dev,>=3.20.3 in /opt/conda/lib/python3.10/site-packages (from tensorflow->BLEURT==0.0.2) (3.20.3)\r\n",
      "Requirement already satisfied: setuptools in /opt/conda/lib/python3.10/site-packages (from tensorflow->BLEURT==0.0.2) (69.0.3)\r\n",
      "Requirement already satisfied: termcolor>=1.1.0 in /opt/conda/lib/python3.10/site-packages (from tensorflow->BLEURT==0.0.2) (2.4.0)\r\n",
      "Requirement already satisfied: wrapt<1.15,>=1.11.0 in /opt/conda/lib/python3.10/site-packages (from tensorflow->BLEURT==0.0.2) (1.14.1)\r\n",
      "Requirement already satisfied: tensorflow-io-gcs-filesystem>=0.23.1 in /opt/conda/lib/python3.10/site-packages (from tensorflow->BLEURT==0.0.2) (0.35.0)\r\n",
      "Requirement already satisfied: grpcio<2.0,>=1.24.3 in /opt/conda/lib/python3.10/site-packages (from tensorflow->BLEURT==0.0.2) (1.60.0)\r\n",
      "Requirement already satisfied: tensorboard<2.16,>=2.15 in /opt/conda/lib/python3.10/site-packages (from tensorflow->BLEURT==0.0.2) (2.15.1)\r\n",
      "Requirement already satisfied: tensorflow-estimator<2.16,>=2.15.0 in /opt/conda/lib/python3.10/site-packages (from tensorflow->BLEURT==0.0.2) (2.15.0)\r\n",
      "Collecting keras<2.16,>=2.15.0 (from tensorflow->BLEURT==0.0.2)\r\n",
      "  Downloading keras-2.15.0-py3-none-any.whl.metadata (2.4 kB)\r\n",
      "Requirement already satisfied: attrs>=17.3.0 in /opt/conda/lib/python3.10/site-packages (from aiohttp->datasets>=2.0.0->evaluate) (23.2.0)\r\n",
      "Requirement already satisfied: multidict<7.0,>=4.5 in /opt/conda/lib/python3.10/site-packages (from aiohttp->datasets>=2.0.0->evaluate) (6.0.4)\r\n",
      "Requirement already satisfied: yarl<2.0,>=1.0 in /opt/conda/lib/python3.10/site-packages (from aiohttp->datasets>=2.0.0->evaluate) (1.9.3)\r\n",
      "Requirement already satisfied: frozenlist>=1.1.1 in /opt/conda/lib/python3.10/site-packages (from aiohttp->datasets>=2.0.0->evaluate) (1.4.1)\r\n",
      "Requirement already satisfied: aiosignal>=1.1.2 in /opt/conda/lib/python3.10/site-packages (from aiohttp->datasets>=2.0.0->evaluate) (1.3.1)\r\n",
      "Requirement already satisfied: async-timeout<5.0,>=4.0 in /opt/conda/lib/python3.10/site-packages (from aiohttp->datasets>=2.0.0->evaluate) (4.0.3)\r\n",
      "Requirement already satisfied: wheel<1.0,>=0.23.0 in /opt/conda/lib/python3.10/site-packages (from astunparse>=1.6.0->tensorflow->BLEURT==0.0.2) (0.42.0)\r\n",
      "Requirement already satisfied: google-auth<3,>=1.6.3 in /opt/conda/lib/python3.10/site-packages (from tensorboard<2.16,>=2.15->tensorflow->BLEURT==0.0.2) (2.26.1)\r\n",
      "Requirement already satisfied: google-auth-oauthlib<2,>=0.5 in /opt/conda/lib/python3.10/site-packages (from tensorboard<2.16,>=2.15->tensorflow->BLEURT==0.0.2) (1.2.0)\r\n",
      "Requirement already satisfied: markdown>=2.6.8 in /opt/conda/lib/python3.10/site-packages (from tensorboard<2.16,>=2.15->tensorflow->BLEURT==0.0.2) (3.5.2)\r\n",
      "Requirement already satisfied: tensorboard-data-server<0.8.0,>=0.7.0 in /opt/conda/lib/python3.10/site-packages (from tensorboard<2.16,>=2.15->tensorflow->BLEURT==0.0.2) (0.7.2)\r\n",
      "Requirement already satisfied: werkzeug>=1.0.1 in /opt/conda/lib/python3.10/site-packages (from tensorboard<2.16,>=2.15->tensorflow->BLEURT==0.0.2) (3.0.2)\r\n",
      "Requirement already satisfied: MarkupSafe>=2.0 in /opt/conda/lib/python3.10/site-packages (from jinja2->torch>=1.0.0->bert_score) (2.1.3)\r\n",
      "Requirement already satisfied: mpmath>=0.19 in /opt/conda/lib/python3.10/site-packages (from sympy->torch>=1.0.0->bert_score) (1.3.0)\r\n",
      "Requirement already satisfied: cachetools<6.0,>=2.0.0 in /opt/conda/lib/python3.10/site-packages (from google-auth<3,>=1.6.3->tensorboard<2.16,>=2.15->tensorflow->BLEURT==0.0.2) (4.2.4)\r\n",
      "Requirement already satisfied: pyasn1-modules>=0.2.1 in /opt/conda/lib/python3.10/site-packages (from google-auth<3,>=1.6.3->tensorboard<2.16,>=2.15->tensorflow->BLEURT==0.0.2) (0.3.0)\r\n",
      "Requirement already satisfied: rsa<5,>=3.1.4 in /opt/conda/lib/python3.10/site-packages (from google-auth<3,>=1.6.3->tensorboard<2.16,>=2.15->tensorflow->BLEURT==0.0.2) (4.9)\r\n",
      "Requirement already satisfied: requests-oauthlib>=0.7.0 in /opt/conda/lib/python3.10/site-packages (from google-auth-oauthlib<2,>=0.5->tensorboard<2.16,>=2.15->tensorflow->BLEURT==0.0.2) (1.3.1)\r\n",
      "Requirement already satisfied: pyasn1<0.6.0,>=0.4.6 in /opt/conda/lib/python3.10/site-packages (from pyasn1-modules>=0.2.1->google-auth<3,>=1.6.3->tensorboard<2.16,>=2.15->tensorflow->BLEURT==0.0.2) (0.5.1)\r\n",
      "Requirement already satisfied: oauthlib>=3.0.0 in /opt/conda/lib/python3.10/site-packages (from requests-oauthlib>=0.7.0->google-auth-oauthlib<2,>=0.5->tensorboard<2.16,>=2.15->tensorflow->BLEURT==0.0.2) (3.2.2)\r\n",
      "Downloading evaluate-0.4.2-py3-none-any.whl (84 kB)\r\n",
      "\u001b[2K   \u001b[90m━━━━━━━━━━━━━━━━━━━━━━━━━━━━━━━━━━━━━━━━\u001b[0m \u001b[32m84.1/84.1 kB\u001b[0m \u001b[31m3.8 MB/s\u001b[0m eta \u001b[36m0:00:00\u001b[0m\r\n",
      "\u001b[?25hDownloading rouge-1.0.1-py3-none-any.whl (13 kB)\r\n",
      "Downloading bert_score-0.3.13-py3-none-any.whl (61 kB)\r\n",
      "\u001b[2K   \u001b[90m━━━━━━━━━━━━━━━━━━━━━━━━━━━━━━━━━━━━━━━━\u001b[0m \u001b[32m61.1/61.1 kB\u001b[0m \u001b[31m3.1 MB/s\u001b[0m eta \u001b[36m0:00:00\u001b[0m\r\n",
      "\u001b[?25hDownloading sacrebleu-2.4.2-py3-none-any.whl (106 kB)\r\n",
      "\u001b[2K   \u001b[90m━━━━━━━━━━━━━━━━━━━━━━━━━━━━━━━━━━━━━━━━\u001b[0m \u001b[32m106.7/106.7 kB\u001b[0m \u001b[31m4.7 MB/s\u001b[0m eta \u001b[36m0:00:00\u001b[0m\r\n",
      "\u001b[?25hDownloading tf_slim-1.1.0-py2.py3-none-any.whl (352 kB)\r\n",
      "\u001b[2K   \u001b[90m━━━━━━━━━━━━━━━━━━━━━━━━━━━━━━━━━━━━━━━━\u001b[0m \u001b[32m352.1/352.1 kB\u001b[0m \u001b[31m13.1 MB/s\u001b[0m eta \u001b[36m0:00:00\u001b[0m\r\n",
      "\u001b[?25hDownloading portalocker-2.8.2-py3-none-any.whl (17 kB)\r\n",
      "Downloading keras-2.15.0-py3-none-any.whl (1.7 MB)\r\n",
      "\u001b[2K   \u001b[90m━━━━━━━━━━━━━━━━━━━━━━━━━━━━━━━━━━━━━━━━\u001b[0m \u001b[32m1.7/1.7 MB\u001b[0m \u001b[31m39.3 MB/s\u001b[0m eta \u001b[36m0:00:00\u001b[0m\r\n",
      "\u001b[?25hBuilding wheels for collected packages: rouge_score, BLEURT\r\n",
      "  Building wheel for rouge_score (setup.py) ... \u001b[?25l-\b \b\\\b \bdone\r\n",
      "\u001b[?25h  Created wheel for rouge_score: filename=rouge_score-0.1.2-py3-none-any.whl size=24934 sha256=6320cf4c268dcee07ae5007da26c81ccb89d5924a2f3e98e01d15ce3e08ae1c1\r\n",
      "  Stored in directory: /root/.cache/pip/wheels/5f/dd/89/461065a73be61a532ff8599a28e9beef17985c9e9c31e541b4\r\n",
      "  Building wheel for BLEURT (setup.py) ... \u001b[?25l-\b \bdone\r\n",
      "\u001b[?25h  Created wheel for BLEURT: filename=BLEURT-0.0.2-py3-none-any.whl size=16456765 sha256=3e41d46f983a184e0d7ab2fd8fb1f9a4cfa99baf204ef869fb1635f1ee82e009\r\n",
      "  Stored in directory: /tmp/pip-ephem-wheel-cache-9ute3195/wheels/64/f4/2c/509a6c31b8ebde891a81029fd94f199b1b92f0e7cfc20d417a\r\n",
      "Successfully built rouge_score BLEURT\r\n",
      "Installing collected packages: tf-slim, rouge, portalocker, keras, sacrebleu, rouge_score, evaluate, bert_score, BLEURT\r\n",
      "  Attempting uninstall: keras\r\n",
      "    Found existing installation: keras 3.2.1\r\n",
      "    Uninstalling keras-3.2.1:\r\n",
      "      Successfully uninstalled keras-3.2.1\r\n",
      "\u001b[31mERROR: pip's dependency resolver does not currently take into account all the packages that are installed. This behaviour is the source of the following dependency conflicts.\r\n",
      "tensorflow-decision-forests 1.8.1 requires wurlitzer, which is not installed.\u001b[0m\u001b[31m\r\n",
      "\u001b[0mSuccessfully installed BLEURT-0.0.2 bert_score-0.3.13 evaluate-0.4.2 keras-2.15.0 portalocker-2.8.2 rouge-1.0.1 rouge_score-0.1.2 sacrebleu-2.4.2 tf-slim-1.1.0\r\n",
      "Note: you may need to restart the kernel to use updated packages.\n"
     ]
    }
   ],
   "source": [
    "pip install evaluate rouge_score rouge bert_score sacrebleu git+https://github.com/google-research/bleurt.git"
   ]
  },
  {
   "cell_type": "code",
   "execution_count": 97,
   "id": "ae47dfad",
   "metadata": {
    "execution": {
     "iopub.execute_input": "2024-05-18T12:35:27.444583Z",
     "iopub.status.busy": "2024-05-18T12:35:27.444041Z",
     "iopub.status.idle": "2024-05-18T12:36:25.907137Z",
     "shell.execute_reply": "2024-05-18T12:36:25.905505Z"
    },
    "papermill": {
     "duration": 58.544385,
     "end_time": "2024-05-18T12:36:25.910606",
     "exception": false,
     "start_time": "2024-05-18T12:35:27.366221",
     "status": "completed"
    },
    "tags": []
   },
   "outputs": [],
   "source": [
    "from rouge import Rouge \n",
    "import evaluate\n",
    "\n",
    "import gensim\n",
    "import gensim.downloader\n",
    "\n",
    "import statistics\n",
    "from nltk.tokenize import word_tokenize\n",
    "\n",
    "# from blanc import BlancHelp, BlancTune"
   ]
  },
  {
   "cell_type": "code",
   "execution_count": 98,
   "id": "07c25eae",
   "metadata": {
    "execution": {
     "iopub.execute_input": "2024-05-18T12:36:26.068251Z",
     "iopub.status.busy": "2024-05-18T12:36:26.066882Z",
     "iopub.status.idle": "2024-05-18T12:37:04.847937Z",
     "shell.execute_reply": "2024-05-18T12:37:04.846440Z"
    },
    "papermill": {
     "duration": 38.86298,
     "end_time": "2024-05-18T12:37:04.850801",
     "exception": false,
     "start_time": "2024-05-18T12:36:25.987821",
     "status": "completed"
    },
    "tags": []
   },
   "outputs": [
    {
     "data": {
      "application/vnd.jupyter.widget-view+json": {
       "model_id": "51f15f9a09a849f5a7fe76142c987cf7",
       "version_major": 2,
       "version_minor": 0
      },
      "text/plain": [
       "Downloading builder script:   0%|          | 0.00/6.27k [00:00<?, ?B/s]"
      ]
     },
     "metadata": {},
     "output_type": "display_data"
    },
    {
     "data": {
      "application/vnd.jupyter.widget-view+json": {
       "model_id": "21c4ca194eb640759ae1f6e14610d2bd",
       "version_major": 2,
       "version_minor": 0
      },
      "text/plain": [
       "Downloading builder script:   0%|          | 0.00/7.95k [00:00<?, ?B/s]"
      ]
     },
     "metadata": {},
     "output_type": "display_data"
    },
    {
     "data": {
      "application/vnd.jupyter.widget-view+json": {
       "model_id": "fcf944282e85451d972f11d6dac91c44",
       "version_major": 2,
       "version_minor": 0
      },
      "text/plain": [
       "Downloading builder script:   0%|          | 0.00/8.64k [00:00<?, ?B/s]"
      ]
     },
     "metadata": {},
     "output_type": "display_data"
    },
    {
     "data": {
      "application/vnd.jupyter.widget-view+json": {
       "model_id": "bacedf4acd404ec2856148283f34000d",
       "version_major": 2,
       "version_minor": 0
      },
      "text/plain": [
       "Downloading extra modules:   0%|          | 0.00/3.34k [00:00<?, ?B/s]"
      ]
     },
     "metadata": {},
     "output_type": "display_data"
    },
    {
     "data": {
      "application/vnd.jupyter.widget-view+json": {
       "model_id": "b431df8d0e734cb6ae9f246cdeec4df7",
       "version_major": 2,
       "version_minor": 0
      },
      "text/plain": [
       "Downloading builder script:   0%|          | 0.00/5.94k [00:00<?, ?B/s]"
      ]
     },
     "metadata": {},
     "output_type": "display_data"
    },
    {
     "data": {
      "application/vnd.jupyter.widget-view+json": {
       "model_id": "e4050ed05965429cbff341e7ffd5db71",
       "version_major": 2,
       "version_minor": 0
      },
      "text/plain": [
       "Downloading extra modules:   0%|          | 0.00/1.55k [00:00<?, ?B/s]"
      ]
     },
     "metadata": {},
     "output_type": "display_data"
    },
    {
     "data": {
      "application/vnd.jupyter.widget-view+json": {
       "model_id": "559aaac6aaf94673973ed1cf2c85a9d0",
       "version_major": 2,
       "version_minor": 0
      },
      "text/plain": [
       "Downloading extra modules:   0%|          | 0.00/3.34k [00:00<?, ?B/s]"
      ]
     },
     "metadata": {},
     "output_type": "display_data"
    },
    {
     "data": {
      "application/vnd.jupyter.widget-view+json": {
       "model_id": "1a4ac09f3e1f459e90eba24905122cfd",
       "version_major": 2,
       "version_minor": 0
      },
      "text/plain": [
       "Downloading builder script:   0%|          | 0.00/5.20k [00:00<?, ?B/s]"
      ]
     },
     "metadata": {},
     "output_type": "display_data"
    },
    {
     "data": {
      "application/vnd.jupyter.widget-view+json": {
       "model_id": "2db54b2325cf4f149404d1093feda1cd",
       "version_major": 2,
       "version_minor": 0
      },
      "text/plain": [
       "Downloading data:   0%|          | 0.00/405M [00:00<?, ?B/s]"
      ]
     },
     "metadata": {},
     "output_type": "display_data"
    },
    {
     "data": {
      "application/vnd.jupyter.widget-view+json": {
       "model_id": "baebf86943744772b831d5af03de93fb",
       "version_major": 2,
       "version_minor": 0
      },
      "text/plain": [
       "Downloading builder script:   0%|          | 0.00/8.15k [00:00<?, ?B/s]"
      ]
     },
     "metadata": {},
     "output_type": "display_data"
    },
    {
     "data": {
      "application/vnd.jupyter.widget-view+json": {
       "model_id": "b58d8d4a9fea46a4a5cb32ae7acc513f",
       "version_major": 2,
       "version_minor": 0
      },
      "text/plain": [
       "Downloading builder script:   0%|          | 0.00/6.93k [00:00<?, ?B/s]"
      ]
     },
     "metadata": {},
     "output_type": "display_data"
    },
    {
     "name": "stderr",
     "output_type": "stream",
     "text": [
      "[nltk_data] Downloading package wordnet to /usr/share/nltk_data...\n",
      "[nltk_data]   Package wordnet is already up-to-date!\n"
     ]
    }
   ],
   "source": [
    "rouge_simple = Rouge()\n",
    "\n",
    "rouge_eval = evaluate.load(\"rouge\")\n",
    "bertscore_eval = evaluate.load(\"bertscore\")\n",
    "google_bleu_eval = evaluate.load(\"google_bleu\")\n",
    "bleu_eval = evaluate.load(\"bleu\")\n",
    "bleurt_eval = evaluate.load(\"bleurt\", module_type=\"metric\")\n",
    "sacrebleu_eval = evaluate.load(\"sacrebleu\")\n",
    "meteor_eval = evaluate.load('meteor')\n",
    "\n",
    "# blanc_help = BlancHelp()\n",
    "# blanc_help = BlancHelp(device='cuda', inference_batch_size=128)\n",
    "\n",
    "#model_gensim = gensim.downloader.load('word2vec-google-news-300')"
   ]
  },
  {
   "cell_type": "code",
   "execution_count": 99,
   "id": "12b22551",
   "metadata": {
    "execution": {
     "iopub.execute_input": "2024-05-18T12:37:05.019686Z",
     "iopub.status.busy": "2024-05-18T12:37:05.018518Z",
     "iopub.status.idle": "2024-05-18T12:37:05.031432Z",
     "shell.execute_reply": "2024-05-18T12:37:05.030261Z"
    },
    "papermill": {
     "duration": 0.102532,
     "end_time": "2024-05-18T12:37:05.034111",
     "exception": false,
     "start_time": "2024-05-18T12:37:04.931579",
     "status": "completed"
    },
    "tags": []
   },
   "outputs": [
    {
     "data": {
      "text/plain": [
       "'\\nstart = time.time()\\n\\nhyps, refs = map(list, zip(*[[row[\\'generated_summary\\'], row[\\'clean_summary\\']] for index, row in temp_df.iterrows()]))\\n\\nrouge = rouge_simple.get_scores(hyps, refs, avg=True)\\nprint(\\'rouge simple: \\', rouge)\\nprint(\\'\\n\\')\\n    \\nresults_rouge = rouge_eval.compute(predictions=hyps, references=refs)\\nprint(\\'rouge eval: \\', results_rouge)\\nprint(\\'\\n\\')\\n    \\nresults_bertscore = bertscore_eval.compute(predictions=hyps, references=refs, lang=\"en\",  model_type=\"distilbert-base-uncased\")\\nprint(\\'bertscore precision: \\', statistics.mean(results_bertscore[\\'precision\\']))\\nprint(\\'bertscore recall: \\', statistics.mean(results_bertscore[\\'recall\\']))\\nprint(\\'bertscore f1: \\', statistics.mean(results_bertscore[\\'f1\\']))\\nprint(\\'\\n\\')\\n    \\n#results_bleurt = bleurt_eval.compute(predictions=hyps, references=refs)\\n#print(\\'bleurt: \\', statistics.mean(results_bleurt[\\'scores\\']))\\n#print(\\'\\n\\')\\n    \\nresults_meteor = meteor_eval.compute(predictions=hyps, references=refs)\\nprint(\\'meteor: \\', results_meteor)\\nprint(\\'\\n\\')\\n    \\nlists_refs = [[ref] for ref in refs]\\n\\nresults_bleu = bleu_eval.compute(predictions=hyps, references=lists_refs, tokenizer=word_tokenize)\\nprint(\\'bleu eval: \\', results_bleu)\\nprint(\\'\\n\\')\\n    \\nresult_google_bleu = google_bleu_eval.compute(predictions=hyps, references=lists_refs)\\nprint(\\'google_bleu eval: \\', result_google_bleu)\\nprint(\\'\\n\\')\\n    \\nresults_sacrebleu = sacrebleu_eval.compute(predictions=hyps, references=lists_refs)\\nprint(\\'sacrebleu eval: \\', results_sacrebleu)\\nprint(\\'\\n\\')\\n    \\n#world_mover_distance = model.wmdistance(sentence_a, sentence_b)\\n#print(\\'world_mover_distance: \\', world_mover_distance)\\n#print(\\'\\n\\')\\n\\nend = time.time()\\nprint(\\'time: \\', end - start)\\n'"
      ]
     },
     "execution_count": 99,
     "metadata": {},
     "output_type": "execute_result"
    }
   ],
   "source": [
    "'''\n",
    "start = time.time()\n",
    "\n",
    "hyps, refs = map(list, zip(*[[row['generated_summary'], row['clean_summary']] for index, row in temp_df.iterrows()]))\n",
    "\n",
    "rouge = rouge_simple.get_scores(hyps, refs, avg=True)\n",
    "print('rouge simple: ', rouge)\n",
    "print('\\n')\n",
    "    \n",
    "results_rouge = rouge_eval.compute(predictions=hyps, references=refs)\n",
    "print('rouge eval: ', results_rouge)\n",
    "print('\\n')\n",
    "    \n",
    "results_bertscore = bertscore_eval.compute(predictions=hyps, references=refs, lang=\"en\",  model_type=\"distilbert-base-uncased\")\n",
    "print('bertscore precision: ', statistics.mean(results_bertscore['precision']))\n",
    "print('bertscore recall: ', statistics.mean(results_bertscore['recall']))\n",
    "print('bertscore f1: ', statistics.mean(results_bertscore['f1']))\n",
    "print('\\n')\n",
    "    \n",
    "#results_bleurt = bleurt_eval.compute(predictions=hyps, references=refs)\n",
    "#print('bleurt: ', statistics.mean(results_bleurt['scores']))\n",
    "#print('\\n')\n",
    "    \n",
    "results_meteor = meteor_eval.compute(predictions=hyps, references=refs)\n",
    "print('meteor: ', results_meteor)\n",
    "print('\\n')\n",
    "    \n",
    "lists_refs = [[ref] for ref in refs]\n",
    "\n",
    "results_bleu = bleu_eval.compute(predictions=hyps, references=lists_refs, tokenizer=word_tokenize)\n",
    "print('bleu eval: ', results_bleu)\n",
    "print('\\n')\n",
    "    \n",
    "result_google_bleu = google_bleu_eval.compute(predictions=hyps, references=lists_refs)\n",
    "print('google_bleu eval: ', result_google_bleu)\n",
    "print('\\n')\n",
    "    \n",
    "results_sacrebleu = sacrebleu_eval.compute(predictions=hyps, references=lists_refs)\n",
    "print('sacrebleu eval: ', results_sacrebleu)\n",
    "print('\\n')\n",
    "    \n",
    "#world_mover_distance = model.wmdistance(sentence_a, sentence_b)\n",
    "#print('world_mover_distance: ', world_mover_distance)\n",
    "#print('\\n')\n",
    "\n",
    "end = time.time()\n",
    "print('time: ', end - start)\n",
    "'''"
   ]
  },
  {
   "cell_type": "code",
   "execution_count": null,
   "id": "48e2b56e",
   "metadata": {
    "papermill": {
     "duration": 0.078295,
     "end_time": "2024-05-18T12:37:05.192260",
     "exception": false,
     "start_time": "2024-05-18T12:37:05.113965",
     "status": "completed"
    },
    "tags": []
   },
   "outputs": [],
   "source": []
  },
  {
   "cell_type": "code",
   "execution_count": 100,
   "id": "55b45f63",
   "metadata": {
    "execution": {
     "iopub.execute_input": "2024-05-18T12:37:05.353080Z",
     "iopub.status.busy": "2024-05-18T12:37:05.352558Z",
     "iopub.status.idle": "2024-05-18T12:37:05.367010Z",
     "shell.execute_reply": "2024-05-18T12:37:05.365648Z"
    },
    "papermill": {
     "duration": 0.099483,
     "end_time": "2024-05-18T12:37:05.370378",
     "exception": false,
     "start_time": "2024-05-18T12:37:05.270895",
     "status": "completed"
    },
    "tags": []
   },
   "outputs": [],
   "source": [
    "def evaluate_res(temp_df, combination_name, hyps_name, refs_name):\n",
    "    print(combination_name, '\\n')\n",
    "    \n",
    "    start = time.time()\n",
    "\n",
    "    hyps, refs = map(list, zip(*[[row[hyps_name], row[refs_name]] for index, row in temp_df.iterrows()]))\n",
    "\n",
    "    rouge = rouge_simple.get_scores(hyps, refs, avg=True)\n",
    "    print('rouge simple: ', rouge)\n",
    "\n",
    "    results_rouge = rouge_eval.compute(predictions=hyps, references=refs)\n",
    "    print('rouge eval: ', results_rouge)\n",
    "\n",
    "    results_bertscore = bertscore_eval.compute(predictions=hyps, references=refs, lang=\"en\",  model_type=\"distilbert-base-uncased\")\n",
    "    print('bertscore precision: ', statistics.mean(results_bertscore['precision']))\n",
    "    print('bertscore recall: ', statistics.mean(results_bertscore['recall']))\n",
    "    print('bertscore f1: ', statistics.mean(results_bertscore['f1']))\n",
    "    #results_bleurt = bleurt_eval.compute(predictions=hyps, references=refs)\n",
    "    #print('bleurt: ', statistics.mean(results_bleurt['scores']))\n",
    "    #print('\\n')\n",
    "\n",
    "    results_meteor = meteor_eval.compute(predictions=hyps, references=refs)\n",
    "    print('meteor: ', results_meteor)\n",
    "\n",
    "    lists_refs = [[ref] for ref in refs]\n",
    "\n",
    "    results_bleu = bleu_eval.compute(predictions=hyps, references=lists_refs, tokenizer=word_tokenize)\n",
    "    print('bleu eval: ', results_bleu)\n",
    "    result_google_bleu = google_bleu_eval.compute(predictions=hyps, references=lists_refs)\n",
    "    print('google_bleu eval: ', result_google_bleu)\n",
    "\n",
    "    results_sacrebleu = sacrebleu_eval.compute(predictions=hyps, references=lists_refs)\n",
    "    print('sacrebleu eval: ', results_sacrebleu)\n",
    "\n",
    "    #world_mover_distance = model.wmdistance(sentence_a, sentence_b)\n",
    "    #print('world_mover_distance: ', world_mover_distance)\n",
    "    #print('\\n')\n",
    "\n",
    "    end = time.time()\n",
    "    print('time: ', end - start)\n",
    "    print('\\n')"
   ]
  },
  {
   "cell_type": "code",
   "execution_count": 101,
   "id": "538745e4",
   "metadata": {
    "execution": {
     "iopub.execute_input": "2024-05-18T12:37:05.531729Z",
     "iopub.status.busy": "2024-05-18T12:37:05.531176Z",
     "iopub.status.idle": "2024-05-18T12:37:05.542203Z",
     "shell.execute_reply": "2024-05-18T12:37:05.540284Z"
    },
    "papermill": {
     "duration": 0.095038,
     "end_time": "2024-05-18T12:37:05.545560",
     "exception": false,
     "start_time": "2024-05-18T12:37:05.450522",
     "status": "completed"
    },
    "tags": []
   },
   "outputs": [],
   "source": [
    "def evaluate_res_second(temp_df, combination_name, hyps_name, refs_name):\n",
    "    print(combination_name, '\\n')\n",
    "    \n",
    "    start = time.time()\n",
    "\n",
    "    hyps, refs = map(list, zip(*[[row[hyps_name], row[refs_name]] for index, row in temp_df.iterrows()]))\n",
    "\n",
    "    results_bleurt = bleurt_eval.compute(predictions=hyps, references=refs)\n",
    "    print('bleurt: ', statistics.mean(results_bleurt['scores']))\n",
    "    print('\\n')\n",
    "    \n",
    "    #end = time.time()\n",
    "    #print('time: ', end - start)\n",
    "\n",
    "    #hyps, docs = map(list, zip(*[[row['generated_summary'], row['clean_text']] for index, row in temp_df.iterrows()]))\n",
    "\n",
    "    #results_blanc = blanc_help.eval_pairs(docs, hyps)\n",
    "    #print('blanc: ', statistics.mean(results_blanc))\n",
    "    #print('\\n')\n",
    "    \n",
    "    end = time.time()\n",
    "    print('time: ', end - start)\n",
    "    print('\\n')"
   ]
  },
  {
   "cell_type": "code",
   "execution_count": 102,
   "id": "22e6c01a",
   "metadata": {
    "execution": {
     "iopub.execute_input": "2024-05-18T12:37:05.707272Z",
     "iopub.status.busy": "2024-05-18T12:37:05.706752Z",
     "iopub.status.idle": "2024-05-18T12:37:05.712334Z",
     "shell.execute_reply": "2024-05-18T12:37:05.711032Z"
    },
    "papermill": {
     "duration": 0.089891,
     "end_time": "2024-05-18T12:37:05.715077",
     "exception": false,
     "start_time": "2024-05-18T12:37:05.625186",
     "status": "completed"
    },
    "tags": []
   },
   "outputs": [],
   "source": [
    "# combination_name = 'bert_ext_sum_simple'\n",
    "# temp_df = pd.read_csv('/kaggle/input/generated-results/generated_' + combination_name + '.csv', sep=',')"
   ]
  },
  {
   "cell_type": "code",
   "execution_count": 103,
   "id": "a6f89931",
   "metadata": {
    "execution": {
     "iopub.execute_input": "2024-05-18T12:37:05.876266Z",
     "iopub.status.busy": "2024-05-18T12:37:05.875755Z",
     "iopub.status.idle": "2024-05-18T12:37:05.898804Z",
     "shell.execute_reply": "2024-05-18T12:37:05.897579Z"
    },
    "papermill": {
     "duration": 0.107047,
     "end_time": "2024-05-18T12:37:05.901460",
     "exception": false,
     "start_time": "2024-05-18T12:37:05.794413",
     "status": "completed"
    },
    "tags": []
   },
   "outputs": [
    {
     "data": {
      "text/plain": [
       "tag\n",
       "pop        15673\n",
       "rock       10153\n",
       "country     3847\n",
       "rap         3350\n",
       "rb          2206\n",
       "misc          52\n",
       "Name: count, dtype: int64"
      ]
     },
     "execution_count": 103,
     "metadata": {},
     "output_type": "execute_result"
    }
   ],
   "source": [
    "combined_df.value_counts('tag')"
   ]
  },
  {
   "cell_type": "code",
   "execution_count": 104,
   "id": "3ba60ac5",
   "metadata": {
    "execution": {
     "iopub.execute_input": "2024-05-18T12:37:06.064659Z",
     "iopub.status.busy": "2024-05-18T12:37:06.063763Z",
     "iopub.status.idle": "2024-05-18T12:37:06.070573Z",
     "shell.execute_reply": "2024-05-18T12:37:06.068877Z"
    },
    "papermill": {
     "duration": 0.090456,
     "end_time": "2024-05-18T12:37:06.072933",
     "exception": false,
     "start_time": "2024-05-18T12:37:05.982477",
     "status": "completed"
    },
    "tags": []
   },
   "outputs": [
    {
     "name": "stdout",
     "output_type": "stream",
     "text": [
      "\n",
      " all eval \n",
      "\n"
     ]
    }
   ],
   "source": [
    "print('\\n all eval \\n')"
   ]
  },
  {
   "cell_type": "code",
   "execution_count": 105,
   "id": "2fc8a565",
   "metadata": {
    "execution": {
     "iopub.execute_input": "2024-05-18T12:37:06.233694Z",
     "iopub.status.busy": "2024-05-18T12:37:06.233125Z",
     "iopub.status.idle": "2024-05-18T13:48:06.298694Z",
     "shell.execute_reply": "2024-05-18T13:48:06.296619Z"
    },
    "papermill": {
     "duration": 4260.151676,
     "end_time": "2024-05-18T13:48:06.303528",
     "exception": false,
     "start_time": "2024-05-18T12:37:06.151852",
     "status": "completed"
    },
    "tags": []
   },
   "outputs": [
    {
     "name": "stdout",
     "output_type": "stream",
     "text": [
      "TextRank_sumy \n",
      "\n",
      "rouge simple:  {'rouge-1': {'r': 0.35662653675947936, 'p': 0.49097824315737815, 'f': 0.3915156440804571}, 'rouge-2': {'r': 0.2200073955142312, 'p': 0.30391670886906197, 'f': 0.2407594112459201}, 'rouge-l': {'r': 0.3529066387406676, 'p': 0.4865863631195352, 'f': 0.3876894975656725}}\n",
      "rouge eval:  {'rouge1': 0.3715731640519993, 'rouge2': 0.2352082399604617, 'rougeL': 0.3442748123833672, 'rougeLsum': 0.344108660258611}\n"
     ]
    },
    {
     "data": {
      "application/vnd.jupyter.widget-view+json": {
       "model_id": "b0f7bee6fe5f40adace63714142be285",
       "version_major": 2,
       "version_minor": 0
      },
      "text/plain": [
       "tokenizer_config.json:   0%|          | 0.00/48.0 [00:00<?, ?B/s]"
      ]
     },
     "metadata": {},
     "output_type": "display_data"
    },
    {
     "data": {
      "application/vnd.jupyter.widget-view+json": {
       "model_id": "49b333e3960e425483381189f859977a",
       "version_major": 2,
       "version_minor": 0
      },
      "text/plain": [
       "config.json:   0%|          | 0.00/483 [00:00<?, ?B/s]"
      ]
     },
     "metadata": {},
     "output_type": "display_data"
    },
    {
     "data": {
      "application/vnd.jupyter.widget-view+json": {
       "model_id": "2a52191bb9894e809287354bedbee049",
       "version_major": 2,
       "version_minor": 0
      },
      "text/plain": [
       "vocab.txt:   0%|          | 0.00/232k [00:00<?, ?B/s]"
      ]
     },
     "metadata": {},
     "output_type": "display_data"
    },
    {
     "data": {
      "application/vnd.jupyter.widget-view+json": {
       "model_id": "8e424150374f495187b3023f12537b4b",
       "version_major": 2,
       "version_minor": 0
      },
      "text/plain": [
       "tokenizer.json:   0%|          | 0.00/466k [00:00<?, ?B/s]"
      ]
     },
     "metadata": {},
     "output_type": "display_data"
    },
    {
     "data": {
      "application/vnd.jupyter.widget-view+json": {
       "model_id": "18c7e7ae357f4f56b0dda0e19edc243a",
       "version_major": 2,
       "version_minor": 0
      },
      "text/plain": [
       "model.safetensors:   0%|          | 0.00/268M [00:00<?, ?B/s]"
      ]
     },
     "metadata": {},
     "output_type": "display_data"
    },
    {
     "name": "stdout",
     "output_type": "stream",
     "text": [
      "bertscore precision:  0.8188099650696203\n",
      "bertscore recall:  0.7777882899194913\n",
      "bertscore f1:  0.7967202662408234\n",
      "meteor:  {'meteor': 0.3663051341779469}\n",
      "bleu eval:  {'bleu': 0.18735620399938144, 'precisions': [0.3518233771558904, 0.20469994428238997, 0.15034960342490572, 0.11379616074558238], 'brevity_penalty': 1.0, 'length_ratio': 1.3530518304047436, 'translation_length': 156084, 'reference_length': 115357}\n",
      "google_bleu eval:  {'google_bleu': 0.2038934527598136}\n",
      "sacrebleu eval:  {'score': 18.747733376485318, 'counts': [54437, 30830, 22096, 16289], 'totals': [154049, 150520, 146991, 143462], 'precisions': [35.337457562204236, 20.482327929843212, 15.03221285656945, 11.354226206242767], 'bp': 1.0, 'sys_len': 154049, 'ref_len': 114872}\n",
      "time:  448.4186749458313\n",
      "\n",
      "\n",
      "LexRank_sumy \n",
      "\n",
      "rouge simple:  {'rouge-1': {'r': 0.3782574147559878, 'p': 0.36906346599214224, 'f': 0.35948043104383703}, 'rouge-2': {'r': 0.18774364938674531, 'p': 0.1915066563462238, 'f': 0.18232830650255819}, 'rouge-l': {'r': 0.37081566925761095, 'p': 0.36196680488476085, 'f': 0.3524625651780942}}\n",
      "rouge eval:  {'rouge1': 0.357719405204901, 'rouge2': 0.1906780051942059, 'rougeL': 0.3023534575803757, 'rougeLsum': 0.3023088365329679}\n",
      "bertscore precision:  0.7931590174507169\n",
      "bertscore recall:  0.7843619833150643\n",
      "bertscore f1:  0.7880840705183553\n",
      "meteor:  {'meteor': 0.3360284701285517}\n",
      "bleu eval:  {'bleu': 0.1694679315245978, 'precisions': [0.36732537862068465, 0.18254251132397714, 0.12840377913848453, 0.09579820079616337], 'brevity_penalty': 1.0, 'length_ratio': 1.1980113907261805, 'translation_length': 138199, 'reference_length': 115357}\n",
      "google_bleu eval:  {'google_bleu': 0.18894475487882081}\n",
      "sacrebleu eval:  {'score': 16.938271912370432, 'counts': [50338, 24276, 16611, 12042], 'totals': [136625, 133096, 129567, 126038], 'precisions': [36.84391582799634, 18.239466249924867, 12.820394081826391, 9.554261413224584], 'bp': 1.0, 'sys_len': 136625, 'ref_len': 114872}\n",
      "time:  356.59669971466064\n",
      "\n",
      "\n",
      "Luhn_sumy \n",
      "\n",
      "rouge simple:  {'rouge-1': {'r': 0.4282297540327321, 'p': 0.47094622189617047, 'f': 0.4316873061270207}, 'rouge-2': {'r': 0.26926678114235925, 'p': 0.3058818219868287, 'f': 0.275537042742482}, 'rouge-l': {'r': 0.42374723575183876, 'p': 0.46660011200193746, 'f': 0.42745012892450385}}\n",
      "rouge eval:  {'rouge1': 0.38504567525111216, 'rouge2': 0.2549137683901632, 'rougeL': 0.3530598235445132, 'rougeLsum': 0.35270353410383504}\n",
      "bertscore precision:  0.8093470192624409\n",
      "bertscore recall:  0.7932490849670589\n",
      "bertscore f1:  0.8003085320649184\n",
      "meteor:  {'meteor': 0.4016719979183738}\n",
      "bleu eval:  {'bleu': 0.1986295824987335, 'precisions': [0.34979011414017547, 0.21327376615869995, 0.1629941313254346, 0.1280143873130058], 'brevity_penalty': 1.0, 'length_ratio': 1.470357238832494, 'translation_length': 169616, 'reference_length': 115357}\n",
      "google_bleu eval:  {'google_bleu': 0.2145250522401112}\n",
      "sacrebleu eval:  {'score': 19.90535259669087, 'counts': [58747, 34936, 26119, 20025], 'totals': [167048, 163519, 159990, 156461], 'precisions': [35.167736219529715, 21.36510130321247, 16.325395337208576, 12.79871661308569], 'bp': 1.0, 'sys_len': 167048, 'ref_len': 114872}\n",
      "time:  385.2888309955597\n",
      "\n",
      "\n",
      "Lsa_sumy \n",
      "\n",
      "rouge simple:  {'rouge-1': {'r': 0.3678467432114709, 'p': 0.30843865100187, 'f': 0.322325303958638}, 'rouge-2': {'r': 0.17588721691341788, 'p': 0.16839726059579008, 'f': 0.16563278578737264}, 'rouge-l': {'r': 0.3596806246625778, 'p': 0.3025333136201032, 'f': 0.3157046535714746}}\n",
      "rouge eval:  {'rouge1': 0.30426734878013517, 'rouge2': 0.15995415170357913, 'rougeL': 0.26175718215180965, 'rougeLsum': 0.26158315396099174}\n",
      "bertscore precision:  0.7729282840077213\n",
      "bertscore recall:  0.7728099072070729\n",
      "bertscore f1:  0.7722652145437358\n",
      "meteor:  {'meteor': 0.3184314257201525}\n",
      "bleu eval:  {'bleu': 0.14213311934080802, 'precisions': [0.3034015313166813, 0.14552245990334445, 0.10846324582025453, 0.08522181065255827], 'brevity_penalty': 1.0, 'length_ratio': 1.3812772523557304, 'translation_length': 159340, 'reference_length': 115357}\n",
      "google_bleu eval:  {'google_bleu': 0.16114802504142645}\n",
      "sacrebleu eval:  {'score': 14.230037733615266, 'counts': [47899, 22352, 16275, 12474], 'totals': [157080, 153551, 150022, 146493], 'precisions': [30.493379169849756, 14.556727080904716, 10.848408900027996, 8.515082631934632], 'bp': 1.0, 'sys_len': 157080, 'ref_len': 114872}\n",
      "time:  364.34235644340515\n",
      "\n",
      "\n",
      "KLSummarizer_sumy \n",
      "\n",
      "rouge simple:  {'rouge-1': {'r': 0.26060154953162235, 'p': 0.4088866000017801, 'f': 0.3035685168740631}, 'rouge-2': {'r': 0.1523906911547915, 'p': 0.22980450548899323, 'f': 0.1752154453107161}, 'rouge-l': {'r': 0.25803313048793985, 'p': 0.40491805396239, 'f': 0.3006334941787423}}\n",
      "rouge eval:  {'rouge1': 0.3167409254778499, 'rouge2': 0.19799715491300035, 'rougeL': 0.2893368663785148, 'rougeLsum': 0.28903288252351295}\n",
      "bertscore precision:  0.7942014537407542\n",
      "bertscore recall:  0.747262150260334\n",
      "bertscore f1:  0.7691640770107668\n",
      "meteor:  {'meteor': 0.2759603095857441}\n",
      "bleu eval:  {'bleu': 0.16361379314752045, 'precisions': [0.4656699757754239, 0.2554317514222327, 0.1870415014127589, 0.1414057724957555], 'brevity_penalty': 0.6908445787047449, 'length_ratio': 0.7300120495505258, 'translation_length': 84212, 'reference_length': 115357}\n",
      "google_bleu eval:  {'google_bleu': 0.1815714044117966}\n",
      "sacrebleu eval:  {'score': 16.2061800955295, 'counts': [38885, 20359, 14243, 10257], 'totals': [83343, 79814, 76285, 72756], 'precisions': [46.656587835811045, 25.50805623073646, 18.670774070918267, 14.097806366485239], 'bp': 0.6850221422961162, 'sys_len': 83343, 'ref_len': 114872}\n",
      "time:  294.0176980495453\n",
      "\n",
      "\n",
      "spacy_textrank \n",
      "\n",
      "rouge simple:  {'rouge-1': {'r': 0.2493944767572974, 'p': 0.29011358363612166, 'f': 0.2521739627143478}, 'rouge-2': {'r': 0.1147255188996883, 'p': 0.14941427560019105, 'f': 0.12275258025249776}, 'rouge-l': {'r': 0.24523191916589454, 'p': 0.28610390405918223, 'f': 0.24830059050095188}}\n",
      "rouge eval:  {'rouge1': 0.24455527668407223, 'rouge2': 0.12707632380873957, 'rougeL': 0.2106174356805085, 'rougeLsum': 0.21030101715971783}\n",
      "bertscore precision:  0.7657444679929637\n",
      "bertscore recall:  0.7439921969528339\n",
      "bertscore f1:  0.7538997080819942\n",
      "meteor:  {'meteor': 0.24283144344421556}\n",
      "bleu eval:  {'bleu': 0.125285612398575, 'precisions': [0.2954483922855186, 0.13014837816358468, 0.09240322635078127, 0.06934214531066568], 'brevity_penalty': 1.0, 'length_ratio': 1.0886378806661061, 'translation_length': 125582, 'reference_length': 115357}\n",
      "google_bleu eval:  {'google_bleu': 0.137937645978828}\n",
      "sacrebleu eval:  {'score': 12.5408965862047, 'counts': [36818, 15694, 10829, 7882], 'totals': [124189, 120660, 117131, 113602], 'precisions': [29.646748101683723, 13.006795955577656, 9.245204087730832, 6.938258129258288], 'bp': 1.0, 'sys_len': 124189, 'ref_len': 114872}\n",
      "time:  396.0447669029236\n",
      "\n",
      "\n",
      "spacy_topicrank \n",
      "\n",
      "rouge simple:  {'rouge-1': {'r': 0.26954945497107047, 'p': 0.4010762983724591, 'f': 0.3044259578805961}, 'rouge-2': {'r': 0.15284936948761263, 'p': 0.24044372323802848, 'f': 0.17690509292793463}, 'rouge-l': {'r': 0.26645085900532467, 'p': 0.3971229512374031, 'f': 0.30118945533404323}}\n",
      "rouge eval:  {'rouge1': 0.281350524243931, 'rouge2': 0.17030566060983793, 'rougeL': 0.2527572268129128, 'rougeLsum': 0.2521864842395381}\n",
      "bertscore precision:  0.7899013459598014\n",
      "bertscore recall:  0.74519510212077\n",
      "bertscore f1:  0.7658660065759576\n",
      "meteor:  {'meteor': 0.28078312418964824}\n",
      "bleu eval:  {'bleu': 0.16310440391468564, 'precisions': [0.3258896151053014, 0.17097965977832813, 0.12805744570578304, 0.09918430278129495], 'brevity_penalty': 1.0, 'length_ratio': 1.098190833672859, 'translation_length': 126684, 'reference_length': 115357}\n",
      "google_bleu eval:  {'google_bleu': 0.169375016763544}\n",
      "sacrebleu eval:  {'score': 16.34988220003382, 'counts': [40989, 20849, 15171, 11399], 'totals': [125279, 121750, 118221, 114692], 'precisions': [32.71817303777968, 17.124435318275154, 12.832745451315756, 9.938792592334252], 'bp': 1.0, 'sys_len': 125279, 'ref_len': 114872}\n",
      "time:  387.7516613006592\n",
      "\n",
      "\n",
      "spacy_positionrank \n",
      "\n",
      "rouge simple:  {'rouge-1': {'r': 0.25736367073017086, 'p': 0.3172668437729082, 'f': 0.2668793046950293}, 'rouge-2': {'r': 0.12465701236165075, 'p': 0.16754501308723654, 'f': 0.1346487297987648}, 'rouge-l': {'r': 0.2532967841773497, 'p': 0.31298488040957884, 'f': 0.2629247906425592}}\n",
      "rouge eval:  {'rouge1': 0.2591197861519128, 'rouge2': 0.138736039987104, 'rougeL': 0.22668504426735864, 'rougeLsum': 0.22629822179151993}\n",
      "bertscore precision:  0.7718573666118839\n",
      "bertscore recall:  0.74515371695562\n",
      "bertscore f1:  0.7573643252950243\n",
      "meteor:  {'meteor': 0.2531744891969999}\n",
      "bleu eval:  {'bleu': 0.13670972663306163, 'precisions': [0.3100053839910642, 0.14238218899383032, 0.10236401584529539, 0.07730817875210792], 'brevity_penalty': 1.0, 'length_ratio': 1.078764184228092, 'translation_length': 124443, 'reference_length': 115357}\n",
      "google_bleu eval:  {'google_bleu': 0.14719554546689173}\n",
      "sacrebleu eval:  {'score': 13.680958704774557, 'counts': [38289, 17013, 11874, 8693], 'totals': [123063, 119534, 116005, 112476], 'precisions': [31.11333219570464, 14.232770592467416, 10.235765699754321, 7.728759913225932], 'bp': 1.0, 'sys_len': 123063, 'ref_len': 114872}\n",
      "time:  386.0737409591675\n",
      "\n",
      "\n",
      "bert_ext_sum_simple \n",
      "\n",
      "rouge simple:  {'rouge-1': {'r': 0.43497368884416926, 'p': 0.39514933231026256, 'f': 0.40467611640753476}, 'rouge-2': {'r': 0.25353026624252356, 'p': 0.23968155706280372, 'f': 0.24110334990593513}, 'rouge-l': {'r': 0.43082564134481677, 'p': 0.3913279388093005, 'f': 0.4008147853564832}}\n",
      "rouge eval:  {'rouge1': 0.40414964307872814, 'rouge2': 0.26015367342206464, 'rougeL': 0.3510758809043697, 'rougeLsum': 0.35103582794578503}\n",
      "bertscore precision:  0.8025923677023155\n",
      "bertscore recall:  0.8106364752051174\n",
      "bertscore f1:  0.8061154522920134\n",
      "meteor:  {'meteor': 0.37549808650952476}\n",
      "bleu eval:  {'bleu': 0.2412690452000592, 'precisions': [0.43169910800145905, 0.2616674779460115, 0.19717354935282205, 0.1521342045237684], 'brevity_penalty': 1.0, 'length_ratio': 1.045692935842645, 'translation_length': 120628, 'reference_length': 115357}\n",
      "google_bleu eval:  {'google_bleu': 0.2440934204934124}\n",
      "sacrebleu eval:  {'score': 24.13043850479226, 'counts': [51645, 30315, 22134, 16515], 'totals': [119345, 115816, 112287, 108758], 'precisions': [43.27370229167539, 26.175139877046348, 19.711988030671403, 15.185089832472094], 'bp': 1.0, 'sys_len': 119345, 'ref_len': 114872}\n",
      "time:  326.4983696937561\n",
      "\n",
      "\n",
      "sbert_ext_sum_simple \n",
      "\n",
      "rouge simple:  {'rouge-1': {'r': 0.45937698386432463, 'p': 0.42172453785411146, 'f': 0.42936745734470827}, 'rouge-2': {'r': 0.275913514673344, 'p': 0.26410328956972673, 'f': 0.2638218717281919}, 'rouge-l': {'r': 0.45555817311498326, 'p': 0.4179848279764386, 'f': 0.4256884032424992}}\n",
      "rouge eval:  {'rouge1': 0.4248910602484434, 'rouge2': 0.2816714357422224, 'rougeL': 0.37050872436323845, 'rougeLsum': 0.3703834971818729}\n",
      "bertscore precision:  0.807556077656377\n",
      "bertscore recall:  0.8196062677201822\n",
      "bertscore f1:  0.8130248170393525\n",
      "meteor:  {'meteor': 0.39209809643215715}\n",
      "bleu eval:  {'bleu': 0.2634300361563043, 'precisions': [0.4567565487338687, 0.2879226115941518, 0.21773320105940494, 0.16818062137967352], 'brevity_penalty': 1.0, 'length_ratio': 1.0136445989406797, 'translation_length': 116931, 'reference_length': 115357}\n",
      "google_bleu eval:  {'google_bleu': 0.2604173960319781}\n",
      "sacrebleu eval:  {'score': 26.358747424821747, 'counts': [52918, 32285, 23626, 17625], 'totals': [115545, 112016, 108487, 104958], 'precisions': [45.79860660348782, 28.821775460648478, 21.77772451998857, 16.792431258217572], 'bp': 1.0, 'sys_len': 115545, 'ref_len': 114872}\n",
      "time:  323.2965316772461\n",
      "\n",
      "\n",
      "seq_to_seq_t5_small \n",
      "\n",
      "rouge simple:  {'rouge-1': {'r': 0.49676768040822017, 'p': 0.42767159399027943, 'f': 0.4488257519242494}, 'rouge-2': {'r': 0.3131080087152798, 'p': 0.28120007292079496, 'f': 0.2891353905624072}, 'rouge-l': {'r': 0.48385630863987655, 'p': 0.4165472323686816, 'f': 0.4372007443355563}}\n",
      "rouge eval:  {'rouge1': 0.4361314658388482, 'rouge2': 0.2956909572228119, 'rougeL': 0.38080702737632577, 'rougeLsum': 0.38034069378613394}\n",
      "bertscore precision:  0.8036010931658994\n",
      "bertscore recall:  0.8056838668652722\n",
      "bertscore f1:  0.8041534372820467\n",
      "meteor:  {'meteor': 0.3604113576561677}\n",
      "bleu eval:  {'bleu': 0.2313538157596643, 'precisions': [0.4380444675594851, 0.2750780162273753, 0.20612029895841616, 0.15344999845499396], 'brevity_penalty': 0.9311319586975605, 'length_ratio': 0.9333980599356779, 'translation_length': 107674, 'reference_length': 115357}\n",
      "google_bleu eval:  {'google_bleu': 0.23276317401831326}\n",
      "sacrebleu eval:  {'score': 22.941185895697, 'counts': [46742, 28313, 20456, 14660], 'totals': [106235, 102706, 99177, 95648], 'precisions': [43.99868216689415, 27.567036005686134, 20.625749921856883, 15.327032452325192], 'bp': 0.9219162547524377, 'sys_len': 106235, 'ref_len': 114872}\n",
      "time:  292.35392689704895\n",
      "\n",
      "\n",
      "seq_to_seq_bart-base \n",
      "\n",
      "rouge simple:  {'rouge-1': {'r': 0.5466631536656167, 'p': 0.5012157119282473, 'f': 0.5110214682830752}, 'rouge-2': {'r': 0.3709134488191474, 'p': 0.3511554790043644, 'f': 0.3524704953591948}, 'rouge-l': {'r': 0.5317063215320448, 'p': 0.4876867265324018, 'f': 0.4971929476343108}}\n",
      "rouge eval:  {'rouge1': 0.4764313718055706, 'rouge2': 0.3359862062389523, 'rougeL': 0.4262299003915183, 'rougeLsum': 0.42612863815651936}\n",
      "bertscore precision:  0.8212377729311852\n",
      "bertscore recall:  0.8104474295229438\n",
      "bertscore f1:  0.815326820591348\n",
      "meteor:  {'meteor': 0.3893193701229786}\n",
      "bleu eval:  {'bleu': 0.24556837812345247, 'precisions': [0.49213617565463114, 0.3309822976646617, 0.2524664924086536, 0.18886033157358526], 'brevity_penalty': 0.8272062445456454, 'length_ratio': 0.8405471709562489, 'translation_length': 96963, 'reference_length': 115357}\n",
      "google_bleu eval:  {'google_bleu': 0.25467862716554535}\n",
      "sacrebleu eval:  {'score': 24.388229759854713, 'counts': [47368, 30628, 22439, 16082], 'totals': [96074, 92545, 89016, 85487], 'precisions': [49.30366176072611, 33.09525095899292, 25.20782780623708, 18.81221706224338], 'bp': 0.8222903869977797, 'sys_len': 96074, 'ref_len': 114872}\n",
      "time:  281.18081188201904\n",
      "\n",
      "\n"
     ]
    }
   ],
   "source": [
    "\n",
    "combination_list = ['TextRank_sumy', 'LexRank_sumy', 'Luhn_sumy', 'Lsa_sumy', 'KLSummarizer_sumy', \\\n",
    "                   'spacy_textrank', 'spacy_topicrank', 'spacy_positionrank', \\\n",
    "                   'bert_ext_sum_simple', 'sbert_ext_sum_simple', \\\n",
    "                   'seq_to_seq_t5_small', 'seq_to_seq_bart-base']\n",
    "\n",
    "#combination_list = ['seq_to_seq_t5_small', 'seq_to_seq_bart-base']\n",
    "\n",
    "hyps_name = 'generated_summary'\n",
    "#hyps_name = 'coref_generated_summary'\n",
    "\n",
    "refs_name = 'clean_summary'\n",
    "#refs_name = 'coref_summary'\n",
    "\n",
    "for combination_name in combination_list:\n",
    "    #temp_df_1 = pd.read_csv('/kaggle/input/generated-results/generated_' + combination_name + '.csv', sep=',')\n",
    "    #temp_df_2 = pd.read_csv('/kaggle/input/generated-results/generated_coref_' + combination_name + '.csv', sep=',')\n",
    "    \n",
    "    #res_df = pd.read_csv('/kaggle/input/generated-results/generated_all_' + combination_name + '.csv', sep=',')\n",
    "    \n",
    "    res_df = pd.read_csv('/kaggle/input/generated-results/generated_' + combination_name + '.csv', sep=',')\n",
    "    res_df['clean_text'] = res_df['unredacted_text'].apply(lambda x:preprocess_text(x, combination_name))\n",
    "    \n",
    "    #for index, row in res_df.iterrows():\n",
    "    #    id_was = row.id\n",
    "    #    res_df['generated_summary'].loc[index] = temp_df_1[temp_df_1['id'] == id_was]['generated_summary'].iloc[0]\n",
    "    #    res_df['coref_generated_summary'].loc[index] = temp_df_2[temp_df_2['id'] == id_was]['coref_generated_summary'].iloc[0]\n",
    "        \n",
    "    #res_df.to_csv('generated_all_' + combination_name + '.csv', index = False)\n",
    "    \n",
    "    evaluate_res(res_df, combination_name, hyps_name, refs_name)\n",
    "    \n",
    "    #evaluate_res_second(temp_df, combination_name, hyps_name, refs_name)"
   ]
  },
  {
   "cell_type": "code",
   "execution_count": null,
   "id": "f934c619",
   "metadata": {
    "papermill": {
     "duration": 0.089651,
     "end_time": "2024-05-18T13:48:06.777447",
     "exception": false,
     "start_time": "2024-05-18T13:48:06.687796",
     "status": "completed"
    },
    "tags": []
   },
   "outputs": [],
   "source": []
  },
  {
   "cell_type": "code",
   "execution_count": 106,
   "id": "44220d49",
   "metadata": {
    "execution": {
     "iopub.execute_input": "2024-05-18T13:48:06.967266Z",
     "iopub.status.busy": "2024-05-18T13:48:06.966742Z",
     "iopub.status.idle": "2024-05-18T13:48:07.020793Z",
     "shell.execute_reply": "2024-05-18T13:48:07.019424Z"
    },
    "papermill": {
     "duration": 0.150068,
     "end_time": "2024-05-18T13:48:07.023682",
     "exception": false,
     "start_time": "2024-05-18T13:48:06.873614",
     "status": "completed"
    },
    "tags": []
   },
   "outputs": [
    {
     "data": {
      "text/plain": [
       "'\\n\\n\\n'"
      ]
     },
     "execution_count": 106,
     "metadata": {},
     "output_type": "execute_result"
    }
   ],
   "source": [
    "'''\n",
    "results\n",
    "\n",
    "\n",
    "seq_to_seq_t5_small \n",
    "\n",
    "rouge simple:  {'rouge-1': {'r': 0.536451848714591, 'p': 0.47157973170099604, 'f': 0.4903065917048757}, 'rouge-2': {'r': 0.36291178189213796, 'p': 0.33858087113901186, 'f': 0.3419334953501805}, 'rouge-l': {'r': 0.5219184545840425, 'p': 0.458985958458571, 'f': 0.47716537352860894}}\n",
    "rouge eval:  {'rouge1': 0.4743502370912262, 'rouge2': 0.344865579655955, 'rougeL': 0.41473744750520625, 'rougeLsum': 0.41481314407980374}\n",
    "bertscore precision:  0.8127235025489902\n",
    "bertscore recall:  0.8228868995236097\n",
    "bertscore f1:  0.8173003052080617\n",
    "meteor:  {'meteor': 0.3838775701337444}\n",
    "bleu eval:  {'bleu': 0.2700707689412035, 'precisions': [0.488443322075841, 0.3298135603883984, 0.2621376084054227, 0.20831083513318935], 'brevity_penalty': 0.8818538426551892, 'length_ratio': 0.8883133029423954, 'translation_length': 98601, 'reference_length': 110998}\n",
    "google_bleu eval:  {'google_bleu': 0.2692638154862326}\n",
    "sacrebleu eval:  {'score': 26.74393790023117, 'counts': [47540, 30957, 23713, 18131], 'totals': [97305, 94070, 90835, 87600], 'precisions': [48.85668773444325, 32.90847241415967, 26.105576044476248, 20.697488584474886], 'bp': 0.8760011698264341, 'sys_len': 97305, 'ref_len': 110187}\n",
    "time:  264.0863571166992\n",
    "\n",
    "\n",
    "seq_to_seq_bart-base \n",
    "\n",
    "rouge simple:  {'rouge-1': {'r': 0.5733914669018562, 'p': 0.5359307072692979, 'f': 0.5416592010521325}, 'rouge-2': {'r': 0.4077707144605619, 'p': 0.401211356847256, 'f': 0.3953565503654538}, 'rouge-l': {'r': 0.5570076872147697, 'p': 0.5207926262449851, 'f': 0.5263481203463443}}\n",
    "rouge eval:  {'rouge1': 0.5033825281448718, 'rouge2': 0.37482663882425243, 'rougeL': 0.45095344814105076, 'rougeLsum': 0.4509370971247835}\n",
    "bertscore precision:  0.8263485402007007\n",
    "bertscore recall:  0.8224845365910478\n",
    "bertscore f1:  0.8239379683270521\n",
    "meteor:  {'meteor': 0.40448411869092465}\n",
    "bleu eval:  {'bleu': 0.2760778595340146, 'precisions': [0.5364080401557612, 0.38413202676975905, 0.3100966207030491, 0.2463707690558314], 'brevity_penalty': 0.7794101853311941, 'length_ratio': 0.800500909926305, 'translation_length': 88854, 'reference_length': 110998}\n",
    "google_bleu eval:  {'google_bleu': 0.28506590600630305}\n",
    "sacrebleu eval:  {'score': 27.418725034575363, 'counts': [47146, 32465, 25164, 19146], 'totals': [88055, 84820, 81585, 78350], 'precisions': [53.54153653966271, 38.275170950247585, 30.843905129619415, 24.43650287172942], 'bp': 0.7777556251155454, 'sys_len': 88055, 'ref_len': 110187}\n",
    "time:  250.66384649276733\n",
    "\n",
    "\n",
    "TextRank_sumy \n",
    "\n",
    "rouge simple:  {'rouge-1': {'r': 0.38989827982874703, 'p': 0.5468095088458788, 'f': 0.4315646015857134}, 'rouge-2': {'r': 0.26461594610283135, 'p': 0.3781790764440748, 'f': 0.29393555210617556}, 'rouge-l': {'r': 0.3854876203642633, 'p': 0.5416113181611523, 'f': 0.427027726842791}}\n",
    "rouge eval:  {'rouge1': 0.41895961617413224, 'rouge2': 0.28710630496258344, 'rougeL': 0.3864108485149767, 'rougeLsum': 0.38656830546858434}\n",
    "bertscore precision:  0.834910840265902\n",
    "bertscore recall:  0.7987679765803\n",
    "bertscore f1:  0.8153341640829119\n",
    "meteor:  {'meteor': 0.4009613581347631}\n",
    "bleu eval:  {'bleu': 0.2379233501867877, 'precisions': [0.3977750862871665, 0.2523746078136416, 0.198310441675772, 0.16096055043115104], 'brevity_penalty': 1.0, 'length_ratio': 1.2868430061802916, 'translation_length': 142837, 'reference_length': 110998}\n",
    "google_bleu eval:  {'google_bleu': 0.24811501711991107}\n",
    "sacrebleu eval:  {'score': 23.718680907594372, 'counts': [56130, 34690, 26574, 21012], 'totals': [141042, 137807, 134572, 131337], 'precisions': [39.79665631514017, 25.172886718381505, 19.747049906369824, 15.998538111880125], 'bp': 1.0, 'sys_len': 141042, 'ref_len': 110187}\n",
    "time:  352.2502107620239\n",
    "\n",
    "\n",
    "LexRank_sumy \n",
    "\n",
    "rouge simple:  {'rouge-1': {'r': 0.4169857823730277, 'p': 0.4156856516800098, 'f': 0.40076439249014745}, 'rouge-2': {'r': 0.2287362699070384, 'p': 0.24195660964400648, 'f': 0.22618116463861382}, 'rouge-l': {'r': 0.4081565806333485, 'p': 0.40714457595025544, 'f': 0.39237867120833286}}\n",
    "rouge eval:  {'rouge1': 0.40196583376154127, 'rouge2': 0.23487769394583627, 'rougeL': 0.3378370122572264, 'rougeLsum': 0.33790215110796895}\n",
    "bertscore precision:  0.8050848046631496\n",
    "bertscore recall:  0.8034485711564974\n",
    "bertscore f1:  0.8035964228454661\n",
    "meteor:  {'meteor': 0.3661376640792925}\n",
    "bleu eval:  {'bleu': 0.21586890160166233, 'precisions': [0.4137653101540893, 0.22662287637351497, 0.17001165889407063, 0.13621464333090846], 'brevity_penalty': 1.0, 'length_ratio': 1.1401106326240111, 'translation_length': 126550, 'reference_length': 110998}\n",
    "google_bleu eval:  {'google_bleu': 0.22699204721889704}\n",
    "sacrebleu eval:  {'score': 21.488624740345333, 'counts': [51714, 27504, 20069, 15625], 'totals': [125169, 121934, 118699, 115464], 'precisions': [41.315341658078275, 22.556464972854165, 16.90747184053783, 13.53235640545971], 'bp': 1.0, 'sys_len': 125169, 'ref_len': 110187}\n",
    "time:  303.02297830581665\n",
    "\n",
    "\n",
    "Luhn_sumy \n",
    "\n",
    "rouge simple:  {'rouge-1': {'r': 0.46964012940669, 'p': 0.5256432004456166, 'f': 0.47776105219942727}, 'rouge-2': {'r': 0.3234499571566925, 'p': 0.38058826970885395, 'f': 0.33660079713285107}, 'rouge-l': {'r': 0.46463878974532236, 'p': 0.5208487287277916, 'f': 0.4730506394565737}}\n",
    "rouge eval:  {'rouge1': 0.43318154761945343, 'rouge2': 0.31211086720978887, 'rougeL': 0.395748930534355, 'rougeLsum': 0.3964342422766146}\n",
    "bertscore precision:  0.8244677015397427\n",
    "bertscore recall:  0.8149957065604385\n",
    "bertscore f1:  0.8187406975850808\n",
    "meteor:  {'meteor': 0.4376981894453816}\n",
    "bleu eval:  {'bleu': 0.25259645500435574, 'precisions': [0.39533445031576236, 0.2632136628385271, 0.2154797928854818, 0.18156384258463654], 'brevity_penalty': 1.0, 'length_ratio': 1.3980432079857295, 'translation_length': 155180, 'reference_length': 110998}\n",
    "google_bleu eval:  {'google_bleu': 0.2632469902717546}\n",
    "sacrebleu eval:  {'score': 25.214932659772526, 'counts': [60524, 39327, 31468, 25900], 'totals': [152906, 149671, 146436, 143201], 'precisions': [39.5824885877598, 26.275631217804385, 21.489251277008385, 18.08646587663494], 'bp': 1.0, 'sys_len': 152906, 'ref_len': 110187}\n",
    "time:  338.27713441848755\n",
    "\n",
    "\n",
    "Lsa_sumy \n",
    "\n",
    "rouge simple:  {'rouge-1': {'r': 0.40591582515255037, 'p': 0.3474009990767815, 'f': 0.35959215684988577}, 'rouge-2': {'r': 0.21304995866879084, 'p': 0.2111914891122412, 'f': 0.20412499045985372}, 'rouge-l': {'r': 0.3962090880095317, 'p': 0.3404692448740268, 'f': 0.3517763257106634}}\n",
    "rouge eval:  {'rouge1': 0.34158664377175463, 'rouge2': 0.1965095281824062, 'rougeL': 0.292747470879968, 'rougeLsum': 0.29267111182240524}\n",
    "bertscore precision:  0.7829309099055884\n",
    "bertscore recall:  0.7901923575209687\n",
    "bertscore f1:  0.7859082961193008\n",
    "meteor:  {'meteor': 0.3435235220033322}\n",
    "bleu eval:  {'bleu': 0.17889905690083516, 'precisions': [0.3400772497444447, 0.17979175729340613, 0.14154539776439254, 0.11835567707414595], 'brevity_penalty': 1.0, 'length_ratio': 1.313185823167985, 'translation_length': 145761, 'reference_length': 110998}\n",
    "google_bleu eval:  {'google_bleu': 0.1937547668458114}\n",
    "sacrebleu eval:  {'score': 17.844092746631688, 'counts': [48894, 25180, 19363, 15800], 'totals': [143732, 140497, 137262, 134027], 'precisions': [34.01747697102942, 17.922090863150103, 14.10659905873439, 11.788669447200936], 'bp': 1.0, 'sys_len': 143732, 'ref_len': 110187}\n",
    "time:  315.86979150772095\n",
    "\n",
    "\n",
    "KLSummarizer_sumy \n",
    "\n",
    "rouge simple:  {'rouge-1': {'r': 0.283696310442418, 'p': 0.4531200263691394, 'f': 0.3328504990648215}, 'rouge-2': {'r': 0.18020378134146534, 'p': 0.28114963865579456, 'f': 0.2099609964304515}, 'rouge-l': {'r': 0.2808256862294107, 'p': 0.4485662326031895, 'f': 0.3295385038420273}}\n",
    "rouge eval:  {'rouge1': 0.3478189297242859, 'rouge2': 0.23501047852404694, 'rougeL': 0.31799293933637196, 'rougeLsum': 0.3179287170752396}\n",
    "bertscore precision:  0.8054408098114698\n",
    "bertscore recall:  0.7634040253608267\n",
    "bertscore f1:  0.7829836830473756\n",
    "meteor:  {'meteor': 0.29445578909724424}\n",
    "bleu eval:  {'bleu': 0.1894690296285489, 'precisions': [0.5110712302945012, 0.30685278503866986, 0.23994477550962906, 0.19364409281454803], 'brevity_penalty': 0.6484947539980087, 'length_ratio': 0.6977873475197751, 'translation_length': 77453, 'reference_length': 110998}\n",
    "google_bleu eval:  {'google_bleu': 0.20799985406719293}\n",
    "sacrebleu eval:  {'score': 18.789821461438912, 'counts': [39148, 22446, 16751, 12875], 'totals': [76693, 73458, 70223, 66988], 'precisions': [51.04507582178295, 30.556236216613573, 23.85400794611452, 19.219860273481817], 'bp': 0.646146995281936, 'sys_len': 76693, 'ref_len': 110187}\n",
    "time:  253.27056288719177\n",
    "\n",
    "\n",
    "spacy_textrank \n",
    "\n",
    "rouge simple:  {'rouge-1': {'r': 0.2690189747401157, 'p': 0.3158039097424289, 'f': 0.27368846259928936}, 'rouge-2': {'r': 0.1319634977534276, 'p': 0.17531391666871768, 'f': 0.14268860667426161}, 'rouge-l': {'r': 0.2643753592716537, 'p': 0.31129676869790235, 'f': 0.2693342982788235}}\n",
    "rouge eval:  {'rouge1': 0.2663003056397478, 'rouge2': 0.14730655115956776, 'rougeL': 0.22865688045419363, 'rougeLsum': 0.22861846562581417}\n",
    "bertscore precision:  0.7722379372145698\n",
    "bertscore recall:  0.7583201181759606\n",
    "bertscore f1:  0.7643896443397958\n",
    "meteor:  {'meteor': 0.2542291322563789}\n",
    "bleu eval:  {'bleu': 0.1492993698425789, 'precisions': [0.32102011419447773, 0.15331184658101726, 0.11320008825800758, 0.0891819930450932], 'brevity_penalty': 1.0, 'length_ratio': 1.0382349231517685, 'translation_length': 115242, 'reference_length': 110998}\n",
    "google_bleu eval:  {'google_bleu': 0.15529286890037855}\n",
    "sacrebleu eval:  {'score': 14.885863366463068, 'counts': [36613, 16923, 12119, 9253], 'totals': [113979, 110744, 107509, 104274], 'precisions': [32.12258398476912, 15.28118904861663, 11.272544624171, 8.873736501908434], 'bp': 1.0, 'sys_len': 113979, 'ref_len': 110187}\n",
    "time:  343.90809297561646\n",
    "\n",
    "\n",
    "spacy_topicrank \n",
    "\n",
    "rouge simple:  {'rouge-1': {'r': 0.2878368614301584, 'p': 0.4321341461565012, 'f': 0.32647702824433483}, 'rouge-2': {'r': 0.17188874611209862, 'p': 0.27664333205445946, 'f': 0.20076779135974418}, 'rouge-l': {'r': 0.28438857549318386, 'p': 0.42779444889768137, 'f': 0.3228863709729285}}\n",
    "rouge eval:  {'rouge1': 0.30490865665637384, 'rouge2': 0.19362565100409154, 'rougeL': 0.2725746084370213, 'rougeLsum': 0.27303592882686506}\n",
    "bertscore precision:  0.7987065756892127\n",
    "bertscore recall:  0.761131699247375\n",
    "bertscore f1:  0.7784046587472353\n",
    "meteor:  {'meteor': 0.2929148067639008}\n",
    "bleu eval:  {'bleu': 0.19078214318639763, 'precisions': [0.3528844912884491, 0.19751305425258872, 0.15331419980866476, 0.12397671798723245], 'brevity_penalty': 1.0, 'length_ratio': 1.0470909385754699, 'translation_length': 116225, 'reference_length': 110998}\n",
    "google_bleu eval:  {'google_bleu': 0.18959045980362768}\n",
    "sacrebleu eval:  {'score': 19.073133310002827, 'counts': [40637, 22052, 16616, 13032], 'totals': [114953, 111718, 108483, 105248], 'precisions': [35.35096952667612, 19.738985660323316, 15.3166855636367, 12.382183034356947], 'bp': 1.0, 'sys_len': 114953, 'ref_len': 110187}\n",
    "time:  342.485475063324\n",
    "\n",
    "\n",
    "spacy_positionrank \n",
    "\n",
    "rouge simple:  {'rouge-1': {'r': 0.27711058413805373, 'p': 0.3435674507293594, 'f': 0.28847817173688206}, 'rouge-2': {'r': 0.14289384896959584, 'p': 0.19507178657813348, 'f': 0.15551519796679475}, 'rouge-l': {'r': 0.27260167384281675, 'p': 0.33877400849689526, 'f': 0.28406768651495357}}\n",
    "rouge eval:  {'rouge1': 0.2807699186110164, 'rouge2': 0.15919914378580177, 'rougeL': 0.24439058660791146, 'rougeLsum': 0.24464871238117925}\n",
    "bertscore precision:  0.7785526197697317\n",
    "bertscore recall:  0.7598969238803044\n",
    "bertscore f1:  0.7681854594067038\n",
    "meteor:  {'meteor': 0.2645188094532513}\n",
    "bleu eval:  {'bleu': 0.16175825911151553, 'precisions': [0.3360172235738916, 0.16620281553135724, 0.12431349265251596, 0.09861606587794218], 'brevity_penalty': 1.0, 'length_ratio': 1.0294059352420764, 'translation_length': 114262, 'reference_length': 110998}\n",
    "google_bleu eval:  {'google_bleu': 0.1651963166485988}\n",
    "sacrebleu eval:  {'score': 16.13441347443746, 'counts': [38014, 18195, 13194, 10142], 'totals': [113018, 109783, 106548, 103313], 'precisions': [33.63535012121963, 16.573604292103514, 12.383151255772047, 9.81677039675549], 'bp': 1.0, 'sys_len': 113018, 'ref_len': 110187}\n",
    "time:  343.6615891456604\n",
    "\n",
    "\n",
    "bert_ext_sum_simple \n",
    "\n",
    "rouge simple:  {'rouge-1': {'r': 0.47189052206222937, 'p': 0.43688699390464897, 'f': 0.44343327787789877}, 'rouge-2': {'r': 0.298291865931109, 'p': 0.2921047239364261, 'f': 0.2887991772567526}, 'rouge-l': {'r': 0.4672126307463854, 'p': 0.43252116096511234, 'f': 0.43904779471723626}}\n",
    "rouge eval:  {'rouge1': 0.44172068704155953, 'rouge2': 0.30729012188472626, 'rougeL': 0.38508710007897917, 'rougeLsum': 0.3853165226416923}\n",
    "bertscore precision:  0.8115309308080069\n",
    "bertscore recall:  0.8285147141083683\n",
    "bertscore f1:  0.8194644884127185\n",
    "meteor:  {'meteor': 0.39934330033521126}\n",
    "bleu eval:  {'bleu': 0.2950759647911615, 'precisions': [0.4753515391715077, 0.3127266286971355, 0.2507881280996501, 0.2069458084099634], 'brevity_penalty': 0.9956300405568541, 'length_ratio': 0.9956395610731725, 'translation_length': 110514, 'reference_length': 110998}\n",
    "google_bleu eval:  {'google_bleu': 0.2837514107681065}\n",
    "sacrebleu eval:  {'score': 29.31561131045346, 'counts': [51941, 33088, 25698, 20512], 'totals': [109371, 106136, 102901, 99666], 'precisions': [47.490651086668315, 31.17509610311299, 24.97351823597438, 20.58073967049947], 'bp': 0.9925669187283243, 'sys_len': 109371, 'ref_len': 110187}\n",
    "time:  293.03055906295776\n",
    "\n",
    "\n",
    "sbert_ext_sum_simple \n",
    "\n",
    "rouge simple:  {'rouge-1': {'r': 0.49732185998248235, 'p': 0.46524618566101156, 'f': 0.46954443198627177}, 'rouge-2': {'r': 0.32306828581054825, 'p': 0.3206385378112827, 'f': 0.3146441765133491}, 'rouge-l': {'r': 0.493171309005046, 'p': 0.4611257917560171, 'f': 0.46551731476007574}}\n",
    "rouge eval:  {'rouge1': 0.4627120509088496, 'rouge2': 0.33215614631755663, 'rougeL': 0.40645650412218004, 'rougeLsum': 0.4063351829722201}\n",
    "bertscore precision:  0.8166716549827658\n",
    "bertscore recall:  0.8380704573538424\n",
    "bertscore f1:  0.8267295910733561\n",
    "meteor:  {'meteor': 0.4160307846197323}\n",
    "bleu eval:  {'bleu': 0.31180127262498647, 'precisions': [0.5020184409990583, 0.34290465845077195, 0.27661199908722006, 0.22817663700848742], 'brevity_penalty': 0.9657596845420867, 'length_ratio': 0.9663327267157967, 'translation_length': 107261, 'reference_length': 110998}\n",
    "google_bleu eval:  {'google_bleu': 0.30206591438766506}\n",
    "sacrebleu eval:  {'score': 30.94771085793149, 'counts': [53192, 35161, 27430, 21863], 'totals': [106010, 102775, 99540, 96305], 'precisions': [50.17639845297614, 34.211627341279495, 27.5567611010649, 22.701832718965786], 'bp': 0.9613642176553385, 'sys_len': 106010, 'ref_len': 110187}\n",
    "time:  292.525741815567\n",
    "\n",
    "\n",
    "\n",
    "\n",
    "\n",
    "\n",
    "\n",
    "\n",
    "\n",
    "\n",
    "\n",
    "\n",
    "\n",
    "\n",
    "\n",
    "\n",
    "\n",
    "\n",
    "\n",
    "\n",
    "\n",
    "TextRank_sumy\n",
    "\n",
    "rouge simple:  {'rouge-1': {'r': 0.35662653675947936, 'p': 0.49097824315737815, 'f': 0.3915156440804571}, 'rouge-2': {'r': 0.2200073955142312, 'p': 0.30391670886906197, 'f': 0.2407594112459201}, 'rouge-l': {'r': 0.3529066387406676, 'p': 0.4865863631195352, 'f': 0.3876894975656725}}\n",
    "rouge eval:  {'rouge1': 0.37161325806997897, 'rouge2': 0.23553245505370995, 'rougeL': 0.3440303892659655, 'rougeLsum': 0.34409945963161215}\n",
    "bertscore precision:  0.8188099642589025\n",
    "bertscore recall:  0.7777882901221708\n",
    "bertscore f1:  0.7967202656158952\n",
    "meteor:  {'meteor': 0.3663051341779469}\n",
    "bleu eval:  {'bleu': 0.18735620399938144, 'precisions': [0.3518233771558904, 0.20469994428238997, 0.15034960342490572, 0.11379616074558238], 'brevity_penalty': 1.0, 'length_ratio': 1.3530518304047436, 'translation_length': 156084, 'reference_length': 115357}\n",
    "google_bleu eval:  {'google_bleu': 0.2038934527598136}\n",
    "sacrebleu eval:  {'score': 18.747733376485318, 'counts': [54437, 30830, 22096, 16289], 'totals': [154049, 150520, 146991, 143462], 'precisions': [35.337457562204236, 20.482327929843212, 15.03221285656945, 11.354226206242767], 'bp': 1.0, 'sys_len': 154049, 'ref_len': 114872}\n",
    "bleurt:  -0.8111992091706857\n",
    "\n",
    "'''\n",
    "\n",
    "'''\n",
    "LexRank_sumy\n",
    "\n",
    "rouge simple:  {'rouge-1': {'r': 0.3782574147559878, 'p': 0.36906346599214224, 'f': 0.35948043104383703}, 'rouge-2': {'r': 0.18774364938674531, 'p': 0.1915066563462238, 'f': 0.18232830650255819}, 'rouge-l': {'r': 0.37081566925761095, 'p': 0.36196680488476085, 'f': 0.3524625651780942}}\n",
    "\n",
    "\n",
    "rouge eval:  {'rouge1': 0.3578096503520519, 'rouge2': 0.19075715064049303, 'rougeL': 0.30241181675022966, 'rougeLsum': 0.3023033715560799}\n",
    "\n",
    "\n",
    "bertscore precision:  0.7931590178391859\n",
    "bertscore recall:  0.7843619833826242\n",
    "bertscore f1:  0.7880840712615133\n",
    "\n",
    "\n",
    "meteor:  {'meteor': 0.3360284701285517}\n",
    "\n",
    "\n",
    "bleu eval:  {'bleu': 0.1694679315245978, 'precisions': [0.36732537862068465, 0.18254251132397714, 0.12840377913848453, 0.09579820079616337], 'brevity_penalty': 1.0, 'length_ratio': 1.1980113907261805, 'translation_length': 138199, 'reference_length': 115357}\n",
    "\n",
    "\n",
    "google_bleu eval:  {'google_bleu': 0.18894475487882081}\n",
    "\n",
    "\n",
    "sacrebleu eval:  {'score': 16.938271912370432, 'counts': [50338, 24276, 16611, 12042], 'totals': [136625, 133096, 129567, 126038], 'precisions': [36.84391582799634, 18.239466249924867, 12.820394081826391, 9.554261413224584], 'bp': 1.0, 'sys_len': 136625, 'ref_len': 114872}\n",
    "\n",
    "\n",
    "bleurt:  -0.9898781340171289\n",
    "'''\n",
    "\n",
    "'''\n",
    "Luhn_sumy\n",
    "\n",
    "rouge simple:  {'rouge-1': {'r': 0.4282297540327321, 'p': 0.47094622189617047, 'f': 0.4316873061270207}, 'rouge-2': {'r': 0.26926678114235925, 'p': 0.3058818219868287, 'f': 0.275537042742482}, 'rouge-l': {'r': 0.42374723575183876, 'p': 0.46660011200193746, 'f': 0.42745012892450385}}\n",
    "\n",
    "\n",
    "rouge eval:  {'rouge1': 0.3850111712459169, 'rouge2': 0.2551254860956637, 'rougeL': 0.35293302861903997, 'rougeLsum': 0.35287046227983143}\n",
    "\n",
    "\n",
    "bertscore precision:  0.8093470190090916\n",
    "bertscore recall:  0.7932490839874416\n",
    "bertscore f1:  0.8003085310008513\n",
    "\n",
    "\n",
    "meteor:  {'meteor': 0.4016719979183738}\n",
    "\n",
    "\n",
    "bleu eval:  {'bleu': 0.1986295824987335, 'precisions': [0.34979011414017547, 0.21327376615869995, 0.1629941313254346, 0.1280143873130058], 'brevity_penalty': 1.0, 'length_ratio': 1.470357238832494, 'translation_length': 169616, 'reference_length': 115357}\n",
    "\n",
    "\n",
    "google_bleu eval:  {'google_bleu': 0.2145250522401112}\n",
    "\n",
    "\n",
    "sacrebleu eval:  {'score': 19.90535259669087, 'counts': [58747, 34936, 26119, 20025], 'totals': [167048, 163519, 159990, 156461], 'precisions': [35.167736219529715, 21.36510130321247, 16.325395337208576, 12.79871661308569], 'bp': 1.0, 'sys_len': 167048, 'ref_len': 114872}\n",
    "\n",
    "\n",
    "bleurt:  -1.0518077721919037\n",
    "'''\n",
    "\n",
    "'''\n",
    "Lsa_sumy\n",
    "\n",
    "rouge simple:  {'rouge-1': {'r': 0.3678467432114709, 'p': 0.30843865100187, 'f': 0.322325303958638}, 'rouge-2': {'r': 0.17588721691341788, 'p': 0.16839726059579008, 'f': 0.16563278578737264}, 'rouge-l': {'r': 0.3596806246625778, 'p': 0.3025333136201032, 'f': 0.3157046535714746}}\n",
    "\n",
    "\n",
    "rouge eval:  {'rouge1': 0.3042060329429639, 'rouge2': 0.15988232376607903, 'rougeL': 0.26165168709116543, 'rougeLsum': 0.26168819798587717}\n",
    "\n",
    "\n",
    "bertscore precision:  0.7729282843624103\n",
    "bertscore recall:  0.7728099076968815\n",
    "bertscore f1:  0.7722652151517742\n",
    "\n",
    "\n",
    "meteor:  {'meteor': 0.3184314257201525}\n",
    "\n",
    "\n",
    "bleu eval:  {'bleu': 0.14213311934080802, 'precisions': [0.3034015313166813, 0.14552245990334445, 0.10846324582025453, 0.08522181065255827], 'brevity_penalty': 1.0, 'length_ratio': 1.3812772523557304, 'translation_length': 159340, 'reference_length': 115357}\n",
    "\n",
    "\n",
    "google_bleu eval:  {'google_bleu': 0.16114802504142645}\n",
    "\n",
    "\n",
    "sacrebleu eval:  {'score': 14.230037733615266, 'counts': [47899, 22352, 16275, 12474], 'totals': [157080, 153551, 150022, 146493], 'precisions': [30.493379169849756, 14.556727080904716, 10.848408900027996, 8.515082631934632], 'bp': 1.0, 'sys_len': 157080, 'ref_len': 114872}\n",
    "\n",
    "\n",
    "bleurt:  -0.7891536405297895\n",
    "'''\n",
    "\n",
    "'''\n",
    "KLSummarizer_sumy\n",
    "\n",
    "rouge simple:  {'rouge-1': {'r': 0.26060154953162235, 'p': 0.4088866000017801, 'f': 0.3035685168740631}, 'rouge-2': {'r': 0.1523906911547915, 'p': 0.22980450548899323, 'f': 0.1752154453107161}, 'rouge-l': {'r': 0.25803313048793985, 'p': 0.40491805396239, 'f': 0.3006334941787423}}\n",
    "\n",
    "\n",
    "rouge eval:  {'rouge1': 0.31663512117128784, 'rouge2': 0.19804350018932337, 'rougeL': 0.28919653360921194, 'rougeLsum': 0.28923386654481453}\n",
    "\n",
    "\n",
    "bertscore precision:  0.7942014551426203\n",
    "bertscore recall:  0.7472621501167694\n",
    "bertscore f1:  0.7691640784970827\n",
    "\n",
    "\n",
    "meteor:  {'meteor': 0.2759603095857441}\n",
    "\n",
    "\n",
    "bleu eval:  {'bleu': 0.16361379314752045, 'precisions': [0.4656699757754239, 0.2554317514222327, 0.1870415014127589, 0.1414057724957555], 'brevity_penalty': 0.6908445787047449, 'length_ratio': 0.7300120495505258, 'translation_length': 84212, 'reference_length': 115357}\n",
    "\n",
    "\n",
    "google_bleu eval:  {'google_bleu': 0.1815714044117966}\n",
    "\n",
    "\n",
    "sacrebleu eval:  {'score': 16.2061800955295, 'counts': [38885, 20359, 14243, 10257], 'totals': [83343, 79814, 76285, 72756], 'precisions': [46.656587835811045, 25.50805623073646, 18.670774070918267, 14.097806366485239], 'bp': 0.6850221422961162, 'sys_len': 83343, 'ref_len': 114872}\n",
    "\n",
    "\n",
    "bleurt:  -1.096642665573459\n",
    "'''\n",
    "\n",
    "'''\n",
    "spacy_textrank\n",
    "\n",
    "rouge simple:  {'rouge-1': {'r': 0.2493944767572974, 'p': 0.29011358363612166, 'f': 0.2521739627143478}, 'rouge-2': {'r': 0.1147255188996883, 'p': 0.14941427560019105, 'f': 0.12275258025249776}, 'rouge-l': {'r': 0.24523191916589454, 'p': 0.28610390405918223, 'f': 0.24830059050095188}}\n",
    "\n",
    "\n",
    "rouge eval:  {'rouge1': 0.2445041562223767, 'rouge2': 0.12713934098160695, 'rougeL': 0.21054064232668776, 'rougeLsum': 0.21064681277150732}\n",
    "\n",
    "\n",
    "bertscore precision:  0.7657444681787532\n",
    "bertscore recall:  0.7439921969697239\n",
    "bertscore f1:  0.7538997084704632\n",
    "\n",
    "\n",
    "meteor:  {'meteor': 0.24283144344421556}\n",
    "\n",
    "\n",
    "bleu eval:  {'bleu': 0.125285612398575, 'precisions': [0.2954483922855186, 0.13014837816358468, 0.09240322635078127, 0.06934214531066568], 'brevity_penalty': 1.0, 'length_ratio': 1.0886378806661061, 'translation_length': 125582, 'reference_length': 115357}\n",
    "\n",
    "\n",
    "google_bleu eval:  {'google_bleu': 0.137937645978828}\n",
    "\n",
    "\n",
    "sacrebleu eval:  {'score': 12.5408965862047, 'counts': [36818, 15694, 10829, 7882], 'totals': [124189, 120660, 117131, 113602], 'precisions': [29.646748101683723, 13.006795955577656, 9.245204087730832, 6.938258129258288], 'bp': 1.0, 'sys_len': 124189, 'ref_len': 114872}\n",
    "\n",
    "\n",
    "bleurt:  -1.1518054814525234\n",
    "'''\n",
    "\n",
    "'''\n",
    "spacy_topicrank\n",
    "\n",
    "rouge simple:  {'rouge-1': {'r': 0.26954945497107047, 'p': 0.4010762983724591, 'f': 0.3044259578805961}, 'rouge-2': {'r': 0.15284936948761263, 'p': 0.24044372323802848, 'f': 0.17690509292793463}, 'rouge-l': {'r': 0.26645085900532467, 'p': 0.3971229512374031, 'f': 0.30118945533404323}}\n",
    "\n",
    "\n",
    "rouge eval:  {'rouge1': 0.28147509413986227, 'rouge2': 0.17053364578759456, 'rougeL': 0.25239377468476865, 'rougeLsum': 0.25241767556204203}\n",
    "\n",
    "\n",
    "bertscore precision:  0.7899013464158302\n",
    "bertscore recall:  0.7451951022727795\n",
    "bertscore f1:  0.7658660067448572\n",
    "\n",
    "\n",
    "meteor:  {'meteor': 0.28078312418964824}\n",
    "\n",
    "\n",
    "bleu eval:  {'bleu': 0.16310440391468564, 'precisions': [0.3258896151053014, 0.17097965977832813, 0.12805744570578304, 0.09918430278129495], 'brevity_penalty': 1.0, 'length_ratio': 1.098190833672859, 'translation_length': 126684, 'reference_length': 115357}\n",
    "\n",
    "\n",
    "google_bleu eval:  {'google_bleu': 0.169375016763544}\n",
    "\n",
    "\n",
    "sacrebleu eval:  {'score': 16.34988220003382, 'counts': [40989, 20849, 15171, 11399], 'totals': [125279, 121750, 118221, 114692], 'precisions': [32.71817303777968, 17.124435318275154, 12.832745451315756, 9.938792592334252], 'bp': 1.0, 'sys_len': 125279, 'ref_len': 114872}\n",
    "\n",
    "\n",
    "bleurt:  -1.0040116425414671\n",
    "'''\n",
    "\n",
    "'''\n",
    "spacy_positionrank\n",
    "\n",
    "rouge simple:  {'rouge-1': {'r': 0.25736367073017086, 'p': 0.3172668437729082, 'f': 0.2668793046950293}, 'rouge-2': {'r': 0.12465701236165075, 'p': 0.16754501308723654, 'f': 0.1346487297987648}, 'rouge-l': {'r': 0.2532967841773497, 'p': 0.31298488040957884, 'f': 0.2629247906425592}}\n",
    "\n",
    "\n",
    "rouge eval:  {'rouge1': 0.25873526029270877, 'rouge2': 0.13880511851895405, 'rougeL': 0.22665233588661116, 'rougeLsum': 0.22653517078972785}\n",
    "\n",
    "\n",
    "bertscore precision:  0.7718573660545155\n",
    "bertscore recall:  0.7451537167360506\n",
    "bertscore f1:  0.7573643246363161\n",
    "\n",
    "\n",
    "meteor:  {'meteor': 0.2531744891969999}\n",
    "\n",
    "\n",
    "bleu eval:  {'bleu': 0.13670972663306163, 'precisions': [0.3100053839910642, 0.14238218899383032, 0.10236401584529539, 0.07730817875210792], 'brevity_penalty': 1.0, 'length_ratio': 1.078764184228092, 'translation_length': 124443, 'reference_length': 115357}\n",
    "\n",
    "\n",
    "google_bleu eval:  {'google_bleu': 0.14719554546689173}\n",
    "\n",
    "\n",
    "sacrebleu eval:  {'score': 13.680958704774557, 'counts': [38289, 17013, 11874, 8693], 'totals': [123063, 119534, 116005, 112476], 'precisions': [31.11333219570464, 14.232770592467416, 10.235765699754321, 7.728759913225932], 'bp': 1.0, 'sys_len': 123063, 'ref_len': 114872}\n",
    "\n",
    "\n",
    "bleurt:  -1.1170435116417046\n",
    "'''\n",
    "\n",
    "'''\n",
    "bert_ext_sum_simple\n",
    "\n",
    "rouge simple:  {'rouge-1': {'r': 0.43497368884416926, 'p': 0.39514933231026256, 'f': 0.40467611640753476}, 'rouge-2': {'r': 0.25353026624252356, 'p': 0.23968155706280372, 'f': 0.24110334990593513}, 'rouge-l': {'r': 0.43082564134481677, 'p': 0.3913279388093005, 'f': 0.4008147853564832}}\n",
    "\n",
    "\n",
    "rouge eval:  {'rouge1': 0.4040731985826236, 'rouge2': 0.26006397910207224, 'rougeL': 0.35098341780200126, 'rougeLsum': 0.35121264837660426}\n",
    "\n",
    "\n",
    "bertscore precision:  0.8025923672462868\n",
    "bertscore recall:  0.8106364748673184\n",
    "bertscore f1:  0.8061154517853149\n",
    "\n",
    "\n",
    "meteor:  {'meteor': 0.37549808650952476}\n",
    "\n",
    "\n",
    "bleu eval:  {'bleu': 0.2412690452000592, 'precisions': [0.43169910800145905, 0.2616674779460115, 0.19717354935282205, 0.1521342045237684], 'brevity_penalty': 1.0, 'length_ratio': 1.045692935842645, 'translation_length': 120628, 'reference_length': 115357}\n",
    "\n",
    "\n",
    "google_bleu eval:  {'google_bleu': 0.2440934204934124}\n",
    "\n",
    "\n",
    "sacrebleu eval:  {'score': 24.13043850479226, 'counts': [51645, 30315, 22134, 16515], 'totals': [119345, 115816, 112287, 108758], 'precisions': [43.27370229167539, 26.175139877046348, 19.711988030671403, 15.185089832472094], 'bp': 1.0, 'sys_len': 119345, 'ref_len': 114872}\n",
    "\n",
    "\n",
    "bleurt:  -0.9910917653905142\n",
    "'''\n",
    "\n",
    "'''\n",
    "seq_to_seq_t5_small \n",
    "\n",
    "rouge simple:  {'rouge-1': {'r': 0.49676768040822017, 'p': 0.42767159399027943, 'f': 0.4488257519242494}, 'rouge-2': {'r': 0.3131080087152798, 'p': 0.28120007292079496, 'f': 0.2891353905624072}, 'rouge-l': {'r': 0.48385630863987655, 'p': 0.4165472323686816, 'f': 0.4372007443355563}}\n",
    "\n",
    "\n",
    "rouge eval:  {'rouge1': 0.436079847657201, 'rouge2': 0.295748703056193, 'rougeL': 0.38072851624667314, 'rougeLsum': 0.38032271757184755}\n",
    "\n",
    "\n",
    "bertscore precision:  0.8036011426365723\n",
    "bertscore recall:  0.8056839100866623\n",
    "bertscore f1:  0.8041534833409489\n",
    "\n",
    "\n",
    "meteor:  {'meteor': 0.3604113576561677}\n",
    "\n",
    "\n",
    "bleu eval:  {'bleu': 0.2313538157596643, 'precisions': [0.4380444675594851, 0.2750780162273753, 0.20612029895841616, 0.15344999845499396], 'brevity_penalty': 0.9311319586975605, 'length_ratio': 0.9333980599356779, 'translation_length': 107674, 'reference_length': 115357}\n",
    "\n",
    "\n",
    "google_bleu eval:  {'google_bleu': 0.23276317401831326}\n",
    "\n",
    "\n",
    "sacrebleu eval:  {'score': 22.941185895697, 'counts': [46742, 28313, 20456, 14660], 'totals': [106235, 102706, 99177, 95648], 'precisions': [43.99868216689415, 27.567036005686134, 20.625749921856883, 15.327032452325192], 'bp': 0.9219162547524377, 'sys_len': 106235, 'ref_len': 114872}\n",
    "\n",
    "\n",
    "bleurt:  -0.9072105389095781\n",
    "'''\n",
    "\n",
    "\n",
    "'''\n",
    "seq_to_seq_bart-base \n",
    "\n",
    "rouge simple:  {'rouge-1': {'r': 0.5466631536656167, 'p': 0.5012157119282473, 'f': 0.5110214682830752}, 'rouge-2': {'r': 0.3709134488191474, 'p': 0.3511554790043644, 'f': 0.3524704953591948}, 'rouge-l': {'r': 0.5317063215320448, 'p': 0.4876867265324018, 'f': 0.4971929476343108}}\n",
    "\n",
    "\n",
    "rouge eval:  {'rouge1': 0.47642939679924495, 'rouge2': 0.33603584988745805, 'rougeL': 0.42617225930942226, 'rougeLsum': 0.42613288279008066}\n",
    "\n",
    "\n",
    "bertscore precision:  0.8212377728636253\n",
    "bertscore recall:  0.8104474301140921\n",
    "bertscore f1:  0.815326821317616\n",
    "\n",
    "\n",
    "meteor:  {'meteor': 0.3893193701229786}\n",
    "\n",
    "\n",
    "bleu eval:  {'bleu': 0.24556837812345247, 'precisions': [0.49213617565463114, 0.3309822976646617, 0.2524664924086536, 0.18886033157358526], 'brevity_penalty': 0.8272062445456454, 'length_ratio': 0.8405471709562489, 'translation_length': 96963, 'reference_length': 115357}\n",
    "\n",
    "\n",
    "google_bleu eval:  {'google_bleu': 0.25467862716554535}\n",
    "\n",
    "\n",
    "sacrebleu eval:  {'score': 24.388229759854713, 'counts': [47368, 30628, 22439, 16082], 'totals': [96074, 92545, 89016, 85487], 'precisions': [49.30366176072611, 33.09525095899292, 25.20782780623708, 18.81221706224338], 'bp': 0.8222903869977797, 'sys_len': 96074, 'ref_len': 114872}\n",
    "\n",
    "\n",
    "seq_to_seq_bart-base \n",
    "\n",
    "\n",
    "bleurt:  -0.8573934250667197\n",
    "'''\n",
    "\n",
    "\n",
    "'''\n",
    "sbert_ext_sum_simple \n",
    "\n",
    "rouge simple:  {'rouge-1': {'r': 0.45937698386432463, 'p': 0.42172453785411146, 'f': 0.42936745734470827}, 'rouge-2': {'r': 0.275913514673344, 'p': 0.26410328956972673, 'f': 0.2638218717281919}, 'rouge-l': {'r': 0.45555817311498326, 'p': 0.4179848279764386, 'f': 0.4256884032424992}}\n",
    "\n",
    "\n",
    "rouge eval:  {'rouge1': 0.4248858652694582, 'rouge2': 0.281596163068505, 'rougeL': 0.37036342648103676, 'rougeLsum': 0.3703795417251311}\n",
    "\n",
    "\n",
    "bertscore precision:  0.8075560775043674\n",
    "bertscore recall:  0.8196062677539621\n",
    "bertscore f1:  0.8130248167860031\n",
    "\n",
    "\n",
    "meteor:  {'meteor': 0.39209809643215715}\n",
    "\n",
    "\n",
    "bleu eval:  {'bleu': 0.2634300361563043, 'precisions': [0.4567565487338687, 0.2879226115941518, 0.21773320105940494, 0.16818062137967352], 'brevity_penalty': 1.0, 'length_ratio': 1.0136445989406797, 'translation_length': 116931, 'reference_length': 115357}\n",
    "\n",
    "\n",
    "google_bleu eval:  {'google_bleu': 0.2604173960319781}\n",
    "\n",
    "\n",
    "sacrebleu eval:  {'score': 26.358747424821747, 'counts': [52918, 32285, 23626, 17625], 'totals': [115545, 112016, 108487, 104958], 'precisions': [45.79860660348782, 28.821775460648478, 21.77772451998857, 16.792431258217572], 'bp': 1.0, 'sys_len': 115545, 'ref_len': 114872}\n",
    "\n",
    "\n",
    "bleurt:  -0.9559249362448317\n",
    "'''\n",
    "\n",
    "\n",
    "'''\n",
    "\n",
    "\n",
    "'''\n",
    "\n",
    "\n",
    "'''\n",
    "\n",
    "\n",
    "'''\n",
    "\n",
    "\n",
    "'''\n",
    "\n",
    "\n",
    "'''"
   ]
  },
  {
   "cell_type": "code",
   "execution_count": 107,
   "id": "bc3f47da",
   "metadata": {
    "execution": {
     "iopub.execute_input": "2024-05-18T13:48:07.210291Z",
     "iopub.status.busy": "2024-05-18T13:48:07.209794Z",
     "iopub.status.idle": "2024-05-18T13:48:07.246709Z",
     "shell.execute_reply": "2024-05-18T13:48:07.239636Z"
    },
    "papermill": {
     "duration": 0.135679,
     "end_time": "2024-05-18T13:48:07.249858",
     "exception": false,
     "start_time": "2024-05-18T13:48:07.114179",
     "status": "completed"
    },
    "tags": []
   },
   "outputs": [
    {
     "data": {
      "text/plain": [
       "\"\\ncoref_results\\n\\n\\nseq_to_seq_t5_small \\n\\nrouge simple:  {'rouge-1': {'r': 0.5850077588684248, 'p': 0.48663800627850723, 'f': 0.5220494758346381}, 'rouge-2': {'r': 0.4197935212015514, 'p': 0.3671474305214181, 'f': 0.3854870959125088}, 'rouge-l': {'r': 0.5802902743919787, 'p': 0.4827007918548892, 'f': 0.5178367413039465}}\\nrouge eval:  {'rouge1': 0.4937934298260806, 'rouge2': 0.3651672548036907, 'rougeL': 0.43093777583082143, 'rougeLsum': 0.43123902604746445}\\nbertscore precision:  0.8308443087330188\\nbertscore recall:  0.8540701680979368\\nbertscore f1:  0.8418503953279263\\nmeteor:  {'meteor': 0.46778029446021563}\\nbleu eval:  {'bleu': 0.3754772768048299, 'precisions': [0.5509769680541438, 0.39682298464233995, 0.34410067107915787, 0.3079908155907245], 'brevity_penalty': 0.9623770816688573, 'length_ratio': 0.9630673973978162, 'translation_length': 115101, 'reference_length': 119515}\\ngoogle_bleu eval:  {'google_bleu': 0.3622549284476273}\\nsacrebleu eval:  {'score': 37.458666970596745, 'counts': [62298, 43559, 36660, 31795], 'totals': [113355, 110120, 106885, 103650], 'precisions': [54.95831679237793, 39.55593897566291, 34.298545165364644, 30.675349734684033], 'bp': 0.9632183162511646, 'sys_len': 113355, 'ref_len': 117603}\\ntime:  351.6765384674072\\n\\n\\nseq_to_seq_bart-base \\n\\nrouge simple:  {'rouge-1': {'r': 0.629136298011194, 'p': 0.5314999195138352, 'f': 0.5667116645917366}, 'rouge-2': {'r': 0.47905547065713755, 'p': 0.4172500019451057, 'f': 0.43936571999185303}, 'rouge-l': {'r': 0.6248812918815543, 'p': 0.5279379892475378, 'f': 0.5629053616692251}}\\nrouge eval:  {'rouge1': 0.5395233318575565, 'rouge2': 0.41754425454272487, 'rougeL': 0.4799424894050488, 'rougeLsum': 0.48008815710076613}\\nbertscore precision:  0.847522049285529\\nbertscore recall:  0.868184590781859\\nbertscore f1:  0.8572718790178137\\nmeteor:  {'meteor': 0.5164374320512769}\\nbleu eval:  {'bleu': 0.43038174935743223, 'precisions': [0.5871014431058703, 0.4454561372789354, 0.39395413794656936, 0.3572064965197216], 'brevity_penalty': 0.9826142747575344, 'length_ratio': 0.9827636698322386, 'translation_length': 117455, 'reference_length': 119515}\\ngoogle_bleu eval:  {'google_bleu': 0.4106202972490589}\\nsacrebleu eval:  {'score': 42.949318048403676, 'counts': [67763, 49948, 42896, 37707], 'totals': [115638, 112403, 109168, 105933], 'precisions': [58.59924938169114, 44.43653639137745, 39.29356588011139, 35.59514032454476], 'bp': 0.9831508772757344, 'sys_len': 115638, 'ref_len': 117603}\\ntime:  306.15183544158936\\n\\n\\nTextRank_sumy \\n\\nrouge simple:  {'rouge-1': {'r': 0.4202856142975468, 'p': 0.56609748028954, 'f': 0.45691008347545203}, 'rouge-2': {'r': 0.3090260284798879, 'p': 0.4191738633137231, 'f': 0.3357277785579729}, 'rouge-l': {'r': 0.41584443095303136, 'p': 0.5611539857633766, 'f': 0.4524359259579006}}\\nrouge eval:  {'rouge1': 0.4306196831946762, 'rouge2': 0.30387914081445533, 'rougeL': 0.39584595184674015, 'rougeLsum': 0.3956800726628292}\\ntokenizer_config.json: 100%\\n48.0/48.0 [00:00<00:00, 3.92kB/s]\\nconfig.json: 100%\\n483/483 [00:00<00:00, 35.5kB/s]\\nvocab.txt: 100%\\n232k/232k [00:00<00:00, 1.40MB/s]\\ntokenizer.json: 100%\\n466k/466k [00:00<00:00, 1.90MB/s]\\nmodel.safetensors: 100%\\n268M/268M [00:01<00:00, 304MB/s]\\nbertscore precision:  0.849725920947663\\nbertscore recall:  0.8113602502452903\\nbertscore f1:  0.8289247225572742\\nmeteor:  {'meteor': 0.4293088865419585}\\nbleu eval:  {'bleu': 0.28861456729813445, 'precisions': [0.4271005723630417, 0.2937449879711307, 0.25000512277586145, 0.22121952923098415], 'brevity_penalty': 1.0, 'length_ratio': 1.2791281429109316, 'translation_length': 152875, 'reference_length': 119515}\\ngoogle_bleu eval:  {'google_bleu': 0.2942979974727028}\\nsacrebleu eval:  {'score': 28.797921310154514, 'counts': [64020, 42996, 35791, 30933], 'totals': [149983, 146748, 143513, 140278], 'precisions': [42.68483761492969, 29.299206803499878, 24.939204113913025, 22.05121259213847], 'bp': 1.0, 'sys_len': 149983, 'ref_len': 117603}\\ntime:  366.0986559391022\\n\\n\\nLexRank_sumy \\n\\nrouge simple:  {'rouge-1': {'r': 0.43933911438595835, 'p': 0.43892359230873734, 'f': 0.4228012293838946}, 'rouge-2': {'r': 0.2657046815250835, 'p': 0.2771408347070175, 'f': 0.2609560133685846}, 'rouge-l': {'r': 0.4301301044271096, 'p': 0.430022273458026, 'f': 0.41407300017401516}}\\nrouge eval:  {'rouge1': 0.4181124325388066, 'rouge2': 0.2545007461312576, 'rougeL': 0.35323056352051885, 'rougeLsum': 0.35324188194423667}\\nbertscore precision:  0.8180492369984917\\nbertscore recall:  0.812771516218436\\nbertscore f1:  0.8146764084765863\\nmeteor:  {'meteor': 0.390586830429896}\\nbleu eval:  {'bleu': 0.2671294679254457, 'precisions': [0.45224842648062485, 0.2714968709915653, 0.2191786283891547, 0.18921131256906643], 'brevity_penalty': 1.0, 'length_ratio': 1.1033761452537338, 'translation_length': 131870, 'reference_length': 119515}\\ngoogle_bleu eval:  {'google_bleu': 0.2697722897467734}\\nsacrebleu eval:  {'score': 26.55790614404525, 'counts': [58488, 34147, 26881, 22579], 'totals': [129844, 126609, 123374, 120139], 'precisions': [45.0448230183913, 26.970436540846226, 21.78822118112406, 18.79406354306262], 'bp': 1.0, 'sys_len': 129844, 'ref_len': 117603}\\ntime:  282.064404964447\\n\\n\\nLuhn_sumy \\n\\nrouge simple:  {'rouge-1': {'r': 0.4970036460868246, 'p': 0.53988667136399, 'f': 0.4985778789344572}, 'rouge-2': {'r': 0.3676446504636448, 'p': 0.41532261903420664, 'f': 0.3754567005536476}, 'rouge-l': {'r': 0.49153660407777366, 'p': 0.5350329397085533, 'f': 0.4936884986241031}}\\nrouge eval:  {'rouge1': 0.4421700959345741, 'rouge2': 0.32535842551823335, 'rougeL': 0.40380811387941096, 'rougeLsum': 0.40368706534177823}\\nbertscore precision:  0.8363025780807507\\nbertscore recall:  0.8259760606970632\\nbertscore f1:  0.830114625981639\\nmeteor:  {'meteor': 0.4653354986419591}\\nbleu eval:  {'bleu': 0.2963019616219129, 'precisions': [0.41917540248783386, 0.297859450726979, 0.26088612257383836, 0.23663553069208518], 'brevity_penalty': 1.0, 'length_ratio': 1.394394009120194, 'translation_length': 166651, 'reference_length': 119515}\\ngoogle_bleu eval:  {'google_bleu': 0.3039661847447659}\\nsacrebleu eval:  {'score': 29.583418338134734, 'counts': [68473, 47626, 40885, 36316], 'totals': [163459, 160224, 156989, 153754], 'precisions': [41.89001523317774, 29.7246355102856, 26.043225958506646, 23.61954810931748], 'bp': 1.0, 'sys_len': 163459, 'ref_len': 117603}\\ntime:  347.1944510936737\\n\\n\\nLsa_sumy \\n\\nrouge simple:  {'rouge-1': {'r': 0.4207054276431693, 'p': 0.36326010553963034, 'f': 0.3753597108465235}, 'rouge-2': {'r': 0.239943527895335, 'p': 0.23634796312263004, 'f': 0.22956789060793514}, 'rouge-l': {'r': 0.4118905356083235, 'p': 0.35683396930801736, 'f': 0.36817374419072324}}\\nrouge eval:  {'rouge1': 0.3535237869432498, 'rouge2': 0.21231346008523233, 'rougeL': 0.30429302284936555, 'rougeLsum': 0.30423438888081866}\\nbertscore precision:  0.7929132299592727\\nbertscore recall:  0.7969381388409245\\nbertscore f1:  0.7942616393245537\\nmeteor:  {'meteor': 0.36129192183774667}\\nbleu eval:  {'bleu': 0.21450161692182934, 'precisions': [0.3729050660552462, 0.21075438388377563, 0.1745934291874295, 0.15428350104867763], 'brevity_penalty': 1.0, 'length_ratio': 1.2261557126720495, 'translation_length': 146544, 'reference_length': 119515}\\ngoogle_bleu eval:  {'google_bleu': 0.22421613752799824}\\nsacrebleu eval:  {'score': 21.35191084075834, 'counts': [53477, 29490, 23915, 20649], 'totals': [144028, 140793, 137558, 134323], 'precisions': [37.129585913850086, 20.945643604440562, 17.385393797525406, 15.372646531122742], 'bp': 1.0, 'sys_len': 144028, 'ref_len': 117603}\\ntime:  299.44175362586975\\n\\n\\nKLSummarizer_sumy \\n\\nrouge simple:  {'rouge-1': {'r': 0.29890835898209955, 'p': 0.4828436223561041, 'f': 0.3527472943815391}, 'rouge-2': {'r': 0.20445792539920707, 'p': 0.3188783203819476, 'f': 0.23835907792419128}, 'rouge-l': {'r': 0.2960693631895915, 'p': 0.47826652988143725, 'f': 0.34943602433453835}}\\nrouge eval:  {'rouge1': 0.3605530251282001, 'rouge2': 0.24869969563146943, 'rougeL': 0.32945139854324446, 'rougeLsum': 0.3296602133801216}\\nbertscore precision:  0.8225466087391424\\nbertscore recall:  0.7720744290528747\\nbertscore f1:  0.7954679774169391\\nmeteor:  {'meteor': 0.31022325892403596}\\nbleu eval:  {'bleu': 0.21738820530749892, 'precisions': [0.5474358974358975, 0.354818000898761, 0.29639651707970527, 0.2576069453196107], 'brevity_penalty': 0.6229362181642872, 'length_ratio': 0.6787432539848555, 'translation_length': 81120, 'reference_length': 119515}\\ngoogle_bleu eval:  {'google_bleu': 0.2368773531040582}\\nsacrebleu eval:  {'score': 21.675384305160556, 'counts': [43665, 27054, 21654, 17982], 'totals': [79921, 76686, 73451, 70216], 'precisions': [54.63520226223395, 35.27892966121587, 29.480878408735077, 25.609547681440127], 'bp': 0.6240713357937309, 'sys_len': 79921, 'ref_len': 117603}\\ntime:  248.03196954727173\\n\\n\\nspacy_textrank \\n\\nrouge simple:  {'rouge-1': {'r': 0.3089797547594353, 'p': 0.3551103189532472, 'f': 0.3133525688633596}, 'rouge-2': {'r': 0.1796231861672892, 'p': 0.22467345352907883, 'f': 0.18969685968290875}, 'rouge-l': {'r': 0.3033867742076797, 'p': 0.34970764805064736, 'f': 0.3080639665811594}}\\nrouge eval:  {'rouge1': 0.3047887995217995, 'rouge2': 0.18138411925508194, 'rougeL': 0.2615401428443215, 'rougeLsum': 0.26147899934763896}\\nbertscore precision:  0.7925664450691141\\nbertscore recall:  0.7743253163244845\\nbertscore f1:  0.7824995306396779\\nmeteor:  {'meteor': 0.2947987079674816}\\nbleu eval:  {'bleu': 0.2103994915561847, 'precisions': [0.3728206314882344, 0.20901317082759976, 0.1699241920691947, 0.14799598678406475], 'brevity_penalty': 1.0, 'length_ratio': 1.0485964104924068, 'translation_length': 125323, 'reference_length': 119515}\\ngoogle_bleu eval:  {'google_bleu': 0.20802471295875083}\\nsacrebleu eval:  {'score': 20.955322462155337, 'counts': [45728, 24873, 19716, 16688], 'totals': [122937, 119702, 116467, 113232], 'precisions': [37.19628752938497, 20.779101435230825, 16.928400319403778, 14.737883283877348], 'bp': 1.0, 'sys_len': 122937, 'ref_len': 117603}\\ntime:  324.0528464317322\\n\\n\\nspacy_topicrank \\n\\nrouge simple:  {'rouge-1': {'r': 0.32988492147906034, 'p': 0.4582279190125927, 'f': 0.36312213312839026}, 'rouge-2': {'r': 0.2156779020771399, 'p': 0.3187143707986004, 'f': 0.24399132267022985}, 'rouge-l': {'r': 0.32561291847758717, 'p': 0.453552567310969, 'f': 0.35886297831887054}}\\nrouge eval:  {'rouge1': 0.33986034276974486, 'rouge2': 0.22176134238948486, 'rougeL': 0.30083754946074337, 'rougeLsum': 0.3004598035807401}\\nbertscore precision:  0.815373733975972\\nbertscore recall:  0.7782999681357807\\nbertscore f1:  0.7953423961052755\\nmeteor:  {'meteor': 0.33112601563390487}\\nbleu eval:  {'bleu': 0.24583737121136107, 'precisions': [0.39751679059257694, 0.2454838606173394, 0.20612868425170264, 0.18158282146301843], 'brevity_penalty': 1.0, 'length_ratio': 1.0701501903526753, 'translation_length': 127899, 'reference_length': 119515}\\ngoogle_bleu eval:  {'google_bleu': 0.24005160627403468}\\nsacrebleu eval:  {'score': 24.504794976984723, 'counts': [49816, 29936, 24493, 20976], 'totals': [125641, 122406, 119171, 115936], 'precisions': [39.6494774794852, 24.456317500776105, 20.552819058327948, 18.09274082252277], 'bp': 1.0, 'sys_len': 125641, 'ref_len': 117603}\\ntime:  325.3043463230133\\n\\n\\nspacy_positionrank \\n\\nrouge simple:  {'rouge-1': {'r': 0.3149624521655952, 'p': 0.3813922554380038, 'f': 0.3260093225087969}, 'rouge-2': {'r': 0.18884595544966284, 'p': 0.2457350126958773, 'f': 0.2020052856784436}, 'rouge-l': {'r': 0.3101432761223329, 'p': 0.37652864588030416, 'f': 0.32137337935082655}}\\nrouge eval:  {'rouge1': 0.3163641690857001, 'rouge2': 0.192196073314086, 'rougeL': 0.27472081043475993, 'rougeLsum': 0.2749068572740403}\\nbertscore precision:  0.7986910593933447\\nbertscore recall:  0.7755799522539932\\nbertscore f1:  0.7860277622339346\\nmeteor:  {'meteor': 0.30508330104499715}\\nbleu eval:  {'bleu': 0.22013549800263615, 'precisions': [0.3829746302753397, 0.2195687952600395, 0.1792450437502642, 0.1558018252933507], 'brevity_penalty': 1.0, 'length_ratio': 1.0438438689704221, 'translation_length': 124755, 'reference_length': 119515}\\ngoogle_bleu eval:  {'google_bleu': 0.21579590138111554}\\nsacrebleu eval:  {'score': 21.928266379833776, 'counts': [46767, 26019, 20700, 17481], 'totals': [122381, 119146, 115911, 112676], 'precisions': [38.2142652862781, 21.837913148574017, 17.85852938892771, 15.514395257197629], 'bp': 1.0, 'sys_len': 122381, 'ref_len': 117603}\\ntime:  322.240318775177\\n\\n\\nbert_ext_sum_simple \\n\\nrouge simple:  {'rouge-1': {'r': 0.5082026197051005, 'p': 0.47104295634533966, 'f': 0.47860916412641724}, 'rouge-2': {'r': 0.35231541994761756, 'p': 0.34028522539834344, 'f': 0.3391851743888093}, 'rouge-l': {'r': 0.5034731052047545, 'p': 0.46652111687158393, 'f': 0.47408671236938843}}\\nrouge eval:  {'rouge1': 0.46347234702467577, 'rouge2': 0.33297134734548106, 'rougeL': 0.4032094081374784, 'rougeLsum': 0.4034103305796647}\\nbertscore precision:  0.8272762460539109\\nbertscore recall:  0.8411727072282404\\nbertscore f1:  0.8336933928074018\\nmeteor:  {'meteor': 0.43246878585124277}\\nbleu eval:  {'bleu': 0.35092839277412324, 'precisions': [0.5268666028136341, 0.3763928080457275, 0.32437367817912477, 0.28818997483140885], 'brevity_penalty': 0.9510468074539731, 'length_ratio': 0.9522068359620132, 'translation_length': 113803, 'reference_length': 119515}\\ngoogle_bleu eval:  {'google_bleu': 0.34012559432283657}\\nsacrebleu eval:  {'score': 35.00605768392562, 'counts': [58895, 40822, 34147, 29382], 'totals': [112238, 109003, 105768, 102533], 'precisions': [52.473315632851616, 37.45034540333752, 32.28481204144921, 28.65613997444725], 'bp': 0.953324232445774, 'sys_len': 112238, 'ref_len': 117603}\\ntime:  270.8632547855377\\n\\n\\nsbert_ext_sum_simple \\n\\nrouge simple:  {'rouge-1': {'r': 0.5304567175978562, 'p': 0.4955463639484166, 'f': 0.5011796940232476}, 'rouge-2': {'r': 0.373702857204147, 'p': 0.3669758325333621, 'f': 0.36244641009977346}, 'rouge-l': {'r': 0.5261628281902638, 'p': 0.49133477136787196, 'f': 0.4970177915742171}}\\nrouge eval:  {'rouge1': 0.47770767447401324, 'rouge2': 0.35064854464695205, 'rougeL': 0.4170743177602988, 'rougeLsum': 0.4170143583740157}\\nbertscore precision:  0.8305041811381463\\nbertscore recall:  0.8492518770455209\\nbertscore f1:  0.839253167335917\\nmeteor:  {'meteor': 0.44316983140215954}\\nbleu eval:  {'bleu': 0.3597221411546313, 'precisions': [0.5485685210928485, 0.4015689064459963, 0.3474529640605844, 0.30846187572242817], 'brevity_penalty': 0.9176879955140602, 'length_ratio': 0.9208969585407689, 'translation_length': 110061, 'reference_length': 119515}\\ngoogle_bleu eval:  {'google_bleu': 0.3520943126342305}\\nsacrebleu eval:  {'score': 35.860604783074805, 'counts': [59269, 42058, 35277, 30288], 'totals': [108423, 105188, 101953, 98718], 'precisions': [54.66460068435664, 39.98364832490398, 34.60123782527243, 30.681334710994957], 'bp': 0.9188169299623486, 'sys_len': 108423, 'ref_len': 117603}\\ntime:  270.2467885017395\\n\\n\\n\\n\\n\\n\\n\\n\\n\\n\\n\\n\""
      ]
     },
     "execution_count": 107,
     "metadata": {},
     "output_type": "execute_result"
    }
   ],
   "source": [
    "'''\n",
    "coref_results\n",
    "\n",
    "\n",
    "seq_to_seq_t5_small \n",
    "\n",
    "rouge simple:  {'rouge-1': {'r': 0.5850077588684248, 'p': 0.48663800627850723, 'f': 0.5220494758346381}, 'rouge-2': {'r': 0.4197935212015514, 'p': 0.3671474305214181, 'f': 0.3854870959125088}, 'rouge-l': {'r': 0.5802902743919787, 'p': 0.4827007918548892, 'f': 0.5178367413039465}}\n",
    "rouge eval:  {'rouge1': 0.4937934298260806, 'rouge2': 0.3651672548036907, 'rougeL': 0.43093777583082143, 'rougeLsum': 0.43123902604746445}\n",
    "bertscore precision:  0.8308443087330188\n",
    "bertscore recall:  0.8540701680979368\n",
    "bertscore f1:  0.8418503953279263\n",
    "meteor:  {'meteor': 0.46778029446021563}\n",
    "bleu eval:  {'bleu': 0.3754772768048299, 'precisions': [0.5509769680541438, 0.39682298464233995, 0.34410067107915787, 0.3079908155907245], 'brevity_penalty': 0.9623770816688573, 'length_ratio': 0.9630673973978162, 'translation_length': 115101, 'reference_length': 119515}\n",
    "google_bleu eval:  {'google_bleu': 0.3622549284476273}\n",
    "sacrebleu eval:  {'score': 37.458666970596745, 'counts': [62298, 43559, 36660, 31795], 'totals': [113355, 110120, 106885, 103650], 'precisions': [54.95831679237793, 39.55593897566291, 34.298545165364644, 30.675349734684033], 'bp': 0.9632183162511646, 'sys_len': 113355, 'ref_len': 117603}\n",
    "time:  351.6765384674072\n",
    "\n",
    "\n",
    "seq_to_seq_bart-base \n",
    "\n",
    "rouge simple:  {'rouge-1': {'r': 0.629136298011194, 'p': 0.5314999195138352, 'f': 0.5667116645917366}, 'rouge-2': {'r': 0.47905547065713755, 'p': 0.4172500019451057, 'f': 0.43936571999185303}, 'rouge-l': {'r': 0.6248812918815543, 'p': 0.5279379892475378, 'f': 0.5629053616692251}}\n",
    "rouge eval:  {'rouge1': 0.5395233318575565, 'rouge2': 0.41754425454272487, 'rougeL': 0.4799424894050488, 'rougeLsum': 0.48008815710076613}\n",
    "bertscore precision:  0.847522049285529\n",
    "bertscore recall:  0.868184590781859\n",
    "bertscore f1:  0.8572718790178137\n",
    "meteor:  {'meteor': 0.5164374320512769}\n",
    "bleu eval:  {'bleu': 0.43038174935743223, 'precisions': [0.5871014431058703, 0.4454561372789354, 0.39395413794656936, 0.3572064965197216], 'brevity_penalty': 0.9826142747575344, 'length_ratio': 0.9827636698322386, 'translation_length': 117455, 'reference_length': 119515}\n",
    "google_bleu eval:  {'google_bleu': 0.4106202972490589}\n",
    "sacrebleu eval:  {'score': 42.949318048403676, 'counts': [67763, 49948, 42896, 37707], 'totals': [115638, 112403, 109168, 105933], 'precisions': [58.59924938169114, 44.43653639137745, 39.29356588011139, 35.59514032454476], 'bp': 0.9831508772757344, 'sys_len': 115638, 'ref_len': 117603}\n",
    "time:  306.15183544158936\n",
    "\n",
    "\n",
    "TextRank_sumy \n",
    "\n",
    "rouge simple:  {'rouge-1': {'r': 0.4202856142975468, 'p': 0.56609748028954, 'f': 0.45691008347545203}, 'rouge-2': {'r': 0.3090260284798879, 'p': 0.4191738633137231, 'f': 0.3357277785579729}, 'rouge-l': {'r': 0.41584443095303136, 'p': 0.5611539857633766, 'f': 0.4524359259579006}}\n",
    "rouge eval:  {'rouge1': 0.4306196831946762, 'rouge2': 0.30387914081445533, 'rougeL': 0.39584595184674015, 'rougeLsum': 0.3956800726628292}\n",
    "tokenizer_config.json: 100%\n",
    "48.0/48.0 [00:00<00:00, 3.92kB/s]\n",
    "config.json: 100%\n",
    "483/483 [00:00<00:00, 35.5kB/s]\n",
    "vocab.txt: 100%\n",
    "232k/232k [00:00<00:00, 1.40MB/s]\n",
    "tokenizer.json: 100%\n",
    "466k/466k [00:00<00:00, 1.90MB/s]\n",
    "model.safetensors: 100%\n",
    "268M/268M [00:01<00:00, 304MB/s]\n",
    "bertscore precision:  0.849725920947663\n",
    "bertscore recall:  0.8113602502452903\n",
    "bertscore f1:  0.8289247225572742\n",
    "meteor:  {'meteor': 0.4293088865419585}\n",
    "bleu eval:  {'bleu': 0.28861456729813445, 'precisions': [0.4271005723630417, 0.2937449879711307, 0.25000512277586145, 0.22121952923098415], 'brevity_penalty': 1.0, 'length_ratio': 1.2791281429109316, 'translation_length': 152875, 'reference_length': 119515}\n",
    "google_bleu eval:  {'google_bleu': 0.2942979974727028}\n",
    "sacrebleu eval:  {'score': 28.797921310154514, 'counts': [64020, 42996, 35791, 30933], 'totals': [149983, 146748, 143513, 140278], 'precisions': [42.68483761492969, 29.299206803499878, 24.939204113913025, 22.05121259213847], 'bp': 1.0, 'sys_len': 149983, 'ref_len': 117603}\n",
    "time:  366.0986559391022\n",
    "\n",
    "\n",
    "LexRank_sumy \n",
    "\n",
    "rouge simple:  {'rouge-1': {'r': 0.43933911438595835, 'p': 0.43892359230873734, 'f': 0.4228012293838946}, 'rouge-2': {'r': 0.2657046815250835, 'p': 0.2771408347070175, 'f': 0.2609560133685846}, 'rouge-l': {'r': 0.4301301044271096, 'p': 0.430022273458026, 'f': 0.41407300017401516}}\n",
    "rouge eval:  {'rouge1': 0.4181124325388066, 'rouge2': 0.2545007461312576, 'rougeL': 0.35323056352051885, 'rougeLsum': 0.35324188194423667}\n",
    "bertscore precision:  0.8180492369984917\n",
    "bertscore recall:  0.812771516218436\n",
    "bertscore f1:  0.8146764084765863\n",
    "meteor:  {'meteor': 0.390586830429896}\n",
    "bleu eval:  {'bleu': 0.2671294679254457, 'precisions': [0.45224842648062485, 0.2714968709915653, 0.2191786283891547, 0.18921131256906643], 'brevity_penalty': 1.0, 'length_ratio': 1.1033761452537338, 'translation_length': 131870, 'reference_length': 119515}\n",
    "google_bleu eval:  {'google_bleu': 0.2697722897467734}\n",
    "sacrebleu eval:  {'score': 26.55790614404525, 'counts': [58488, 34147, 26881, 22579], 'totals': [129844, 126609, 123374, 120139], 'precisions': [45.0448230183913, 26.970436540846226, 21.78822118112406, 18.79406354306262], 'bp': 1.0, 'sys_len': 129844, 'ref_len': 117603}\n",
    "time:  282.064404964447\n",
    "\n",
    "\n",
    "Luhn_sumy \n",
    "\n",
    "rouge simple:  {'rouge-1': {'r': 0.4970036460868246, 'p': 0.53988667136399, 'f': 0.4985778789344572}, 'rouge-2': {'r': 0.3676446504636448, 'p': 0.41532261903420664, 'f': 0.3754567005536476}, 'rouge-l': {'r': 0.49153660407777366, 'p': 0.5350329397085533, 'f': 0.4936884986241031}}\n",
    "rouge eval:  {'rouge1': 0.4421700959345741, 'rouge2': 0.32535842551823335, 'rougeL': 0.40380811387941096, 'rougeLsum': 0.40368706534177823}\n",
    "bertscore precision:  0.8363025780807507\n",
    "bertscore recall:  0.8259760606970632\n",
    "bertscore f1:  0.830114625981639\n",
    "meteor:  {'meteor': 0.4653354986419591}\n",
    "bleu eval:  {'bleu': 0.2963019616219129, 'precisions': [0.41917540248783386, 0.297859450726979, 0.26088612257383836, 0.23663553069208518], 'brevity_penalty': 1.0, 'length_ratio': 1.394394009120194, 'translation_length': 166651, 'reference_length': 119515}\n",
    "google_bleu eval:  {'google_bleu': 0.3039661847447659}\n",
    "sacrebleu eval:  {'score': 29.583418338134734, 'counts': [68473, 47626, 40885, 36316], 'totals': [163459, 160224, 156989, 153754], 'precisions': [41.89001523317774, 29.7246355102856, 26.043225958506646, 23.61954810931748], 'bp': 1.0, 'sys_len': 163459, 'ref_len': 117603}\n",
    "time:  347.1944510936737\n",
    "\n",
    "\n",
    "Lsa_sumy \n",
    "\n",
    "rouge simple:  {'rouge-1': {'r': 0.4207054276431693, 'p': 0.36326010553963034, 'f': 0.3753597108465235}, 'rouge-2': {'r': 0.239943527895335, 'p': 0.23634796312263004, 'f': 0.22956789060793514}, 'rouge-l': {'r': 0.4118905356083235, 'p': 0.35683396930801736, 'f': 0.36817374419072324}}\n",
    "rouge eval:  {'rouge1': 0.3535237869432498, 'rouge2': 0.21231346008523233, 'rougeL': 0.30429302284936555, 'rougeLsum': 0.30423438888081866}\n",
    "bertscore precision:  0.7929132299592727\n",
    "bertscore recall:  0.7969381388409245\n",
    "bertscore f1:  0.7942616393245537\n",
    "meteor:  {'meteor': 0.36129192183774667}\n",
    "bleu eval:  {'bleu': 0.21450161692182934, 'precisions': [0.3729050660552462, 0.21075438388377563, 0.1745934291874295, 0.15428350104867763], 'brevity_penalty': 1.0, 'length_ratio': 1.2261557126720495, 'translation_length': 146544, 'reference_length': 119515}\n",
    "google_bleu eval:  {'google_bleu': 0.22421613752799824}\n",
    "sacrebleu eval:  {'score': 21.35191084075834, 'counts': [53477, 29490, 23915, 20649], 'totals': [144028, 140793, 137558, 134323], 'precisions': [37.129585913850086, 20.945643604440562, 17.385393797525406, 15.372646531122742], 'bp': 1.0, 'sys_len': 144028, 'ref_len': 117603}\n",
    "time:  299.44175362586975\n",
    "\n",
    "\n",
    "KLSummarizer_sumy \n",
    "\n",
    "rouge simple:  {'rouge-1': {'r': 0.29890835898209955, 'p': 0.4828436223561041, 'f': 0.3527472943815391}, 'rouge-2': {'r': 0.20445792539920707, 'p': 0.3188783203819476, 'f': 0.23835907792419128}, 'rouge-l': {'r': 0.2960693631895915, 'p': 0.47826652988143725, 'f': 0.34943602433453835}}\n",
    "rouge eval:  {'rouge1': 0.3605530251282001, 'rouge2': 0.24869969563146943, 'rougeL': 0.32945139854324446, 'rougeLsum': 0.3296602133801216}\n",
    "bertscore precision:  0.8225466087391424\n",
    "bertscore recall:  0.7720744290528747\n",
    "bertscore f1:  0.7954679774169391\n",
    "meteor:  {'meteor': 0.31022325892403596}\n",
    "bleu eval:  {'bleu': 0.21738820530749892, 'precisions': [0.5474358974358975, 0.354818000898761, 0.29639651707970527, 0.2576069453196107], 'brevity_penalty': 0.6229362181642872, 'length_ratio': 0.6787432539848555, 'translation_length': 81120, 'reference_length': 119515}\n",
    "google_bleu eval:  {'google_bleu': 0.2368773531040582}\n",
    "sacrebleu eval:  {'score': 21.675384305160556, 'counts': [43665, 27054, 21654, 17982], 'totals': [79921, 76686, 73451, 70216], 'precisions': [54.63520226223395, 35.27892966121587, 29.480878408735077, 25.609547681440127], 'bp': 0.6240713357937309, 'sys_len': 79921, 'ref_len': 117603}\n",
    "time:  248.03196954727173\n",
    "\n",
    "\n",
    "spacy_textrank \n",
    "\n",
    "rouge simple:  {'rouge-1': {'r': 0.3089797547594353, 'p': 0.3551103189532472, 'f': 0.3133525688633596}, 'rouge-2': {'r': 0.1796231861672892, 'p': 0.22467345352907883, 'f': 0.18969685968290875}, 'rouge-l': {'r': 0.3033867742076797, 'p': 0.34970764805064736, 'f': 0.3080639665811594}}\n",
    "rouge eval:  {'rouge1': 0.3047887995217995, 'rouge2': 0.18138411925508194, 'rougeL': 0.2615401428443215, 'rougeLsum': 0.26147899934763896}\n",
    "bertscore precision:  0.7925664450691141\n",
    "bertscore recall:  0.7743253163244845\n",
    "bertscore f1:  0.7824995306396779\n",
    "meteor:  {'meteor': 0.2947987079674816}\n",
    "bleu eval:  {'bleu': 0.2103994915561847, 'precisions': [0.3728206314882344, 0.20901317082759976, 0.1699241920691947, 0.14799598678406475], 'brevity_penalty': 1.0, 'length_ratio': 1.0485964104924068, 'translation_length': 125323, 'reference_length': 119515}\n",
    "google_bleu eval:  {'google_bleu': 0.20802471295875083}\n",
    "sacrebleu eval:  {'score': 20.955322462155337, 'counts': [45728, 24873, 19716, 16688], 'totals': [122937, 119702, 116467, 113232], 'precisions': [37.19628752938497, 20.779101435230825, 16.928400319403778, 14.737883283877348], 'bp': 1.0, 'sys_len': 122937, 'ref_len': 117603}\n",
    "time:  324.0528464317322\n",
    "\n",
    "\n",
    "spacy_topicrank \n",
    "\n",
    "rouge simple:  {'rouge-1': {'r': 0.32988492147906034, 'p': 0.4582279190125927, 'f': 0.36312213312839026}, 'rouge-2': {'r': 0.2156779020771399, 'p': 0.3187143707986004, 'f': 0.24399132267022985}, 'rouge-l': {'r': 0.32561291847758717, 'p': 0.453552567310969, 'f': 0.35886297831887054}}\n",
    "rouge eval:  {'rouge1': 0.33986034276974486, 'rouge2': 0.22176134238948486, 'rougeL': 0.30083754946074337, 'rougeLsum': 0.3004598035807401}\n",
    "bertscore precision:  0.815373733975972\n",
    "bertscore recall:  0.7782999681357807\n",
    "bertscore f1:  0.7953423961052755\n",
    "meteor:  {'meteor': 0.33112601563390487}\n",
    "bleu eval:  {'bleu': 0.24583737121136107, 'precisions': [0.39751679059257694, 0.2454838606173394, 0.20612868425170264, 0.18158282146301843], 'brevity_penalty': 1.0, 'length_ratio': 1.0701501903526753, 'translation_length': 127899, 'reference_length': 119515}\n",
    "google_bleu eval:  {'google_bleu': 0.24005160627403468}\n",
    "sacrebleu eval:  {'score': 24.504794976984723, 'counts': [49816, 29936, 24493, 20976], 'totals': [125641, 122406, 119171, 115936], 'precisions': [39.6494774794852, 24.456317500776105, 20.552819058327948, 18.09274082252277], 'bp': 1.0, 'sys_len': 125641, 'ref_len': 117603}\n",
    "time:  325.3043463230133\n",
    "\n",
    "\n",
    "spacy_positionrank \n",
    "\n",
    "rouge simple:  {'rouge-1': {'r': 0.3149624521655952, 'p': 0.3813922554380038, 'f': 0.3260093225087969}, 'rouge-2': {'r': 0.18884595544966284, 'p': 0.2457350126958773, 'f': 0.2020052856784436}, 'rouge-l': {'r': 0.3101432761223329, 'p': 0.37652864588030416, 'f': 0.32137337935082655}}\n",
    "rouge eval:  {'rouge1': 0.3163641690857001, 'rouge2': 0.192196073314086, 'rougeL': 0.27472081043475993, 'rougeLsum': 0.2749068572740403}\n",
    "bertscore precision:  0.7986910593933447\n",
    "bertscore recall:  0.7755799522539932\n",
    "bertscore f1:  0.7860277622339346\n",
    "meteor:  {'meteor': 0.30508330104499715}\n",
    "bleu eval:  {'bleu': 0.22013549800263615, 'precisions': [0.3829746302753397, 0.2195687952600395, 0.1792450437502642, 0.1558018252933507], 'brevity_penalty': 1.0, 'length_ratio': 1.0438438689704221, 'translation_length': 124755, 'reference_length': 119515}\n",
    "google_bleu eval:  {'google_bleu': 0.21579590138111554}\n",
    "sacrebleu eval:  {'score': 21.928266379833776, 'counts': [46767, 26019, 20700, 17481], 'totals': [122381, 119146, 115911, 112676], 'precisions': [38.2142652862781, 21.837913148574017, 17.85852938892771, 15.514395257197629], 'bp': 1.0, 'sys_len': 122381, 'ref_len': 117603}\n",
    "time:  322.240318775177\n",
    "\n",
    "\n",
    "bert_ext_sum_simple \n",
    "\n",
    "rouge simple:  {'rouge-1': {'r': 0.5082026197051005, 'p': 0.47104295634533966, 'f': 0.47860916412641724}, 'rouge-2': {'r': 0.35231541994761756, 'p': 0.34028522539834344, 'f': 0.3391851743888093}, 'rouge-l': {'r': 0.5034731052047545, 'p': 0.46652111687158393, 'f': 0.47408671236938843}}\n",
    "rouge eval:  {'rouge1': 0.46347234702467577, 'rouge2': 0.33297134734548106, 'rougeL': 0.4032094081374784, 'rougeLsum': 0.4034103305796647}\n",
    "bertscore precision:  0.8272762460539109\n",
    "bertscore recall:  0.8411727072282404\n",
    "bertscore f1:  0.8336933928074018\n",
    "meteor:  {'meteor': 0.43246878585124277}\n",
    "bleu eval:  {'bleu': 0.35092839277412324, 'precisions': [0.5268666028136341, 0.3763928080457275, 0.32437367817912477, 0.28818997483140885], 'brevity_penalty': 0.9510468074539731, 'length_ratio': 0.9522068359620132, 'translation_length': 113803, 'reference_length': 119515}\n",
    "google_bleu eval:  {'google_bleu': 0.34012559432283657}\n",
    "sacrebleu eval:  {'score': 35.00605768392562, 'counts': [58895, 40822, 34147, 29382], 'totals': [112238, 109003, 105768, 102533], 'precisions': [52.473315632851616, 37.45034540333752, 32.28481204144921, 28.65613997444725], 'bp': 0.953324232445774, 'sys_len': 112238, 'ref_len': 117603}\n",
    "time:  270.8632547855377\n",
    "\n",
    "\n",
    "sbert_ext_sum_simple \n",
    "\n",
    "rouge simple:  {'rouge-1': {'r': 0.5304567175978562, 'p': 0.4955463639484166, 'f': 0.5011796940232476}, 'rouge-2': {'r': 0.373702857204147, 'p': 0.3669758325333621, 'f': 0.36244641009977346}, 'rouge-l': {'r': 0.5261628281902638, 'p': 0.49133477136787196, 'f': 0.4970177915742171}}\n",
    "rouge eval:  {'rouge1': 0.47770767447401324, 'rouge2': 0.35064854464695205, 'rougeL': 0.4170743177602988, 'rougeLsum': 0.4170143583740157}\n",
    "bertscore precision:  0.8305041811381463\n",
    "bertscore recall:  0.8492518770455209\n",
    "bertscore f1:  0.839253167335917\n",
    "meteor:  {'meteor': 0.44316983140215954}\n",
    "bleu eval:  {'bleu': 0.3597221411546313, 'precisions': [0.5485685210928485, 0.4015689064459963, 0.3474529640605844, 0.30846187572242817], 'brevity_penalty': 0.9176879955140602, 'length_ratio': 0.9208969585407689, 'translation_length': 110061, 'reference_length': 119515}\n",
    "google_bleu eval:  {'google_bleu': 0.3520943126342305}\n",
    "sacrebleu eval:  {'score': 35.860604783074805, 'counts': [59269, 42058, 35277, 30288], 'totals': [108423, 105188, 101953, 98718], 'precisions': [54.66460068435664, 39.98364832490398, 34.60123782527243, 30.681334710994957], 'bp': 0.9188169299623486, 'sys_len': 108423, 'ref_len': 117603}\n",
    "time:  270.2467885017395\n",
    "\n",
    "\n",
    "\n",
    "\n",
    "\n",
    "\n",
    "\n",
    "\n",
    "\n",
    "\n",
    "\n",
    "'''"
   ]
  },
  {
   "cell_type": "code",
   "execution_count": null,
   "id": "aea24711",
   "metadata": {
    "papermill": {
     "duration": 0.08981,
     "end_time": "2024-05-18T13:48:07.431119",
     "exception": false,
     "start_time": "2024-05-18T13:48:07.341309",
     "status": "completed"
    },
    "tags": []
   },
   "outputs": [],
   "source": []
  },
  {
   "cell_type": "code",
   "execution_count": null,
   "id": "c1f3699a",
   "metadata": {
    "papermill": {
     "duration": 0.090857,
     "end_time": "2024-05-18T13:48:07.613298",
     "exception": false,
     "start_time": "2024-05-18T13:48:07.522441",
     "status": "completed"
    },
    "tags": []
   },
   "outputs": [],
   "source": []
  },
  {
   "cell_type": "code",
   "execution_count": 108,
   "id": "800abb62",
   "metadata": {
    "execution": {
     "iopub.execute_input": "2024-05-18T13:48:07.801630Z",
     "iopub.status.busy": "2024-05-18T13:48:07.801074Z",
     "iopub.status.idle": "2024-05-18T13:48:07.806911Z",
     "shell.execute_reply": "2024-05-18T13:48:07.805556Z"
    },
    "papermill": {
     "duration": 0.102039,
     "end_time": "2024-05-18T13:48:07.809715",
     "exception": false,
     "start_time": "2024-05-18T13:48:07.707676",
     "status": "completed"
    },
    "tags": []
   },
   "outputs": [],
   "source": [
    "#hyps, refs = map(list, zip(*[[row['generated_summary'], row['clean_summary']] for index, row in temp_df.iterrows()]))"
   ]
  },
  {
   "cell_type": "code",
   "execution_count": 109,
   "id": "f3ca5724",
   "metadata": {
    "execution": {
     "iopub.execute_input": "2024-05-18T13:48:07.993360Z",
     "iopub.status.busy": "2024-05-18T13:48:07.992809Z",
     "iopub.status.idle": "2024-05-18T13:48:07.999072Z",
     "shell.execute_reply": "2024-05-18T13:48:07.997681Z"
    },
    "papermill": {
     "duration": 0.100334,
     "end_time": "2024-05-18T13:48:08.001507",
     "exception": false,
     "start_time": "2024-05-18T13:48:07.901173",
     "status": "completed"
    },
    "tags": []
   },
   "outputs": [],
   "source": [
    "#scores = rouge_simple.get_scores(hyps, refs, avg=True)"
   ]
  },
  {
   "cell_type": "code",
   "execution_count": 110,
   "id": "1a13925f",
   "metadata": {
    "execution": {
     "iopub.execute_input": "2024-05-18T13:48:08.187643Z",
     "iopub.status.busy": "2024-05-18T13:48:08.187126Z",
     "iopub.status.idle": "2024-05-18T13:48:08.191655Z",
     "shell.execute_reply": "2024-05-18T13:48:08.190662Z"
    },
    "papermill": {
     "duration": 0.100203,
     "end_time": "2024-05-18T13:48:08.194217",
     "exception": false,
     "start_time": "2024-05-18T13:48:08.094014",
     "status": "completed"
    },
    "tags": []
   },
   "outputs": [],
   "source": [
    "#scores"
   ]
  },
  {
   "cell_type": "code",
   "execution_count": 111,
   "id": "d36cb733",
   "metadata": {
    "execution": {
     "iopub.execute_input": "2024-05-18T13:48:08.387558Z",
     "iopub.status.busy": "2024-05-18T13:48:08.386944Z",
     "iopub.status.idle": "2024-05-18T13:48:08.392817Z",
     "shell.execute_reply": "2024-05-18T13:48:08.391520Z"
    },
    "papermill": {
     "duration": 0.105496,
     "end_time": "2024-05-18T13:48:08.395775",
     "exception": false,
     "start_time": "2024-05-18T13:48:08.290279",
     "status": "completed"
    },
    "tags": []
   },
   "outputs": [],
   "source": [
    "#results_rouge = rouge_eval.compute(predictions=hyps, references=refs)"
   ]
  },
  {
   "cell_type": "code",
   "execution_count": 112,
   "id": "58129184",
   "metadata": {
    "execution": {
     "iopub.execute_input": "2024-05-18T13:48:08.580710Z",
     "iopub.status.busy": "2024-05-18T13:48:08.580137Z",
     "iopub.status.idle": "2024-05-18T13:48:08.585243Z",
     "shell.execute_reply": "2024-05-18T13:48:08.584227Z"
    },
    "papermill": {
     "duration": 0.09972,
     "end_time": "2024-05-18T13:48:08.588129",
     "exception": false,
     "start_time": "2024-05-18T13:48:08.488409",
     "status": "completed"
    },
    "tags": []
   },
   "outputs": [],
   "source": [
    "#results_rouge"
   ]
  },
  {
   "cell_type": "code",
   "execution_count": 113,
   "id": "2623f0e9",
   "metadata": {
    "execution": {
     "iopub.execute_input": "2024-05-18T13:48:08.777659Z",
     "iopub.status.busy": "2024-05-18T13:48:08.777010Z",
     "iopub.status.idle": "2024-05-18T13:48:08.782950Z",
     "shell.execute_reply": "2024-05-18T13:48:08.781845Z"
    },
    "papermill": {
     "duration": 0.103708,
     "end_time": "2024-05-18T13:48:08.785591",
     "exception": false,
     "start_time": "2024-05-18T13:48:08.681883",
     "status": "completed"
    },
    "tags": []
   },
   "outputs": [],
   "source": [
    "#results_bertscore = bertscore_eval.compute(predictions=hyps, references=refs, lang=\"en\")"
   ]
  },
  {
   "cell_type": "code",
   "execution_count": 114,
   "id": "90822e8f",
   "metadata": {
    "execution": {
     "iopub.execute_input": "2024-05-18T13:48:08.974108Z",
     "iopub.status.busy": "2024-05-18T13:48:08.973547Z",
     "iopub.status.idle": "2024-05-18T13:48:08.979034Z",
     "shell.execute_reply": "2024-05-18T13:48:08.977811Z"
    },
    "papermill": {
     "duration": 0.101746,
     "end_time": "2024-05-18T13:48:08.981623",
     "exception": false,
     "start_time": "2024-05-18T13:48:08.879877",
     "status": "completed"
    },
    "tags": []
   },
   "outputs": [],
   "source": [
    "#import statistics"
   ]
  },
  {
   "cell_type": "code",
   "execution_count": 115,
   "id": "24451bff",
   "metadata": {
    "execution": {
     "iopub.execute_input": "2024-05-18T13:48:09.169761Z",
     "iopub.status.busy": "2024-05-18T13:48:09.169152Z",
     "iopub.status.idle": "2024-05-18T13:48:09.175074Z",
     "shell.execute_reply": "2024-05-18T13:48:09.173400Z"
    },
    "papermill": {
     "duration": 0.10272,
     "end_time": "2024-05-18T13:48:09.178178",
     "exception": false,
     "start_time": "2024-05-18T13:48:09.075458",
     "status": "completed"
    },
    "tags": []
   },
   "outputs": [],
   "source": [
    "#print('bertscore precision', statistics.mean(results_bertscore['precision']))\n",
    "#print('bertscore recall', statistics.mean(results_bertscore['recall']))\n",
    "#print('bertscore f1', statistics.mean(results_bertscore['f1']))"
   ]
  },
  {
   "cell_type": "code",
   "execution_count": 116,
   "id": "c800a50c",
   "metadata": {
    "execution": {
     "iopub.execute_input": "2024-05-18T13:48:09.366449Z",
     "iopub.status.busy": "2024-05-18T13:48:09.365094Z",
     "iopub.status.idle": "2024-05-18T13:48:09.371689Z",
     "shell.execute_reply": "2024-05-18T13:48:09.370237Z"
    },
    "papermill": {
     "duration": 0.101508,
     "end_time": "2024-05-18T13:48:09.374078",
     "exception": false,
     "start_time": "2024-05-18T13:48:09.272570",
     "status": "completed"
    },
    "tags": []
   },
   "outputs": [],
   "source": [
    "#lists_refs = [[ref] for ref in refs]"
   ]
  },
  {
   "cell_type": "code",
   "execution_count": 117,
   "id": "d920844b",
   "metadata": {
    "execution": {
     "iopub.execute_input": "2024-05-18T13:48:09.566380Z",
     "iopub.status.busy": "2024-05-18T13:48:09.565789Z",
     "iopub.status.idle": "2024-05-18T13:48:09.571077Z",
     "shell.execute_reply": "2024-05-18T13:48:09.569901Z"
    },
    "papermill": {
     "duration": 0.105772,
     "end_time": "2024-05-18T13:48:09.574423",
     "exception": false,
     "start_time": "2024-05-18T13:48:09.468651",
     "status": "completed"
    },
    "tags": []
   },
   "outputs": [],
   "source": [
    "#result_google_bleu = google_bleu_eval.compute(predictions=hyps, references=lists_refs)\n",
    "#result_google_bleu = google_bleu.compute(predictions=[sentence1], references=[[sentence2]])"
   ]
  },
  {
   "cell_type": "code",
   "execution_count": 118,
   "id": "1af3593e",
   "metadata": {
    "execution": {
     "iopub.execute_input": "2024-05-18T13:48:09.766584Z",
     "iopub.status.busy": "2024-05-18T13:48:09.765954Z",
     "iopub.status.idle": "2024-05-18T13:48:09.771860Z",
     "shell.execute_reply": "2024-05-18T13:48:09.770313Z"
    },
    "papermill": {
     "duration": 0.10379,
     "end_time": "2024-05-18T13:48:09.774502",
     "exception": false,
     "start_time": "2024-05-18T13:48:09.670712",
     "status": "completed"
    },
    "tags": []
   },
   "outputs": [],
   "source": [
    "#result_google_bleu"
   ]
  },
  {
   "cell_type": "code",
   "execution_count": 119,
   "id": "c0d51685",
   "metadata": {
    "execution": {
     "iopub.execute_input": "2024-05-18T13:48:09.960454Z",
     "iopub.status.busy": "2024-05-18T13:48:09.958990Z",
     "iopub.status.idle": "2024-05-18T13:48:09.965725Z",
     "shell.execute_reply": "2024-05-18T13:48:09.964412Z"
    },
    "papermill": {
     "duration": 0.101387,
     "end_time": "2024-05-18T13:48:09.968681",
     "exception": false,
     "start_time": "2024-05-18T13:48:09.867294",
     "status": "completed"
    },
    "tags": []
   },
   "outputs": [],
   "source": [
    "#from nltk.tokenize import word_tokenize"
   ]
  },
  {
   "cell_type": "code",
   "execution_count": 120,
   "id": "628d5c70",
   "metadata": {
    "execution": {
     "iopub.execute_input": "2024-05-18T13:48:10.155255Z",
     "iopub.status.busy": "2024-05-18T13:48:10.154747Z",
     "iopub.status.idle": "2024-05-18T13:48:10.160656Z",
     "shell.execute_reply": "2024-05-18T13:48:10.159269Z"
    },
    "papermill": {
     "duration": 0.102843,
     "end_time": "2024-05-18T13:48:10.163354",
     "exception": false,
     "start_time": "2024-05-18T13:48:10.060511",
     "status": "completed"
    },
    "tags": []
   },
   "outputs": [],
   "source": [
    "#results_bleu = bleu_eval.compute(predictions=hyps, references=lists_refs, tokenizer=word_tokenize)\n",
    "#results_bleu = bleu_eval.compute(predictions=hyps, references=lists_refs)"
   ]
  },
  {
   "cell_type": "code",
   "execution_count": 121,
   "id": "e60188fa",
   "metadata": {
    "execution": {
     "iopub.execute_input": "2024-05-18T13:48:10.348501Z",
     "iopub.status.busy": "2024-05-18T13:48:10.347929Z",
     "iopub.status.idle": "2024-05-18T13:48:10.353181Z",
     "shell.execute_reply": "2024-05-18T13:48:10.351841Z"
    },
    "papermill": {
     "duration": 0.100977,
     "end_time": "2024-05-18T13:48:10.355754",
     "exception": false,
     "start_time": "2024-05-18T13:48:10.254777",
     "status": "completed"
    },
    "tags": []
   },
   "outputs": [],
   "source": [
    "#results_bleu"
   ]
  },
  {
   "cell_type": "code",
   "execution_count": 122,
   "id": "d71ae546",
   "metadata": {
    "execution": {
     "iopub.execute_input": "2024-05-18T13:48:10.539429Z",
     "iopub.status.busy": "2024-05-18T13:48:10.538877Z",
     "iopub.status.idle": "2024-05-18T13:48:10.545595Z",
     "shell.execute_reply": "2024-05-18T13:48:10.544011Z"
    },
    "papermill": {
     "duration": 0.101924,
     "end_time": "2024-05-18T13:48:10.548423",
     "exception": false,
     "start_time": "2024-05-18T13:48:10.446499",
     "status": "completed"
    },
    "tags": []
   },
   "outputs": [],
   "source": [
    "#results_bleurt = bleurt_eval.compute(predictions=hyps, references=refs)"
   ]
  },
  {
   "cell_type": "code",
   "execution_count": 123,
   "id": "dc5415e0",
   "metadata": {
    "execution": {
     "iopub.execute_input": "2024-05-18T13:48:10.736140Z",
     "iopub.status.busy": "2024-05-18T13:48:10.735645Z",
     "iopub.status.idle": "2024-05-18T13:48:10.741706Z",
     "shell.execute_reply": "2024-05-18T13:48:10.740356Z"
    },
    "papermill": {
     "duration": 0.103985,
     "end_time": "2024-05-18T13:48:10.744455",
     "exception": false,
     "start_time": "2024-05-18T13:48:10.640470",
     "status": "completed"
    },
    "tags": []
   },
   "outputs": [],
   "source": [
    "#print('bleurt ', statistics.mean(results_bleurt['scores']))"
   ]
  },
  {
   "cell_type": "code",
   "execution_count": 124,
   "id": "2a8968a3",
   "metadata": {
    "execution": {
     "iopub.execute_input": "2024-05-18T13:48:10.931467Z",
     "iopub.status.busy": "2024-05-18T13:48:10.930919Z",
     "iopub.status.idle": "2024-05-18T13:48:10.936411Z",
     "shell.execute_reply": "2024-05-18T13:48:10.935097Z"
    },
    "papermill": {
     "duration": 0.099327,
     "end_time": "2024-05-18T13:48:10.938959",
     "exception": false,
     "start_time": "2024-05-18T13:48:10.839632",
     "status": "completed"
    },
    "tags": []
   },
   "outputs": [],
   "source": [
    "#results_sacrebleu = sacrebleu_eval.compute(predictions=hyps, references=lists_refs)"
   ]
  },
  {
   "cell_type": "code",
   "execution_count": 125,
   "id": "7e57a299",
   "metadata": {
    "execution": {
     "iopub.execute_input": "2024-05-18T13:48:11.122042Z",
     "iopub.status.busy": "2024-05-18T13:48:11.121558Z",
     "iopub.status.idle": "2024-05-18T13:48:11.126841Z",
     "shell.execute_reply": "2024-05-18T13:48:11.125544Z"
    },
    "papermill": {
     "duration": 0.099756,
     "end_time": "2024-05-18T13:48:11.129539",
     "exception": false,
     "start_time": "2024-05-18T13:48:11.029783",
     "status": "completed"
    },
    "tags": []
   },
   "outputs": [],
   "source": [
    "#results_sacrebleu"
   ]
  },
  {
   "cell_type": "code",
   "execution_count": 126,
   "id": "9cea0069",
   "metadata": {
    "execution": {
     "iopub.execute_input": "2024-05-18T13:48:11.313432Z",
     "iopub.status.busy": "2024-05-18T13:48:11.312893Z",
     "iopub.status.idle": "2024-05-18T13:48:11.319061Z",
     "shell.execute_reply": "2024-05-18T13:48:11.317433Z"
    },
    "papermill": {
     "duration": 0.101163,
     "end_time": "2024-05-18T13:48:11.322187",
     "exception": false,
     "start_time": "2024-05-18T13:48:11.221024",
     "status": "completed"
    },
    "tags": []
   },
   "outputs": [],
   "source": [
    "#nltk.download()"
   ]
  },
  {
   "cell_type": "code",
   "execution_count": 127,
   "id": "c49a03f4",
   "metadata": {
    "execution": {
     "iopub.execute_input": "2024-05-18T13:48:11.505316Z",
     "iopub.status.busy": "2024-05-18T13:48:11.504842Z",
     "iopub.status.idle": "2024-05-18T13:48:11.509949Z",
     "shell.execute_reply": "2024-05-18T13:48:11.508932Z"
    },
    "papermill": {
     "duration": 0.099662,
     "end_time": "2024-05-18T13:48:11.512578",
     "exception": false,
     "start_time": "2024-05-18T13:48:11.412916",
     "status": "completed"
    },
    "tags": []
   },
   "outputs": [],
   "source": [
    "#results_meteor = meteor_eval.compute(predictions=hyps, references=refs)"
   ]
  },
  {
   "cell_type": "code",
   "execution_count": 128,
   "id": "f6aa8d1f",
   "metadata": {
    "execution": {
     "iopub.execute_input": "2024-05-18T13:48:11.698055Z",
     "iopub.status.busy": "2024-05-18T13:48:11.697528Z",
     "iopub.status.idle": "2024-05-18T13:48:11.703169Z",
     "shell.execute_reply": "2024-05-18T13:48:11.701410Z"
    },
    "papermill": {
     "duration": 0.102474,
     "end_time": "2024-05-18T13:48:11.706126",
     "exception": false,
     "start_time": "2024-05-18T13:48:11.603652",
     "status": "completed"
    },
    "tags": []
   },
   "outputs": [],
   "source": [
    "#results_meteor"
   ]
  },
  {
   "cell_type": "code",
   "execution_count": null,
   "id": "c223262f",
   "metadata": {
    "papermill": {
     "duration": 0.089863,
     "end_time": "2024-05-18T13:48:11.890778",
     "exception": false,
     "start_time": "2024-05-18T13:48:11.800915",
     "status": "completed"
    },
    "tags": []
   },
   "outputs": [],
   "source": []
  },
  {
   "cell_type": "code",
   "execution_count": null,
   "id": "f0d61712",
   "metadata": {
    "papermill": {
     "duration": 0.092214,
     "end_time": "2024-05-18T13:48:12.073826",
     "exception": false,
     "start_time": "2024-05-18T13:48:11.981612",
     "status": "completed"
    },
    "tags": []
   },
   "outputs": [],
   "source": []
  },
  {
   "cell_type": "code",
   "execution_count": 129,
   "id": "002a1299",
   "metadata": {
    "execution": {
     "iopub.execute_input": "2024-05-18T13:48:12.260885Z",
     "iopub.status.busy": "2024-05-18T13:48:12.259381Z",
     "iopub.status.idle": "2024-05-18T13:48:12.264986Z",
     "shell.execute_reply": "2024-05-18T13:48:12.263884Z"
    },
    "papermill": {
     "duration": 0.101652,
     "end_time": "2024-05-18T13:48:12.267853",
     "exception": false,
     "start_time": "2024-05-18T13:48:12.166201",
     "status": "completed"
    },
    "tags": []
   },
   "outputs": [],
   "source": [
    "#pip install -U sentence-transformers"
   ]
  },
  {
   "cell_type": "code",
   "execution_count": 130,
   "id": "ba5d310d",
   "metadata": {
    "execution": {
     "iopub.execute_input": "2024-05-18T13:48:12.451557Z",
     "iopub.status.busy": "2024-05-18T13:48:12.450014Z",
     "iopub.status.idle": "2024-05-18T13:48:12.455814Z",
     "shell.execute_reply": "2024-05-18T13:48:12.454824Z"
    },
    "papermill": {
     "duration": 0.09968,
     "end_time": "2024-05-18T13:48:12.458194",
     "exception": false,
     "start_time": "2024-05-18T13:48:12.358514",
     "status": "completed"
    },
    "tags": []
   },
   "outputs": [],
   "source": [
    "#test_res['clean_text'].iloc[0]"
   ]
  },
  {
   "cell_type": "code",
   "execution_count": 131,
   "id": "6b45c1b0",
   "metadata": {
    "execution": {
     "iopub.execute_input": "2024-05-18T13:48:12.647018Z",
     "iopub.status.busy": "2024-05-18T13:48:12.646052Z",
     "iopub.status.idle": "2024-05-18T13:48:12.653155Z",
     "shell.execute_reply": "2024-05-18T13:48:12.651434Z"
    },
    "papermill": {
     "duration": 0.107566,
     "end_time": "2024-05-18T13:48:12.656821",
     "exception": false,
     "start_time": "2024-05-18T13:48:12.549255",
     "status": "completed"
    },
    "tags": []
   },
   "outputs": [],
   "source": [
    "#test_res['clean_summary'].iloc[0]"
   ]
  },
  {
   "cell_type": "code",
   "execution_count": 132,
   "id": "99e9fca3",
   "metadata": {
    "execution": {
     "iopub.execute_input": "2024-05-18T13:48:12.887232Z",
     "iopub.status.busy": "2024-05-18T13:48:12.886167Z",
     "iopub.status.idle": "2024-05-18T13:48:12.891680Z",
     "shell.execute_reply": "2024-05-18T13:48:12.890650Z"
    },
    "papermill": {
     "duration": 0.132265,
     "end_time": "2024-05-18T13:48:12.894286",
     "exception": false,
     "start_time": "2024-05-18T13:48:12.762021",
     "status": "completed"
    },
    "tags": []
   },
   "outputs": [],
   "source": [
    "#from summarizer.sbert import SBertSummarizer"
   ]
  },
  {
   "cell_type": "code",
   "execution_count": 133,
   "id": "890190dd",
   "metadata": {
    "execution": {
     "iopub.execute_input": "2024-05-18T13:48:13.085775Z",
     "iopub.status.busy": "2024-05-18T13:48:13.085212Z",
     "iopub.status.idle": "2024-05-18T13:48:13.090637Z",
     "shell.execute_reply": "2024-05-18T13:48:13.089267Z"
    },
    "papermill": {
     "duration": 0.101833,
     "end_time": "2024-05-18T13:48:13.093301",
     "exception": false,
     "start_time": "2024-05-18T13:48:12.991468",
     "status": "completed"
    },
    "tags": []
   },
   "outputs": [],
   "source": [
    "#body = test_res['clean_text'].iloc[0]\n",
    "#model = SBertSummarizer('paraphrase-MiniLM-L6-v2')\n",
    "#result = model(body, ratio=0.13)"
   ]
  },
  {
   "cell_type": "code",
   "execution_count": 134,
   "id": "f79c7b18",
   "metadata": {
    "execution": {
     "iopub.execute_input": "2024-05-18T13:48:13.324251Z",
     "iopub.status.busy": "2024-05-18T13:48:13.323620Z",
     "iopub.status.idle": "2024-05-18T13:48:13.332541Z",
     "shell.execute_reply": "2024-05-18T13:48:13.331481Z"
    },
    "papermill": {
     "duration": 0.129141,
     "end_time": "2024-05-18T13:48:13.335583",
     "exception": false,
     "start_time": "2024-05-18T13:48:13.206442",
     "status": "completed"
    },
    "tags": []
   },
   "outputs": [],
   "source": [
    "#result"
   ]
  },
  {
   "cell_type": "code",
   "execution_count": null,
   "id": "08ce8b20",
   "metadata": {
    "papermill": {
     "duration": 0.089203,
     "end_time": "2024-05-18T13:48:13.525995",
     "exception": false,
     "start_time": "2024-05-18T13:48:13.436792",
     "status": "completed"
    },
    "tags": []
   },
   "outputs": [],
   "source": []
  },
  {
   "cell_type": "code",
   "execution_count": 135,
   "id": "739fb1fd",
   "metadata": {
    "execution": {
     "iopub.execute_input": "2024-05-18T13:48:13.710909Z",
     "iopub.status.busy": "2024-05-18T13:48:13.710260Z",
     "iopub.status.idle": "2024-05-18T13:48:13.716430Z",
     "shell.execute_reply": "2024-05-18T13:48:13.715208Z"
    },
    "papermill": {
     "duration": 0.103467,
     "end_time": "2024-05-18T13:48:13.719003",
     "exception": false,
     "start_time": "2024-05-18T13:48:13.615536",
     "status": "completed"
    },
    "tags": []
   },
   "outputs": [],
   "source": [
    "#!pip uninstall -y spacy"
   ]
  },
  {
   "cell_type": "code",
   "execution_count": 136,
   "id": "79769d09",
   "metadata": {
    "execution": {
     "iopub.execute_input": "2024-05-18T13:48:13.904318Z",
     "iopub.status.busy": "2024-05-18T13:48:13.903103Z",
     "iopub.status.idle": "2024-05-18T13:48:13.909449Z",
     "shell.execute_reply": "2024-05-18T13:48:13.907587Z"
    },
    "papermill": {
     "duration": 0.103486,
     "end_time": "2024-05-18T13:48:13.913144",
     "exception": false,
     "start_time": "2024-05-18T13:48:13.809658",
     "status": "completed"
    },
    "tags": []
   },
   "outputs": [],
   "source": [
    "#pip install spacy\n",
    "#!pip install --use-pep517 spacy==2.1.0"
   ]
  },
  {
   "cell_type": "code",
   "execution_count": 137,
   "id": "95455a98",
   "metadata": {
    "execution": {
     "iopub.execute_input": "2024-05-18T13:48:14.097603Z",
     "iopub.status.busy": "2024-05-18T13:48:14.096644Z",
     "iopub.status.idle": "2024-05-18T13:48:14.102973Z",
     "shell.execute_reply": "2024-05-18T13:48:14.101745Z"
    },
    "papermill": {
     "duration": 0.101415,
     "end_time": "2024-05-18T13:48:14.105597",
     "exception": false,
     "start_time": "2024-05-18T13:48:14.004182",
     "status": "completed"
    },
    "tags": []
   },
   "outputs": [],
   "source": [
    "#pip install transformers # > 4.0.0"
   ]
  },
  {
   "cell_type": "code",
   "execution_count": 138,
   "id": "24f2757c",
   "metadata": {
    "execution": {
     "iopub.execute_input": "2024-05-18T13:48:14.295880Z",
     "iopub.status.busy": "2024-05-18T13:48:14.294528Z",
     "iopub.status.idle": "2024-05-18T13:48:14.300511Z",
     "shell.execute_reply": "2024-05-18T13:48:14.299260Z"
    },
    "papermill": {
     "duration": 0.102049,
     "end_time": "2024-05-18T13:48:14.303181",
     "exception": false,
     "start_time": "2024-05-18T13:48:14.201132",
     "status": "completed"
    },
    "tags": []
   },
   "outputs": [],
   "source": [
    "#python -m spacy download en_core_web_md"
   ]
  },
  {
   "cell_type": "code",
   "execution_count": 139,
   "id": "beb3c2f1",
   "metadata": {
    "execution": {
     "iopub.execute_input": "2024-05-18T13:48:14.490402Z",
     "iopub.status.busy": "2024-05-18T13:48:14.489162Z",
     "iopub.status.idle": "2024-05-18T13:48:14.939108Z",
     "shell.execute_reply": "2024-05-18T13:48:14.937149Z"
    },
    "papermill": {
     "duration": 0.544652,
     "end_time": "2024-05-18T13:48:14.941201",
     "exception": true,
     "start_time": "2024-05-18T13:48:14.396549",
     "status": "failed"
    },
    "tags": []
   },
   "outputs": [
    {
     "ename": "ModuleNotFoundError",
     "evalue": "No module named 'neuralcoref'",
     "output_type": "error",
     "traceback": [
      "\u001b[0;31m---------------------------------------------------------------------------\u001b[0m",
      "\u001b[0;31mModuleNotFoundError\u001b[0m                       Traceback (most recent call last)",
      "Cell \u001b[0;32mIn[139], line 2\u001b[0m\n\u001b[1;32m      1\u001b[0m \u001b[38;5;28;01mfrom\u001b[39;00m \u001b[38;5;21;01msummarizer\u001b[39;00m \u001b[38;5;28;01mimport\u001b[39;00m Summarizer\n\u001b[0;32m----> 2\u001b[0m \u001b[38;5;28;01mfrom\u001b[39;00m \u001b[38;5;21;01msummarizer\u001b[39;00m\u001b[38;5;21;01m.\u001b[39;00m\u001b[38;5;21;01mtext_processors\u001b[39;00m\u001b[38;5;21;01m.\u001b[39;00m\u001b[38;5;21;01mcoreference_handler\u001b[39;00m \u001b[38;5;28;01mimport\u001b[39;00m CoreferenceHandler\n\u001b[1;32m      4\u001b[0m handler \u001b[38;5;241m=\u001b[39m CoreferenceHandler(greedyness\u001b[38;5;241m=\u001b[39m\u001b[38;5;241m.4\u001b[39m)\n\u001b[1;32m      5\u001b[0m \u001b[38;5;66;03m# How coreference works:\u001b[39;00m\n\u001b[1;32m      6\u001b[0m \u001b[38;5;66;03m# >>>handler.process('''My sister has a dog. She loves him.''', min_length=2)\u001b[39;00m\n\u001b[1;32m      7\u001b[0m \u001b[38;5;66;03m# ['My sister has a dog.', 'My sister loves a dog.']\u001b[39;00m\n",
      "File \u001b[0;32m/opt/conda/lib/python3.10/site-packages/summarizer/text_processors/coreference_handler.py:6\u001b[0m\n\u001b[1;32m      1\u001b[0m \u001b[38;5;66;03m# removed previous import and related functionality since it's just a blank language model,\u001b[39;00m\n\u001b[1;32m      2\u001b[0m \u001b[38;5;66;03m#  while neuralcoref requires passing pretrained language model via spacy.load()\u001b[39;00m\n\u001b[1;32m      4\u001b[0m \u001b[38;5;28;01mfrom\u001b[39;00m \u001b[38;5;21;01mtyping\u001b[39;00m \u001b[38;5;28;01mimport\u001b[39;00m List\n\u001b[0;32m----> 6\u001b[0m \u001b[38;5;28;01mimport\u001b[39;00m \u001b[38;5;21;01mneuralcoref\u001b[39;00m\n\u001b[1;32m      7\u001b[0m \u001b[38;5;28;01mimport\u001b[39;00m \u001b[38;5;21;01mspacy\u001b[39;00m\n\u001b[1;32m      9\u001b[0m \u001b[38;5;28;01mfrom\u001b[39;00m \u001b[38;5;21;01msummarizer\u001b[39;00m\u001b[38;5;21;01m.\u001b[39;00m\u001b[38;5;21;01mtext_processors\u001b[39;00m\u001b[38;5;21;01m.\u001b[39;00m\u001b[38;5;21;01msentence_abc\u001b[39;00m \u001b[38;5;28;01mimport\u001b[39;00m SentenceABC\n",
      "\u001b[0;31mModuleNotFoundError\u001b[0m: No module named 'neuralcoref'"
     ]
    }
   ],
   "source": [
    "from summarizer import Summarizer\n",
    "from summarizer.text_processors.coreference_handler import CoreferenceHandler\n",
    "\n",
    "handler = CoreferenceHandler(greedyness=.4)\n",
    "# How coreference works:\n",
    "# >>>handler.process('''My sister has a dog. She loves him.''', min_length=2)\n",
    "# ['My sister has a dog.', 'My sister loves a dog.']\n",
    "\n",
    "body = 'Text body that you want to summarize with BERT'\n",
    "body2 = 'Something else you want to summarize with BERT'\n",
    "model = Summarizer(sentence_handler=handler)\n",
    "model(body)\n",
    "model(body2)"
   ]
  },
  {
   "cell_type": "code",
   "execution_count": null,
   "id": "13e00ff2",
   "metadata": {
    "papermill": {
     "duration": null,
     "end_time": null,
     "exception": null,
     "start_time": null,
     "status": "pending"
    },
    "tags": []
   },
   "outputs": [],
   "source": []
  },
  {
   "cell_type": "code",
   "execution_count": null,
   "id": "8b2e5aef",
   "metadata": {
    "papermill": {
     "duration": null,
     "end_time": null,
     "exception": null,
     "start_time": null,
     "status": "pending"
    },
    "tags": []
   },
   "outputs": [],
   "source": []
  },
  {
   "cell_type": "code",
   "execution_count": null,
   "id": "fb5a708b",
   "metadata": {
    "papermill": {
     "duration": null,
     "end_time": null,
     "exception": null,
     "start_time": null,
     "status": "pending"
    },
    "tags": []
   },
   "outputs": [],
   "source": []
  },
  {
   "cell_type": "code",
   "execution_count": null,
   "id": "0a1d3737",
   "metadata": {
    "papermill": {
     "duration": null,
     "end_time": null,
     "exception": null,
     "start_time": null,
     "status": "pending"
    },
    "tags": []
   },
   "outputs": [],
   "source": []
  },
  {
   "cell_type": "code",
   "execution_count": null,
   "id": "cf97334d",
   "metadata": {
    "execution": {
     "iopub.status.busy": "2024-05-09T01:52:50.987713Z",
     "iopub.status.idle": "2024-05-09T01:52:50.988101Z",
     "shell.execute_reply": "2024-05-09T01:52:50.987934Z",
     "shell.execute_reply.started": "2024-05-09T01:52:50.987913Z"
    },
    "papermill": {
     "duration": null,
     "end_time": null,
     "exception": null,
     "start_time": null,
     "status": "pending"
    },
    "tags": []
   },
   "outputs": [],
   "source": [
    "def full_pipeline(combination_name):\n",
    "    start = time.time()\n",
    "    \n",
    "    temp_df = combined_df.sample(100)\n",
    "    \n",
    "    combined_df['clean_text'] = combined_df['unredacted_text'].apply(lambda x:preprocess_text(x, combination_name))\n",
    "    combined_df['clean_summary'] = combined_df['unredacted_summary'].apply(lambda x:preprocess_summary(x, combination_name))\n",
    "    combined_df['generated_summary'] = combined_df['clean_text'].apply(lambda x:generate_summary(x, combination_name))\n",
    "    \n",
    "    end = time.time()\n",
    "    print('time: ', end - start)\n",
    "    \n",
    "    return temp_df"
   ]
  },
  {
   "cell_type": "code",
   "execution_count": null,
   "id": "00800c97",
   "metadata": {
    "execution": {
     "iopub.status.busy": "2024-05-09T01:52:50.989606Z",
     "iopub.status.idle": "2024-05-09T01:52:50.990030Z",
     "shell.execute_reply": "2024-05-09T01:52:50.989809Z",
     "shell.execute_reply.started": "2024-05-09T01:52:50.989794Z"
    },
    "papermill": {
     "duration": null,
     "end_time": null,
     "exception": null,
     "start_time": null,
     "status": "pending"
    },
    "tags": []
   },
   "outputs": [],
   "source": [
    "# full_pipeline(combination_name)"
   ]
  },
  {
   "cell_type": "code",
   "execution_count": null,
   "id": "b7a96c64",
   "metadata": {
    "papermill": {
     "duration": null,
     "end_time": null,
     "exception": null,
     "start_time": null,
     "status": "pending"
    },
    "tags": []
   },
   "outputs": [],
   "source": []
  },
  {
   "cell_type": "code",
   "execution_count": null,
   "id": "c2598445",
   "metadata": {
    "papermill": {
     "duration": null,
     "end_time": null,
     "exception": null,
     "start_time": null,
     "status": "pending"
    },
    "tags": []
   },
   "outputs": [],
   "source": []
  },
  {
   "cell_type": "code",
   "execution_count": null,
   "id": "75b5830c",
   "metadata": {
    "papermill": {
     "duration": null,
     "end_time": null,
     "exception": null,
     "start_time": null,
     "status": "pending"
    },
    "tags": []
   },
   "outputs": [],
   "source": []
  },
  {
   "cell_type": "code",
   "execution_count": null,
   "id": "9f0a951a",
   "metadata": {
    "papermill": {
     "duration": null,
     "end_time": null,
     "exception": null,
     "start_time": null,
     "status": "pending"
    },
    "tags": []
   },
   "outputs": [],
   "source": []
  },
  {
   "cell_type": "code",
   "execution_count": null,
   "id": "b25166ec",
   "metadata": {
    "papermill": {
     "duration": null,
     "end_time": null,
     "exception": null,
     "start_time": null,
     "status": "pending"
    },
    "tags": []
   },
   "outputs": [],
   "source": []
  },
  {
   "cell_type": "code",
   "execution_count": null,
   "id": "2c4c0dc0",
   "metadata": {
    "papermill": {
     "duration": null,
     "end_time": null,
     "exception": null,
     "start_time": null,
     "status": "pending"
    },
    "tags": []
   },
   "outputs": [],
   "source": []
  },
  {
   "cell_type": "code",
   "execution_count": null,
   "id": "eff83ff8",
   "metadata": {
    "execution": {
     "iopub.status.busy": "2024-05-09T01:52:50.992161Z",
     "iopub.status.idle": "2024-05-09T01:52:50.992535Z",
     "shell.execute_reply": "2024-05-09T01:52:50.992375Z",
     "shell.execute_reply.started": "2024-05-09T01:52:50.992358Z"
    },
    "papermill": {
     "duration": null,
     "end_time": null,
     "exception": null,
     "start_time": null,
     "status": "pending"
    },
    "tags": []
   },
   "outputs": [],
   "source": [
    "contraction_mapping = {\"ain't\": \"is not\", \"aren't\": \"are not\",\"can't\": \"cannot\", \"'cause\": \"because\", \"could've\": \"could have\", \"couldn't\": \"could not\",\n",
    "                           \"didn't\": \"did not\", \"doesn't\": \"does not\", \"don't\": \"do not\", \"hadn't\": \"had not\", \"hasn't\": \"has not\", \"haven't\": \"have not\",\n",
    "                           \"he'd\": \"he would\",\"he'll\": \"he will\", \"he's\": \"he is\", \"how'd\": \"how did\", \"how'd'y\": \"how do you\", \"how'll\": \"how will\", \"how's\": \"how is\",\n",
    "                           \"I'd\": \"I would\", \"I'd've\": \"I would have\", \"I'll\": \"I will\", \"I'll've\": \"I will have\",\"I'm\": \"I am\", \"I've\": \"I have\", \"i'd\": \"i would\",\n",
    "                           \"i'd've\": \"i would have\", \"i'll\": \"i will\",  \"i'll've\": \"i will have\",\"i'm\": \"i am\", \"i've\": \"i have\", \"isn't\": \"is not\", \"it'd\": \"it would\",\n",
    "                           \"it'd've\": \"it would have\", \"it'll\": \"it will\", \"it'll've\": \"it will have\",\"it's\": \"it is\", \"let's\": \"let us\", \"ma'am\": \"madam\",\n",
    "                           \"mayn't\": \"may not\", \"might've\": \"might have\",\"mightn't\": \"might not\",\"mightn't've\": \"might not have\", \"must've\": \"must have\",\n",
    "                           \"mustn't\": \"must not\", \"mustn't've\": \"must not have\", \"needn't\": \"need not\", \"needn't've\": \"need not have\",\"o'clock\": \"of the clock\",\n",
    "                           \"oughtn't\": \"ought not\", \"oughtn't've\": \"ought not have\", \"shan't\": \"shall not\", \"sha'n't\": \"shall not\", \"shan't've\": \"shall not have\",\n",
    "                           \"she'd\": \"she would\", \"she'd've\": \"she would have\", \"she'll\": \"she will\", \"she'll've\": \"she will have\", \"she's\": \"she is\",\n",
    "                           \"should've\": \"should have\", \"shouldn't\": \"should not\", \"shouldn't've\": \"should not have\", \"so've\": \"so have\",\"so's\": \"so as\",\n",
    "                           \"this's\": \"this is\",\"that'd\": \"that would\", \"that'd've\": \"that would have\", \"that's\": \"that is\", \"there'd\": \"there would\",\n",
    "                           \"there'd've\": \"there would have\", \"there's\": \"there is\", \"here's\": \"here is\",\"they'd\": \"they would\", \"they'd've\": \"they would have\",\n",
    "                           \"they'll\": \"they will\", \"they'll've\": \"they will have\", \"they're\": \"they are\", \"they've\": \"they have\", \"to've\": \"to have\",\n",
    "                           \"wasn't\": \"was not\", \"we'd\": \"we would\", \"we'd've\": \"we would have\", \"we'll\": \"we will\", \"we'll've\": \"we will have\", \"we're\": \"we are\",\n",
    "                           \"we've\": \"we have\", \"weren't\": \"were not\", \"what'll\": \"what will\", \"what'll've\": \"what will have\", \"what're\": \"what are\",\n",
    "                           \"what's\": \"what is\", \"what've\": \"what have\", \"when's\": \"when is\", \"when've\": \"when have\", \"where'd\": \"where did\", \"where's\": \"where is\",\n",
    "                           \"where've\": \"where have\", \"who'll\": \"who will\", \"who'll've\": \"who will have\", \"who's\": \"who is\", \"who've\": \"who have\",\n",
    "                           \"why's\": \"why is\", \"why've\": \"why have\", \"will've\": \"will have\", \"won't\": \"will not\", \"won't've\": \"will not have\",\n",
    "                           \"would've\": \"would have\", \"wouldn't\": \"would not\", \"wouldn't've\": \"would not have\", \"y'all\": \"you all\",\n",
    "                           \"y'all'd\": \"you all would\",\"y'all'd've\": \"you all would have\",\"y'all're\": \"you all are\",\"y'all've\": \"you all have\",\n",
    "                           \"you'd\": \"you would\", \"you'd've\": \"you would have\", \"you'll\": \"you will\", \"you'll've\": \"you will have\",\n",
    "                           \"you're\": \"you are\", \"you've\": \"you have\"}"
   ]
  },
  {
   "cell_type": "code",
   "execution_count": null,
   "id": "1be94ccb",
   "metadata": {
    "papermill": {
     "duration": null,
     "end_time": null,
     "exception": null,
     "start_time": null,
     "status": "pending"
    },
    "tags": []
   },
   "outputs": [],
   "source": []
  },
  {
   "cell_type": "code",
   "execution_count": null,
   "id": "b4317c2d",
   "metadata": {
    "execution": {
     "iopub.status.busy": "2024-05-09T01:52:50.993787Z",
     "iopub.status.idle": "2024-05-09T01:52:50.994373Z",
     "shell.execute_reply": "2024-05-09T01:52:50.994108Z",
     "shell.execute_reply.started": "2024-05-09T01:52:50.994086Z"
    },
    "papermill": {
     "duration": null,
     "end_time": null,
     "exception": null,
     "start_time": null,
     "status": "pending"
    },
    "tags": []
   },
   "outputs": [],
   "source": [
    "pip install bert-extractive-summarizer"
   ]
  },
  {
   "cell_type": "code",
   "execution_count": null,
   "id": "21260dd0",
   "metadata": {
    "execution": {
     "iopub.status.busy": "2024-05-09T01:52:50.996421Z",
     "iopub.status.idle": "2024-05-09T01:52:50.996965Z",
     "shell.execute_reply": "2024-05-09T01:52:50.996695Z",
     "shell.execute_reply.started": "2024-05-09T01:52:50.996672Z"
    },
    "papermill": {
     "duration": null,
     "end_time": null,
     "exception": null,
     "start_time": null,
     "status": "pending"
    },
    "tags": []
   },
   "outputs": [],
   "source": [
    "from summarizer import Summarizer"
   ]
  },
  {
   "cell_type": "code",
   "execution_count": null,
   "id": "f24e05d0",
   "metadata": {
    "execution": {
     "iopub.status.busy": "2024-05-09T01:52:50.998184Z",
     "iopub.status.idle": "2024-05-09T01:52:50.998708Z",
     "shell.execute_reply": "2024-05-09T01:52:50.998469Z",
     "shell.execute_reply.started": "2024-05-09T01:52:50.998447Z"
    },
    "papermill": {
     "duration": null,
     "end_time": null,
     "exception": null,
     "start_time": null,
     "status": "pending"
    },
    "tags": []
   },
   "outputs": [],
   "source": [
    "body = 'Text body that you want to summarize with BERT'\n",
    "body2 = 'Something else you want to summarize with BERT'\n",
    "model = Summarizer()\n",
    "print(model(body))\n",
    "print(model(body2))"
   ]
  },
  {
   "cell_type": "code",
   "execution_count": null,
   "id": "6fe3243d",
   "metadata": {
    "execution": {
     "iopub.status.busy": "2024-05-09T01:52:51.000248Z",
     "iopub.status.idle": "2024-05-09T01:52:51.000754Z",
     "shell.execute_reply": "2024-05-09T01:52:51.000516Z",
     "shell.execute_reply.started": "2024-05-09T01:52:51.000494Z"
    },
    "papermill": {
     "duration": null,
     "end_time": null,
     "exception": null,
     "start_time": null,
     "status": "pending"
    },
    "tags": []
   },
   "outputs": [],
   "source": [
    "test_str = combined_df.sample()['unredacted_text'].iloc[0]\n",
    "test_str"
   ]
  },
  {
   "cell_type": "code",
   "execution_count": null,
   "id": "bc5fff84",
   "metadata": {
    "execution": {
     "iopub.status.busy": "2024-05-09T01:52:51.002625Z",
     "iopub.status.idle": "2024-05-09T01:52:51.003164Z",
     "shell.execute_reply": "2024-05-09T01:52:51.002922Z",
     "shell.execute_reply.started": "2024-05-09T01:52:51.002898Z"
    },
    "papermill": {
     "duration": null,
     "end_time": null,
     "exception": null,
     "start_time": null,
     "status": "pending"
    },
    "tags": []
   },
   "outputs": [],
   "source": [
    "model(test_str, return_as_list = True)"
   ]
  },
  {
   "cell_type": "code",
   "execution_count": null,
   "id": "25e78f26",
   "metadata": {
    "execution": {
     "iopub.status.busy": "2024-05-09T01:52:51.004858Z",
     "iopub.status.idle": "2024-05-09T01:52:51.005394Z",
     "shell.execute_reply": "2024-05-09T01:52:51.005158Z",
     "shell.execute_reply.started": "2024-05-09T01:52:51.005135Z"
    },
    "papermill": {
     "duration": null,
     "end_time": null,
     "exception": null,
     "start_time": null,
     "status": "pending"
    },
    "tags": []
   },
   "outputs": [],
   "source": [
    "from summarizer.text_processors.sentence_handler import SentenceHandler"
   ]
  },
  {
   "cell_type": "code",
   "execution_count": null,
   "id": "de711c81",
   "metadata": {
    "execution": {
     "iopub.status.busy": "2024-05-09T01:52:51.007203Z",
     "iopub.status.idle": "2024-05-09T01:52:51.007708Z",
     "shell.execute_reply": "2024-05-09T01:52:51.007471Z",
     "shell.execute_reply.started": "2024-05-09T01:52:51.007450Z"
    },
    "papermill": {
     "duration": null,
     "end_time": null,
     "exception": null,
     "start_time": null,
     "status": "pending"
    },
    "tags": []
   },
   "outputs": [],
   "source": [
    "sentence_handler = SentenceHandler()"
   ]
  },
  {
   "cell_type": "code",
   "execution_count": null,
   "id": "e25b2d33",
   "metadata": {
    "execution": {
     "iopub.status.busy": "2024-05-09T01:52:51.010000Z",
     "iopub.status.idle": "2024-05-09T01:52:51.010510Z",
     "shell.execute_reply": "2024-05-09T01:52:51.010276Z",
     "shell.execute_reply.started": "2024-05-09T01:52:51.010252Z"
    },
    "papermill": {
     "duration": null,
     "end_time": null,
     "exception": null,
     "start_time": null,
     "status": "pending"
    },
    "tags": []
   },
   "outputs": [],
   "source": [
    "sentences = sentence_handler(test_str, 40, 600)"
   ]
  },
  {
   "cell_type": "code",
   "execution_count": null,
   "id": "6e071f04",
   "metadata": {
    "execution": {
     "iopub.status.busy": "2024-05-09T01:52:51.011807Z",
     "iopub.status.idle": "2024-05-09T01:52:51.012346Z",
     "shell.execute_reply": "2024-05-09T01:52:51.012111Z",
     "shell.execute_reply.started": "2024-05-09T01:52:51.012088Z"
    },
    "papermill": {
     "duration": null,
     "end_time": null,
     "exception": null,
     "start_time": null,
     "status": "pending"
    },
    "tags": []
   },
   "outputs": [],
   "source": [
    "sentences"
   ]
  },
  {
   "cell_type": "code",
   "execution_count": null,
   "id": "80d6da99",
   "metadata": {
    "execution": {
     "iopub.status.busy": "2024-05-09T01:52:51.014211Z",
     "iopub.status.idle": "2024-05-09T01:52:51.014737Z",
     "shell.execute_reply": "2024-05-09T01:52:51.014490Z",
     "shell.execute_reply.started": "2024-05-09T01:52:51.014467Z"
    },
    "papermill": {
     "duration": null,
     "end_time": null,
     "exception": null,
     "start_time": null,
     "status": "pending"
    },
    "tags": []
   },
   "outputs": [],
   "source": [
    "len(sentences)"
   ]
  },
  {
   "cell_type": "code",
   "execution_count": null,
   "id": "7f91d315",
   "metadata": {
    "execution": {
     "iopub.status.busy": "2024-05-09T01:52:51.016340Z",
     "iopub.status.idle": "2024-05-09T01:52:51.016870Z",
     "shell.execute_reply": "2024-05-09T01:52:51.016626Z",
     "shell.execute_reply.started": "2024-05-09T01:52:51.016604Z"
    },
    "papermill": {
     "duration": null,
     "end_time": null,
     "exception": null,
     "start_time": null,
     "status": "pending"
    },
    "tags": []
   },
   "outputs": [],
   "source": [
    "sent, embed = model.cluster_runner(sentences, 0.2, 'kmeans', True)"
   ]
  },
  {
   "cell_type": "code",
   "execution_count": null,
   "id": "7e4b95e3",
   "metadata": {
    "execution": {
     "iopub.status.busy": "2024-05-09T01:52:51.019020Z",
     "iopub.status.idle": "2024-05-09T01:52:51.019533Z",
     "shell.execute_reply": "2024-05-09T01:52:51.019295Z",
     "shell.execute_reply.started": "2024-05-09T01:52:51.019273Z"
    },
    "papermill": {
     "duration": null,
     "end_time": null,
     "exception": null,
     "start_time": null,
     "status": "pending"
    },
    "tags": []
   },
   "outputs": [],
   "source": [
    "len(sent)"
   ]
  },
  {
   "cell_type": "code",
   "execution_count": null,
   "id": "bad6aadd",
   "metadata": {
    "execution": {
     "iopub.status.busy": "2024-05-09T01:52:51.021515Z",
     "iopub.status.idle": "2024-05-09T01:52:51.021919Z",
     "shell.execute_reply": "2024-05-09T01:52:51.021730Z",
     "shell.execute_reply.started": "2024-05-09T01:52:51.021712Z"
    },
    "papermill": {
     "duration": null,
     "end_time": null,
     "exception": null,
     "start_time": null,
     "status": "pending"
    },
    "tags": []
   },
   "outputs": [],
   "source": [
    "sent"
   ]
  },
  {
   "cell_type": "code",
   "execution_count": null,
   "id": "7b6f40f7",
   "metadata": {
    "execution": {
     "iopub.status.busy": "2024-05-09T01:52:51.023938Z",
     "iopub.status.idle": "2024-05-09T01:52:51.024307Z",
     "shell.execute_reply": "2024-05-09T01:52:51.024152Z",
     "shell.execute_reply.started": "2024-05-09T01:52:51.024136Z"
    },
    "papermill": {
     "duration": null,
     "end_time": null,
     "exception": null,
     "start_time": null,
     "status": "pending"
    },
    "tags": []
   },
   "outputs": [],
   "source": [
    "for vec in embed:\n",
    "    print(vec)"
   ]
  },
  {
   "cell_type": "code",
   "execution_count": null,
   "id": "00acc95a",
   "metadata": {
    "execution": {
     "iopub.status.busy": "2024-05-09T01:52:51.025665Z",
     "iopub.status.idle": "2024-05-09T01:52:51.026120Z",
     "shell.execute_reply": "2024-05-09T01:52:51.025952Z",
     "shell.execute_reply.started": "2024-05-09T01:52:51.025935Z"
    },
    "papermill": {
     "duration": null,
     "end_time": null,
     "exception": null,
     "start_time": null,
     "status": "pending"
    },
    "tags": []
   },
   "outputs": [],
   "source": [
    "len(embed[0])"
   ]
  },
  {
   "cell_type": "code",
   "execution_count": null,
   "id": "6cb75de4",
   "metadata": {
    "papermill": {
     "duration": null,
     "end_time": null,
     "exception": null,
     "start_time": null,
     "status": "pending"
    },
    "tags": []
   },
   "outputs": [],
   "source": []
  }
 ],
 "metadata": {
  "kaggle": {
   "accelerator": "none",
   "dataSources": [
    {
     "datasetId": 4811394,
     "sourceId": 8360901,
     "sourceType": "datasetVersion"
    },
    {
     "datasetId": 5028467,
     "sourceId": 8442818,
     "sourceType": "datasetVersion"
    },
    {
     "datasetId": 4979439,
     "sourceId": 8449059,
     "sourceType": "datasetVersion"
    }
   ],
   "dockerImageVersionId": 30698,
   "isGpuEnabled": false,
   "isInternetEnabled": true,
   "language": "python",
   "sourceType": "notebook"
  },
  "kernelspec": {
   "display_name": "Python 3",
   "language": "python",
   "name": "python3"
  },
  "language_info": {
   "codemirror_mode": {
    "name": "ipython",
    "version": 3
   },
   "file_extension": ".py",
   "mimetype": "text/x-python",
   "name": "python",
   "nbconvert_exporter": "python",
   "pygments_lexer": "ipython3",
   "version": "3.10.13"
  },
  "papermill": {
   "default_parameters": {},
   "duration": 4564.271252,
   "end_time": "2024-05-18T13:48:18.187884",
   "environment_variables": {},
   "exception": true,
   "input_path": "__notebook__.ipynb",
   "output_path": "__notebook__.ipynb",
   "parameters": {},
   "start_time": "2024-05-18T12:32:13.916632",
   "version": "2.5.0"
  },
  "widgets": {
   "application/vnd.jupyter.widget-state+json": {
    "state": {
     "00d0f7d2f7254742b17460b582f2be59": {
      "model_module": "@jupyter-widgets/controls",
      "model_module_version": "1.5.0",
      "model_name": "DescriptionStyleModel",
      "state": {
       "_model_module": "@jupyter-widgets/controls",
       "_model_module_version": "1.5.0",
       "_model_name": "DescriptionStyleModel",
       "_view_count": null,
       "_view_module": "@jupyter-widgets/base",
       "_view_module_version": "1.2.0",
       "_view_name": "StyleView",
       "description_width": ""
      }
     },
     "00de5e6f72a24e2a8bf1eb9ed4d40ca1": {
      "model_module": "@jupyter-widgets/base",
      "model_module_version": "1.2.0",
      "model_name": "LayoutModel",
      "state": {
       "_model_module": "@jupyter-widgets/base",
       "_model_module_version": "1.2.0",
       "_model_name": "LayoutModel",
       "_view_count": null,
       "_view_module": "@jupyter-widgets/base",
       "_view_module_version": "1.2.0",
       "_view_name": "LayoutView",
       "align_content": null,
       "align_items": null,
       "align_self": null,
       "border": null,
       "bottom": null,
       "display": null,
       "flex": null,
       "flex_flow": null,
       "grid_area": null,
       "grid_auto_columns": null,
       "grid_auto_flow": null,
       "grid_auto_rows": null,
       "grid_column": null,
       "grid_gap": null,
       "grid_row": null,
       "grid_template_areas": null,
       "grid_template_columns": null,
       "grid_template_rows": null,
       "height": null,
       "justify_content": null,
       "justify_items": null,
       "left": null,
       "margin": null,
       "max_height": null,
       "max_width": null,
       "min_height": null,
       "min_width": null,
       "object_fit": null,
       "object_position": null,
       "order": null,
       "overflow": null,
       "overflow_x": null,
       "overflow_y": null,
       "padding": null,
       "right": null,
       "top": null,
       "visibility": null,
       "width": null
      }
     },
     "00ea510d10554a54b22ebf2e09a7eb35": {
      "model_module": "@jupyter-widgets/controls",
      "model_module_version": "1.5.0",
      "model_name": "ProgressStyleModel",
      "state": {
       "_model_module": "@jupyter-widgets/controls",
       "_model_module_version": "1.5.0",
       "_model_name": "ProgressStyleModel",
       "_view_count": null,
       "_view_module": "@jupyter-widgets/base",
       "_view_module_version": "1.2.0",
       "_view_name": "StyleView",
       "bar_color": null,
       "description_width": ""
      }
     },
     "020ca72640c64e3298a5e1b64eefe189": {
      "model_module": "@jupyter-widgets/base",
      "model_module_version": "1.2.0",
      "model_name": "LayoutModel",
      "state": {
       "_model_module": "@jupyter-widgets/base",
       "_model_module_version": "1.2.0",
       "_model_name": "LayoutModel",
       "_view_count": null,
       "_view_module": "@jupyter-widgets/base",
       "_view_module_version": "1.2.0",
       "_view_name": "LayoutView",
       "align_content": null,
       "align_items": null,
       "align_self": null,
       "border": null,
       "bottom": null,
       "display": null,
       "flex": null,
       "flex_flow": null,
       "grid_area": null,
       "grid_auto_columns": null,
       "grid_auto_flow": null,
       "grid_auto_rows": null,
       "grid_column": null,
       "grid_gap": null,
       "grid_row": null,
       "grid_template_areas": null,
       "grid_template_columns": null,
       "grid_template_rows": null,
       "height": null,
       "justify_content": null,
       "justify_items": null,
       "left": null,
       "margin": null,
       "max_height": null,
       "max_width": null,
       "min_height": null,
       "min_width": null,
       "object_fit": null,
       "object_position": null,
       "order": null,
       "overflow": null,
       "overflow_x": null,
       "overflow_y": null,
       "padding": null,
       "right": null,
       "top": null,
       "visibility": null,
       "width": null
      }
     },
     "035941667f854a4b83776493dd5399c0": {
      "model_module": "@jupyter-widgets/base",
      "model_module_version": "1.2.0",
      "model_name": "LayoutModel",
      "state": {
       "_model_module": "@jupyter-widgets/base",
       "_model_module_version": "1.2.0",
       "_model_name": "LayoutModel",
       "_view_count": null,
       "_view_module": "@jupyter-widgets/base",
       "_view_module_version": "1.2.0",
       "_view_name": "LayoutView",
       "align_content": null,
       "align_items": null,
       "align_self": null,
       "border": null,
       "bottom": null,
       "display": null,
       "flex": null,
       "flex_flow": null,
       "grid_area": null,
       "grid_auto_columns": null,
       "grid_auto_flow": null,
       "grid_auto_rows": null,
       "grid_column": null,
       "grid_gap": null,
       "grid_row": null,
       "grid_template_areas": null,
       "grid_template_columns": null,
       "grid_template_rows": null,
       "height": null,
       "justify_content": null,
       "justify_items": null,
       "left": null,
       "margin": null,
       "max_height": null,
       "max_width": null,
       "min_height": null,
       "min_width": null,
       "object_fit": null,
       "object_position": null,
       "order": null,
       "overflow": null,
       "overflow_x": null,
       "overflow_y": null,
       "padding": null,
       "right": null,
       "top": null,
       "visibility": null,
       "width": null
      }
     },
     "0401c3ab0f4b45f394c2fe86ee354ab4": {
      "model_module": "@jupyter-widgets/controls",
      "model_module_version": "1.5.0",
      "model_name": "FloatProgressModel",
      "state": {
       "_dom_classes": [],
       "_model_module": "@jupyter-widgets/controls",
       "_model_module_version": "1.5.0",
       "_model_name": "FloatProgressModel",
       "_view_count": null,
       "_view_module": "@jupyter-widgets/controls",
       "_view_module_version": "1.5.0",
       "_view_name": "ProgressView",
       "bar_style": "success",
       "description": "",
       "description_tooltip": null,
       "layout": "IPY_MODEL_c221e071c674422db4ce86a27fdb2dd7",
       "max": 5195.0,
       "min": 0.0,
       "orientation": "horizontal",
       "style": "IPY_MODEL_c585458b58fe48358931dc5638b4fe02",
       "value": 5195.0
      }
     },
     "07400007fab04a8e8d8829377bc1a9fa": {
      "model_module": "@jupyter-widgets/base",
      "model_module_version": "1.2.0",
      "model_name": "LayoutModel",
      "state": {
       "_model_module": "@jupyter-widgets/base",
       "_model_module_version": "1.2.0",
       "_model_name": "LayoutModel",
       "_view_count": null,
       "_view_module": "@jupyter-widgets/base",
       "_view_module_version": "1.2.0",
       "_view_name": "LayoutView",
       "align_content": null,
       "align_items": null,
       "align_self": null,
       "border": null,
       "bottom": null,
       "display": null,
       "flex": null,
       "flex_flow": null,
       "grid_area": null,
       "grid_auto_columns": null,
       "grid_auto_flow": null,
       "grid_auto_rows": null,
       "grid_column": null,
       "grid_gap": null,
       "grid_row": null,
       "grid_template_areas": null,
       "grid_template_columns": null,
       "grid_template_rows": null,
       "height": null,
       "justify_content": null,
       "justify_items": null,
       "left": null,
       "margin": null,
       "max_height": null,
       "max_width": null,
       "min_height": null,
       "min_width": null,
       "object_fit": null,
       "object_position": null,
       "order": null,
       "overflow": null,
       "overflow_x": null,
       "overflow_y": null,
       "padding": null,
       "right": null,
       "top": null,
       "visibility": null,
       "width": null
      }
     },
     "07e1b84faf4b470da31672f054427991": {
      "model_module": "@jupyter-widgets/controls",
      "model_module_version": "1.5.0",
      "model_name": "DescriptionStyleModel",
      "state": {
       "_model_module": "@jupyter-widgets/controls",
       "_model_module_version": "1.5.0",
       "_model_name": "DescriptionStyleModel",
       "_view_count": null,
       "_view_module": "@jupyter-widgets/base",
       "_view_module_version": "1.2.0",
       "_view_name": "StyleView",
       "description_width": ""
      }
     },
     "0809c8214a3a43549e52f0e8476fe28b": {
      "model_module": "@jupyter-widgets/base",
      "model_module_version": "1.2.0",
      "model_name": "LayoutModel",
      "state": {
       "_model_module": "@jupyter-widgets/base",
       "_model_module_version": "1.2.0",
       "_model_name": "LayoutModel",
       "_view_count": null,
       "_view_module": "@jupyter-widgets/base",
       "_view_module_version": "1.2.0",
       "_view_name": "LayoutView",
       "align_content": null,
       "align_items": null,
       "align_self": null,
       "border": null,
       "bottom": null,
       "display": null,
       "flex": null,
       "flex_flow": null,
       "grid_area": null,
       "grid_auto_columns": null,
       "grid_auto_flow": null,
       "grid_auto_rows": null,
       "grid_column": null,
       "grid_gap": null,
       "grid_row": null,
       "grid_template_areas": null,
       "grid_template_columns": null,
       "grid_template_rows": null,
       "height": null,
       "justify_content": null,
       "justify_items": null,
       "left": null,
       "margin": null,
       "max_height": null,
       "max_width": null,
       "min_height": null,
       "min_width": null,
       "object_fit": null,
       "object_position": null,
       "order": null,
       "overflow": null,
       "overflow_x": null,
       "overflow_y": null,
       "padding": null,
       "right": null,
       "top": null,
       "visibility": null,
       "width": null
      }
     },
     "081d1d2fcf1e4d4286f14b8ddcf3cbf6": {
      "model_module": "@jupyter-widgets/controls",
      "model_module_version": "1.5.0",
      "model_name": "ProgressStyleModel",
      "state": {
       "_model_module": "@jupyter-widgets/controls",
       "_model_module_version": "1.5.0",
       "_model_name": "ProgressStyleModel",
       "_view_count": null,
       "_view_module": "@jupyter-widgets/base",
       "_view_module_version": "1.2.0",
       "_view_name": "StyleView",
       "bar_color": null,
       "description_width": ""
      }
     },
     "09894be3648841c3b7d0ba0d8a3938bc": {
      "model_module": "@jupyter-widgets/controls",
      "model_module_version": "1.5.0",
      "model_name": "HTMLModel",
      "state": {
       "_dom_classes": [],
       "_model_module": "@jupyter-widgets/controls",
       "_model_module_version": "1.5.0",
       "_model_name": "HTMLModel",
       "_view_count": null,
       "_view_module": "@jupyter-widgets/controls",
       "_view_module_version": "1.5.0",
       "_view_name": "HTMLView",
       "description": "",
       "description_tooltip": null,
       "layout": "IPY_MODEL_f1921761756640d9966c6f1528db5468",
       "placeholder": "​",
       "style": "IPY_MODEL_a0321b8e499344718be4e341f5231dab",
       "value": "Downloading extra modules: 100%"
      }
     },
     "0be985b09bae4251adc7ba69e0ffc2a7": {
      "model_module": "@jupyter-widgets/controls",
      "model_module_version": "1.5.0",
      "model_name": "DescriptionStyleModel",
      "state": {
       "_model_module": "@jupyter-widgets/controls",
       "_model_module_version": "1.5.0",
       "_model_name": "DescriptionStyleModel",
       "_view_count": null,
       "_view_module": "@jupyter-widgets/base",
       "_view_module_version": "1.2.0",
       "_view_name": "StyleView",
       "description_width": ""
      }
     },
     "0bea69aa74a445b1b0f445b4075fe3f1": {
      "model_module": "@jupyter-widgets/controls",
      "model_module_version": "1.5.0",
      "model_name": "HTMLModel",
      "state": {
       "_dom_classes": [],
       "_model_module": "@jupyter-widgets/controls",
       "_model_module_version": "1.5.0",
       "_model_name": "HTMLModel",
       "_view_count": null,
       "_view_module": "@jupyter-widgets/controls",
       "_view_module_version": "1.5.0",
       "_view_name": "HTMLView",
       "description": "",
       "description_tooltip": null,
       "layout": "IPY_MODEL_86454c4c8a4948848ecabc1afcf98acd",
       "placeholder": "​",
       "style": "IPY_MODEL_f0a44933984a4a26977adf2281826d79",
       "value": "Downloading builder script: 100%"
      }
     },
     "0edf6f36cef3418ca7889eb5202a0643": {
      "model_module": "@jupyter-widgets/controls",
      "model_module_version": "1.5.0",
      "model_name": "FloatProgressModel",
      "state": {
       "_dom_classes": [],
       "_model_module": "@jupyter-widgets/controls",
       "_model_module_version": "1.5.0",
       "_model_name": "FloatProgressModel",
       "_view_count": null,
       "_view_module": "@jupyter-widgets/controls",
       "_view_module_version": "1.5.0",
       "_view_name": "ProgressView",
       "bar_style": "success",
       "description": "",
       "description_tooltip": null,
       "layout": "IPY_MODEL_3657dc436d594800bfed1e55ebbc710a",
       "max": 1.0,
       "min": 0.0,
       "orientation": "horizontal",
       "style": "IPY_MODEL_8ff589a9cd144aef9b1c18b337e56e38",
       "value": 1.0
      }
     },
     "103d3e239a24422fbd59866477a9fbb6": {
      "model_module": "@jupyter-widgets/controls",
      "model_module_version": "1.5.0",
      "model_name": "DescriptionStyleModel",
      "state": {
       "_model_module": "@jupyter-widgets/controls",
       "_model_module_version": "1.5.0",
       "_model_name": "DescriptionStyleModel",
       "_view_count": null,
       "_view_module": "@jupyter-widgets/base",
       "_view_module_version": "1.2.0",
       "_view_name": "StyleView",
       "description_width": ""
      }
     },
     "119cf2c8b5944cc7ab6654e636193fa4": {
      "model_module": "@jupyter-widgets/base",
      "model_module_version": "1.2.0",
      "model_name": "LayoutModel",
      "state": {
       "_model_module": "@jupyter-widgets/base",
       "_model_module_version": "1.2.0",
       "_model_name": "LayoutModel",
       "_view_count": null,
       "_view_module": "@jupyter-widgets/base",
       "_view_module_version": "1.2.0",
       "_view_name": "LayoutView",
       "align_content": null,
       "align_items": null,
       "align_self": null,
       "border": null,
       "bottom": null,
       "display": null,
       "flex": null,
       "flex_flow": null,
       "grid_area": null,
       "grid_auto_columns": null,
       "grid_auto_flow": null,
       "grid_auto_rows": null,
       "grid_column": null,
       "grid_gap": null,
       "grid_row": null,
       "grid_template_areas": null,
       "grid_template_columns": null,
       "grid_template_rows": null,
       "height": null,
       "justify_content": null,
       "justify_items": null,
       "left": null,
       "margin": null,
       "max_height": null,
       "max_width": null,
       "min_height": null,
       "min_width": null,
       "object_fit": null,
       "object_position": null,
       "order": null,
       "overflow": null,
       "overflow_x": null,
       "overflow_y": null,
       "padding": null,
       "right": null,
       "top": null,
       "visibility": null,
       "width": null
      }
     },
     "13b8aeef42a640af8c31669f2d1a1da4": {
      "model_module": "@jupyter-widgets/controls",
      "model_module_version": "1.5.0",
      "model_name": "HTMLModel",
      "state": {
       "_dom_classes": [],
       "_model_module": "@jupyter-widgets/controls",
       "_model_module_version": "1.5.0",
       "_model_name": "HTMLModel",
       "_view_count": null,
       "_view_module": "@jupyter-widgets/controls",
       "_view_module_version": "1.5.0",
       "_view_name": "HTMLView",
       "description": "",
       "description_tooltip": null,
       "layout": "IPY_MODEL_ad839de50f0d42f4a98497644bcb8565",
       "placeholder": "​",
       "style": "IPY_MODEL_be37760d4a0f4f95b32cb3629258c855",
       "value": "vocab.txt: 100%"
      }
     },
     "1413847d452e4d05a187b3dd4a3f9394": {
      "model_module": "@jupyter-widgets/base",
      "model_module_version": "1.2.0",
      "model_name": "LayoutModel",
      "state": {
       "_model_module": "@jupyter-widgets/base",
       "_model_module_version": "1.2.0",
       "_model_name": "LayoutModel",
       "_view_count": null,
       "_view_module": "@jupyter-widgets/base",
       "_view_module_version": "1.2.0",
       "_view_name": "LayoutView",
       "align_content": null,
       "align_items": null,
       "align_self": null,
       "border": null,
       "bottom": null,
       "display": null,
       "flex": null,
       "flex_flow": null,
       "grid_area": null,
       "grid_auto_columns": null,
       "grid_auto_flow": null,
       "grid_auto_rows": null,
       "grid_column": null,
       "grid_gap": null,
       "grid_row": null,
       "grid_template_areas": null,
       "grid_template_columns": null,
       "grid_template_rows": null,
       "height": null,
       "justify_content": null,
       "justify_items": null,
       "left": null,
       "margin": null,
       "max_height": null,
       "max_width": null,
       "min_height": null,
       "min_width": null,
       "object_fit": null,
       "object_position": null,
       "order": null,
       "overflow": null,
       "overflow_x": null,
       "overflow_y": null,
       "padding": null,
       "right": null,
       "top": null,
       "visibility": null,
       "width": null
      }
     },
     "16ac559d0ab6486cb87dd274a04438c6": {
      "model_module": "@jupyter-widgets/base",
      "model_module_version": "1.2.0",
      "model_name": "LayoutModel",
      "state": {
       "_model_module": "@jupyter-widgets/base",
       "_model_module_version": "1.2.0",
       "_model_name": "LayoutModel",
       "_view_count": null,
       "_view_module": "@jupyter-widgets/base",
       "_view_module_version": "1.2.0",
       "_view_name": "LayoutView",
       "align_content": null,
       "align_items": null,
       "align_self": null,
       "border": null,
       "bottom": null,
       "display": null,
       "flex": null,
       "flex_flow": null,
       "grid_area": null,
       "grid_auto_columns": null,
       "grid_auto_flow": null,
       "grid_auto_rows": null,
       "grid_column": null,
       "grid_gap": null,
       "grid_row": null,
       "grid_template_areas": null,
       "grid_template_columns": null,
       "grid_template_rows": null,
       "height": null,
       "justify_content": null,
       "justify_items": null,
       "left": null,
       "margin": null,
       "max_height": null,
       "max_width": null,
       "min_height": null,
       "min_width": null,
       "object_fit": null,
       "object_position": null,
       "order": null,
       "overflow": null,
       "overflow_x": null,
       "overflow_y": null,
       "padding": null,
       "right": null,
       "top": null,
       "visibility": null,
       "width": null
      }
     },
     "18c7e7ae357f4f56b0dda0e19edc243a": {
      "model_module": "@jupyter-widgets/controls",
      "model_module_version": "1.5.0",
      "model_name": "HBoxModel",
      "state": {
       "_dom_classes": [],
       "_model_module": "@jupyter-widgets/controls",
       "_model_module_version": "1.5.0",
       "_model_name": "HBoxModel",
       "_view_count": null,
       "_view_module": "@jupyter-widgets/controls",
       "_view_module_version": "1.5.0",
       "_view_name": "HBoxView",
       "box_style": "",
       "children": [
        "IPY_MODEL_96bafa850baf440f8a533a94ec083264",
        "IPY_MODEL_246d7d9a21fa47c1967591db9186cd19",
        "IPY_MODEL_a6e2450e0fd147568a802df291275031"
       ],
       "layout": "IPY_MODEL_f3fb021100774dfcaba7ebe6720a88aa"
      }
     },
     "19ece6d42b3140cd862ad0e2a57a2103": {
      "model_module": "@jupyter-widgets/base",
      "model_module_version": "1.2.0",
      "model_name": "LayoutModel",
      "state": {
       "_model_module": "@jupyter-widgets/base",
       "_model_module_version": "1.2.0",
       "_model_name": "LayoutModel",
       "_view_count": null,
       "_view_module": "@jupyter-widgets/base",
       "_view_module_version": "1.2.0",
       "_view_name": "LayoutView",
       "align_content": null,
       "align_items": null,
       "align_self": null,
       "border": null,
       "bottom": null,
       "display": null,
       "flex": null,
       "flex_flow": null,
       "grid_area": null,
       "grid_auto_columns": null,
       "grid_auto_flow": null,
       "grid_auto_rows": null,
       "grid_column": null,
       "grid_gap": null,
       "grid_row": null,
       "grid_template_areas": null,
       "grid_template_columns": null,
       "grid_template_rows": null,
       "height": null,
       "justify_content": null,
       "justify_items": null,
       "left": null,
       "margin": null,
       "max_height": null,
       "max_width": null,
       "min_height": null,
       "min_width": null,
       "object_fit": null,
       "object_position": null,
       "order": null,
       "overflow": null,
       "overflow_x": null,
       "overflow_y": null,
       "padding": null,
       "right": null,
       "top": null,
       "visibility": null,
       "width": null
      }
     },
     "1a13fdde78e24f62bdba57309b9387e1": {
      "model_module": "@jupyter-widgets/controls",
      "model_module_version": "1.5.0",
      "model_name": "DescriptionStyleModel",
      "state": {
       "_model_module": "@jupyter-widgets/controls",
       "_model_module_version": "1.5.0",
       "_model_name": "DescriptionStyleModel",
       "_view_count": null,
       "_view_module": "@jupyter-widgets/base",
       "_view_module_version": "1.2.0",
       "_view_name": "StyleView",
       "description_width": ""
      }
     },
     "1a4ac09f3e1f459e90eba24905122cfd": {
      "model_module": "@jupyter-widgets/controls",
      "model_module_version": "1.5.0",
      "model_name": "HBoxModel",
      "state": {
       "_dom_classes": [],
       "_model_module": "@jupyter-widgets/controls",
       "_model_module_version": "1.5.0",
       "_model_name": "HBoxModel",
       "_view_count": null,
       "_view_module": "@jupyter-widgets/controls",
       "_view_module_version": "1.5.0",
       "_view_name": "HBoxView",
       "box_style": "",
       "children": [
        "IPY_MODEL_9d4257e7d98c4e4b9275d26801fd6c8d",
        "IPY_MODEL_0401c3ab0f4b45f394c2fe86ee354ab4",
        "IPY_MODEL_e1c48e0c0c04428a97d3576edec8112a"
       ],
       "layout": "IPY_MODEL_92717260a3054e1790a9d6976bb0c2cf"
      }
     },
     "1d08212135e54aa7906d748cd9def76f": {
      "model_module": "@jupyter-widgets/controls",
      "model_module_version": "1.5.0",
      "model_name": "DescriptionStyleModel",
      "state": {
       "_model_module": "@jupyter-widgets/controls",
       "_model_module_version": "1.5.0",
       "_model_name": "DescriptionStyleModel",
       "_view_count": null,
       "_view_module": "@jupyter-widgets/base",
       "_view_module_version": "1.2.0",
       "_view_name": "StyleView",
       "description_width": ""
      }
     },
     "1e4bf8a96dbb46eaa687bc9eb12584e5": {
      "model_module": "@jupyter-widgets/base",
      "model_module_version": "1.2.0",
      "model_name": "LayoutModel",
      "state": {
       "_model_module": "@jupyter-widgets/base",
       "_model_module_version": "1.2.0",
       "_model_name": "LayoutModel",
       "_view_count": null,
       "_view_module": "@jupyter-widgets/base",
       "_view_module_version": "1.2.0",
       "_view_name": "LayoutView",
       "align_content": null,
       "align_items": null,
       "align_self": null,
       "border": null,
       "bottom": null,
       "display": null,
       "flex": null,
       "flex_flow": null,
       "grid_area": null,
       "grid_auto_columns": null,
       "grid_auto_flow": null,
       "grid_auto_rows": null,
       "grid_column": null,
       "grid_gap": null,
       "grid_row": null,
       "grid_template_areas": null,
       "grid_template_columns": null,
       "grid_template_rows": null,
       "height": null,
       "justify_content": null,
       "justify_items": null,
       "left": null,
       "margin": null,
       "max_height": null,
       "max_width": null,
       "min_height": null,
       "min_width": null,
       "object_fit": null,
       "object_position": null,
       "order": null,
       "overflow": null,
       "overflow_x": null,
       "overflow_y": null,
       "padding": null,
       "right": null,
       "top": null,
       "visibility": null,
       "width": null
      }
     },
     "1fe2f355965d45dca2337cd35885d633": {
      "model_module": "@jupyter-widgets/base",
      "model_module_version": "1.2.0",
      "model_name": "LayoutModel",
      "state": {
       "_model_module": "@jupyter-widgets/base",
       "_model_module_version": "1.2.0",
       "_model_name": "LayoutModel",
       "_view_count": null,
       "_view_module": "@jupyter-widgets/base",
       "_view_module_version": "1.2.0",
       "_view_name": "LayoutView",
       "align_content": null,
       "align_items": null,
       "align_self": null,
       "border": null,
       "bottom": null,
       "display": null,
       "flex": null,
       "flex_flow": null,
       "grid_area": null,
       "grid_auto_columns": null,
       "grid_auto_flow": null,
       "grid_auto_rows": null,
       "grid_column": null,
       "grid_gap": null,
       "grid_row": null,
       "grid_template_areas": null,
       "grid_template_columns": null,
       "grid_template_rows": null,
       "height": null,
       "justify_content": null,
       "justify_items": null,
       "left": null,
       "margin": null,
       "max_height": null,
       "max_width": null,
       "min_height": null,
       "min_width": null,
       "object_fit": null,
       "object_position": null,
       "order": null,
       "overflow": null,
       "overflow_x": null,
       "overflow_y": null,
       "padding": null,
       "right": null,
       "top": null,
       "visibility": null,
       "width": null
      }
     },
     "21c4ca194eb640759ae1f6e14610d2bd": {
      "model_module": "@jupyter-widgets/controls",
      "model_module_version": "1.5.0",
      "model_name": "HBoxModel",
      "state": {
       "_dom_classes": [],
       "_model_module": "@jupyter-widgets/controls",
       "_model_module_version": "1.5.0",
       "_model_name": "HBoxModel",
       "_view_count": null,
       "_view_module": "@jupyter-widgets/controls",
       "_view_module_version": "1.5.0",
       "_view_name": "HBoxView",
       "box_style": "",
       "children": [
        "IPY_MODEL_80ae929186554a549573b1c4a7ef27b5",
        "IPY_MODEL_5a5825d214a5473aa3b11d37f4e9ce8c",
        "IPY_MODEL_ba1d9fb2924e4045a4a1df952ae01b31"
       ],
       "layout": "IPY_MODEL_b8a678eb07e343c49bfb100710f0d26b"
      }
     },
     "223cea1de603404684b36bf59a645b01": {
      "model_module": "@jupyter-widgets/base",
      "model_module_version": "1.2.0",
      "model_name": "LayoutModel",
      "state": {
       "_model_module": "@jupyter-widgets/base",
       "_model_module_version": "1.2.0",
       "_model_name": "LayoutModel",
       "_view_count": null,
       "_view_module": "@jupyter-widgets/base",
       "_view_module_version": "1.2.0",
       "_view_name": "LayoutView",
       "align_content": null,
       "align_items": null,
       "align_self": null,
       "border": null,
       "bottom": null,
       "display": null,
       "flex": null,
       "flex_flow": null,
       "grid_area": null,
       "grid_auto_columns": null,
       "grid_auto_flow": null,
       "grid_auto_rows": null,
       "grid_column": null,
       "grid_gap": null,
       "grid_row": null,
       "grid_template_areas": null,
       "grid_template_columns": null,
       "grid_template_rows": null,
       "height": null,
       "justify_content": null,
       "justify_items": null,
       "left": null,
       "margin": null,
       "max_height": null,
       "max_width": null,
       "min_height": null,
       "min_width": null,
       "object_fit": null,
       "object_position": null,
       "order": null,
       "overflow": null,
       "overflow_x": null,
       "overflow_y": null,
       "padding": null,
       "right": null,
       "top": null,
       "visibility": null,
       "width": null
      }
     },
     "246d7d9a21fa47c1967591db9186cd19": {
      "model_module": "@jupyter-widgets/controls",
      "model_module_version": "1.5.0",
      "model_name": "FloatProgressModel",
      "state": {
       "_dom_classes": [],
       "_model_module": "@jupyter-widgets/controls",
       "_model_module_version": "1.5.0",
       "_model_name": "FloatProgressModel",
       "_view_count": null,
       "_view_module": "@jupyter-widgets/controls",
       "_view_module_version": "1.5.0",
       "_view_name": "ProgressView",
       "bar_style": "success",
       "description": "",
       "description_tooltip": null,
       "layout": "IPY_MODEL_119cf2c8b5944cc7ab6654e636193fa4",
       "max": 267954768.0,
       "min": 0.0,
       "orientation": "horizontal",
       "style": "IPY_MODEL_00ea510d10554a54b22ebf2e09a7eb35",
       "value": 267954768.0
      }
     },
     "254efa2a29a445ab967e3ec1782ed453": {
      "model_module": "@jupyter-widgets/controls",
      "model_module_version": "1.5.0",
      "model_name": "FloatProgressModel",
      "state": {
       "_dom_classes": [],
       "_model_module": "@jupyter-widgets/controls",
       "_model_module_version": "1.5.0",
       "_model_name": "FloatProgressModel",
       "_view_count": null,
       "_view_module": "@jupyter-widgets/controls",
       "_view_module_version": "1.5.0",
       "_view_name": "ProgressView",
       "bar_style": "success",
       "description": "",
       "description_tooltip": null,
       "layout": "IPY_MODEL_74a7b14d08de4189bdeb5cd4774dadb3",
       "max": 5937.0,
       "min": 0.0,
       "orientation": "horizontal",
       "style": "IPY_MODEL_85b6ddd524eb4b7fa7fcfd73bfaa34c1",
       "value": 5937.0
      }
     },
     "256c7afd656241f5b7744fae2658bab8": {
      "model_module": "@jupyter-widgets/controls",
      "model_module_version": "1.5.0",
      "model_name": "HTMLModel",
      "state": {
       "_dom_classes": [],
       "_model_module": "@jupyter-widgets/controls",
       "_model_module_version": "1.5.0",
       "_model_name": "HTMLModel",
       "_view_count": null,
       "_view_module": "@jupyter-widgets/controls",
       "_view_module_version": "1.5.0",
       "_view_name": "HTMLView",
       "description": "",
       "description_tooltip": null,
       "layout": "IPY_MODEL_a2edf7dc3caa4fb09ef93deb23ef2e3b",
       "placeholder": "​",
       "style": "IPY_MODEL_1a13fdde78e24f62bdba57309b9387e1",
       "value": " 466k/466k [00:00&lt;00:00, 786kB/s]"
      }
     },
     "2a52191bb9894e809287354bedbee049": {
      "model_module": "@jupyter-widgets/controls",
      "model_module_version": "1.5.0",
      "model_name": "HBoxModel",
      "state": {
       "_dom_classes": [],
       "_model_module": "@jupyter-widgets/controls",
       "_model_module_version": "1.5.0",
       "_model_name": "HBoxModel",
       "_view_count": null,
       "_view_module": "@jupyter-widgets/controls",
       "_view_module_version": "1.5.0",
       "_view_name": "HBoxView",
       "box_style": "",
       "children": [
        "IPY_MODEL_13b8aeef42a640af8c31669f2d1a1da4",
        "IPY_MODEL_b153f4b2684e46b9b7839948b59ff072",
        "IPY_MODEL_b1db33c4d1f74228a2763602a13341e9"
       ],
       "layout": "IPY_MODEL_6756deffd46d48898c01a8a763d57637"
      }
     },
     "2a530344bfe14712b7cdd1af95680519": {
      "model_module": "@jupyter-widgets/controls",
      "model_module_version": "1.5.0",
      "model_name": "ProgressStyleModel",
      "state": {
       "_model_module": "@jupyter-widgets/controls",
       "_model_module_version": "1.5.0",
       "_model_name": "ProgressStyleModel",
       "_view_count": null,
       "_view_module": "@jupyter-widgets/base",
       "_view_module_version": "1.2.0",
       "_view_name": "StyleView",
       "bar_color": null,
       "description_width": ""
      }
     },
     "2b4f8ef9136244e1b83601cfb2c55384": {
      "model_module": "@jupyter-widgets/controls",
      "model_module_version": "1.5.0",
      "model_name": "DescriptionStyleModel",
      "state": {
       "_model_module": "@jupyter-widgets/controls",
       "_model_module_version": "1.5.0",
       "_model_name": "DescriptionStyleModel",
       "_view_count": null,
       "_view_module": "@jupyter-widgets/base",
       "_view_module_version": "1.2.0",
       "_view_name": "StyleView",
       "description_width": ""
      }
     },
     "2c428f76527c49a4bbac8657eedcad83": {
      "model_module": "@jupyter-widgets/base",
      "model_module_version": "1.2.0",
      "model_name": "LayoutModel",
      "state": {
       "_model_module": "@jupyter-widgets/base",
       "_model_module_version": "1.2.0",
       "_model_name": "LayoutModel",
       "_view_count": null,
       "_view_module": "@jupyter-widgets/base",
       "_view_module_version": "1.2.0",
       "_view_name": "LayoutView",
       "align_content": null,
       "align_items": null,
       "align_self": null,
       "border": null,
       "bottom": null,
       "display": null,
       "flex": null,
       "flex_flow": null,
       "grid_area": null,
       "grid_auto_columns": null,
       "grid_auto_flow": null,
       "grid_auto_rows": null,
       "grid_column": null,
       "grid_gap": null,
       "grid_row": null,
       "grid_template_areas": null,
       "grid_template_columns": null,
       "grid_template_rows": null,
       "height": null,
       "justify_content": null,
       "justify_items": null,
       "left": null,
       "margin": null,
       "max_height": null,
       "max_width": null,
       "min_height": null,
       "min_width": null,
       "object_fit": null,
       "object_position": null,
       "order": null,
       "overflow": null,
       "overflow_x": null,
       "overflow_y": null,
       "padding": null,
       "right": null,
       "top": null,
       "visibility": null,
       "width": null
      }
     },
     "2db54b2325cf4f149404d1093feda1cd": {
      "model_module": "@jupyter-widgets/controls",
      "model_module_version": "1.5.0",
      "model_name": "HBoxModel",
      "state": {
       "_dom_classes": [],
       "_model_module": "@jupyter-widgets/controls",
       "_model_module_version": "1.5.0",
       "_model_name": "HBoxModel",
       "_view_count": null,
       "_view_module": "@jupyter-widgets/controls",
       "_view_module_version": "1.5.0",
       "_view_name": "HBoxView",
       "box_style": "",
       "children": [
        "IPY_MODEL_fcd688c3e4b24950aeea4b0a9fede63a",
        "IPY_MODEL_4bf96fe0bd26441fb706b43a124ea981",
        "IPY_MODEL_2ffe7daa1c0f4d9f93cf556a5c5e7027"
       ],
       "layout": "IPY_MODEL_62a10dc24f8d42c2a44369a51f359034"
      }
     },
     "2e3903fcfd764423be753525d3dbec13": {
      "model_module": "@jupyter-widgets/controls",
      "model_module_version": "1.5.0",
      "model_name": "DescriptionStyleModel",
      "state": {
       "_model_module": "@jupyter-widgets/controls",
       "_model_module_version": "1.5.0",
       "_model_name": "DescriptionStyleModel",
       "_view_count": null,
       "_view_module": "@jupyter-widgets/base",
       "_view_module_version": "1.2.0",
       "_view_name": "StyleView",
       "description_width": ""
      }
     },
     "2ffe7daa1c0f4d9f93cf556a5c5e7027": {
      "model_module": "@jupyter-widgets/controls",
      "model_module_version": "1.5.0",
      "model_name": "HTMLModel",
      "state": {
       "_dom_classes": [],
       "_model_module": "@jupyter-widgets/controls",
       "_model_module_version": "1.5.0",
       "_model_name": "HTMLModel",
       "_view_count": null,
       "_view_module": "@jupyter-widgets/controls",
       "_view_module_version": "1.5.0",
       "_view_name": "HTMLView",
       "description": "",
       "description_tooltip": null,
       "layout": "IPY_MODEL_e9898fbddc034be580f6c3169e3fa647",
       "placeholder": "​",
       "style": "IPY_MODEL_379b4c225b40468690751a71d4e05440",
       "value": " 405M/405M [00:15&lt;00:00, 28.1MB/s]"
      }
     },
     "3047dfee003740a193586facbe29e4c4": {
      "model_module": "@jupyter-widgets/base",
      "model_module_version": "1.2.0",
      "model_name": "LayoutModel",
      "state": {
       "_model_module": "@jupyter-widgets/base",
       "_model_module_version": "1.2.0",
       "_model_name": "LayoutModel",
       "_view_count": null,
       "_view_module": "@jupyter-widgets/base",
       "_view_module_version": "1.2.0",
       "_view_name": "LayoutView",
       "align_content": null,
       "align_items": null,
       "align_self": null,
       "border": null,
       "bottom": null,
       "display": null,
       "flex": null,
       "flex_flow": null,
       "grid_area": null,
       "grid_auto_columns": null,
       "grid_auto_flow": null,
       "grid_auto_rows": null,
       "grid_column": null,
       "grid_gap": null,
       "grid_row": null,
       "grid_template_areas": null,
       "grid_template_columns": null,
       "grid_template_rows": null,
       "height": null,
       "justify_content": null,
       "justify_items": null,
       "left": null,
       "margin": null,
       "max_height": null,
       "max_width": null,
       "min_height": null,
       "min_width": null,
       "object_fit": null,
       "object_position": null,
       "order": null,
       "overflow": null,
       "overflow_x": null,
       "overflow_y": null,
       "padding": null,
       "right": null,
       "top": null,
       "visibility": null,
       "width": null
      }
     },
     "31c89fb911e343eb915b30c1de7655cc": {
      "model_module": "@jupyter-widgets/base",
      "model_module_version": "1.2.0",
      "model_name": "LayoutModel",
      "state": {
       "_model_module": "@jupyter-widgets/base",
       "_model_module_version": "1.2.0",
       "_model_name": "LayoutModel",
       "_view_count": null,
       "_view_module": "@jupyter-widgets/base",
       "_view_module_version": "1.2.0",
       "_view_name": "LayoutView",
       "align_content": null,
       "align_items": null,
       "align_self": null,
       "border": null,
       "bottom": null,
       "display": null,
       "flex": null,
       "flex_flow": null,
       "grid_area": null,
       "grid_auto_columns": null,
       "grid_auto_flow": null,
       "grid_auto_rows": null,
       "grid_column": null,
       "grid_gap": null,
       "grid_row": null,
       "grid_template_areas": null,
       "grid_template_columns": null,
       "grid_template_rows": null,
       "height": null,
       "justify_content": null,
       "justify_items": null,
       "left": null,
       "margin": null,
       "max_height": null,
       "max_width": null,
       "min_height": null,
       "min_width": null,
       "object_fit": null,
       "object_position": null,
       "order": null,
       "overflow": null,
       "overflow_x": null,
       "overflow_y": null,
       "padding": null,
       "right": null,
       "top": null,
       "visibility": null,
       "width": null
      }
     },
     "32606f8021384f29ab5d30fb30760d48": {
      "model_module": "@jupyter-widgets/base",
      "model_module_version": "1.2.0",
      "model_name": "LayoutModel",
      "state": {
       "_model_module": "@jupyter-widgets/base",
       "_model_module_version": "1.2.0",
       "_model_name": "LayoutModel",
       "_view_count": null,
       "_view_module": "@jupyter-widgets/base",
       "_view_module_version": "1.2.0",
       "_view_name": "LayoutView",
       "align_content": null,
       "align_items": null,
       "align_self": null,
       "border": null,
       "bottom": null,
       "display": null,
       "flex": null,
       "flex_flow": null,
       "grid_area": null,
       "grid_auto_columns": null,
       "grid_auto_flow": null,
       "grid_auto_rows": null,
       "grid_column": null,
       "grid_gap": null,
       "grid_row": null,
       "grid_template_areas": null,
       "grid_template_columns": null,
       "grid_template_rows": null,
       "height": null,
       "justify_content": null,
       "justify_items": null,
       "left": null,
       "margin": null,
       "max_height": null,
       "max_width": null,
       "min_height": null,
       "min_width": null,
       "object_fit": null,
       "object_position": null,
       "order": null,
       "overflow": null,
       "overflow_x": null,
       "overflow_y": null,
       "padding": null,
       "right": null,
       "top": null,
       "visibility": null,
       "width": null
      }
     },
     "359f1fd9cb634a6ab2cef2ee613c2a41": {
      "model_module": "@jupyter-widgets/base",
      "model_module_version": "1.2.0",
      "model_name": "LayoutModel",
      "state": {
       "_model_module": "@jupyter-widgets/base",
       "_model_module_version": "1.2.0",
       "_model_name": "LayoutModel",
       "_view_count": null,
       "_view_module": "@jupyter-widgets/base",
       "_view_module_version": "1.2.0",
       "_view_name": "LayoutView",
       "align_content": null,
       "align_items": null,
       "align_self": null,
       "border": null,
       "bottom": null,
       "display": null,
       "flex": null,
       "flex_flow": null,
       "grid_area": null,
       "grid_auto_columns": null,
       "grid_auto_flow": null,
       "grid_auto_rows": null,
       "grid_column": null,
       "grid_gap": null,
       "grid_row": null,
       "grid_template_areas": null,
       "grid_template_columns": null,
       "grid_template_rows": null,
       "height": null,
       "justify_content": null,
       "justify_items": null,
       "left": null,
       "margin": null,
       "max_height": null,
       "max_width": null,
       "min_height": null,
       "min_width": null,
       "object_fit": null,
       "object_position": null,
       "order": null,
       "overflow": null,
       "overflow_x": null,
       "overflow_y": null,
       "padding": null,
       "right": null,
       "top": null,
       "visibility": null,
       "width": null
      }
     },
     "35e446a886674e26ba9d62fb3b54ce93": {
      "model_module": "@jupyter-widgets/base",
      "model_module_version": "1.2.0",
      "model_name": "LayoutModel",
      "state": {
       "_model_module": "@jupyter-widgets/base",
       "_model_module_version": "1.2.0",
       "_model_name": "LayoutModel",
       "_view_count": null,
       "_view_module": "@jupyter-widgets/base",
       "_view_module_version": "1.2.0",
       "_view_name": "LayoutView",
       "align_content": null,
       "align_items": null,
       "align_self": null,
       "border": null,
       "bottom": null,
       "display": null,
       "flex": null,
       "flex_flow": null,
       "grid_area": null,
       "grid_auto_columns": null,
       "grid_auto_flow": null,
       "grid_auto_rows": null,
       "grid_column": null,
       "grid_gap": null,
       "grid_row": null,
       "grid_template_areas": null,
       "grid_template_columns": null,
       "grid_template_rows": null,
       "height": null,
       "justify_content": null,
       "justify_items": null,
       "left": null,
       "margin": null,
       "max_height": null,
       "max_width": null,
       "min_height": null,
       "min_width": null,
       "object_fit": null,
       "object_position": null,
       "order": null,
       "overflow": null,
       "overflow_x": null,
       "overflow_y": null,
       "padding": null,
       "right": null,
       "top": null,
       "visibility": null,
       "width": null
      }
     },
     "35f266c48a6e4cb9ac7e1278290396b8": {
      "model_module": "@jupyter-widgets/controls",
      "model_module_version": "1.5.0",
      "model_name": "FloatProgressModel",
      "state": {
       "_dom_classes": [],
       "_model_module": "@jupyter-widgets/controls",
       "_model_module_version": "1.5.0",
       "_model_name": "FloatProgressModel",
       "_view_count": null,
       "_view_module": "@jupyter-widgets/controls",
       "_view_module_version": "1.5.0",
       "_view_name": "ProgressView",
       "bar_style": "success",
       "description": "",
       "description_tooltip": null,
       "layout": "IPY_MODEL_4eab1410e61d4045a5eceb51132c6f27",
       "max": 48.0,
       "min": 0.0,
       "orientation": "horizontal",
       "style": "IPY_MODEL_36537887dabd4f1f9597c75c28d43140",
       "value": 48.0
      }
     },
     "36537887dabd4f1f9597c75c28d43140": {
      "model_module": "@jupyter-widgets/controls",
      "model_module_version": "1.5.0",
      "model_name": "ProgressStyleModel",
      "state": {
       "_model_module": "@jupyter-widgets/controls",
       "_model_module_version": "1.5.0",
       "_model_name": "ProgressStyleModel",
       "_view_count": null,
       "_view_module": "@jupyter-widgets/base",
       "_view_module_version": "1.2.0",
       "_view_name": "StyleView",
       "bar_color": null,
       "description_width": ""
      }
     },
     "3657dc436d594800bfed1e55ebbc710a": {
      "model_module": "@jupyter-widgets/base",
      "model_module_version": "1.2.0",
      "model_name": "LayoutModel",
      "state": {
       "_model_module": "@jupyter-widgets/base",
       "_model_module_version": "1.2.0",
       "_model_name": "LayoutModel",
       "_view_count": null,
       "_view_module": "@jupyter-widgets/base",
       "_view_module_version": "1.2.0",
       "_view_name": "LayoutView",
       "align_content": null,
       "align_items": null,
       "align_self": null,
       "border": null,
       "bottom": null,
       "display": null,
       "flex": null,
       "flex_flow": null,
       "grid_area": null,
       "grid_auto_columns": null,
       "grid_auto_flow": null,
       "grid_auto_rows": null,
       "grid_column": null,
       "grid_gap": null,
       "grid_row": null,
       "grid_template_areas": null,
       "grid_template_columns": null,
       "grid_template_rows": null,
       "height": null,
       "justify_content": null,
       "justify_items": null,
       "left": null,
       "margin": null,
       "max_height": null,
       "max_width": null,
       "min_height": null,
       "min_width": null,
       "object_fit": null,
       "object_position": null,
       "order": null,
       "overflow": null,
       "overflow_x": null,
       "overflow_y": null,
       "padding": null,
       "right": null,
       "top": null,
       "visibility": null,
       "width": null
      }
     },
     "374d8b55a3554ad3b4b6595b8d816f47": {
      "model_module": "@jupyter-widgets/base",
      "model_module_version": "1.2.0",
      "model_name": "LayoutModel",
      "state": {
       "_model_module": "@jupyter-widgets/base",
       "_model_module_version": "1.2.0",
       "_model_name": "LayoutModel",
       "_view_count": null,
       "_view_module": "@jupyter-widgets/base",
       "_view_module_version": "1.2.0",
       "_view_name": "LayoutView",
       "align_content": null,
       "align_items": null,
       "align_self": null,
       "border": null,
       "bottom": null,
       "display": null,
       "flex": null,
       "flex_flow": null,
       "grid_area": null,
       "grid_auto_columns": null,
       "grid_auto_flow": null,
       "grid_auto_rows": null,
       "grid_column": null,
       "grid_gap": null,
       "grid_row": null,
       "grid_template_areas": null,
       "grid_template_columns": null,
       "grid_template_rows": null,
       "height": null,
       "justify_content": null,
       "justify_items": null,
       "left": null,
       "margin": null,
       "max_height": null,
       "max_width": null,
       "min_height": null,
       "min_width": null,
       "object_fit": null,
       "object_position": null,
       "order": null,
       "overflow": null,
       "overflow_x": null,
       "overflow_y": null,
       "padding": null,
       "right": null,
       "top": null,
       "visibility": null,
       "width": null
      }
     },
     "379b4c225b40468690751a71d4e05440": {
      "model_module": "@jupyter-widgets/controls",
      "model_module_version": "1.5.0",
      "model_name": "DescriptionStyleModel",
      "state": {
       "_model_module": "@jupyter-widgets/controls",
       "_model_module_version": "1.5.0",
       "_model_name": "DescriptionStyleModel",
       "_view_count": null,
       "_view_module": "@jupyter-widgets/base",
       "_view_module_version": "1.2.0",
       "_view_name": "StyleView",
       "description_width": ""
      }
     },
     "38b78381e94a47928934040ebc1c8c41": {
      "model_module": "@jupyter-widgets/controls",
      "model_module_version": "1.5.0",
      "model_name": "DescriptionStyleModel",
      "state": {
       "_model_module": "@jupyter-widgets/controls",
       "_model_module_version": "1.5.0",
       "_model_name": "DescriptionStyleModel",
       "_view_count": null,
       "_view_module": "@jupyter-widgets/base",
       "_view_module_version": "1.2.0",
       "_view_name": "StyleView",
       "description_width": ""
      }
     },
     "392496981b704f81bad5358f5ef713b3": {
      "model_module": "@jupyter-widgets/base",
      "model_module_version": "1.2.0",
      "model_name": "LayoutModel",
      "state": {
       "_model_module": "@jupyter-widgets/base",
       "_model_module_version": "1.2.0",
       "_model_name": "LayoutModel",
       "_view_count": null,
       "_view_module": "@jupyter-widgets/base",
       "_view_module_version": "1.2.0",
       "_view_name": "LayoutView",
       "align_content": null,
       "align_items": null,
       "align_self": null,
       "border": null,
       "bottom": null,
       "display": null,
       "flex": null,
       "flex_flow": null,
       "grid_area": null,
       "grid_auto_columns": null,
       "grid_auto_flow": null,
       "grid_auto_rows": null,
       "grid_column": null,
       "grid_gap": null,
       "grid_row": null,
       "grid_template_areas": null,
       "grid_template_columns": null,
       "grid_template_rows": null,
       "height": null,
       "justify_content": null,
       "justify_items": null,
       "left": null,
       "margin": null,
       "max_height": null,
       "max_width": null,
       "min_height": null,
       "min_width": null,
       "object_fit": null,
       "object_position": null,
       "order": null,
       "overflow": null,
       "overflow_x": null,
       "overflow_y": null,
       "padding": null,
       "right": null,
       "top": null,
       "visibility": null,
       "width": null
      }
     },
     "3bb3508b0dcc441bad8d82b934055f76": {
      "model_module": "@jupyter-widgets/base",
      "model_module_version": "1.2.0",
      "model_name": "LayoutModel",
      "state": {
       "_model_module": "@jupyter-widgets/base",
       "_model_module_version": "1.2.0",
       "_model_name": "LayoutModel",
       "_view_count": null,
       "_view_module": "@jupyter-widgets/base",
       "_view_module_version": "1.2.0",
       "_view_name": "LayoutView",
       "align_content": null,
       "align_items": null,
       "align_self": null,
       "border": null,
       "bottom": null,
       "display": null,
       "flex": null,
       "flex_flow": null,
       "grid_area": null,
       "grid_auto_columns": null,
       "grid_auto_flow": null,
       "grid_auto_rows": null,
       "grid_column": null,
       "grid_gap": null,
       "grid_row": null,
       "grid_template_areas": null,
       "grid_template_columns": null,
       "grid_template_rows": null,
       "height": null,
       "justify_content": null,
       "justify_items": null,
       "left": null,
       "margin": null,
       "max_height": null,
       "max_width": null,
       "min_height": null,
       "min_width": null,
       "object_fit": null,
       "object_position": null,
       "order": null,
       "overflow": null,
       "overflow_x": null,
       "overflow_y": null,
       "padding": null,
       "right": null,
       "top": null,
       "visibility": null,
       "width": null
      }
     },
     "3f7e622babae40b5a4c77e2905d067dd": {
      "model_module": "@jupyter-widgets/controls",
      "model_module_version": "1.5.0",
      "model_name": "FloatProgressModel",
      "state": {
       "_dom_classes": [],
       "_model_module": "@jupyter-widgets/controls",
       "_model_module_version": "1.5.0",
       "_model_name": "FloatProgressModel",
       "_view_count": null,
       "_view_module": "@jupyter-widgets/controls",
       "_view_module_version": "1.5.0",
       "_view_name": "ProgressView",
       "bar_style": "success",
       "description": "",
       "description_tooltip": null,
       "layout": "IPY_MODEL_1fe2f355965d45dca2337cd35885d633",
       "max": 3344.0,
       "min": 0.0,
       "orientation": "horizontal",
       "style": "IPY_MODEL_2a530344bfe14712b7cdd1af95680519",
       "value": 3344.0
      }
     },
     "4007b9210d9c4dc6bfee254dfcca8775": {
      "model_module": "@jupyter-widgets/controls",
      "model_module_version": "1.5.0",
      "model_name": "HTMLModel",
      "state": {
       "_dom_classes": [],
       "_model_module": "@jupyter-widgets/controls",
       "_model_module_version": "1.5.0",
       "_model_name": "HTMLModel",
       "_view_count": null,
       "_view_module": "@jupyter-widgets/controls",
       "_view_module_version": "1.5.0",
       "_view_name": "HTMLView",
       "description": "",
       "description_tooltip": null,
       "layout": "IPY_MODEL_d90610e4fb434df2aaf5f80ec87d49c0",
       "placeholder": "​",
       "style": "IPY_MODEL_ca54ef57ad60457ab813c91ca214c19e",
       "value": " 5.94k/5.94k [00:00&lt;00:00, 392kB/s]"
      }
     },
     "432487b1bdc8428a9da777ebe814b983": {
      "model_module": "@jupyter-widgets/base",
      "model_module_version": "1.2.0",
      "model_name": "LayoutModel",
      "state": {
       "_model_module": "@jupyter-widgets/base",
       "_model_module_version": "1.2.0",
       "_model_name": "LayoutModel",
       "_view_count": null,
       "_view_module": "@jupyter-widgets/base",
       "_view_module_version": "1.2.0",
       "_view_name": "LayoutView",
       "align_content": null,
       "align_items": null,
       "align_self": null,
       "border": null,
       "bottom": null,
       "display": null,
       "flex": null,
       "flex_flow": null,
       "grid_area": null,
       "grid_auto_columns": null,
       "grid_auto_flow": null,
       "grid_auto_rows": null,
       "grid_column": null,
       "grid_gap": null,
       "grid_row": null,
       "grid_template_areas": null,
       "grid_template_columns": null,
       "grid_template_rows": null,
       "height": null,
       "justify_content": null,
       "justify_items": null,
       "left": null,
       "margin": null,
       "max_height": null,
       "max_width": null,
       "min_height": null,
       "min_width": null,
       "object_fit": null,
       "object_position": null,
       "order": null,
       "overflow": null,
       "overflow_x": null,
       "overflow_y": null,
       "padding": null,
       "right": null,
       "top": null,
       "visibility": null,
       "width": null
      }
     },
     "47175524567843a4ab37d2f125c9d498": {
      "model_module": "@jupyter-widgets/controls",
      "model_module_version": "1.5.0",
      "model_name": "DescriptionStyleModel",
      "state": {
       "_model_module": "@jupyter-widgets/controls",
       "_model_module_version": "1.5.0",
       "_model_name": "DescriptionStyleModel",
       "_view_count": null,
       "_view_module": "@jupyter-widgets/base",
       "_view_module_version": "1.2.0",
       "_view_name": "StyleView",
       "description_width": ""
      }
     },
     "4759d8df162e4f49b41adbe9f1cd798c": {
      "model_module": "@jupyter-widgets/controls",
      "model_module_version": "1.5.0",
      "model_name": "HTMLModel",
      "state": {
       "_dom_classes": [],
       "_model_module": "@jupyter-widgets/controls",
       "_model_module_version": "1.5.0",
       "_model_name": "HTMLModel",
       "_view_count": null,
       "_view_module": "@jupyter-widgets/controls",
       "_view_module_version": "1.5.0",
       "_view_name": "HTMLView",
       "description": "",
       "description_tooltip": null,
       "layout": "IPY_MODEL_a9a2d1d616094b8187533c0758c45bc5",
       "placeholder": "​",
       "style": "IPY_MODEL_0be985b09bae4251adc7ba69e0ffc2a7",
       "value": "tokenizer.json: 100%"
      }
     },
     "479a0e04cb8e43ec8cd5083e67660894": {
      "model_module": "@jupyter-widgets/base",
      "model_module_version": "1.2.0",
      "model_name": "LayoutModel",
      "state": {
       "_model_module": "@jupyter-widgets/base",
       "_model_module_version": "1.2.0",
       "_model_name": "LayoutModel",
       "_view_count": null,
       "_view_module": "@jupyter-widgets/base",
       "_view_module_version": "1.2.0",
       "_view_name": "LayoutView",
       "align_content": null,
       "align_items": null,
       "align_self": null,
       "border": null,
       "bottom": null,
       "display": null,
       "flex": null,
       "flex_flow": null,
       "grid_area": null,
       "grid_auto_columns": null,
       "grid_auto_flow": null,
       "grid_auto_rows": null,
       "grid_column": null,
       "grid_gap": null,
       "grid_row": null,
       "grid_template_areas": null,
       "grid_template_columns": null,
       "grid_template_rows": null,
       "height": null,
       "justify_content": null,
       "justify_items": null,
       "left": null,
       "margin": null,
       "max_height": null,
       "max_width": null,
       "min_height": null,
       "min_width": null,
       "object_fit": null,
       "object_position": null,
       "order": null,
       "overflow": null,
       "overflow_x": null,
       "overflow_y": null,
       "padding": null,
       "right": null,
       "top": null,
       "visibility": null,
       "width": null
      }
     },
     "48dcf3809259475d81a2a052b0c768a8": {
      "model_module": "@jupyter-widgets/controls",
      "model_module_version": "1.5.0",
      "model_name": "DescriptionStyleModel",
      "state": {
       "_model_module": "@jupyter-widgets/controls",
       "_model_module_version": "1.5.0",
       "_model_name": "DescriptionStyleModel",
       "_view_count": null,
       "_view_module": "@jupyter-widgets/base",
       "_view_module_version": "1.2.0",
       "_view_name": "StyleView",
       "description_width": ""
      }
     },
     "49b333e3960e425483381189f859977a": {
      "model_module": "@jupyter-widgets/controls",
      "model_module_version": "1.5.0",
      "model_name": "HBoxModel",
      "state": {
       "_dom_classes": [],
       "_model_module": "@jupyter-widgets/controls",
       "_model_module_version": "1.5.0",
       "_model_name": "HBoxModel",
       "_view_count": null,
       "_view_module": "@jupyter-widgets/controls",
       "_view_module_version": "1.5.0",
       "_view_name": "HBoxView",
       "box_style": "",
       "children": [
        "IPY_MODEL_fd3be8c8ec4144b18d3484ef4b07e68f",
        "IPY_MODEL_720d347aba5742c4ab75e612af231db2",
        "IPY_MODEL_fea4dc37a4c043bda7060bacfaf49606"
       ],
       "layout": "IPY_MODEL_07400007fab04a8e8d8829377bc1a9fa"
      }
     },
     "4a27a2a7ac914ed481d9b3e9fe18e297": {
      "model_module": "@jupyter-widgets/base",
      "model_module_version": "1.2.0",
      "model_name": "LayoutModel",
      "state": {
       "_model_module": "@jupyter-widgets/base",
       "_model_module_version": "1.2.0",
       "_model_name": "LayoutModel",
       "_view_count": null,
       "_view_module": "@jupyter-widgets/base",
       "_view_module_version": "1.2.0",
       "_view_name": "LayoutView",
       "align_content": null,
       "align_items": null,
       "align_self": null,
       "border": null,
       "bottom": null,
       "display": null,
       "flex": null,
       "flex_flow": null,
       "grid_area": null,
       "grid_auto_columns": null,
       "grid_auto_flow": null,
       "grid_auto_rows": null,
       "grid_column": null,
       "grid_gap": null,
       "grid_row": null,
       "grid_template_areas": null,
       "grid_template_columns": null,
       "grid_template_rows": null,
       "height": null,
       "justify_content": null,
       "justify_items": null,
       "left": null,
       "margin": null,
       "max_height": null,
       "max_width": null,
       "min_height": null,
       "min_width": null,
       "object_fit": null,
       "object_position": null,
       "order": null,
       "overflow": null,
       "overflow_x": null,
       "overflow_y": null,
       "padding": null,
       "right": null,
       "top": null,
       "visibility": null,
       "width": null
      }
     },
     "4bf96fe0bd26441fb706b43a124ea981": {
      "model_module": "@jupyter-widgets/controls",
      "model_module_version": "1.5.0",
      "model_name": "FloatProgressModel",
      "state": {
       "_dom_classes": [],
       "_model_module": "@jupyter-widgets/controls",
       "_model_module_version": "1.5.0",
       "_model_name": "FloatProgressModel",
       "_view_count": null,
       "_view_module": "@jupyter-widgets/controls",
       "_view_module_version": "1.5.0",
       "_view_name": "ProgressView",
       "bar_style": "success",
       "description": "",
       "description_tooltip": null,
       "layout": "IPY_MODEL_6821953dcceb420a915e7f8930860645",
       "max": 405489453.0,
       "min": 0.0,
       "orientation": "horizontal",
       "style": "IPY_MODEL_e9f26317a1a448a1b06495b75fb38218",
       "value": 405489453.0
      }
     },
     "4eab1410e61d4045a5eceb51132c6f27": {
      "model_module": "@jupyter-widgets/base",
      "model_module_version": "1.2.0",
      "model_name": "LayoutModel",
      "state": {
       "_model_module": "@jupyter-widgets/base",
       "_model_module_version": "1.2.0",
       "_model_name": "LayoutModel",
       "_view_count": null,
       "_view_module": "@jupyter-widgets/base",
       "_view_module_version": "1.2.0",
       "_view_name": "LayoutView",
       "align_content": null,
       "align_items": null,
       "align_self": null,
       "border": null,
       "bottom": null,
       "display": null,
       "flex": null,
       "flex_flow": null,
       "grid_area": null,
       "grid_auto_columns": null,
       "grid_auto_flow": null,
       "grid_auto_rows": null,
       "grid_column": null,
       "grid_gap": null,
       "grid_row": null,
       "grid_template_areas": null,
       "grid_template_columns": null,
       "grid_template_rows": null,
       "height": null,
       "justify_content": null,
       "justify_items": null,
       "left": null,
       "margin": null,
       "max_height": null,
       "max_width": null,
       "min_height": null,
       "min_width": null,
       "object_fit": null,
       "object_position": null,
       "order": null,
       "overflow": null,
       "overflow_x": null,
       "overflow_y": null,
       "padding": null,
       "right": null,
       "top": null,
       "visibility": null,
       "width": null
      }
     },
     "51f15f9a09a849f5a7fe76142c987cf7": {
      "model_module": "@jupyter-widgets/controls",
      "model_module_version": "1.5.0",
      "model_name": "HBoxModel",
      "state": {
       "_dom_classes": [],
       "_model_module": "@jupyter-widgets/controls",
       "_model_module_version": "1.5.0",
       "_model_name": "HBoxModel",
       "_view_count": null,
       "_view_module": "@jupyter-widgets/controls",
       "_view_module_version": "1.5.0",
       "_view_name": "HBoxView",
       "box_style": "",
       "children": [
        "IPY_MODEL_59095eed76494abd890c623671c1de99",
        "IPY_MODEL_c46611d0409943e39a467e9359f0b6ac",
        "IPY_MODEL_6d724b2dda6d4f10ae185840b8f5886f"
       ],
       "layout": "IPY_MODEL_1e4bf8a96dbb46eaa687bc9eb12584e5"
      }
     },
     "52b23b61a7f04f82bff3b37a3bd39c22": {
      "model_module": "@jupyter-widgets/controls",
      "model_module_version": "1.5.0",
      "model_name": "ProgressStyleModel",
      "state": {
       "_model_module": "@jupyter-widgets/controls",
       "_model_module_version": "1.5.0",
       "_model_name": "ProgressStyleModel",
       "_view_count": null,
       "_view_module": "@jupyter-widgets/base",
       "_view_module_version": "1.2.0",
       "_view_name": "StyleView",
       "bar_color": null,
       "description_width": ""
      }
     },
     "5547130b36d1432bbed1c611f62da8ae": {
      "model_module": "@jupyter-widgets/controls",
      "model_module_version": "1.5.0",
      "model_name": "DescriptionStyleModel",
      "state": {
       "_model_module": "@jupyter-widgets/controls",
       "_model_module_version": "1.5.0",
       "_model_name": "DescriptionStyleModel",
       "_view_count": null,
       "_view_module": "@jupyter-widgets/base",
       "_view_module_version": "1.2.0",
       "_view_name": "StyleView",
       "description_width": ""
      }
     },
     "559aaac6aaf94673973ed1cf2c85a9d0": {
      "model_module": "@jupyter-widgets/controls",
      "model_module_version": "1.5.0",
      "model_name": "HBoxModel",
      "state": {
       "_dom_classes": [],
       "_model_module": "@jupyter-widgets/controls",
       "_model_module_version": "1.5.0",
       "_model_name": "HBoxModel",
       "_view_count": null,
       "_view_module": "@jupyter-widgets/controls",
       "_view_module_version": "1.5.0",
       "_view_name": "HBoxView",
       "box_style": "",
       "children": [
        "IPY_MODEL_afff2188fc7d4aeebe55c765ae835d9c",
        "IPY_MODEL_3f7e622babae40b5a4c77e2905d067dd",
        "IPY_MODEL_7801111dc4bd4a2d9a762cf74f3d8f1d"
       ],
       "layout": "IPY_MODEL_35e446a886674e26ba9d62fb3b54ce93"
      }
     },
     "5619ab44a2e74026acd6208c36ad2287": {
      "model_module": "@jupyter-widgets/base",
      "model_module_version": "1.2.0",
      "model_name": "LayoutModel",
      "state": {
       "_model_module": "@jupyter-widgets/base",
       "_model_module_version": "1.2.0",
       "_model_name": "LayoutModel",
       "_view_count": null,
       "_view_module": "@jupyter-widgets/base",
       "_view_module_version": "1.2.0",
       "_view_name": "LayoutView",
       "align_content": null,
       "align_items": null,
       "align_self": null,
       "border": null,
       "bottom": null,
       "display": null,
       "flex": null,
       "flex_flow": null,
       "grid_area": null,
       "grid_auto_columns": null,
       "grid_auto_flow": null,
       "grid_auto_rows": null,
       "grid_column": null,
       "grid_gap": null,
       "grid_row": null,
       "grid_template_areas": null,
       "grid_template_columns": null,
       "grid_template_rows": null,
       "height": null,
       "justify_content": null,
       "justify_items": null,
       "left": null,
       "margin": null,
       "max_height": null,
       "max_width": null,
       "min_height": null,
       "min_width": null,
       "object_fit": null,
       "object_position": null,
       "order": null,
       "overflow": null,
       "overflow_x": null,
       "overflow_y": null,
       "padding": null,
       "right": null,
       "top": null,
       "visibility": null,
       "width": null
      }
     },
     "563b8c2dcc204237bf19d509c3dea0df": {
      "model_module": "@jupyter-widgets/controls",
      "model_module_version": "1.5.0",
      "model_name": "DescriptionStyleModel",
      "state": {
       "_model_module": "@jupyter-widgets/controls",
       "_model_module_version": "1.5.0",
       "_model_name": "DescriptionStyleModel",
       "_view_count": null,
       "_view_module": "@jupyter-widgets/base",
       "_view_module_version": "1.2.0",
       "_view_name": "StyleView",
       "description_width": ""
      }
     },
     "5776ceb3a15c494b883c182ac1664946": {
      "model_module": "@jupyter-widgets/base",
      "model_module_version": "1.2.0",
      "model_name": "LayoutModel",
      "state": {
       "_model_module": "@jupyter-widgets/base",
       "_model_module_version": "1.2.0",
       "_model_name": "LayoutModel",
       "_view_count": null,
       "_view_module": "@jupyter-widgets/base",
       "_view_module_version": "1.2.0",
       "_view_name": "LayoutView",
       "align_content": null,
       "align_items": null,
       "align_self": null,
       "border": null,
       "bottom": null,
       "display": null,
       "flex": null,
       "flex_flow": null,
       "grid_area": null,
       "grid_auto_columns": null,
       "grid_auto_flow": null,
       "grid_auto_rows": null,
       "grid_column": null,
       "grid_gap": null,
       "grid_row": null,
       "grid_template_areas": null,
       "grid_template_columns": null,
       "grid_template_rows": null,
       "height": null,
       "justify_content": null,
       "justify_items": null,
       "left": null,
       "margin": null,
       "max_height": null,
       "max_width": null,
       "min_height": null,
       "min_width": null,
       "object_fit": null,
       "object_position": null,
       "order": null,
       "overflow": null,
       "overflow_x": null,
       "overflow_y": null,
       "padding": null,
       "right": null,
       "top": null,
       "visibility": null,
       "width": null
      }
     },
     "57bf50587b5d48ecacccfec4862e23ff": {
      "model_module": "@jupyter-widgets/controls",
      "model_module_version": "1.5.0",
      "model_name": "ProgressStyleModel",
      "state": {
       "_model_module": "@jupyter-widgets/controls",
       "_model_module_version": "1.5.0",
       "_model_name": "ProgressStyleModel",
       "_view_count": null,
       "_view_module": "@jupyter-widgets/base",
       "_view_module_version": "1.2.0",
       "_view_name": "StyleView",
       "bar_color": null,
       "description_width": ""
      }
     },
     "580a8a9e91744293b08a9a49c96459ec": {
      "model_module": "@jupyter-widgets/controls",
      "model_module_version": "1.5.0",
      "model_name": "HTMLModel",
      "state": {
       "_dom_classes": [],
       "_model_module": "@jupyter-widgets/controls",
       "_model_module_version": "1.5.0",
       "_model_name": "HTMLModel",
       "_view_count": null,
       "_view_module": "@jupyter-widgets/controls",
       "_view_module_version": "1.5.0",
       "_view_name": "HTMLView",
       "description": "",
       "description_tooltip": null,
       "layout": "IPY_MODEL_f7a94cb9ffb64f849b795c98a9230e82",
       "placeholder": "​",
       "style": "IPY_MODEL_2b4f8ef9136244e1b83601cfb2c55384",
       "value": " 8.64k/8.64k [00:00&lt;00:00, 458kB/s]"
      }
     },
     "59095eed76494abd890c623671c1de99": {
      "model_module": "@jupyter-widgets/controls",
      "model_module_version": "1.5.0",
      "model_name": "HTMLModel",
      "state": {
       "_dom_classes": [],
       "_model_module": "@jupyter-widgets/controls",
       "_model_module_version": "1.5.0",
       "_model_name": "HTMLModel",
       "_view_count": null,
       "_view_module": "@jupyter-widgets/controls",
       "_view_module_version": "1.5.0",
       "_view_name": "HTMLView",
       "description": "",
       "description_tooltip": null,
       "layout": "IPY_MODEL_c9568a0352e54304b1f9cf9661049da5",
       "placeholder": "​",
       "style": "IPY_MODEL_563b8c2dcc204237bf19d509c3dea0df",
       "value": "Downloading builder script: 100%"
      }
     },
     "59b49b4314644755ba904fd704f3e420": {
      "model_module": "@jupyter-widgets/controls",
      "model_module_version": "1.5.0",
      "model_name": "FloatProgressModel",
      "state": {
       "_dom_classes": [],
       "_model_module": "@jupyter-widgets/controls",
       "_model_module_version": "1.5.0",
       "_model_name": "FloatProgressModel",
       "_view_count": null,
       "_view_module": "@jupyter-widgets/controls",
       "_view_module_version": "1.5.0",
       "_view_name": "ProgressView",
       "bar_style": "success",
       "description": "",
       "description_tooltip": null,
       "layout": "IPY_MODEL_85ac4d22e5394720a83e685115398ef4",
       "max": 1554.0,
       "min": 0.0,
       "orientation": "horizontal",
       "style": "IPY_MODEL_081d1d2fcf1e4d4286f14b8ddcf3cbf6",
       "value": 1554.0
      }
     },
     "5a47b5a117d34bdeab137b402f7469fb": {
      "model_module": "@jupyter-widgets/controls",
      "model_module_version": "1.5.0",
      "model_name": "ProgressStyleModel",
      "state": {
       "_model_module": "@jupyter-widgets/controls",
       "_model_module_version": "1.5.0",
       "_model_name": "ProgressStyleModel",
       "_view_count": null,
       "_view_module": "@jupyter-widgets/base",
       "_view_module_version": "1.2.0",
       "_view_name": "StyleView",
       "bar_color": null,
       "description_width": ""
      }
     },
     "5a5825d214a5473aa3b11d37f4e9ce8c": {
      "model_module": "@jupyter-widgets/controls",
      "model_module_version": "1.5.0",
      "model_name": "FloatProgressModel",
      "state": {
       "_dom_classes": [],
       "_model_module": "@jupyter-widgets/controls",
       "_model_module_version": "1.5.0",
       "_model_name": "FloatProgressModel",
       "_view_count": null,
       "_view_module": "@jupyter-widgets/controls",
       "_view_module_version": "1.5.0",
       "_view_name": "ProgressView",
       "bar_style": "success",
       "description": "",
       "description_tooltip": null,
       "layout": "IPY_MODEL_cdfd9a5bacb445de962a6405e263ac57",
       "max": 7950.0,
       "min": 0.0,
       "orientation": "horizontal",
       "style": "IPY_MODEL_ac7a49e4dca84597aaa5657aad91d5cd",
       "value": 7950.0
      }
     },
     "5de6467328f44773aa81dc5e941fbe27": {
      "model_module": "@jupyter-widgets/controls",
      "model_module_version": "1.5.0",
      "model_name": "DescriptionStyleModel",
      "state": {
       "_model_module": "@jupyter-widgets/controls",
       "_model_module_version": "1.5.0",
       "_model_name": "DescriptionStyleModel",
       "_view_count": null,
       "_view_module": "@jupyter-widgets/base",
       "_view_module_version": "1.2.0",
       "_view_name": "StyleView",
       "description_width": ""
      }
     },
     "5e43ab5c0678472aa3b8fa736bd6cc45": {
      "model_module": "@jupyter-widgets/controls",
      "model_module_version": "1.5.0",
      "model_name": "DescriptionStyleModel",
      "state": {
       "_model_module": "@jupyter-widgets/controls",
       "_model_module_version": "1.5.0",
       "_model_name": "DescriptionStyleModel",
       "_view_count": null,
       "_view_module": "@jupyter-widgets/base",
       "_view_module_version": "1.2.0",
       "_view_name": "StyleView",
       "description_width": ""
      }
     },
     "60a5094289ac45cb9b1689910e7ce345": {
      "model_module": "@jupyter-widgets/controls",
      "model_module_version": "1.5.0",
      "model_name": "HTMLModel",
      "state": {
       "_dom_classes": [],
       "_model_module": "@jupyter-widgets/controls",
       "_model_module_version": "1.5.0",
       "_model_name": "HTMLModel",
       "_view_count": null,
       "_view_module": "@jupyter-widgets/controls",
       "_view_module_version": "1.5.0",
       "_view_name": "HTMLView",
       "description": "",
       "description_tooltip": null,
       "layout": "IPY_MODEL_31c89fb911e343eb915b30c1de7655cc",
       "placeholder": "​",
       "style": "IPY_MODEL_c5b73fd2483f430ca3aa79ae573ef8ec",
       "value": " 6.93k/6.93k [00:00&lt;00:00, 426kB/s]"
      }
     },
     "61843dc6abb44cf09e2eb1c7aab68385": {
      "model_module": "@jupyter-widgets/base",
      "model_module_version": "1.2.0",
      "model_name": "LayoutModel",
      "state": {
       "_model_module": "@jupyter-widgets/base",
       "_model_module_version": "1.2.0",
       "_model_name": "LayoutModel",
       "_view_count": null,
       "_view_module": "@jupyter-widgets/base",
       "_view_module_version": "1.2.0",
       "_view_name": "LayoutView",
       "align_content": null,
       "align_items": null,
       "align_self": null,
       "border": null,
       "bottom": null,
       "display": null,
       "flex": null,
       "flex_flow": null,
       "grid_area": null,
       "grid_auto_columns": null,
       "grid_auto_flow": null,
       "grid_auto_rows": null,
       "grid_column": null,
       "grid_gap": null,
       "grid_row": null,
       "grid_template_areas": null,
       "grid_template_columns": null,
       "grid_template_rows": null,
       "height": null,
       "justify_content": null,
       "justify_items": null,
       "left": null,
       "margin": null,
       "max_height": null,
       "max_width": null,
       "min_height": null,
       "min_width": null,
       "object_fit": null,
       "object_position": null,
       "order": null,
       "overflow": null,
       "overflow_x": null,
       "overflow_y": null,
       "padding": null,
       "right": null,
       "top": null,
       "visibility": null,
       "width": null
      }
     },
     "62a10dc24f8d42c2a44369a51f359034": {
      "model_module": "@jupyter-widgets/base",
      "model_module_version": "1.2.0",
      "model_name": "LayoutModel",
      "state": {
       "_model_module": "@jupyter-widgets/base",
       "_model_module_version": "1.2.0",
       "_model_name": "LayoutModel",
       "_view_count": null,
       "_view_module": "@jupyter-widgets/base",
       "_view_module_version": "1.2.0",
       "_view_name": "LayoutView",
       "align_content": null,
       "align_items": null,
       "align_self": null,
       "border": null,
       "bottom": null,
       "display": null,
       "flex": null,
       "flex_flow": null,
       "grid_area": null,
       "grid_auto_columns": null,
       "grid_auto_flow": null,
       "grid_auto_rows": null,
       "grid_column": null,
       "grid_gap": null,
       "grid_row": null,
       "grid_template_areas": null,
       "grid_template_columns": null,
       "grid_template_rows": null,
       "height": null,
       "justify_content": null,
       "justify_items": null,
       "left": null,
       "margin": null,
       "max_height": null,
       "max_width": null,
       "min_height": null,
       "min_width": null,
       "object_fit": null,
       "object_position": null,
       "order": null,
       "overflow": null,
       "overflow_x": null,
       "overflow_y": null,
       "padding": null,
       "right": null,
       "top": null,
       "visibility": null,
       "width": null
      }
     },
     "63ec6941f32343d6996f29f9d229de65": {
      "model_module": "@jupyter-widgets/controls",
      "model_module_version": "1.5.0",
      "model_name": "ProgressStyleModel",
      "state": {
       "_model_module": "@jupyter-widgets/controls",
       "_model_module_version": "1.5.0",
       "_model_name": "ProgressStyleModel",
       "_view_count": null,
       "_view_module": "@jupyter-widgets/base",
       "_view_module_version": "1.2.0",
       "_view_name": "StyleView",
       "bar_color": null,
       "description_width": ""
      }
     },
     "6473c6dc8cf846b0af8904ef7825a089": {
      "model_module": "@jupyter-widgets/controls",
      "model_module_version": "1.5.0",
      "model_name": "FloatProgressModel",
      "state": {
       "_dom_classes": [],
       "_model_module": "@jupyter-widgets/controls",
       "_model_module_version": "1.5.0",
       "_model_name": "FloatProgressModel",
       "_view_count": null,
       "_view_module": "@jupyter-widgets/controls",
       "_view_module_version": "1.5.0",
       "_view_name": "ProgressView",
       "bar_style": "success",
       "description": "",
       "description_tooltip": null,
       "layout": "IPY_MODEL_19ece6d42b3140cd862ad0e2a57a2103",
       "max": 6927.0,
       "min": 0.0,
       "orientation": "horizontal",
       "style": "IPY_MODEL_759003a2b16e47d8900abc54d5d78de3",
       "value": 6927.0
      }
     },
     "6756deffd46d48898c01a8a763d57637": {
      "model_module": "@jupyter-widgets/base",
      "model_module_version": "1.2.0",
      "model_name": "LayoutModel",
      "state": {
       "_model_module": "@jupyter-widgets/base",
       "_model_module_version": "1.2.0",
       "_model_name": "LayoutModel",
       "_view_count": null,
       "_view_module": "@jupyter-widgets/base",
       "_view_module_version": "1.2.0",
       "_view_name": "LayoutView",
       "align_content": null,
       "align_items": null,
       "align_self": null,
       "border": null,
       "bottom": null,
       "display": null,
       "flex": null,
       "flex_flow": null,
       "grid_area": null,
       "grid_auto_columns": null,
       "grid_auto_flow": null,
       "grid_auto_rows": null,
       "grid_column": null,
       "grid_gap": null,
       "grid_row": null,
       "grid_template_areas": null,
       "grid_template_columns": null,
       "grid_template_rows": null,
       "height": null,
       "justify_content": null,
       "justify_items": null,
       "left": null,
       "margin": null,
       "max_height": null,
       "max_width": null,
       "min_height": null,
       "min_width": null,
       "object_fit": null,
       "object_position": null,
       "order": null,
       "overflow": null,
       "overflow_x": null,
       "overflow_y": null,
       "padding": null,
       "right": null,
       "top": null,
       "visibility": null,
       "width": null
      }
     },
     "6821953dcceb420a915e7f8930860645": {
      "model_module": "@jupyter-widgets/base",
      "model_module_version": "1.2.0",
      "model_name": "LayoutModel",
      "state": {
       "_model_module": "@jupyter-widgets/base",
       "_model_module_version": "1.2.0",
       "_model_name": "LayoutModel",
       "_view_count": null,
       "_view_module": "@jupyter-widgets/base",
       "_view_module_version": "1.2.0",
       "_view_name": "LayoutView",
       "align_content": null,
       "align_items": null,
       "align_self": null,
       "border": null,
       "bottom": null,
       "display": null,
       "flex": null,
       "flex_flow": null,
       "grid_area": null,
       "grid_auto_columns": null,
       "grid_auto_flow": null,
       "grid_auto_rows": null,
       "grid_column": null,
       "grid_gap": null,
       "grid_row": null,
       "grid_template_areas": null,
       "grid_template_columns": null,
       "grid_template_rows": null,
       "height": null,
       "justify_content": null,
       "justify_items": null,
       "left": null,
       "margin": null,
       "max_height": null,
       "max_width": null,
       "min_height": null,
       "min_width": null,
       "object_fit": null,
       "object_position": null,
       "order": null,
       "overflow": null,
       "overflow_x": null,
       "overflow_y": null,
       "padding": null,
       "right": null,
       "top": null,
       "visibility": null,
       "width": null
      }
     },
     "6af8092057294199b379f004b8eaf59a": {
      "model_module": "@jupyter-widgets/controls",
      "model_module_version": "1.5.0",
      "model_name": "HTMLModel",
      "state": {
       "_dom_classes": [],
       "_model_module": "@jupyter-widgets/controls",
       "_model_module_version": "1.5.0",
       "_model_name": "HTMLModel",
       "_view_count": null,
       "_view_module": "@jupyter-widgets/controls",
       "_view_module_version": "1.5.0",
       "_view_name": "HTMLView",
       "description": "",
       "description_tooltip": null,
       "layout": "IPY_MODEL_00de5e6f72a24e2a8bf1eb9ed4d40ca1",
       "placeholder": "​",
       "style": "IPY_MODEL_07e1b84faf4b470da31672f054427991",
       "value": " 1/1 [00:01&lt;00:00,  1.39s/it]"
      }
     },
     "6c9b337a11e04e97ab2d27eb22e6371c": {
      "model_module": "@jupyter-widgets/controls",
      "model_module_version": "1.5.0",
      "model_name": "DescriptionStyleModel",
      "state": {
       "_model_module": "@jupyter-widgets/controls",
       "_model_module_version": "1.5.0",
       "_model_name": "DescriptionStyleModel",
       "_view_count": null,
       "_view_module": "@jupyter-widgets/base",
       "_view_module_version": "1.2.0",
       "_view_name": "StyleView",
       "description_width": ""
      }
     },
     "6d724b2dda6d4f10ae185840b8f5886f": {
      "model_module": "@jupyter-widgets/controls",
      "model_module_version": "1.5.0",
      "model_name": "HTMLModel",
      "state": {
       "_dom_classes": [],
       "_model_module": "@jupyter-widgets/controls",
       "_model_module_version": "1.5.0",
       "_model_name": "HTMLModel",
       "_view_count": null,
       "_view_module": "@jupyter-widgets/controls",
       "_view_module_version": "1.5.0",
       "_view_name": "HTMLView",
       "description": "",
       "description_tooltip": null,
       "layout": "IPY_MODEL_4a27a2a7ac914ed481d9b3e9fe18e297",
       "placeholder": "​",
       "style": "IPY_MODEL_5e43ab5c0678472aa3b8fa736bd6cc45",
       "value": " 6.27k/6.27k [00:00&lt;00:00, 313kB/s]"
      }
     },
     "6dc8be621fe44c4c9b9516dc558018ac": {
      "model_module": "@jupyter-widgets/controls",
      "model_module_version": "1.5.0",
      "model_name": "HTMLModel",
      "state": {
       "_dom_classes": [],
       "_model_module": "@jupyter-widgets/controls",
       "_model_module_version": "1.5.0",
       "_model_name": "HTMLModel",
       "_view_count": null,
       "_view_module": "@jupyter-widgets/controls",
       "_view_module_version": "1.5.0",
       "_view_name": "HTMLView",
       "description": "",
       "description_tooltip": null,
       "layout": "IPY_MODEL_5776ceb3a15c494b883c182ac1664946",
       "placeholder": "​",
       "style": "IPY_MODEL_ad5f4acf97d7433e9a5bddb04b292cac",
       "value": "Downloading extra modules: "
      }
     },
     "720d347aba5742c4ab75e612af231db2": {
      "model_module": "@jupyter-widgets/controls",
      "model_module_version": "1.5.0",
      "model_name": "FloatProgressModel",
      "state": {
       "_dom_classes": [],
       "_model_module": "@jupyter-widgets/controls",
       "_model_module_version": "1.5.0",
       "_model_name": "FloatProgressModel",
       "_view_count": null,
       "_view_module": "@jupyter-widgets/controls",
       "_view_module_version": "1.5.0",
       "_view_name": "ProgressView",
       "bar_style": "success",
       "description": "",
       "description_tooltip": null,
       "layout": "IPY_MODEL_be595cc98257467e89ea1fe86546d92b",
       "max": 483.0,
       "min": 0.0,
       "orientation": "horizontal",
       "style": "IPY_MODEL_e3b13ec08c0441068bfd6c1b940b44aa",
       "value": 483.0
      }
     },
     "74a7b14d08de4189bdeb5cd4774dadb3": {
      "model_module": "@jupyter-widgets/base",
      "model_module_version": "1.2.0",
      "model_name": "LayoutModel",
      "state": {
       "_model_module": "@jupyter-widgets/base",
       "_model_module_version": "1.2.0",
       "_model_name": "LayoutModel",
       "_view_count": null,
       "_view_module": "@jupyter-widgets/base",
       "_view_module_version": "1.2.0",
       "_view_name": "LayoutView",
       "align_content": null,
       "align_items": null,
       "align_self": null,
       "border": null,
       "bottom": null,
       "display": null,
       "flex": null,
       "flex_flow": null,
       "grid_area": null,
       "grid_auto_columns": null,
       "grid_auto_flow": null,
       "grid_auto_rows": null,
       "grid_column": null,
       "grid_gap": null,
       "grid_row": null,
       "grid_template_areas": null,
       "grid_template_columns": null,
       "grid_template_rows": null,
       "height": null,
       "justify_content": null,
       "justify_items": null,
       "left": null,
       "margin": null,
       "max_height": null,
       "max_width": null,
       "min_height": null,
       "min_width": null,
       "object_fit": null,
       "object_position": null,
       "order": null,
       "overflow": null,
       "overflow_x": null,
       "overflow_y": null,
       "padding": null,
       "right": null,
       "top": null,
       "visibility": null,
       "width": null
      }
     },
     "759003a2b16e47d8900abc54d5d78de3": {
      "model_module": "@jupyter-widgets/controls",
      "model_module_version": "1.5.0",
      "model_name": "ProgressStyleModel",
      "state": {
       "_model_module": "@jupyter-widgets/controls",
       "_model_module_version": "1.5.0",
       "_model_name": "ProgressStyleModel",
       "_view_count": null,
       "_view_module": "@jupyter-widgets/base",
       "_view_module_version": "1.2.0",
       "_view_name": "StyleView",
       "bar_color": null,
       "description_width": ""
      }
     },
     "7648b1014e4e44d49f817612921b455d": {
      "model_module": "@jupyter-widgets/controls",
      "model_module_version": "1.5.0",
      "model_name": "FloatProgressModel",
      "state": {
       "_dom_classes": [],
       "_model_module": "@jupyter-widgets/controls",
       "_model_module_version": "1.5.0",
       "_model_name": "FloatProgressModel",
       "_view_count": null,
       "_view_module": "@jupyter-widgets/controls",
       "_view_module_version": "1.5.0",
       "_view_name": "ProgressView",
       "bar_style": "success",
       "description": "",
       "description_tooltip": null,
       "layout": "IPY_MODEL_ff8ba3187da64eaf91bfbf0d9f3c5777",
       "max": 3344.0,
       "min": 0.0,
       "orientation": "horizontal",
       "style": "IPY_MODEL_ea63ca078b5b4d7a97b3495a8438d562",
       "value": 3344.0
      }
     },
     "765b5550fb7e4a5b840387c3abec8c93": {
      "model_module": "@jupyter-widgets/base",
      "model_module_version": "1.2.0",
      "model_name": "LayoutModel",
      "state": {
       "_model_module": "@jupyter-widgets/base",
       "_model_module_version": "1.2.0",
       "_model_name": "LayoutModel",
       "_view_count": null,
       "_view_module": "@jupyter-widgets/base",
       "_view_module_version": "1.2.0",
       "_view_name": "LayoutView",
       "align_content": null,
       "align_items": null,
       "align_self": null,
       "border": null,
       "bottom": null,
       "display": null,
       "flex": null,
       "flex_flow": null,
       "grid_area": null,
       "grid_auto_columns": null,
       "grid_auto_flow": null,
       "grid_auto_rows": null,
       "grid_column": null,
       "grid_gap": null,
       "grid_row": null,
       "grid_template_areas": null,
       "grid_template_columns": null,
       "grid_template_rows": null,
       "height": null,
       "justify_content": null,
       "justify_items": null,
       "left": null,
       "margin": null,
       "max_height": null,
       "max_width": null,
       "min_height": null,
       "min_width": null,
       "object_fit": null,
       "object_position": null,
       "order": null,
       "overflow": null,
       "overflow_x": null,
       "overflow_y": null,
       "padding": null,
       "right": null,
       "top": null,
       "visibility": null,
       "width": null
      }
     },
     "7801111dc4bd4a2d9a762cf74f3d8f1d": {
      "model_module": "@jupyter-widgets/controls",
      "model_module_version": "1.5.0",
      "model_name": "HTMLModel",
      "state": {
       "_dom_classes": [],
       "_model_module": "@jupyter-widgets/controls",
       "_model_module_version": "1.5.0",
       "_model_name": "HTMLModel",
       "_view_count": null,
       "_view_module": "@jupyter-widgets/controls",
       "_view_module_version": "1.5.0",
       "_view_name": "HTMLView",
       "description": "",
       "description_tooltip": null,
       "layout": "IPY_MODEL_479a0e04cb8e43ec8cd5083e67660894",
       "placeholder": "​",
       "style": "IPY_MODEL_b3bcc73fc5a94b7c83ae35c264b332ca",
       "value": " 3.34k/3.34k [00:00&lt;00:00, 216kB/s]"
      }
     },
     "793d90b36ddb4dc7ac02a73f94022763": {
      "model_module": "@jupyter-widgets/controls",
      "model_module_version": "1.5.0",
      "model_name": "HTMLModel",
      "state": {
       "_dom_classes": [],
       "_model_module": "@jupyter-widgets/controls",
       "_model_module_version": "1.5.0",
       "_model_name": "HTMLModel",
       "_view_count": null,
       "_view_module": "@jupyter-widgets/controls",
       "_view_module_version": "1.5.0",
       "_view_name": "HTMLView",
       "description": "",
       "description_tooltip": null,
       "layout": "IPY_MODEL_892766a11ca44cd9ab9d1e0bd57c4c41",
       "placeholder": "​",
       "style": "IPY_MODEL_8ff3f093b424434887db89662f204160",
       "value": " 3.34k/3.34k [00:00&lt;00:00, 219kB/s]"
      }
     },
     "7c97982764684882ada69c6af5ada129": {
      "model_module": "@jupyter-widgets/base",
      "model_module_version": "1.2.0",
      "model_name": "LayoutModel",
      "state": {
       "_model_module": "@jupyter-widgets/base",
       "_model_module_version": "1.2.0",
       "_model_name": "LayoutModel",
       "_view_count": null,
       "_view_module": "@jupyter-widgets/base",
       "_view_module_version": "1.2.0",
       "_view_name": "LayoutView",
       "align_content": null,
       "align_items": null,
       "align_self": null,
       "border": null,
       "bottom": null,
       "display": null,
       "flex": null,
       "flex_flow": null,
       "grid_area": null,
       "grid_auto_columns": null,
       "grid_auto_flow": null,
       "grid_auto_rows": null,
       "grid_column": null,
       "grid_gap": null,
       "grid_row": null,
       "grid_template_areas": null,
       "grid_template_columns": null,
       "grid_template_rows": null,
       "height": null,
       "justify_content": null,
       "justify_items": null,
       "left": null,
       "margin": null,
       "max_height": null,
       "max_width": null,
       "min_height": null,
       "min_width": null,
       "object_fit": null,
       "object_position": null,
       "order": null,
       "overflow": null,
       "overflow_x": null,
       "overflow_y": null,
       "padding": null,
       "right": null,
       "top": null,
       "visibility": null,
       "width": null
      }
     },
     "80ae929186554a549573b1c4a7ef27b5": {
      "model_module": "@jupyter-widgets/controls",
      "model_module_version": "1.5.0",
      "model_name": "HTMLModel",
      "state": {
       "_dom_classes": [],
       "_model_module": "@jupyter-widgets/controls",
       "_model_module_version": "1.5.0",
       "_model_name": "HTMLModel",
       "_view_count": null,
       "_view_module": "@jupyter-widgets/controls",
       "_view_module_version": "1.5.0",
       "_view_name": "HTMLView",
       "description": "",
       "description_tooltip": null,
       "layout": "IPY_MODEL_8c1b4f4f7902410f9700d7d6ec264090",
       "placeholder": "​",
       "style": "IPY_MODEL_a7bd64089b7a4397911a34d22ef8a2a1",
       "value": "Downloading builder script: 100%"
      }
     },
     "853613d70ce845cd918d1d83db4828d6": {
      "model_module": "@jupyter-widgets/base",
      "model_module_version": "1.2.0",
      "model_name": "LayoutModel",
      "state": {
       "_model_module": "@jupyter-widgets/base",
       "_model_module_version": "1.2.0",
       "_model_name": "LayoutModel",
       "_view_count": null,
       "_view_module": "@jupyter-widgets/base",
       "_view_module_version": "1.2.0",
       "_view_name": "LayoutView",
       "align_content": null,
       "align_items": null,
       "align_self": null,
       "border": null,
       "bottom": null,
       "display": null,
       "flex": null,
       "flex_flow": null,
       "grid_area": null,
       "grid_auto_columns": null,
       "grid_auto_flow": null,
       "grid_auto_rows": null,
       "grid_column": null,
       "grid_gap": null,
       "grid_row": null,
       "grid_template_areas": null,
       "grid_template_columns": null,
       "grid_template_rows": null,
       "height": null,
       "justify_content": null,
       "justify_items": null,
       "left": null,
       "margin": null,
       "max_height": null,
       "max_width": null,
       "min_height": null,
       "min_width": null,
       "object_fit": null,
       "object_position": null,
       "order": null,
       "overflow": null,
       "overflow_x": null,
       "overflow_y": null,
       "padding": null,
       "right": null,
       "top": null,
       "visibility": null,
       "width": null
      }
     },
     "85ac4d22e5394720a83e685115398ef4": {
      "model_module": "@jupyter-widgets/base",
      "model_module_version": "1.2.0",
      "model_name": "LayoutModel",
      "state": {
       "_model_module": "@jupyter-widgets/base",
       "_model_module_version": "1.2.0",
       "_model_name": "LayoutModel",
       "_view_count": null,
       "_view_module": "@jupyter-widgets/base",
       "_view_module_version": "1.2.0",
       "_view_name": "LayoutView",
       "align_content": null,
       "align_items": null,
       "align_self": null,
       "border": null,
       "bottom": null,
       "display": null,
       "flex": null,
       "flex_flow": null,
       "grid_area": null,
       "grid_auto_columns": null,
       "grid_auto_flow": null,
       "grid_auto_rows": null,
       "grid_column": null,
       "grid_gap": null,
       "grid_row": null,
       "grid_template_areas": null,
       "grid_template_columns": null,
       "grid_template_rows": null,
       "height": null,
       "justify_content": null,
       "justify_items": null,
       "left": null,
       "margin": null,
       "max_height": null,
       "max_width": null,
       "min_height": null,
       "min_width": null,
       "object_fit": null,
       "object_position": null,
       "order": null,
       "overflow": null,
       "overflow_x": null,
       "overflow_y": null,
       "padding": null,
       "right": null,
       "top": null,
       "visibility": null,
       "width": null
      }
     },
     "85b6ddd524eb4b7fa7fcfd73bfaa34c1": {
      "model_module": "@jupyter-widgets/controls",
      "model_module_version": "1.5.0",
      "model_name": "ProgressStyleModel",
      "state": {
       "_model_module": "@jupyter-widgets/controls",
       "_model_module_version": "1.5.0",
       "_model_name": "ProgressStyleModel",
       "_view_count": null,
       "_view_module": "@jupyter-widgets/base",
       "_view_module_version": "1.2.0",
       "_view_name": "StyleView",
       "bar_color": null,
       "description_width": ""
      }
     },
     "86454c4c8a4948848ecabc1afcf98acd": {
      "model_module": "@jupyter-widgets/base",
      "model_module_version": "1.2.0",
      "model_name": "LayoutModel",
      "state": {
       "_model_module": "@jupyter-widgets/base",
       "_model_module_version": "1.2.0",
       "_model_name": "LayoutModel",
       "_view_count": null,
       "_view_module": "@jupyter-widgets/base",
       "_view_module_version": "1.2.0",
       "_view_name": "LayoutView",
       "align_content": null,
       "align_items": null,
       "align_self": null,
       "border": null,
       "bottom": null,
       "display": null,
       "flex": null,
       "flex_flow": null,
       "grid_area": null,
       "grid_auto_columns": null,
       "grid_auto_flow": null,
       "grid_auto_rows": null,
       "grid_column": null,
       "grid_gap": null,
       "grid_row": null,
       "grid_template_areas": null,
       "grid_template_columns": null,
       "grid_template_rows": null,
       "height": null,
       "justify_content": null,
       "justify_items": null,
       "left": null,
       "margin": null,
       "max_height": null,
       "max_width": null,
       "min_height": null,
       "min_width": null,
       "object_fit": null,
       "object_position": null,
       "order": null,
       "overflow": null,
       "overflow_x": null,
       "overflow_y": null,
       "padding": null,
       "right": null,
       "top": null,
       "visibility": null,
       "width": null
      }
     },
     "8692e3b723fa4146ad3a2431bb2fa660": {
      "model_module": "@jupyter-widgets/controls",
      "model_module_version": "1.5.0",
      "model_name": "HTMLModel",
      "state": {
       "_dom_classes": [],
       "_model_module": "@jupyter-widgets/controls",
       "_model_module_version": "1.5.0",
       "_model_name": "HTMLModel",
       "_view_count": null,
       "_view_module": "@jupyter-widgets/controls",
       "_view_module_version": "1.5.0",
       "_view_name": "HTMLView",
       "description": "",
       "description_tooltip": null,
       "layout": "IPY_MODEL_f0419621ec3e4824960576b032bfd81c",
       "placeholder": "​",
       "style": "IPY_MODEL_2e3903fcfd764423be753525d3dbec13",
       "value": " 48.0/48.0 [00:00&lt;00:00, 3.02kB/s]"
      }
     },
     "892766a11ca44cd9ab9d1e0bd57c4c41": {
      "model_module": "@jupyter-widgets/base",
      "model_module_version": "1.2.0",
      "model_name": "LayoutModel",
      "state": {
       "_model_module": "@jupyter-widgets/base",
       "_model_module_version": "1.2.0",
       "_model_name": "LayoutModel",
       "_view_count": null,
       "_view_module": "@jupyter-widgets/base",
       "_view_module_version": "1.2.0",
       "_view_name": "LayoutView",
       "align_content": null,
       "align_items": null,
       "align_self": null,
       "border": null,
       "bottom": null,
       "display": null,
       "flex": null,
       "flex_flow": null,
       "grid_area": null,
       "grid_auto_columns": null,
       "grid_auto_flow": null,
       "grid_auto_rows": null,
       "grid_column": null,
       "grid_gap": null,
       "grid_row": null,
       "grid_template_areas": null,
       "grid_template_columns": null,
       "grid_template_rows": null,
       "height": null,
       "justify_content": null,
       "justify_items": null,
       "left": null,
       "margin": null,
       "max_height": null,
       "max_width": null,
       "min_height": null,
       "min_width": null,
       "object_fit": null,
       "object_position": null,
       "order": null,
       "overflow": null,
       "overflow_x": null,
       "overflow_y": null,
       "padding": null,
       "right": null,
       "top": null,
       "visibility": null,
       "width": null
      }
     },
     "8c1b4f4f7902410f9700d7d6ec264090": {
      "model_module": "@jupyter-widgets/base",
      "model_module_version": "1.2.0",
      "model_name": "LayoutModel",
      "state": {
       "_model_module": "@jupyter-widgets/base",
       "_model_module_version": "1.2.0",
       "_model_name": "LayoutModel",
       "_view_count": null,
       "_view_module": "@jupyter-widgets/base",
       "_view_module_version": "1.2.0",
       "_view_name": "LayoutView",
       "align_content": null,
       "align_items": null,
       "align_self": null,
       "border": null,
       "bottom": null,
       "display": null,
       "flex": null,
       "flex_flow": null,
       "grid_area": null,
       "grid_auto_columns": null,
       "grid_auto_flow": null,
       "grid_auto_rows": null,
       "grid_column": null,
       "grid_gap": null,
       "grid_row": null,
       "grid_template_areas": null,
       "grid_template_columns": null,
       "grid_template_rows": null,
       "height": null,
       "justify_content": null,
       "justify_items": null,
       "left": null,
       "margin": null,
       "max_height": null,
       "max_width": null,
       "min_height": null,
       "min_width": null,
       "object_fit": null,
       "object_position": null,
       "order": null,
       "overflow": null,
       "overflow_x": null,
       "overflow_y": null,
       "padding": null,
       "right": null,
       "top": null,
       "visibility": null,
       "width": null
      }
     },
     "8e424150374f495187b3023f12537b4b": {
      "model_module": "@jupyter-widgets/controls",
      "model_module_version": "1.5.0",
      "model_name": "HBoxModel",
      "state": {
       "_dom_classes": [],
       "_model_module": "@jupyter-widgets/controls",
       "_model_module_version": "1.5.0",
       "_model_name": "HBoxModel",
       "_view_count": null,
       "_view_module": "@jupyter-widgets/controls",
       "_view_module_version": "1.5.0",
       "_view_name": "HBoxView",
       "box_style": "",
       "children": [
        "IPY_MODEL_4759d8df162e4f49b41adbe9f1cd798c",
        "IPY_MODEL_d171d62fa3dc43d8838480932c483d85",
        "IPY_MODEL_256c7afd656241f5b7744fae2658bab8"
       ],
       "layout": "IPY_MODEL_32606f8021384f29ab5d30fb30760d48"
      }
     },
     "8fd28922be9a4257b96ef1f0ca16fe1b": {
      "model_module": "@jupyter-widgets/controls",
      "model_module_version": "1.5.0",
      "model_name": "HTMLModel",
      "state": {
       "_dom_classes": [],
       "_model_module": "@jupyter-widgets/controls",
       "_model_module_version": "1.5.0",
       "_model_name": "HTMLModel",
       "_view_count": null,
       "_view_module": "@jupyter-widgets/controls",
       "_view_module_version": "1.5.0",
       "_view_name": "HTMLView",
       "description": "",
       "description_tooltip": null,
       "layout": "IPY_MODEL_765b5550fb7e4a5b840387c3abec8c93",
       "placeholder": "​",
       "style": "IPY_MODEL_e0a1464586744c079ea6644c9056660d",
       "value": "Downloading builder script: 100%"
      }
     },
     "8ff3f093b424434887db89662f204160": {
      "model_module": "@jupyter-widgets/controls",
      "model_module_version": "1.5.0",
      "model_name": "DescriptionStyleModel",
      "state": {
       "_model_module": "@jupyter-widgets/controls",
       "_model_module_version": "1.5.0",
       "_model_name": "DescriptionStyleModel",
       "_view_count": null,
       "_view_module": "@jupyter-widgets/base",
       "_view_module_version": "1.2.0",
       "_view_name": "StyleView",
       "description_width": ""
      }
     },
     "8ff589a9cd144aef9b1c18b337e56e38": {
      "model_module": "@jupyter-widgets/controls",
      "model_module_version": "1.5.0",
      "model_name": "ProgressStyleModel",
      "state": {
       "_model_module": "@jupyter-widgets/controls",
       "_model_module_version": "1.5.0",
       "_model_name": "ProgressStyleModel",
       "_view_count": null,
       "_view_module": "@jupyter-widgets/base",
       "_view_module_version": "1.2.0",
       "_view_name": "StyleView",
       "bar_color": null,
       "description_width": ""
      }
     },
     "92717260a3054e1790a9d6976bb0c2cf": {
      "model_module": "@jupyter-widgets/base",
      "model_module_version": "1.2.0",
      "model_name": "LayoutModel",
      "state": {
       "_model_module": "@jupyter-widgets/base",
       "_model_module_version": "1.2.0",
       "_model_name": "LayoutModel",
       "_view_count": null,
       "_view_module": "@jupyter-widgets/base",
       "_view_module_version": "1.2.0",
       "_view_name": "LayoutView",
       "align_content": null,
       "align_items": null,
       "align_self": null,
       "border": null,
       "bottom": null,
       "display": null,
       "flex": null,
       "flex_flow": null,
       "grid_area": null,
       "grid_auto_columns": null,
       "grid_auto_flow": null,
       "grid_auto_rows": null,
       "grid_column": null,
       "grid_gap": null,
       "grid_row": null,
       "grid_template_areas": null,
       "grid_template_columns": null,
       "grid_template_rows": null,
       "height": null,
       "justify_content": null,
       "justify_items": null,
       "left": null,
       "margin": null,
       "max_height": null,
       "max_width": null,
       "min_height": null,
       "min_width": null,
       "object_fit": null,
       "object_position": null,
       "order": null,
       "overflow": null,
       "overflow_x": null,
       "overflow_y": null,
       "padding": null,
       "right": null,
       "top": null,
       "visibility": null,
       "width": null
      }
     },
     "957fb174e20a408cb01a087d6e25238d": {
      "model_module": "@jupyter-widgets/controls",
      "model_module_version": "1.5.0",
      "model_name": "DescriptionStyleModel",
      "state": {
       "_model_module": "@jupyter-widgets/controls",
       "_model_module_version": "1.5.0",
       "_model_name": "DescriptionStyleModel",
       "_view_count": null,
       "_view_module": "@jupyter-widgets/base",
       "_view_module_version": "1.2.0",
       "_view_name": "StyleView",
       "description_width": ""
      }
     },
     "96bafa850baf440f8a533a94ec083264": {
      "model_module": "@jupyter-widgets/controls",
      "model_module_version": "1.5.0",
      "model_name": "HTMLModel",
      "state": {
       "_dom_classes": [],
       "_model_module": "@jupyter-widgets/controls",
       "_model_module_version": "1.5.0",
       "_model_name": "HTMLModel",
       "_view_count": null,
       "_view_module": "@jupyter-widgets/controls",
       "_view_module_version": "1.5.0",
       "_view_name": "HTMLView",
       "description": "",
       "description_tooltip": null,
       "layout": "IPY_MODEL_aa8ee2552901478290420a0ab30381be",
       "placeholder": "​",
       "style": "IPY_MODEL_103d3e239a24422fbd59866477a9fbb6",
       "value": "model.safetensors: 100%"
      }
     },
     "9af0799befdd46ac8d3825621a86da3a": {
      "model_module": "@jupyter-widgets/controls",
      "model_module_version": "1.5.0",
      "model_name": "DescriptionStyleModel",
      "state": {
       "_model_module": "@jupyter-widgets/controls",
       "_model_module_version": "1.5.0",
       "_model_name": "DescriptionStyleModel",
       "_view_count": null,
       "_view_module": "@jupyter-widgets/base",
       "_view_module_version": "1.2.0",
       "_view_name": "StyleView",
       "description_width": ""
      }
     },
     "9d4257e7d98c4e4b9275d26801fd6c8d": {
      "model_module": "@jupyter-widgets/controls",
      "model_module_version": "1.5.0",
      "model_name": "HTMLModel",
      "state": {
       "_dom_classes": [],
       "_model_module": "@jupyter-widgets/controls",
       "_model_module_version": "1.5.0",
       "_model_name": "HTMLModel",
       "_view_count": null,
       "_view_module": "@jupyter-widgets/controls",
       "_view_module_version": "1.5.0",
       "_view_name": "HTMLView",
       "description": "",
       "description_tooltip": null,
       "layout": "IPY_MODEL_0809c8214a3a43549e52f0e8476fe28b",
       "placeholder": "​",
       "style": "IPY_MODEL_5547130b36d1432bbed1c611f62da8ae",
       "value": "Downloading builder script: 100%"
      }
     },
     "9ed623f77f5348d88886b6db101cc335": {
      "model_module": "@jupyter-widgets/base",
      "model_module_version": "1.2.0",
      "model_name": "LayoutModel",
      "state": {
       "_model_module": "@jupyter-widgets/base",
       "_model_module_version": "1.2.0",
       "_model_name": "LayoutModel",
       "_view_count": null,
       "_view_module": "@jupyter-widgets/base",
       "_view_module_version": "1.2.0",
       "_view_name": "LayoutView",
       "align_content": null,
       "align_items": null,
       "align_self": null,
       "border": null,
       "bottom": null,
       "display": null,
       "flex": null,
       "flex_flow": null,
       "grid_area": null,
       "grid_auto_columns": null,
       "grid_auto_flow": null,
       "grid_auto_rows": null,
       "grid_column": null,
       "grid_gap": null,
       "grid_row": null,
       "grid_template_areas": null,
       "grid_template_columns": null,
       "grid_template_rows": null,
       "height": null,
       "justify_content": null,
       "justify_items": null,
       "left": null,
       "margin": null,
       "max_height": null,
       "max_width": null,
       "min_height": null,
       "min_width": null,
       "object_fit": null,
       "object_position": null,
       "order": null,
       "overflow": null,
       "overflow_x": null,
       "overflow_y": null,
       "padding": null,
       "right": null,
       "top": null,
       "visibility": null,
       "width": null
      }
     },
     "a0321b8e499344718be4e341f5231dab": {
      "model_module": "@jupyter-widgets/controls",
      "model_module_version": "1.5.0",
      "model_name": "DescriptionStyleModel",
      "state": {
       "_model_module": "@jupyter-widgets/controls",
       "_model_module_version": "1.5.0",
       "_model_name": "DescriptionStyleModel",
       "_view_count": null,
       "_view_module": "@jupyter-widgets/base",
       "_view_module_version": "1.2.0",
       "_view_name": "StyleView",
       "description_width": ""
      }
     },
     "a2823326765d48a7bafdf4d83bc2c471": {
      "model_module": "@jupyter-widgets/controls",
      "model_module_version": "1.5.0",
      "model_name": "DescriptionStyleModel",
      "state": {
       "_model_module": "@jupyter-widgets/controls",
       "_model_module_version": "1.5.0",
       "_model_name": "DescriptionStyleModel",
       "_view_count": null,
       "_view_module": "@jupyter-widgets/base",
       "_view_module_version": "1.2.0",
       "_view_name": "StyleView",
       "description_width": ""
      }
     },
     "a2edf7dc3caa4fb09ef93deb23ef2e3b": {
      "model_module": "@jupyter-widgets/base",
      "model_module_version": "1.2.0",
      "model_name": "LayoutModel",
      "state": {
       "_model_module": "@jupyter-widgets/base",
       "_model_module_version": "1.2.0",
       "_model_name": "LayoutModel",
       "_view_count": null,
       "_view_module": "@jupyter-widgets/base",
       "_view_module_version": "1.2.0",
       "_view_name": "LayoutView",
       "align_content": null,
       "align_items": null,
       "align_self": null,
       "border": null,
       "bottom": null,
       "display": null,
       "flex": null,
       "flex_flow": null,
       "grid_area": null,
       "grid_auto_columns": null,
       "grid_auto_flow": null,
       "grid_auto_rows": null,
       "grid_column": null,
       "grid_gap": null,
       "grid_row": null,
       "grid_template_areas": null,
       "grid_template_columns": null,
       "grid_template_rows": null,
       "height": null,
       "justify_content": null,
       "justify_items": null,
       "left": null,
       "margin": null,
       "max_height": null,
       "max_width": null,
       "min_height": null,
       "min_width": null,
       "object_fit": null,
       "object_position": null,
       "order": null,
       "overflow": null,
       "overflow_x": null,
       "overflow_y": null,
       "padding": null,
       "right": null,
       "top": null,
       "visibility": null,
       "width": null
      }
     },
     "a5c2ddcb4bf14c29918edef827a70263": {
      "model_module": "@jupyter-widgets/controls",
      "model_module_version": "1.5.0",
      "model_name": "FloatProgressModel",
      "state": {
       "_dom_classes": [],
       "_model_module": "@jupyter-widgets/controls",
       "_model_module_version": "1.5.0",
       "_model_name": "FloatProgressModel",
       "_view_count": null,
       "_view_module": "@jupyter-widgets/controls",
       "_view_module_version": "1.5.0",
       "_view_name": "ProgressView",
       "bar_style": "success",
       "description": "",
       "description_tooltip": null,
       "layout": "IPY_MODEL_b22bc8025624476a80ea6e5766ae799f",
       "max": 8146.0,
       "min": 0.0,
       "orientation": "horizontal",
       "style": "IPY_MODEL_63ec6941f32343d6996f29f9d229de65",
       "value": 8146.0
      }
     },
     "a6e2450e0fd147568a802df291275031": {
      "model_module": "@jupyter-widgets/controls",
      "model_module_version": "1.5.0",
      "model_name": "HTMLModel",
      "state": {
       "_dom_classes": [],
       "_model_module": "@jupyter-widgets/controls",
       "_model_module_version": "1.5.0",
       "_model_name": "HTMLModel",
       "_view_count": null,
       "_view_module": "@jupyter-widgets/controls",
       "_view_module_version": "1.5.0",
       "_view_name": "HTMLView",
       "description": "",
       "description_tooltip": null,
       "layout": "IPY_MODEL_3047dfee003740a193586facbe29e4c4",
       "placeholder": "​",
       "style": "IPY_MODEL_a2823326765d48a7bafdf4d83bc2c471",
       "value": " 268M/268M [00:04&lt;00:00, 70.3MB/s]"
      }
     },
     "a7bd64089b7a4397911a34d22ef8a2a1": {
      "model_module": "@jupyter-widgets/controls",
      "model_module_version": "1.5.0",
      "model_name": "DescriptionStyleModel",
      "state": {
       "_model_module": "@jupyter-widgets/controls",
       "_model_module_version": "1.5.0",
       "_model_name": "DescriptionStyleModel",
       "_view_count": null,
       "_view_module": "@jupyter-widgets/base",
       "_view_module_version": "1.2.0",
       "_view_name": "StyleView",
       "description_width": ""
      }
     },
     "a869d63f59434e758aa40ba8c235d89f": {
      "model_module": "@jupyter-widgets/controls",
      "model_module_version": "1.5.0",
      "model_name": "HTMLModel",
      "state": {
       "_dom_classes": [],
       "_model_module": "@jupyter-widgets/controls",
       "_model_module_version": "1.5.0",
       "_model_name": "HTMLModel",
       "_view_count": null,
       "_view_module": "@jupyter-widgets/controls",
       "_view_module_version": "1.5.0",
       "_view_name": "HTMLView",
       "description": "",
       "description_tooltip": null,
       "layout": "IPY_MODEL_5619ab44a2e74026acd6208c36ad2287",
       "placeholder": "​",
       "style": "IPY_MODEL_47175524567843a4ab37d2f125c9d498",
       "value": "Computing checksums: 100%"
      }
     },
     "a9a2d1d616094b8187533c0758c45bc5": {
      "model_module": "@jupyter-widgets/base",
      "model_module_version": "1.2.0",
      "model_name": "LayoutModel",
      "state": {
       "_model_module": "@jupyter-widgets/base",
       "_model_module_version": "1.2.0",
       "_model_name": "LayoutModel",
       "_view_count": null,
       "_view_module": "@jupyter-widgets/base",
       "_view_module_version": "1.2.0",
       "_view_name": "LayoutView",
       "align_content": null,
       "align_items": null,
       "align_self": null,
       "border": null,
       "bottom": null,
       "display": null,
       "flex": null,
       "flex_flow": null,
       "grid_area": null,
       "grid_auto_columns": null,
       "grid_auto_flow": null,
       "grid_auto_rows": null,
       "grid_column": null,
       "grid_gap": null,
       "grid_row": null,
       "grid_template_areas": null,
       "grid_template_columns": null,
       "grid_template_rows": null,
       "height": null,
       "justify_content": null,
       "justify_items": null,
       "left": null,
       "margin": null,
       "max_height": null,
       "max_width": null,
       "min_height": null,
       "min_width": null,
       "object_fit": null,
       "object_position": null,
       "order": null,
       "overflow": null,
       "overflow_x": null,
       "overflow_y": null,
       "padding": null,
       "right": null,
       "top": null,
       "visibility": null,
       "width": null
      }
     },
     "aa8ee2552901478290420a0ab30381be": {
      "model_module": "@jupyter-widgets/base",
      "model_module_version": "1.2.0",
      "model_name": "LayoutModel",
      "state": {
       "_model_module": "@jupyter-widgets/base",
       "_model_module_version": "1.2.0",
       "_model_name": "LayoutModel",
       "_view_count": null,
       "_view_module": "@jupyter-widgets/base",
       "_view_module_version": "1.2.0",
       "_view_name": "LayoutView",
       "align_content": null,
       "align_items": null,
       "align_self": null,
       "border": null,
       "bottom": null,
       "display": null,
       "flex": null,
       "flex_flow": null,
       "grid_area": null,
       "grid_auto_columns": null,
       "grid_auto_flow": null,
       "grid_auto_rows": null,
       "grid_column": null,
       "grid_gap": null,
       "grid_row": null,
       "grid_template_areas": null,
       "grid_template_columns": null,
       "grid_template_rows": null,
       "height": null,
       "justify_content": null,
       "justify_items": null,
       "left": null,
       "margin": null,
       "max_height": null,
       "max_width": null,
       "min_height": null,
       "min_width": null,
       "object_fit": null,
       "object_position": null,
       "order": null,
       "overflow": null,
       "overflow_x": null,
       "overflow_y": null,
       "padding": null,
       "right": null,
       "top": null,
       "visibility": null,
       "width": null
      }
     },
     "ac02f351941c454584c8dd987a5783f8": {
      "model_module": "@jupyter-widgets/base",
      "model_module_version": "1.2.0",
      "model_name": "LayoutModel",
      "state": {
       "_model_module": "@jupyter-widgets/base",
       "_model_module_version": "1.2.0",
       "_model_name": "LayoutModel",
       "_view_count": null,
       "_view_module": "@jupyter-widgets/base",
       "_view_module_version": "1.2.0",
       "_view_name": "LayoutView",
       "align_content": null,
       "align_items": null,
       "align_self": null,
       "border": null,
       "bottom": null,
       "display": null,
       "flex": null,
       "flex_flow": null,
       "grid_area": null,
       "grid_auto_columns": null,
       "grid_auto_flow": null,
       "grid_auto_rows": null,
       "grid_column": null,
       "grid_gap": null,
       "grid_row": null,
       "grid_template_areas": null,
       "grid_template_columns": null,
       "grid_template_rows": null,
       "height": null,
       "justify_content": null,
       "justify_items": null,
       "left": null,
       "margin": null,
       "max_height": null,
       "max_width": null,
       "min_height": null,
       "min_width": null,
       "object_fit": null,
       "object_position": null,
       "order": null,
       "overflow": null,
       "overflow_x": null,
       "overflow_y": null,
       "padding": null,
       "right": null,
       "top": null,
       "visibility": null,
       "width": null
      }
     },
     "ac7a49e4dca84597aaa5657aad91d5cd": {
      "model_module": "@jupyter-widgets/controls",
      "model_module_version": "1.5.0",
      "model_name": "ProgressStyleModel",
      "state": {
       "_model_module": "@jupyter-widgets/controls",
       "_model_module_version": "1.5.0",
       "_model_name": "ProgressStyleModel",
       "_view_count": null,
       "_view_module": "@jupyter-widgets/base",
       "_view_module_version": "1.2.0",
       "_view_name": "StyleView",
       "bar_color": null,
       "description_width": ""
      }
     },
     "ad5f4acf97d7433e9a5bddb04b292cac": {
      "model_module": "@jupyter-widgets/controls",
      "model_module_version": "1.5.0",
      "model_name": "DescriptionStyleModel",
      "state": {
       "_model_module": "@jupyter-widgets/controls",
       "_model_module_version": "1.5.0",
       "_model_name": "DescriptionStyleModel",
       "_view_count": null,
       "_view_module": "@jupyter-widgets/base",
       "_view_module_version": "1.2.0",
       "_view_name": "StyleView",
       "description_width": ""
      }
     },
     "ad839de50f0d42f4a98497644bcb8565": {
      "model_module": "@jupyter-widgets/base",
      "model_module_version": "1.2.0",
      "model_name": "LayoutModel",
      "state": {
       "_model_module": "@jupyter-widgets/base",
       "_model_module_version": "1.2.0",
       "_model_name": "LayoutModel",
       "_view_count": null,
       "_view_module": "@jupyter-widgets/base",
       "_view_module_version": "1.2.0",
       "_view_name": "LayoutView",
       "align_content": null,
       "align_items": null,
       "align_self": null,
       "border": null,
       "bottom": null,
       "display": null,
       "flex": null,
       "flex_flow": null,
       "grid_area": null,
       "grid_auto_columns": null,
       "grid_auto_flow": null,
       "grid_auto_rows": null,
       "grid_column": null,
       "grid_gap": null,
       "grid_row": null,
       "grid_template_areas": null,
       "grid_template_columns": null,
       "grid_template_rows": null,
       "height": null,
       "justify_content": null,
       "justify_items": null,
       "left": null,
       "margin": null,
       "max_height": null,
       "max_width": null,
       "min_height": null,
       "min_width": null,
       "object_fit": null,
       "object_position": null,
       "order": null,
       "overflow": null,
       "overflow_x": null,
       "overflow_y": null,
       "padding": null,
       "right": null,
       "top": null,
       "visibility": null,
       "width": null
      }
     },
     "afff2188fc7d4aeebe55c765ae835d9c": {
      "model_module": "@jupyter-widgets/controls",
      "model_module_version": "1.5.0",
      "model_name": "HTMLModel",
      "state": {
       "_dom_classes": [],
       "_model_module": "@jupyter-widgets/controls",
       "_model_module_version": "1.5.0",
       "_model_name": "HTMLModel",
       "_view_count": null,
       "_view_module": "@jupyter-widgets/controls",
       "_view_module_version": "1.5.0",
       "_view_name": "HTMLView",
       "description": "",
       "description_tooltip": null,
       "layout": "IPY_MODEL_432487b1bdc8428a9da777ebe814b983",
       "placeholder": "​",
       "style": "IPY_MODEL_48dcf3809259475d81a2a052b0c768a8",
       "value": "Downloading extra modules: 100%"
      }
     },
     "b0f7bee6fe5f40adace63714142be285": {
      "model_module": "@jupyter-widgets/controls",
      "model_module_version": "1.5.0",
      "model_name": "HBoxModel",
      "state": {
       "_dom_classes": [],
       "_model_module": "@jupyter-widgets/controls",
       "_model_module_version": "1.5.0",
       "_model_name": "HBoxModel",
       "_view_count": null,
       "_view_module": "@jupyter-widgets/controls",
       "_view_module_version": "1.5.0",
       "_view_name": "HBoxView",
       "box_style": "",
       "children": [
        "IPY_MODEL_b936c871147547d5942f0a9b4e01a1bd",
        "IPY_MODEL_35f266c48a6e4cb9ac7e1278290396b8",
        "IPY_MODEL_8692e3b723fa4146ad3a2431bb2fa660"
       ],
       "layout": "IPY_MODEL_efc9218334a84cc18fb8112b91813cb9"
      }
     },
     "b153f4b2684e46b9b7839948b59ff072": {
      "model_module": "@jupyter-widgets/controls",
      "model_module_version": "1.5.0",
      "model_name": "FloatProgressModel",
      "state": {
       "_dom_classes": [],
       "_model_module": "@jupyter-widgets/controls",
       "_model_module_version": "1.5.0",
       "_model_name": "FloatProgressModel",
       "_view_count": null,
       "_view_module": "@jupyter-widgets/controls",
       "_view_module_version": "1.5.0",
       "_view_name": "ProgressView",
       "bar_style": "success",
       "description": "",
       "description_tooltip": null,
       "layout": "IPY_MODEL_223cea1de603404684b36bf59a645b01",
       "max": 231508.0,
       "min": 0.0,
       "orientation": "horizontal",
       "style": "IPY_MODEL_57bf50587b5d48ecacccfec4862e23ff",
       "value": 231508.0
      }
     },
     "b1db33c4d1f74228a2763602a13341e9": {
      "model_module": "@jupyter-widgets/controls",
      "model_module_version": "1.5.0",
      "model_name": "HTMLModel",
      "state": {
       "_dom_classes": [],
       "_model_module": "@jupyter-widgets/controls",
       "_model_module_version": "1.5.0",
       "_model_name": "HTMLModel",
       "_view_count": null,
       "_view_module": "@jupyter-widgets/controls",
       "_view_module_version": "1.5.0",
       "_view_name": "HTMLView",
       "description": "",
       "description_tooltip": null,
       "layout": "IPY_MODEL_16ac559d0ab6486cb87dd274a04438c6",
       "placeholder": "​",
       "style": "IPY_MODEL_9af0799befdd46ac8d3825621a86da3a",
       "value": " 232k/232k [00:00&lt;00:00, 581kB/s]"
      }
     },
     "b22bc8025624476a80ea6e5766ae799f": {
      "model_module": "@jupyter-widgets/base",
      "model_module_version": "1.2.0",
      "model_name": "LayoutModel",
      "state": {
       "_model_module": "@jupyter-widgets/base",
       "_model_module_version": "1.2.0",
       "_model_name": "LayoutModel",
       "_view_count": null,
       "_view_module": "@jupyter-widgets/base",
       "_view_module_version": "1.2.0",
       "_view_name": "LayoutView",
       "align_content": null,
       "align_items": null,
       "align_self": null,
       "border": null,
       "bottom": null,
       "display": null,
       "flex": null,
       "flex_flow": null,
       "grid_area": null,
       "grid_auto_columns": null,
       "grid_auto_flow": null,
       "grid_auto_rows": null,
       "grid_column": null,
       "grid_gap": null,
       "grid_row": null,
       "grid_template_areas": null,
       "grid_template_columns": null,
       "grid_template_rows": null,
       "height": null,
       "justify_content": null,
       "justify_items": null,
       "left": null,
       "margin": null,
       "max_height": null,
       "max_width": null,
       "min_height": null,
       "min_width": null,
       "object_fit": null,
       "object_position": null,
       "order": null,
       "overflow": null,
       "overflow_x": null,
       "overflow_y": null,
       "padding": null,
       "right": null,
       "top": null,
       "visibility": null,
       "width": null
      }
     },
     "b2650f914ce44299856d81bde93a642d": {
      "model_module": "@jupyter-widgets/base",
      "model_module_version": "1.2.0",
      "model_name": "LayoutModel",
      "state": {
       "_model_module": "@jupyter-widgets/base",
       "_model_module_version": "1.2.0",
       "_model_name": "LayoutModel",
       "_view_count": null,
       "_view_module": "@jupyter-widgets/base",
       "_view_module_version": "1.2.0",
       "_view_name": "LayoutView",
       "align_content": null,
       "align_items": null,
       "align_self": null,
       "border": null,
       "bottom": null,
       "display": null,
       "flex": null,
       "flex_flow": null,
       "grid_area": null,
       "grid_auto_columns": null,
       "grid_auto_flow": null,
       "grid_auto_rows": null,
       "grid_column": null,
       "grid_gap": null,
       "grid_row": null,
       "grid_template_areas": null,
       "grid_template_columns": null,
       "grid_template_rows": null,
       "height": null,
       "justify_content": null,
       "justify_items": null,
       "left": null,
       "margin": null,
       "max_height": null,
       "max_width": null,
       "min_height": null,
       "min_width": null,
       "object_fit": null,
       "object_position": null,
       "order": null,
       "overflow": null,
       "overflow_x": null,
       "overflow_y": null,
       "padding": null,
       "right": null,
       "top": null,
       "visibility": null,
       "width": null
      }
     },
     "b3bcc73fc5a94b7c83ae35c264b332ca": {
      "model_module": "@jupyter-widgets/controls",
      "model_module_version": "1.5.0",
      "model_name": "DescriptionStyleModel",
      "state": {
       "_model_module": "@jupyter-widgets/controls",
       "_model_module_version": "1.5.0",
       "_model_name": "DescriptionStyleModel",
       "_view_count": null,
       "_view_module": "@jupyter-widgets/base",
       "_view_module_version": "1.2.0",
       "_view_name": "StyleView",
       "description_width": ""
      }
     },
     "b431df8d0e734cb6ae9f246cdeec4df7": {
      "model_module": "@jupyter-widgets/controls",
      "model_module_version": "1.5.0",
      "model_name": "HBoxModel",
      "state": {
       "_dom_classes": [],
       "_model_module": "@jupyter-widgets/controls",
       "_model_module_version": "1.5.0",
       "_model_name": "HBoxModel",
       "_view_count": null,
       "_view_module": "@jupyter-widgets/controls",
       "_view_module_version": "1.5.0",
       "_view_name": "HBoxView",
       "box_style": "",
       "children": [
        "IPY_MODEL_8fd28922be9a4257b96ef1f0ca16fe1b",
        "IPY_MODEL_254efa2a29a445ab967e3ec1782ed453",
        "IPY_MODEL_4007b9210d9c4dc6bfee254dfcca8775"
       ],
       "layout": "IPY_MODEL_9ed623f77f5348d88886b6db101cc335"
      }
     },
     "b58d8d4a9fea46a4a5cb32ae7acc513f": {
      "model_module": "@jupyter-widgets/controls",
      "model_module_version": "1.5.0",
      "model_name": "HBoxModel",
      "state": {
       "_dom_classes": [],
       "_model_module": "@jupyter-widgets/controls",
       "_model_module_version": "1.5.0",
       "_model_name": "HBoxModel",
       "_view_count": null,
       "_view_module": "@jupyter-widgets/controls",
       "_view_module_version": "1.5.0",
       "_view_name": "HBoxView",
       "box_style": "",
       "children": [
        "IPY_MODEL_f92dc1644f8d4d509bbae437853689d0",
        "IPY_MODEL_6473c6dc8cf846b0af8904ef7825a089",
        "IPY_MODEL_60a5094289ac45cb9b1689910e7ce345"
       ],
       "layout": "IPY_MODEL_020ca72640c64e3298a5e1b64eefe189"
      }
     },
     "b6ced111a0094cad9dabd280aebe6686": {
      "model_module": "@jupyter-widgets/controls",
      "model_module_version": "1.5.0",
      "model_name": "HTMLModel",
      "state": {
       "_dom_classes": [],
       "_model_module": "@jupyter-widgets/controls",
       "_model_module_version": "1.5.0",
       "_model_name": "HTMLModel",
       "_view_count": null,
       "_view_module": "@jupyter-widgets/controls",
       "_view_module_version": "1.5.0",
       "_view_name": "HTMLView",
       "description": "",
       "description_tooltip": null,
       "layout": "IPY_MODEL_374d8b55a3554ad3b4b6595b8d816f47",
       "placeholder": "​",
       "style": "IPY_MODEL_c85e1cf326b44048a5e41d121f32a473",
       "value": " 4.07k/? [00:00&lt;00:00, 239kB/s]"
      }
     },
     "b8a678eb07e343c49bfb100710f0d26b": {
      "model_module": "@jupyter-widgets/base",
      "model_module_version": "1.2.0",
      "model_name": "LayoutModel",
      "state": {
       "_model_module": "@jupyter-widgets/base",
       "_model_module_version": "1.2.0",
       "_model_name": "LayoutModel",
       "_view_count": null,
       "_view_module": "@jupyter-widgets/base",
       "_view_module_version": "1.2.0",
       "_view_name": "LayoutView",
       "align_content": null,
       "align_items": null,
       "align_self": null,
       "border": null,
       "bottom": null,
       "display": null,
       "flex": null,
       "flex_flow": null,
       "grid_area": null,
       "grid_auto_columns": null,
       "grid_auto_flow": null,
       "grid_auto_rows": null,
       "grid_column": null,
       "grid_gap": null,
       "grid_row": null,
       "grid_template_areas": null,
       "grid_template_columns": null,
       "grid_template_rows": null,
       "height": null,
       "justify_content": null,
       "justify_items": null,
       "left": null,
       "margin": null,
       "max_height": null,
       "max_width": null,
       "min_height": null,
       "min_width": null,
       "object_fit": null,
       "object_position": null,
       "order": null,
       "overflow": null,
       "overflow_x": null,
       "overflow_y": null,
       "padding": null,
       "right": null,
       "top": null,
       "visibility": null,
       "width": null
      }
     },
     "b8fb9ed6b120493382a5a183762bb35c": {
      "model_module": "@jupyter-widgets/controls",
      "model_module_version": "1.5.0",
      "model_name": "DescriptionStyleModel",
      "state": {
       "_model_module": "@jupyter-widgets/controls",
       "_model_module_version": "1.5.0",
       "_model_name": "DescriptionStyleModel",
       "_view_count": null,
       "_view_module": "@jupyter-widgets/base",
       "_view_module_version": "1.2.0",
       "_view_name": "StyleView",
       "description_width": ""
      }
     },
     "b936c871147547d5942f0a9b4e01a1bd": {
      "model_module": "@jupyter-widgets/controls",
      "model_module_version": "1.5.0",
      "model_name": "HTMLModel",
      "state": {
       "_dom_classes": [],
       "_model_module": "@jupyter-widgets/controls",
       "_model_module_version": "1.5.0",
       "_model_name": "HTMLModel",
       "_view_count": null,
       "_view_module": "@jupyter-widgets/controls",
       "_view_module_version": "1.5.0",
       "_view_name": "HTMLView",
       "description": "",
       "description_tooltip": null,
       "layout": "IPY_MODEL_392496981b704f81bad5358f5ef713b3",
       "placeholder": "​",
       "style": "IPY_MODEL_00d0f7d2f7254742b17460b582f2be59",
       "value": "tokenizer_config.json: 100%"
      }
     },
     "ba1d9fb2924e4045a4a1df952ae01b31": {
      "model_module": "@jupyter-widgets/controls",
      "model_module_version": "1.5.0",
      "model_name": "HTMLModel",
      "state": {
       "_dom_classes": [],
       "_model_module": "@jupyter-widgets/controls",
       "_model_module_version": "1.5.0",
       "_model_name": "HTMLModel",
       "_view_count": null,
       "_view_module": "@jupyter-widgets/controls",
       "_view_module_version": "1.5.0",
       "_view_name": "HTMLView",
       "description": "",
       "description_tooltip": null,
       "layout": "IPY_MODEL_7c97982764684882ada69c6af5ada129",
       "placeholder": "​",
       "style": "IPY_MODEL_b8fb9ed6b120493382a5a183762bb35c",
       "value": " 7.95k/7.95k [00:00&lt;00:00, 461kB/s]"
      }
     },
     "bacedf4acd404ec2856148283f34000d": {
      "model_module": "@jupyter-widgets/controls",
      "model_module_version": "1.5.0",
      "model_name": "HBoxModel",
      "state": {
       "_dom_classes": [],
       "_model_module": "@jupyter-widgets/controls",
       "_model_module_version": "1.5.0",
       "_model_name": "HBoxModel",
       "_view_count": null,
       "_view_module": "@jupyter-widgets/controls",
       "_view_module_version": "1.5.0",
       "_view_name": "HBoxView",
       "box_style": "",
       "children": [
        "IPY_MODEL_09894be3648841c3b7d0ba0d8a3938bc",
        "IPY_MODEL_7648b1014e4e44d49f817612921b455d",
        "IPY_MODEL_793d90b36ddb4dc7ac02a73f94022763"
       ],
       "layout": "IPY_MODEL_bb708ac324ed436c9eb4b6d2af572718"
      }
     },
     "baebf86943744772b831d5af03de93fb": {
      "model_module": "@jupyter-widgets/controls",
      "model_module_version": "1.5.0",
      "model_name": "HBoxModel",
      "state": {
       "_dom_classes": [],
       "_model_module": "@jupyter-widgets/controls",
       "_model_module_version": "1.5.0",
       "_model_name": "HBoxModel",
       "_view_count": null,
       "_view_module": "@jupyter-widgets/controls",
       "_view_module_version": "1.5.0",
       "_view_name": "HBoxView",
       "box_style": "",
       "children": [
        "IPY_MODEL_0bea69aa74a445b1b0f445b4075fe3f1",
        "IPY_MODEL_a5c2ddcb4bf14c29918edef827a70263",
        "IPY_MODEL_e870239ffdd344b2ad8606c5cb3c26d7"
       ],
       "layout": "IPY_MODEL_ac02f351941c454584c8dd987a5783f8"
      }
     },
     "bb161c75e9be474aa6eee951c25d0373": {
      "model_module": "@jupyter-widgets/controls",
      "model_module_version": "1.5.0",
      "model_name": "FloatProgressModel",
      "state": {
       "_dom_classes": [],
       "_model_module": "@jupyter-widgets/controls",
       "_model_module_version": "1.5.0",
       "_model_name": "FloatProgressModel",
       "_view_count": null,
       "_view_module": "@jupyter-widgets/controls",
       "_view_module_version": "1.5.0",
       "_view_name": "ProgressView",
       "bar_style": "success",
       "description": "",
       "description_tooltip": null,
       "layout": "IPY_MODEL_035941667f854a4b83776493dd5399c0",
       "max": 8645.0,
       "min": 0.0,
       "orientation": "horizontal",
       "style": "IPY_MODEL_c63b920b5dc84df9856b01baba3ca020",
       "value": 8645.0
      }
     },
     "bb708ac324ed436c9eb4b6d2af572718": {
      "model_module": "@jupyter-widgets/base",
      "model_module_version": "1.2.0",
      "model_name": "LayoutModel",
      "state": {
       "_model_module": "@jupyter-widgets/base",
       "_model_module_version": "1.2.0",
       "_model_name": "LayoutModel",
       "_view_count": null,
       "_view_module": "@jupyter-widgets/base",
       "_view_module_version": "1.2.0",
       "_view_name": "LayoutView",
       "align_content": null,
       "align_items": null,
       "align_self": null,
       "border": null,
       "bottom": null,
       "display": null,
       "flex": null,
       "flex_flow": null,
       "grid_area": null,
       "grid_auto_columns": null,
       "grid_auto_flow": null,
       "grid_auto_rows": null,
       "grid_column": null,
       "grid_gap": null,
       "grid_row": null,
       "grid_template_areas": null,
       "grid_template_columns": null,
       "grid_template_rows": null,
       "height": null,
       "justify_content": null,
       "justify_items": null,
       "left": null,
       "margin": null,
       "max_height": null,
       "max_width": null,
       "min_height": null,
       "min_width": null,
       "object_fit": null,
       "object_position": null,
       "order": null,
       "overflow": null,
       "overflow_x": null,
       "overflow_y": null,
       "padding": null,
       "right": null,
       "top": null,
       "visibility": null,
       "width": null
      }
     },
     "be37760d4a0f4f95b32cb3629258c855": {
      "model_module": "@jupyter-widgets/controls",
      "model_module_version": "1.5.0",
      "model_name": "DescriptionStyleModel",
      "state": {
       "_model_module": "@jupyter-widgets/controls",
       "_model_module_version": "1.5.0",
       "_model_name": "DescriptionStyleModel",
       "_view_count": null,
       "_view_module": "@jupyter-widgets/base",
       "_view_module_version": "1.2.0",
       "_view_name": "StyleView",
       "description_width": ""
      }
     },
     "be595cc98257467e89ea1fe86546d92b": {
      "model_module": "@jupyter-widgets/base",
      "model_module_version": "1.2.0",
      "model_name": "LayoutModel",
      "state": {
       "_model_module": "@jupyter-widgets/base",
       "_model_module_version": "1.2.0",
       "_model_name": "LayoutModel",
       "_view_count": null,
       "_view_module": "@jupyter-widgets/base",
       "_view_module_version": "1.2.0",
       "_view_name": "LayoutView",
       "align_content": null,
       "align_items": null,
       "align_self": null,
       "border": null,
       "bottom": null,
       "display": null,
       "flex": null,
       "flex_flow": null,
       "grid_area": null,
       "grid_auto_columns": null,
       "grid_auto_flow": null,
       "grid_auto_rows": null,
       "grid_column": null,
       "grid_gap": null,
       "grid_row": null,
       "grid_template_areas": null,
       "grid_template_columns": null,
       "grid_template_rows": null,
       "height": null,
       "justify_content": null,
       "justify_items": null,
       "left": null,
       "margin": null,
       "max_height": null,
       "max_width": null,
       "min_height": null,
       "min_width": null,
       "object_fit": null,
       "object_position": null,
       "order": null,
       "overflow": null,
       "overflow_x": null,
       "overflow_y": null,
       "padding": null,
       "right": null,
       "top": null,
       "visibility": null,
       "width": null
      }
     },
     "c221e071c674422db4ce86a27fdb2dd7": {
      "model_module": "@jupyter-widgets/base",
      "model_module_version": "1.2.0",
      "model_name": "LayoutModel",
      "state": {
       "_model_module": "@jupyter-widgets/base",
       "_model_module_version": "1.2.0",
       "_model_name": "LayoutModel",
       "_view_count": null,
       "_view_module": "@jupyter-widgets/base",
       "_view_module_version": "1.2.0",
       "_view_name": "LayoutView",
       "align_content": null,
       "align_items": null,
       "align_self": null,
       "border": null,
       "bottom": null,
       "display": null,
       "flex": null,
       "flex_flow": null,
       "grid_area": null,
       "grid_auto_columns": null,
       "grid_auto_flow": null,
       "grid_auto_rows": null,
       "grid_column": null,
       "grid_gap": null,
       "grid_row": null,
       "grid_template_areas": null,
       "grid_template_columns": null,
       "grid_template_rows": null,
       "height": null,
       "justify_content": null,
       "justify_items": null,
       "left": null,
       "margin": null,
       "max_height": null,
       "max_width": null,
       "min_height": null,
       "min_width": null,
       "object_fit": null,
       "object_position": null,
       "order": null,
       "overflow": null,
       "overflow_x": null,
       "overflow_y": null,
       "padding": null,
       "right": null,
       "top": null,
       "visibility": null,
       "width": null
      }
     },
     "c3359454e7424bdeb71c64661e6e6331": {
      "model_module": "@jupyter-widgets/controls",
      "model_module_version": "1.5.0",
      "model_name": "DescriptionStyleModel",
      "state": {
       "_model_module": "@jupyter-widgets/controls",
       "_model_module_version": "1.5.0",
       "_model_name": "DescriptionStyleModel",
       "_view_count": null,
       "_view_module": "@jupyter-widgets/base",
       "_view_module_version": "1.2.0",
       "_view_name": "StyleView",
       "description_width": ""
      }
     },
     "c46611d0409943e39a467e9359f0b6ac": {
      "model_module": "@jupyter-widgets/controls",
      "model_module_version": "1.5.0",
      "model_name": "FloatProgressModel",
      "state": {
       "_dom_classes": [],
       "_model_module": "@jupyter-widgets/controls",
       "_model_module_version": "1.5.0",
       "_model_name": "FloatProgressModel",
       "_view_count": null,
       "_view_module": "@jupyter-widgets/controls",
       "_view_module_version": "1.5.0",
       "_view_name": "ProgressView",
       "bar_style": "success",
       "description": "",
       "description_tooltip": null,
       "layout": "IPY_MODEL_1413847d452e4d05a187b3dd4a3f9394",
       "max": 6270.0,
       "min": 0.0,
       "orientation": "horizontal",
       "style": "IPY_MODEL_5a47b5a117d34bdeab137b402f7469fb",
       "value": 6270.0
      }
     },
     "c585458b58fe48358931dc5638b4fe02": {
      "model_module": "@jupyter-widgets/controls",
      "model_module_version": "1.5.0",
      "model_name": "ProgressStyleModel",
      "state": {
       "_model_module": "@jupyter-widgets/controls",
       "_model_module_version": "1.5.0",
       "_model_name": "ProgressStyleModel",
       "_view_count": null,
       "_view_module": "@jupyter-widgets/base",
       "_view_module_version": "1.2.0",
       "_view_name": "StyleView",
       "bar_color": null,
       "description_width": ""
      }
     },
     "c5b73fd2483f430ca3aa79ae573ef8ec": {
      "model_module": "@jupyter-widgets/controls",
      "model_module_version": "1.5.0",
      "model_name": "DescriptionStyleModel",
      "state": {
       "_model_module": "@jupyter-widgets/controls",
       "_model_module_version": "1.5.0",
       "_model_name": "DescriptionStyleModel",
       "_view_count": null,
       "_view_module": "@jupyter-widgets/base",
       "_view_module_version": "1.2.0",
       "_view_name": "StyleView",
       "description_width": ""
      }
     },
     "c63b920b5dc84df9856b01baba3ca020": {
      "model_module": "@jupyter-widgets/controls",
      "model_module_version": "1.5.0",
      "model_name": "ProgressStyleModel",
      "state": {
       "_model_module": "@jupyter-widgets/controls",
       "_model_module_version": "1.5.0",
       "_model_name": "ProgressStyleModel",
       "_view_count": null,
       "_view_module": "@jupyter-widgets/base",
       "_view_module_version": "1.2.0",
       "_view_name": "StyleView",
       "bar_color": null,
       "description_width": ""
      }
     },
     "c85e1cf326b44048a5e41d121f32a473": {
      "model_module": "@jupyter-widgets/controls",
      "model_module_version": "1.5.0",
      "model_name": "DescriptionStyleModel",
      "state": {
       "_model_module": "@jupyter-widgets/controls",
       "_model_module_version": "1.5.0",
       "_model_name": "DescriptionStyleModel",
       "_view_count": null,
       "_view_module": "@jupyter-widgets/base",
       "_view_module_version": "1.2.0",
       "_view_name": "StyleView",
       "description_width": ""
      }
     },
     "c9568a0352e54304b1f9cf9661049da5": {
      "model_module": "@jupyter-widgets/base",
      "model_module_version": "1.2.0",
      "model_name": "LayoutModel",
      "state": {
       "_model_module": "@jupyter-widgets/base",
       "_model_module_version": "1.2.0",
       "_model_name": "LayoutModel",
       "_view_count": null,
       "_view_module": "@jupyter-widgets/base",
       "_view_module_version": "1.2.0",
       "_view_name": "LayoutView",
       "align_content": null,
       "align_items": null,
       "align_self": null,
       "border": null,
       "bottom": null,
       "display": null,
       "flex": null,
       "flex_flow": null,
       "grid_area": null,
       "grid_auto_columns": null,
       "grid_auto_flow": null,
       "grid_auto_rows": null,
       "grid_column": null,
       "grid_gap": null,
       "grid_row": null,
       "grid_template_areas": null,
       "grid_template_columns": null,
       "grid_template_rows": null,
       "height": null,
       "justify_content": null,
       "justify_items": null,
       "left": null,
       "margin": null,
       "max_height": null,
       "max_width": null,
       "min_height": null,
       "min_width": null,
       "object_fit": null,
       "object_position": null,
       "order": null,
       "overflow": null,
       "overflow_x": null,
       "overflow_y": null,
       "padding": null,
       "right": null,
       "top": null,
       "visibility": null,
       "width": null
      }
     },
     "ca54ef57ad60457ab813c91ca214c19e": {
      "model_module": "@jupyter-widgets/controls",
      "model_module_version": "1.5.0",
      "model_name": "DescriptionStyleModel",
      "state": {
       "_model_module": "@jupyter-widgets/controls",
       "_model_module_version": "1.5.0",
       "_model_name": "DescriptionStyleModel",
       "_view_count": null,
       "_view_module": "@jupyter-widgets/base",
       "_view_module_version": "1.2.0",
       "_view_name": "StyleView",
       "description_width": ""
      }
     },
     "cdfd9a5bacb445de962a6405e263ac57": {
      "model_module": "@jupyter-widgets/base",
      "model_module_version": "1.2.0",
      "model_name": "LayoutModel",
      "state": {
       "_model_module": "@jupyter-widgets/base",
       "_model_module_version": "1.2.0",
       "_model_name": "LayoutModel",
       "_view_count": null,
       "_view_module": "@jupyter-widgets/base",
       "_view_module_version": "1.2.0",
       "_view_name": "LayoutView",
       "align_content": null,
       "align_items": null,
       "align_self": null,
       "border": null,
       "bottom": null,
       "display": null,
       "flex": null,
       "flex_flow": null,
       "grid_area": null,
       "grid_auto_columns": null,
       "grid_auto_flow": null,
       "grid_auto_rows": null,
       "grid_column": null,
       "grid_gap": null,
       "grid_row": null,
       "grid_template_areas": null,
       "grid_template_columns": null,
       "grid_template_rows": null,
       "height": null,
       "justify_content": null,
       "justify_items": null,
       "left": null,
       "margin": null,
       "max_height": null,
       "max_width": null,
       "min_height": null,
       "min_width": null,
       "object_fit": null,
       "object_position": null,
       "order": null,
       "overflow": null,
       "overflow_x": null,
       "overflow_y": null,
       "padding": null,
       "right": null,
       "top": null,
       "visibility": null,
       "width": null
      }
     },
     "d171d62fa3dc43d8838480932c483d85": {
      "model_module": "@jupyter-widgets/controls",
      "model_module_version": "1.5.0",
      "model_name": "FloatProgressModel",
      "state": {
       "_dom_classes": [],
       "_model_module": "@jupyter-widgets/controls",
       "_model_module_version": "1.5.0",
       "_model_name": "FloatProgressModel",
       "_view_count": null,
       "_view_module": "@jupyter-widgets/controls",
       "_view_module_version": "1.5.0",
       "_view_name": "ProgressView",
       "bar_style": "success",
       "description": "",
       "description_tooltip": null,
       "layout": "IPY_MODEL_b2650f914ce44299856d81bde93a642d",
       "max": 466062.0,
       "min": 0.0,
       "orientation": "horizontal",
       "style": "IPY_MODEL_52b23b61a7f04f82bff3b37a3bd39c22",
       "value": 466062.0
      }
     },
     "d90610e4fb434df2aaf5f80ec87d49c0": {
      "model_module": "@jupyter-widgets/base",
      "model_module_version": "1.2.0",
      "model_name": "LayoutModel",
      "state": {
       "_model_module": "@jupyter-widgets/base",
       "_model_module_version": "1.2.0",
       "_model_name": "LayoutModel",
       "_view_count": null,
       "_view_module": "@jupyter-widgets/base",
       "_view_module_version": "1.2.0",
       "_view_name": "LayoutView",
       "align_content": null,
       "align_items": null,
       "align_self": null,
       "border": null,
       "bottom": null,
       "display": null,
       "flex": null,
       "flex_flow": null,
       "grid_area": null,
       "grid_auto_columns": null,
       "grid_auto_flow": null,
       "grid_auto_rows": null,
       "grid_column": null,
       "grid_gap": null,
       "grid_row": null,
       "grid_template_areas": null,
       "grid_template_columns": null,
       "grid_template_rows": null,
       "height": null,
       "justify_content": null,
       "justify_items": null,
       "left": null,
       "margin": null,
       "max_height": null,
       "max_width": null,
       "min_height": null,
       "min_width": null,
       "object_fit": null,
       "object_position": null,
       "order": null,
       "overflow": null,
       "overflow_x": null,
       "overflow_y": null,
       "padding": null,
       "right": null,
       "top": null,
       "visibility": null,
       "width": null
      }
     },
     "dda1b46e024e4458b8f4b6eb80021fcf": {
      "model_module": "@jupyter-widgets/controls",
      "model_module_version": "1.5.0",
      "model_name": "DescriptionStyleModel",
      "state": {
       "_model_module": "@jupyter-widgets/controls",
       "_model_module_version": "1.5.0",
       "_model_name": "DescriptionStyleModel",
       "_view_count": null,
       "_view_module": "@jupyter-widgets/base",
       "_view_module_version": "1.2.0",
       "_view_name": "StyleView",
       "description_width": ""
      }
     },
     "dfcd20637e02467693b83e491caf2558": {
      "model_module": "@jupyter-widgets/controls",
      "model_module_version": "1.5.0",
      "model_name": "HTMLModel",
      "state": {
       "_dom_classes": [],
       "_model_module": "@jupyter-widgets/controls",
       "_model_module_version": "1.5.0",
       "_model_name": "HTMLModel",
       "_view_count": null,
       "_view_module": "@jupyter-widgets/controls",
       "_view_module_version": "1.5.0",
       "_view_name": "HTMLView",
       "description": "",
       "description_tooltip": null,
       "layout": "IPY_MODEL_ede00f4a16ac4a08beeeacba76e26cf2",
       "placeholder": "​",
       "style": "IPY_MODEL_1d08212135e54aa7906d748cd9def76f",
       "value": "Downloading builder script: 100%"
      }
     },
     "e0a1464586744c079ea6644c9056660d": {
      "model_module": "@jupyter-widgets/controls",
      "model_module_version": "1.5.0",
      "model_name": "DescriptionStyleModel",
      "state": {
       "_model_module": "@jupyter-widgets/controls",
       "_model_module_version": "1.5.0",
       "_model_name": "DescriptionStyleModel",
       "_view_count": null,
       "_view_module": "@jupyter-widgets/base",
       "_view_module_version": "1.2.0",
       "_view_name": "StyleView",
       "description_width": ""
      }
     },
     "e1c48e0c0c04428a97d3576edec8112a": {
      "model_module": "@jupyter-widgets/controls",
      "model_module_version": "1.5.0",
      "model_name": "HTMLModel",
      "state": {
       "_dom_classes": [],
       "_model_module": "@jupyter-widgets/controls",
       "_model_module_version": "1.5.0",
       "_model_name": "HTMLModel",
       "_view_count": null,
       "_view_module": "@jupyter-widgets/controls",
       "_view_module_version": "1.5.0",
       "_view_name": "HTMLView",
       "description": "",
       "description_tooltip": null,
       "layout": "IPY_MODEL_ef7a8911124e4022b3bb3648d2b429a8",
       "placeholder": "​",
       "style": "IPY_MODEL_dda1b46e024e4458b8f4b6eb80021fcf",
       "value": " 5.20k/5.20k [00:00&lt;00:00, 346kB/s]"
      }
     },
     "e3b13ec08c0441068bfd6c1b940b44aa": {
      "model_module": "@jupyter-widgets/controls",
      "model_module_version": "1.5.0",
      "model_name": "ProgressStyleModel",
      "state": {
       "_model_module": "@jupyter-widgets/controls",
       "_model_module_version": "1.5.0",
       "_model_name": "ProgressStyleModel",
       "_view_count": null,
       "_view_module": "@jupyter-widgets/base",
       "_view_module_version": "1.2.0",
       "_view_name": "StyleView",
       "bar_color": null,
       "description_width": ""
      }
     },
     "e4050ed05965429cbff341e7ffd5db71": {
      "model_module": "@jupyter-widgets/controls",
      "model_module_version": "1.5.0",
      "model_name": "HBoxModel",
      "state": {
       "_dom_classes": [],
       "_model_module": "@jupyter-widgets/controls",
       "_model_module_version": "1.5.0",
       "_model_name": "HBoxModel",
       "_view_count": null,
       "_view_module": "@jupyter-widgets/controls",
       "_view_module_version": "1.5.0",
       "_view_name": "HBoxView",
       "box_style": "",
       "children": [
        "IPY_MODEL_6dc8be621fe44c4c9b9516dc558018ac",
        "IPY_MODEL_59b49b4314644755ba904fd704f3e420",
        "IPY_MODEL_b6ced111a0094cad9dabd280aebe6686"
       ],
       "layout": "IPY_MODEL_3bb3508b0dcc441bad8d82b934055f76"
      }
     },
     "e870239ffdd344b2ad8606c5cb3c26d7": {
      "model_module": "@jupyter-widgets/controls",
      "model_module_version": "1.5.0",
      "model_name": "HTMLModel",
      "state": {
       "_dom_classes": [],
       "_model_module": "@jupyter-widgets/controls",
       "_model_module_version": "1.5.0",
       "_model_name": "HTMLModel",
       "_view_count": null,
       "_view_module": "@jupyter-widgets/controls",
       "_view_module_version": "1.5.0",
       "_view_name": "HTMLView",
       "description": "",
       "description_tooltip": null,
       "layout": "IPY_MODEL_eb0070a396a34e77bf19b31d57dfa405",
       "placeholder": "​",
       "style": "IPY_MODEL_957fb174e20a408cb01a087d6e25238d",
       "value": " 8.15k/8.15k [00:00&lt;00:00, 478kB/s]"
      }
     },
     "e9898fbddc034be580f6c3169e3fa647": {
      "model_module": "@jupyter-widgets/base",
      "model_module_version": "1.2.0",
      "model_name": "LayoutModel",
      "state": {
       "_model_module": "@jupyter-widgets/base",
       "_model_module_version": "1.2.0",
       "_model_name": "LayoutModel",
       "_view_count": null,
       "_view_module": "@jupyter-widgets/base",
       "_view_module_version": "1.2.0",
       "_view_name": "LayoutView",
       "align_content": null,
       "align_items": null,
       "align_self": null,
       "border": null,
       "bottom": null,
       "display": null,
       "flex": null,
       "flex_flow": null,
       "grid_area": null,
       "grid_auto_columns": null,
       "grid_auto_flow": null,
       "grid_auto_rows": null,
       "grid_column": null,
       "grid_gap": null,
       "grid_row": null,
       "grid_template_areas": null,
       "grid_template_columns": null,
       "grid_template_rows": null,
       "height": null,
       "justify_content": null,
       "justify_items": null,
       "left": null,
       "margin": null,
       "max_height": null,
       "max_width": null,
       "min_height": null,
       "min_width": null,
       "object_fit": null,
       "object_position": null,
       "order": null,
       "overflow": null,
       "overflow_x": null,
       "overflow_y": null,
       "padding": null,
       "right": null,
       "top": null,
       "visibility": null,
       "width": null
      }
     },
     "e9f26317a1a448a1b06495b75fb38218": {
      "model_module": "@jupyter-widgets/controls",
      "model_module_version": "1.5.0",
      "model_name": "ProgressStyleModel",
      "state": {
       "_model_module": "@jupyter-widgets/controls",
       "_model_module_version": "1.5.0",
       "_model_name": "ProgressStyleModel",
       "_view_count": null,
       "_view_module": "@jupyter-widgets/base",
       "_view_module_version": "1.2.0",
       "_view_name": "StyleView",
       "bar_color": null,
       "description_width": ""
      }
     },
     "ea63ca078b5b4d7a97b3495a8438d562": {
      "model_module": "@jupyter-widgets/controls",
      "model_module_version": "1.5.0",
      "model_name": "ProgressStyleModel",
      "state": {
       "_model_module": "@jupyter-widgets/controls",
       "_model_module_version": "1.5.0",
       "_model_name": "ProgressStyleModel",
       "_view_count": null,
       "_view_module": "@jupyter-widgets/base",
       "_view_module_version": "1.2.0",
       "_view_name": "StyleView",
       "bar_color": null,
       "description_width": ""
      }
     },
     "eb0070a396a34e77bf19b31d57dfa405": {
      "model_module": "@jupyter-widgets/base",
      "model_module_version": "1.2.0",
      "model_name": "LayoutModel",
      "state": {
       "_model_module": "@jupyter-widgets/base",
       "_model_module_version": "1.2.0",
       "_model_name": "LayoutModel",
       "_view_count": null,
       "_view_module": "@jupyter-widgets/base",
       "_view_module_version": "1.2.0",
       "_view_name": "LayoutView",
       "align_content": null,
       "align_items": null,
       "align_self": null,
       "border": null,
       "bottom": null,
       "display": null,
       "flex": null,
       "flex_flow": null,
       "grid_area": null,
       "grid_auto_columns": null,
       "grid_auto_flow": null,
       "grid_auto_rows": null,
       "grid_column": null,
       "grid_gap": null,
       "grid_row": null,
       "grid_template_areas": null,
       "grid_template_columns": null,
       "grid_template_rows": null,
       "height": null,
       "justify_content": null,
       "justify_items": null,
       "left": null,
       "margin": null,
       "max_height": null,
       "max_width": null,
       "min_height": null,
       "min_width": null,
       "object_fit": null,
       "object_position": null,
       "order": null,
       "overflow": null,
       "overflow_x": null,
       "overflow_y": null,
       "padding": null,
       "right": null,
       "top": null,
       "visibility": null,
       "width": null
      }
     },
     "ede00f4a16ac4a08beeeacba76e26cf2": {
      "model_module": "@jupyter-widgets/base",
      "model_module_version": "1.2.0",
      "model_name": "LayoutModel",
      "state": {
       "_model_module": "@jupyter-widgets/base",
       "_model_module_version": "1.2.0",
       "_model_name": "LayoutModel",
       "_view_count": null,
       "_view_module": "@jupyter-widgets/base",
       "_view_module_version": "1.2.0",
       "_view_name": "LayoutView",
       "align_content": null,
       "align_items": null,
       "align_self": null,
       "border": null,
       "bottom": null,
       "display": null,
       "flex": null,
       "flex_flow": null,
       "grid_area": null,
       "grid_auto_columns": null,
       "grid_auto_flow": null,
       "grid_auto_rows": null,
       "grid_column": null,
       "grid_gap": null,
       "grid_row": null,
       "grid_template_areas": null,
       "grid_template_columns": null,
       "grid_template_rows": null,
       "height": null,
       "justify_content": null,
       "justify_items": null,
       "left": null,
       "margin": null,
       "max_height": null,
       "max_width": null,
       "min_height": null,
       "min_width": null,
       "object_fit": null,
       "object_position": null,
       "order": null,
       "overflow": null,
       "overflow_x": null,
       "overflow_y": null,
       "padding": null,
       "right": null,
       "top": null,
       "visibility": null,
       "width": null
      }
     },
     "ef7a8911124e4022b3bb3648d2b429a8": {
      "model_module": "@jupyter-widgets/base",
      "model_module_version": "1.2.0",
      "model_name": "LayoutModel",
      "state": {
       "_model_module": "@jupyter-widgets/base",
       "_model_module_version": "1.2.0",
       "_model_name": "LayoutModel",
       "_view_count": null,
       "_view_module": "@jupyter-widgets/base",
       "_view_module_version": "1.2.0",
       "_view_name": "LayoutView",
       "align_content": null,
       "align_items": null,
       "align_self": null,
       "border": null,
       "bottom": null,
       "display": null,
       "flex": null,
       "flex_flow": null,
       "grid_area": null,
       "grid_auto_columns": null,
       "grid_auto_flow": null,
       "grid_auto_rows": null,
       "grid_column": null,
       "grid_gap": null,
       "grid_row": null,
       "grid_template_areas": null,
       "grid_template_columns": null,
       "grid_template_rows": null,
       "height": null,
       "justify_content": null,
       "justify_items": null,
       "left": null,
       "margin": null,
       "max_height": null,
       "max_width": null,
       "min_height": null,
       "min_width": null,
       "object_fit": null,
       "object_position": null,
       "order": null,
       "overflow": null,
       "overflow_x": null,
       "overflow_y": null,
       "padding": null,
       "right": null,
       "top": null,
       "visibility": null,
       "width": null
      }
     },
     "efc9218334a84cc18fb8112b91813cb9": {
      "model_module": "@jupyter-widgets/base",
      "model_module_version": "1.2.0",
      "model_name": "LayoutModel",
      "state": {
       "_model_module": "@jupyter-widgets/base",
       "_model_module_version": "1.2.0",
       "_model_name": "LayoutModel",
       "_view_count": null,
       "_view_module": "@jupyter-widgets/base",
       "_view_module_version": "1.2.0",
       "_view_name": "LayoutView",
       "align_content": null,
       "align_items": null,
       "align_self": null,
       "border": null,
       "bottom": null,
       "display": null,
       "flex": null,
       "flex_flow": null,
       "grid_area": null,
       "grid_auto_columns": null,
       "grid_auto_flow": null,
       "grid_auto_rows": null,
       "grid_column": null,
       "grid_gap": null,
       "grid_row": null,
       "grid_template_areas": null,
       "grid_template_columns": null,
       "grid_template_rows": null,
       "height": null,
       "justify_content": null,
       "justify_items": null,
       "left": null,
       "margin": null,
       "max_height": null,
       "max_width": null,
       "min_height": null,
       "min_width": null,
       "object_fit": null,
       "object_position": null,
       "order": null,
       "overflow": null,
       "overflow_x": null,
       "overflow_y": null,
       "padding": null,
       "right": null,
       "top": null,
       "visibility": null,
       "width": null
      }
     },
     "f0419621ec3e4824960576b032bfd81c": {
      "model_module": "@jupyter-widgets/base",
      "model_module_version": "1.2.0",
      "model_name": "LayoutModel",
      "state": {
       "_model_module": "@jupyter-widgets/base",
       "_model_module_version": "1.2.0",
       "_model_name": "LayoutModel",
       "_view_count": null,
       "_view_module": "@jupyter-widgets/base",
       "_view_module_version": "1.2.0",
       "_view_name": "LayoutView",
       "align_content": null,
       "align_items": null,
       "align_self": null,
       "border": null,
       "bottom": null,
       "display": null,
       "flex": null,
       "flex_flow": null,
       "grid_area": null,
       "grid_auto_columns": null,
       "grid_auto_flow": null,
       "grid_auto_rows": null,
       "grid_column": null,
       "grid_gap": null,
       "grid_row": null,
       "grid_template_areas": null,
       "grid_template_columns": null,
       "grid_template_rows": null,
       "height": null,
       "justify_content": null,
       "justify_items": null,
       "left": null,
       "margin": null,
       "max_height": null,
       "max_width": null,
       "min_height": null,
       "min_width": null,
       "object_fit": null,
       "object_position": null,
       "order": null,
       "overflow": null,
       "overflow_x": null,
       "overflow_y": null,
       "padding": null,
       "right": null,
       "top": null,
       "visibility": null,
       "width": null
      }
     },
     "f07f7897bd604756bb00671b433255ff": {
      "model_module": "@jupyter-widgets/controls",
      "model_module_version": "1.5.0",
      "model_name": "HBoxModel",
      "state": {
       "_dom_classes": [],
       "_model_module": "@jupyter-widgets/controls",
       "_model_module_version": "1.5.0",
       "_model_name": "HBoxModel",
       "_view_count": null,
       "_view_module": "@jupyter-widgets/controls",
       "_view_module_version": "1.5.0",
       "_view_name": "HBoxView",
       "box_style": "",
       "children": [
        "IPY_MODEL_a869d63f59434e758aa40ba8c235d89f",
        "IPY_MODEL_0edf6f36cef3418ca7889eb5202a0643",
        "IPY_MODEL_6af8092057294199b379f004b8eaf59a"
       ],
       "layout": "IPY_MODEL_ff4347fb491544fcbd94c15d76c3258a"
      }
     },
     "f0a44933984a4a26977adf2281826d79": {
      "model_module": "@jupyter-widgets/controls",
      "model_module_version": "1.5.0",
      "model_name": "DescriptionStyleModel",
      "state": {
       "_model_module": "@jupyter-widgets/controls",
       "_model_module_version": "1.5.0",
       "_model_name": "DescriptionStyleModel",
       "_view_count": null,
       "_view_module": "@jupyter-widgets/base",
       "_view_module_version": "1.2.0",
       "_view_name": "StyleView",
       "description_width": ""
      }
     },
     "f1921761756640d9966c6f1528db5468": {
      "model_module": "@jupyter-widgets/base",
      "model_module_version": "1.2.0",
      "model_name": "LayoutModel",
      "state": {
       "_model_module": "@jupyter-widgets/base",
       "_model_module_version": "1.2.0",
       "_model_name": "LayoutModel",
       "_view_count": null,
       "_view_module": "@jupyter-widgets/base",
       "_view_module_version": "1.2.0",
       "_view_name": "LayoutView",
       "align_content": null,
       "align_items": null,
       "align_self": null,
       "border": null,
       "bottom": null,
       "display": null,
       "flex": null,
       "flex_flow": null,
       "grid_area": null,
       "grid_auto_columns": null,
       "grid_auto_flow": null,
       "grid_auto_rows": null,
       "grid_column": null,
       "grid_gap": null,
       "grid_row": null,
       "grid_template_areas": null,
       "grid_template_columns": null,
       "grid_template_rows": null,
       "height": null,
       "justify_content": null,
       "justify_items": null,
       "left": null,
       "margin": null,
       "max_height": null,
       "max_width": null,
       "min_height": null,
       "min_width": null,
       "object_fit": null,
       "object_position": null,
       "order": null,
       "overflow": null,
       "overflow_x": null,
       "overflow_y": null,
       "padding": null,
       "right": null,
       "top": null,
       "visibility": null,
       "width": null
      }
     },
     "f3fb021100774dfcaba7ebe6720a88aa": {
      "model_module": "@jupyter-widgets/base",
      "model_module_version": "1.2.0",
      "model_name": "LayoutModel",
      "state": {
       "_model_module": "@jupyter-widgets/base",
       "_model_module_version": "1.2.0",
       "_model_name": "LayoutModel",
       "_view_count": null,
       "_view_module": "@jupyter-widgets/base",
       "_view_module_version": "1.2.0",
       "_view_name": "LayoutView",
       "align_content": null,
       "align_items": null,
       "align_self": null,
       "border": null,
       "bottom": null,
       "display": null,
       "flex": null,
       "flex_flow": null,
       "grid_area": null,
       "grid_auto_columns": null,
       "grid_auto_flow": null,
       "grid_auto_rows": null,
       "grid_column": null,
       "grid_gap": null,
       "grid_row": null,
       "grid_template_areas": null,
       "grid_template_columns": null,
       "grid_template_rows": null,
       "height": null,
       "justify_content": null,
       "justify_items": null,
       "left": null,
       "margin": null,
       "max_height": null,
       "max_width": null,
       "min_height": null,
       "min_width": null,
       "object_fit": null,
       "object_position": null,
       "order": null,
       "overflow": null,
       "overflow_x": null,
       "overflow_y": null,
       "padding": null,
       "right": null,
       "top": null,
       "visibility": null,
       "width": null
      }
     },
     "f7a94cb9ffb64f849b795c98a9230e82": {
      "model_module": "@jupyter-widgets/base",
      "model_module_version": "1.2.0",
      "model_name": "LayoutModel",
      "state": {
       "_model_module": "@jupyter-widgets/base",
       "_model_module_version": "1.2.0",
       "_model_name": "LayoutModel",
       "_view_count": null,
       "_view_module": "@jupyter-widgets/base",
       "_view_module_version": "1.2.0",
       "_view_name": "LayoutView",
       "align_content": null,
       "align_items": null,
       "align_self": null,
       "border": null,
       "bottom": null,
       "display": null,
       "flex": null,
       "flex_flow": null,
       "grid_area": null,
       "grid_auto_columns": null,
       "grid_auto_flow": null,
       "grid_auto_rows": null,
       "grid_column": null,
       "grid_gap": null,
       "grid_row": null,
       "grid_template_areas": null,
       "grid_template_columns": null,
       "grid_template_rows": null,
       "height": null,
       "justify_content": null,
       "justify_items": null,
       "left": null,
       "margin": null,
       "max_height": null,
       "max_width": null,
       "min_height": null,
       "min_width": null,
       "object_fit": null,
       "object_position": null,
       "order": null,
       "overflow": null,
       "overflow_x": null,
       "overflow_y": null,
       "padding": null,
       "right": null,
       "top": null,
       "visibility": null,
       "width": null
      }
     },
     "f92dc1644f8d4d509bbae437853689d0": {
      "model_module": "@jupyter-widgets/controls",
      "model_module_version": "1.5.0",
      "model_name": "HTMLModel",
      "state": {
       "_dom_classes": [],
       "_model_module": "@jupyter-widgets/controls",
       "_model_module_version": "1.5.0",
       "_model_name": "HTMLModel",
       "_view_count": null,
       "_view_module": "@jupyter-widgets/controls",
       "_view_module_version": "1.5.0",
       "_view_name": "HTMLView",
       "description": "",
       "description_tooltip": null,
       "layout": "IPY_MODEL_2c428f76527c49a4bbac8657eedcad83",
       "placeholder": "​",
       "style": "IPY_MODEL_5de6467328f44773aa81dc5e941fbe27",
       "value": "Downloading builder script: 100%"
      }
     },
     "fcd688c3e4b24950aeea4b0a9fede63a": {
      "model_module": "@jupyter-widgets/controls",
      "model_module_version": "1.5.0",
      "model_name": "HTMLModel",
      "state": {
       "_dom_classes": [],
       "_model_module": "@jupyter-widgets/controls",
       "_model_module_version": "1.5.0",
       "_model_name": "HTMLModel",
       "_view_count": null,
       "_view_module": "@jupyter-widgets/controls",
       "_view_module_version": "1.5.0",
       "_view_name": "HTMLView",
       "description": "",
       "description_tooltip": null,
       "layout": "IPY_MODEL_61843dc6abb44cf09e2eb1c7aab68385",
       "placeholder": "​",
       "style": "IPY_MODEL_38b78381e94a47928934040ebc1c8c41",
       "value": "Downloading data: 100%"
      }
     },
     "fcf944282e85451d972f11d6dac91c44": {
      "model_module": "@jupyter-widgets/controls",
      "model_module_version": "1.5.0",
      "model_name": "HBoxModel",
      "state": {
       "_dom_classes": [],
       "_model_module": "@jupyter-widgets/controls",
       "_model_module_version": "1.5.0",
       "_model_name": "HBoxModel",
       "_view_count": null,
       "_view_module": "@jupyter-widgets/controls",
       "_view_module_version": "1.5.0",
       "_view_name": "HBoxView",
       "box_style": "",
       "children": [
        "IPY_MODEL_dfcd20637e02467693b83e491caf2558",
        "IPY_MODEL_bb161c75e9be474aa6eee951c25d0373",
        "IPY_MODEL_580a8a9e91744293b08a9a49c96459ec"
       ],
       "layout": "IPY_MODEL_ff79fce437b74a119d46444bc4e4712a"
      }
     },
     "fd3be8c8ec4144b18d3484ef4b07e68f": {
      "model_module": "@jupyter-widgets/controls",
      "model_module_version": "1.5.0",
      "model_name": "HTMLModel",
      "state": {
       "_dom_classes": [],
       "_model_module": "@jupyter-widgets/controls",
       "_model_module_version": "1.5.0",
       "_model_name": "HTMLModel",
       "_view_count": null,
       "_view_module": "@jupyter-widgets/controls",
       "_view_module_version": "1.5.0",
       "_view_name": "HTMLView",
       "description": "",
       "description_tooltip": null,
       "layout": "IPY_MODEL_853613d70ce845cd918d1d83db4828d6",
       "placeholder": "​",
       "style": "IPY_MODEL_6c9b337a11e04e97ab2d27eb22e6371c",
       "value": "config.json: 100%"
      }
     },
     "fea4dc37a4c043bda7060bacfaf49606": {
      "model_module": "@jupyter-widgets/controls",
      "model_module_version": "1.5.0",
      "model_name": "HTMLModel",
      "state": {
       "_dom_classes": [],
       "_model_module": "@jupyter-widgets/controls",
       "_model_module_version": "1.5.0",
       "_model_name": "HTMLModel",
       "_view_count": null,
       "_view_module": "@jupyter-widgets/controls",
       "_view_module_version": "1.5.0",
       "_view_name": "HTMLView",
       "description": "",
       "description_tooltip": null,
       "layout": "IPY_MODEL_359f1fd9cb634a6ab2cef2ee613c2a41",
       "placeholder": "​",
       "style": "IPY_MODEL_c3359454e7424bdeb71c64661e6e6331",
       "value": " 483/483 [00:00&lt;00:00, 33.1kB/s]"
      }
     },
     "ff4347fb491544fcbd94c15d76c3258a": {
      "model_module": "@jupyter-widgets/base",
      "model_module_version": "1.2.0",
      "model_name": "LayoutModel",
      "state": {
       "_model_module": "@jupyter-widgets/base",
       "_model_module_version": "1.2.0",
       "_model_name": "LayoutModel",
       "_view_count": null,
       "_view_module": "@jupyter-widgets/base",
       "_view_module_version": "1.2.0",
       "_view_name": "LayoutView",
       "align_content": null,
       "align_items": null,
       "align_self": null,
       "border": null,
       "bottom": null,
       "display": null,
       "flex": null,
       "flex_flow": null,
       "grid_area": null,
       "grid_auto_columns": null,
       "grid_auto_flow": null,
       "grid_auto_rows": null,
       "grid_column": null,
       "grid_gap": null,
       "grid_row": null,
       "grid_template_areas": null,
       "grid_template_columns": null,
       "grid_template_rows": null,
       "height": null,
       "justify_content": null,
       "justify_items": null,
       "left": null,
       "margin": null,
       "max_height": null,
       "max_width": null,
       "min_height": null,
       "min_width": null,
       "object_fit": null,
       "object_position": null,
       "order": null,
       "overflow": null,
       "overflow_x": null,
       "overflow_y": null,
       "padding": null,
       "right": null,
       "top": null,
       "visibility": null,
       "width": null
      }
     },
     "ff79fce437b74a119d46444bc4e4712a": {
      "model_module": "@jupyter-widgets/base",
      "model_module_version": "1.2.0",
      "model_name": "LayoutModel",
      "state": {
       "_model_module": "@jupyter-widgets/base",
       "_model_module_version": "1.2.0",
       "_model_name": "LayoutModel",
       "_view_count": null,
       "_view_module": "@jupyter-widgets/base",
       "_view_module_version": "1.2.0",
       "_view_name": "LayoutView",
       "align_content": null,
       "align_items": null,
       "align_self": null,
       "border": null,
       "bottom": null,
       "display": null,
       "flex": null,
       "flex_flow": null,
       "grid_area": null,
       "grid_auto_columns": null,
       "grid_auto_flow": null,
       "grid_auto_rows": null,
       "grid_column": null,
       "grid_gap": null,
       "grid_row": null,
       "grid_template_areas": null,
       "grid_template_columns": null,
       "grid_template_rows": null,
       "height": null,
       "justify_content": null,
       "justify_items": null,
       "left": null,
       "margin": null,
       "max_height": null,
       "max_width": null,
       "min_height": null,
       "min_width": null,
       "object_fit": null,
       "object_position": null,
       "order": null,
       "overflow": null,
       "overflow_x": null,
       "overflow_y": null,
       "padding": null,
       "right": null,
       "top": null,
       "visibility": null,
       "width": null
      }
     },
     "ff8ba3187da64eaf91bfbf0d9f3c5777": {
      "model_module": "@jupyter-widgets/base",
      "model_module_version": "1.2.0",
      "model_name": "LayoutModel",
      "state": {
       "_model_module": "@jupyter-widgets/base",
       "_model_module_version": "1.2.0",
       "_model_name": "LayoutModel",
       "_view_count": null,
       "_view_module": "@jupyter-widgets/base",
       "_view_module_version": "1.2.0",
       "_view_name": "LayoutView",
       "align_content": null,
       "align_items": null,
       "align_self": null,
       "border": null,
       "bottom": null,
       "display": null,
       "flex": null,
       "flex_flow": null,
       "grid_area": null,
       "grid_auto_columns": null,
       "grid_auto_flow": null,
       "grid_auto_rows": null,
       "grid_column": null,
       "grid_gap": null,
       "grid_row": null,
       "grid_template_areas": null,
       "grid_template_columns": null,
       "grid_template_rows": null,
       "height": null,
       "justify_content": null,
       "justify_items": null,
       "left": null,
       "margin": null,
       "max_height": null,
       "max_width": null,
       "min_height": null,
       "min_width": null,
       "object_fit": null,
       "object_position": null,
       "order": null,
       "overflow": null,
       "overflow_x": null,
       "overflow_y": null,
       "padding": null,
       "right": null,
       "top": null,
       "visibility": null,
       "width": null
      }
     }
    },
    "version_major": 2,
    "version_minor": 0
   }
  }
 },
 "nbformat": 4,
 "nbformat_minor": 5
}
