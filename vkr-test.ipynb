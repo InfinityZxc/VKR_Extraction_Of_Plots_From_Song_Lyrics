{
 "cells": [
  {
   "cell_type": "code",
   "execution_count": 1,
   "id": "3b6a155e",
   "metadata": {
    "_cell_guid": "b1076dfc-b9ad-4769-8c92-a6c4dae69d19",
    "_uuid": "8f2839f25d086af736a60e9eeb907d3b93b6e0e5",
    "execution": {
     "iopub.execute_input": "2024-04-19T23:54:34.001233Z",
     "iopub.status.busy": "2024-04-19T23:54:34.000595Z",
     "iopub.status.idle": "2024-04-19T23:54:34.871851Z",
     "shell.execute_reply": "2024-04-19T23:54:34.870603Z"
    },
    "papermill": {
     "duration": 0.885009,
     "end_time": "2024-04-19T23:54:34.874091",
     "exception": false,
     "start_time": "2024-04-19T23:54:33.989082",
     "status": "completed"
    },
    "tags": []
   },
   "outputs": [
    {
     "name": "stdout",
     "output_type": "stream",
     "text": [
      "/kaggle/input/id-to-summary/id_to_summary_lines.pickle\n",
      "/kaggle/input/5-million-song-lyrics-dataset/ds2.csv\n",
      "/kaggle/input/wasabi-songs/wasabi_songs.csv\n",
      "/kaggle/input/combined-partial/combined_second.csv\n",
      "/kaggle/input/combined-partial/combined.csv\n",
      "/kaggle/input/combined-partial/combined_first_tags.csv\n"
     ]
    }
   ],
   "source": [
    "# This Python 3 environment comes with many helpful analytics libraries installed\n",
    "# It is defined by the kaggle/python Docker image: https://github.com/kaggle/docker-python\n",
    "# For example, here's several helpful packages to load\n",
    "\n",
    "import numpy as np # linear algebra\n",
    "import pandas as pd # data processing, CSV file I/O (e.g. pd.read_csv)\n",
    "\n",
    "# Input data files are available in the read-only \"../input/\" directory\n",
    "# For example, running this (by clicking run or pressing Shift+Enter) will list all files under the input directory\n",
    "\n",
    "import os\n",
    "for dirname, _, filenames in os.walk('/kaggle/input'):\n",
    "    for filename in filenames:\n",
    "        print(os.path.join(dirname, filename))\n",
    "\n",
    "# You can write up to 20GB to the current directory (/kaggle/working/) that gets preserved as output when you create a version using \"Save & Run All\" \n",
    "# You can also write temporary files to /kaggle/temp/, but they won't be saved outside of the current session"
   ]
  },
  {
   "cell_type": "code",
   "execution_count": 2,
   "id": "2f5c7c74",
   "metadata": {
    "execution": {
     "iopub.execute_input": "2024-04-19T23:54:34.894455Z",
     "iopub.status.busy": "2024-04-19T23:54:34.893658Z",
     "iopub.status.idle": "2024-04-19T23:54:34.898249Z",
     "shell.execute_reply": "2024-04-19T23:54:34.897500Z"
    },
    "papermill": {
     "duration": 0.016893,
     "end_time": "2024-04-19T23:54:34.900209",
     "exception": false,
     "start_time": "2024-04-19T23:54:34.883316",
     "status": "completed"
    },
    "tags": []
   },
   "outputs": [],
   "source": [
    "import time\n",
    "import csv\n",
    "from io import BytesIO"
   ]
  },
  {
   "cell_type": "code",
   "execution_count": 3,
   "id": "16c52ece",
   "metadata": {
    "execution": {
     "iopub.execute_input": "2024-04-19T23:54:34.919887Z",
     "iopub.status.busy": "2024-04-19T23:54:34.919506Z",
     "iopub.status.idle": "2024-04-19T23:54:35.100646Z",
     "shell.execute_reply": "2024-04-19T23:54:35.099820Z"
    },
    "papermill": {
     "duration": 0.193753,
     "end_time": "2024-04-19T23:54:35.102959",
     "exception": false,
     "start_time": "2024-04-19T23:54:34.909206",
     "status": "completed"
    },
    "tags": []
   },
   "outputs": [],
   "source": [
    "id_to_summary = pd.read_pickle('/kaggle/input/id-to-summary/id_to_summary_lines.pickle')"
   ]
  },
  {
   "cell_type": "code",
   "execution_count": 4,
   "id": "06899865",
   "metadata": {
    "execution": {
     "iopub.execute_input": "2024-04-19T23:54:35.124527Z",
     "iopub.status.busy": "2024-04-19T23:54:35.123623Z",
     "iopub.status.idle": "2024-04-19T23:54:35.130996Z",
     "shell.execute_reply": "2024-04-19T23:54:35.129967Z"
    },
    "papermill": {
     "duration": 0.02078,
     "end_time": "2024-04-19T23:54:35.133104",
     "exception": false,
     "start_time": "2024-04-19T23:54:35.112324",
     "status": "completed"
    },
    "tags": []
   },
   "outputs": [
    {
     "data": {
      "text/plain": [
       "53124"
      ]
     },
     "execution_count": 4,
     "metadata": {},
     "output_type": "execute_result"
    }
   ],
   "source": [
    "len(id_to_summary)"
   ]
  },
  {
   "cell_type": "code",
   "execution_count": 5,
   "id": "c67956ed",
   "metadata": {
    "execution": {
     "iopub.execute_input": "2024-04-19T23:54:35.152975Z",
     "iopub.status.busy": "2024-04-19T23:54:35.152599Z",
     "iopub.status.idle": "2024-04-19T23:54:35.158788Z",
     "shell.execute_reply": "2024-04-19T23:54:35.157603Z"
    },
    "papermill": {
     "duration": 0.018694,
     "end_time": "2024-04-19T23:54:35.160962",
     "exception": false,
     "start_time": "2024-04-19T23:54:35.142268",
     "status": "completed"
    },
    "tags": []
   },
   "outputs": [],
   "source": [
    "list_summaries_id = list(id_to_summary)"
   ]
  },
  {
   "cell_type": "code",
   "execution_count": 6,
   "id": "600d8079",
   "metadata": {
    "execution": {
     "iopub.execute_input": "2024-04-19T23:54:35.181386Z",
     "iopub.status.busy": "2024-04-19T23:54:35.180695Z",
     "iopub.status.idle": "2024-04-19T23:54:35.191985Z",
     "shell.execute_reply": "2024-04-19T23:54:35.190856Z"
    },
    "papermill": {
     "duration": 0.024067,
     "end_time": "2024-04-19T23:54:35.194245",
     "exception": false,
     "start_time": "2024-04-19T23:54:35.170178",
     "status": "completed"
    },
    "tags": []
   },
   "outputs": [],
   "source": [
    "set_summaries_id = set(list(id_to_summary))"
   ]
  },
  {
   "cell_type": "code",
   "execution_count": 7,
   "id": "0f84cc17",
   "metadata": {
    "execution": {
     "iopub.execute_input": "2024-04-19T23:54:35.214188Z",
     "iopub.status.busy": "2024-04-19T23:54:35.213795Z",
     "iopub.status.idle": "2024-04-19T23:54:35.220107Z",
     "shell.execute_reply": "2024-04-19T23:54:35.219076Z"
    },
    "papermill": {
     "duration": 0.018858,
     "end_time": "2024-04-19T23:54:35.222165",
     "exception": false,
     "start_time": "2024-04-19T23:54:35.203307",
     "status": "completed"
    },
    "tags": []
   },
   "outputs": [
    {
     "data": {
      "text/plain": [
       "[\"'cause you were always on the run\",\n",
       " 'from the darkness in your heart',\n",
       " 'so you wear it on the outside',\n",
       " 'from the poison in your lungs']"
      ]
     },
     "execution_count": 7,
     "metadata": {},
     "output_type": "execute_result"
    }
   ],
   "source": [
    "id_to_summary['5714dec325ac0d8aee3806e4']"
   ]
  },
  {
   "cell_type": "code",
   "execution_count": null,
   "id": "69c4c5d8",
   "metadata": {
    "papermill": {
     "duration": 0.008925,
     "end_time": "2024-04-19T23:54:35.240207",
     "exception": false,
     "start_time": "2024-04-19T23:54:35.231282",
     "status": "completed"
    },
    "tags": []
   },
   "outputs": [],
   "source": []
  },
  {
   "cell_type": "code",
   "execution_count": 8,
   "id": "e92677d3",
   "metadata": {
    "execution": {
     "iopub.execute_input": "2024-04-19T23:54:35.260650Z",
     "iopub.status.busy": "2024-04-19T23:54:35.259849Z",
     "iopub.status.idle": "2024-04-19T23:58:55.871872Z",
     "shell.execute_reply": "2024-04-19T23:58:55.869413Z"
    },
    "papermill": {
     "duration": 260.62761,
     "end_time": "2024-04-19T23:58:55.876915",
     "exception": false,
     "start_time": "2024-04-19T23:54:35.249305",
     "status": "completed"
    },
    "tags": []
   },
   "outputs": [],
   "source": [
    "title_to_text = pd.read_csv('/kaggle/input/5-million-song-lyrics-dataset/ds2.csv', on_bad_lines='skip', usecols = ['title', 'lyrics', 'artist', 'tag'])  "
   ]
  },
  {
   "cell_type": "code",
   "execution_count": 9,
   "id": "1bf065cd",
   "metadata": {
    "execution": {
     "iopub.execute_input": "2024-04-19T23:58:55.901746Z",
     "iopub.status.busy": "2024-04-19T23:58:55.901263Z",
     "iopub.status.idle": "2024-04-19T23:58:56.269953Z",
     "shell.execute_reply": "2024-04-19T23:58:56.268774Z"
    },
    "papermill": {
     "duration": 0.384276,
     "end_time": "2024-04-19T23:58:56.273455",
     "exception": false,
     "start_time": "2024-04-19T23:58:55.889179",
     "status": "completed"
    },
    "tags": []
   },
   "outputs": [
    {
     "data": {
      "text/html": [
       "<div>\n",
       "<style scoped>\n",
       "    .dataframe tbody tr th:only-of-type {\n",
       "        vertical-align: middle;\n",
       "    }\n",
       "\n",
       "    .dataframe tbody tr th {\n",
       "        vertical-align: top;\n",
       "    }\n",
       "\n",
       "    .dataframe thead th {\n",
       "        text-align: right;\n",
       "    }\n",
       "</style>\n",
       "<table border=\"1\" class=\"dataframe\">\n",
       "  <thead>\n",
       "    <tr style=\"text-align: right;\">\n",
       "      <th></th>\n",
       "      <th>title</th>\n",
       "      <th>tag</th>\n",
       "      <th>artist</th>\n",
       "      <th>lyrics</th>\n",
       "    </tr>\n",
       "  </thead>\n",
       "  <tbody>\n",
       "    <tr>\n",
       "      <th>5758066</th>\n",
       "      <td>Gonka</td>\n",
       "      <td>pop</td>\n",
       "      <td>LUV3MEMORE</td>\n",
       "      <td>[Текст песни «Gonka»]\\n\\n[Припев]\\nМоя жизнь —...</td>\n",
       "    </tr>\n",
       "  </tbody>\n",
       "</table>\n",
       "</div>"
      ],
      "text/plain": [
       "         title  tag      artist  \\\n",
       "5758066  Gonka  pop  LUV3MEMORE   \n",
       "\n",
       "                                                    lyrics  \n",
       "5758066  [Текст песни «Gonka»]\\n\\n[Припев]\\nМоя жизнь —...  "
      ]
     },
     "execution_count": 9,
     "metadata": {},
     "output_type": "execute_result"
    }
   ],
   "source": [
    "title_to_text.sample()"
   ]
  },
  {
   "cell_type": "code",
   "execution_count": 10,
   "id": "7867bd01",
   "metadata": {
    "execution": {
     "iopub.execute_input": "2024-04-19T23:58:56.295193Z",
     "iopub.status.busy": "2024-04-19T23:58:56.294289Z",
     "iopub.status.idle": "2024-04-19T23:58:59.686005Z",
     "shell.execute_reply": "2024-04-19T23:58:59.684787Z"
    },
    "papermill": {
     "duration": 3.405198,
     "end_time": "2024-04-19T23:58:59.688625",
     "exception": false,
     "start_time": "2024-04-19T23:58:56.283427",
     "status": "completed"
    },
    "tags": []
   },
   "outputs": [],
   "source": [
    "title_with_text_set = set()\n",
    "for title in title_to_text.iloc[:,0]:\n",
    "    title_with_text_set.add(title)"
   ]
  },
  {
   "cell_type": "code",
   "execution_count": null,
   "id": "019249e2",
   "metadata": {
    "papermill": {
     "duration": 0.009302,
     "end_time": "2024-04-19T23:58:59.707928",
     "exception": false,
     "start_time": "2024-04-19T23:58:59.698626",
     "status": "completed"
    },
    "tags": []
   },
   "outputs": [],
   "source": []
  },
  {
   "cell_type": "code",
   "execution_count": null,
   "id": "19a261e2",
   "metadata": {
    "papermill": {
     "duration": 0.009701,
     "end_time": "2024-04-19T23:58:59.727111",
     "exception": false,
     "start_time": "2024-04-19T23:58:59.717410",
     "status": "completed"
    },
    "tags": []
   },
   "outputs": [],
   "source": []
  },
  {
   "cell_type": "code",
   "execution_count": 11,
   "id": "7df5cc1b",
   "metadata": {
    "execution": {
     "iopub.execute_input": "2024-04-19T23:58:59.748588Z",
     "iopub.status.busy": "2024-04-19T23:58:59.748206Z",
     "iopub.status.idle": "2024-04-20T00:00:16.922221Z",
     "shell.execute_reply": "2024-04-20T00:00:16.920869Z"
    },
    "papermill": {
     "duration": 77.188181,
     "end_time": "2024-04-20T00:00:16.925323",
     "exception": false,
     "start_time": "2024-04-19T23:58:59.737142",
     "status": "completed"
    },
    "tags": []
   },
   "outputs": [],
   "source": [
    "id_to_title = pd.read_csv('/kaggle/input/wasabi-songs/wasabi_songs.csv', on_bad_lines='skip', sep ='\\t', usecols = ['_id', 'title', 'artist'])\n",
    "id_to_title['_id'] = id_to_title['_id'].apply(lambda s: s[9:-1])"
   ]
  },
  {
   "cell_type": "code",
   "execution_count": 12,
   "id": "9704c67a",
   "metadata": {
    "execution": {
     "iopub.execute_input": "2024-04-20T00:00:16.946356Z",
     "iopub.status.busy": "2024-04-20T00:00:16.945952Z",
     "iopub.status.idle": "2024-04-20T00:00:17.050653Z",
     "shell.execute_reply": "2024-04-20T00:00:17.049257Z"
    },
    "papermill": {
     "duration": 0.1178,
     "end_time": "2024-04-20T00:00:17.052894",
     "exception": false,
     "start_time": "2024-04-20T00:00:16.935094",
     "status": "completed"
    },
    "tags": []
   },
   "outputs": [
    {
     "data": {
      "text/html": [
       "<div>\n",
       "<style scoped>\n",
       "    .dataframe tbody tr th:only-of-type {\n",
       "        vertical-align: middle;\n",
       "    }\n",
       "\n",
       "    .dataframe tbody tr th {\n",
       "        vertical-align: top;\n",
       "    }\n",
       "\n",
       "    .dataframe thead th {\n",
       "        text-align: right;\n",
       "    }\n",
       "</style>\n",
       "<table border=\"1\" class=\"dataframe\">\n",
       "  <thead>\n",
       "    <tr style=\"text-align: right;\">\n",
       "      <th></th>\n",
       "      <th>_id</th>\n",
       "      <th>artist</th>\n",
       "      <th>title</th>\n",
       "    </tr>\n",
       "  </thead>\n",
       "  <tbody>\n",
       "    <tr>\n",
       "      <th>1294511</th>\n",
       "      <td>5714dedd25ac0d8aee4bc50b</td>\n",
       "      <td>My Autumn Empire</td>\n",
       "      <td>Every Now And Then I Fall Apart</td>\n",
       "    </tr>\n",
       "  </tbody>\n",
       "</table>\n",
       "</div>"
      ],
      "text/plain": [
       "                              _id            artist  \\\n",
       "1294511  5714dedd25ac0d8aee4bc50b  My Autumn Empire   \n",
       "\n",
       "                                   title  \n",
       "1294511  Every Now And Then I Fall Apart  "
      ]
     },
     "execution_count": 12,
     "metadata": {},
     "output_type": "execute_result"
    }
   ],
   "source": [
    "id_to_title.sample()"
   ]
  },
  {
   "cell_type": "code",
   "execution_count": 13,
   "id": "f0f8e8ee",
   "metadata": {
    "execution": {
     "iopub.execute_input": "2024-04-20T00:00:17.074298Z",
     "iopub.status.busy": "2024-04-20T00:00:17.073853Z",
     "iopub.status.idle": "2024-04-20T00:00:17.080115Z",
     "shell.execute_reply": "2024-04-20T00:00:17.078995Z"
    },
    "papermill": {
     "duration": 0.020043,
     "end_time": "2024-04-20T00:00:17.082573",
     "exception": false,
     "start_time": "2024-04-20T00:00:17.062530",
     "status": "completed"
    },
    "tags": []
   },
   "outputs": [
    {
     "name": "stdout",
     "output_type": "stream",
     "text": [
      "5714dec325ac0d8aee3804e7\n",
      "5714dec325ac0d8aee3804e8\n",
      "5714dec325ac0d8aee3804e9\n",
      "5714dec325ac0d8aee3804ea\n",
      "5714dec325ac0d8aee3804eb\n",
      "5714dec325ac0d8aee3804ec\n",
      "5714dec325ac0d8aee3804ed\n",
      "5714dec325ac0d8aee3804ee\n",
      "5714dec325ac0d8aee3804ef\n",
      "5714dec325ac0d8aee3804f0\n",
      "5714dec325ac0d8aee3804f1\n"
     ]
    }
   ],
   "source": [
    "i = 0\n",
    "for object_id in id_to_title.iloc[:,0]:\n",
    "    i+=1\n",
    "    print(object_id)\n",
    "    if i > 10:\n",
    "        break"
   ]
  },
  {
   "cell_type": "code",
   "execution_count": null,
   "id": "598a3107",
   "metadata": {
    "papermill": {
     "duration": 0.009496,
     "end_time": "2024-04-20T00:00:17.102005",
     "exception": false,
     "start_time": "2024-04-20T00:00:17.092509",
     "status": "completed"
    },
    "tags": []
   },
   "outputs": [],
   "source": []
  },
  {
   "cell_type": "code",
   "execution_count": 14,
   "id": "ad211abe",
   "metadata": {
    "execution": {
     "iopub.execute_input": "2024-04-20T00:00:17.124583Z",
     "iopub.status.busy": "2024-04-20T00:00:17.123483Z",
     "iopub.status.idle": "2024-04-20T00:00:17.841231Z",
     "shell.execute_reply": "2024-04-20T00:00:17.839943Z"
    },
    "papermill": {
     "duration": 0.731474,
     "end_time": "2024-04-20T00:00:17.843691",
     "exception": false,
     "start_time": "2024-04-20T00:00:17.112217",
     "status": "completed"
    },
    "tags": []
   },
   "outputs": [
    {
     "name": "stdout",
     "output_type": "stream",
     "text": [
      "amount of ids with summaries found:  53124\n"
     ]
    }
   ],
   "source": [
    "i = 0\n",
    "check_set = set()\n",
    "for object_id in id_to_title.iloc[:,0]:\n",
    "    #if object_id[9:-1] in set_summaries_id and object_id[:9] == 'ObjectId(' and not object_id[9:-1] in check_set:\n",
    "    if object_id in set_summaries_id and not object_id in check_set:\n",
    "        check_set.add(object_id)\n",
    "        i+=1\n",
    "print('amount of ids with summaries found: ', i)\n",
    "# 53133 all"
   ]
  },
  {
   "cell_type": "code",
   "execution_count": 15,
   "id": "33f134cf",
   "metadata": {
    "execution": {
     "iopub.execute_input": "2024-04-20T00:00:17.865965Z",
     "iopub.status.busy": "2024-04-20T00:00:17.865549Z",
     "iopub.status.idle": "2024-04-20T00:00:17.871723Z",
     "shell.execute_reply": "2024-04-20T00:00:17.870478Z"
    },
    "papermill": {
     "duration": 0.020728,
     "end_time": "2024-04-20T00:00:17.874484",
     "exception": false,
     "start_time": "2024-04-20T00:00:17.853756",
     "status": "completed"
    },
    "tags": []
   },
   "outputs": [
    {
     "name": "stdout",
     "output_type": "stream",
     "text": [
      "_id  5714decb25ac0d8aee3e61ed\n",
      "_id  5714ded825ac0d8aee485c7b\n",
      "_id  5714dedb25ac0d8aee4a3a8f\n",
      "_id  5714dee925ac0d8aee558726\n",
      "_id  5714ded725ac0d8aee474bf4\n",
      "_id  5714dee125ac0d8aee4f6835\n",
      "_id  5714dec725ac0d8aee3b435d\n",
      "_id  5714dee925ac0d8aee55913b\n",
      "_id  5714dec725ac0d8aee3b633b\n",
      "_id  5714decd25ac0d8aee400f8f\n",
      "_id  5714ded525ac0d8aee46340c\n"
     ]
    }
   ],
   "source": [
    "i = 0\n",
    "for _id in check_set:\n",
    "    print('_id ', _id)\n",
    "    i += 1\n",
    "    if i > 10:\n",
    "        break"
   ]
  },
  {
   "cell_type": "code",
   "execution_count": 16,
   "id": "c60bb33e",
   "metadata": {
    "execution": {
     "iopub.execute_input": "2024-04-20T00:00:17.896487Z",
     "iopub.status.busy": "2024-04-20T00:00:17.896101Z",
     "iopub.status.idle": "2024-04-20T00:00:17.903891Z",
     "shell.execute_reply": "2024-04-20T00:00:17.902577Z"
    },
    "papermill": {
     "duration": 0.02158,
     "end_time": "2024-04-20T00:00:17.906181",
     "exception": false,
     "start_time": "2024-04-20T00:00:17.884601",
     "status": "completed"
    },
    "tags": []
   },
   "outputs": [
    {
     "data": {
      "text/plain": [
       "['_id', 'artist', 'title']"
      ]
     },
     "execution_count": 16,
     "metadata": {},
     "output_type": "execute_result"
    }
   ],
   "source": [
    "list(id_to_title)"
   ]
  },
  {
   "cell_type": "code",
   "execution_count": null,
   "id": "6ccb5f0c",
   "metadata": {
    "papermill": {
     "duration": 0.010404,
     "end_time": "2024-04-20T00:00:17.926843",
     "exception": false,
     "start_time": "2024-04-20T00:00:17.916439",
     "status": "completed"
    },
    "tags": []
   },
   "outputs": [],
   "source": []
  },
  {
   "cell_type": "code",
   "execution_count": null,
   "id": "85914a09",
   "metadata": {
    "papermill": {
     "duration": 0.009828,
     "end_time": "2024-04-20T00:00:17.947503",
     "exception": false,
     "start_time": "2024-04-20T00:00:17.937675",
     "status": "completed"
    },
    "tags": []
   },
   "outputs": [],
   "source": []
  },
  {
   "cell_type": "code",
   "execution_count": 17,
   "id": "7bd06478",
   "metadata": {
    "execution": {
     "iopub.execute_input": "2024-04-20T00:00:17.969552Z",
     "iopub.status.busy": "2024-04-20T00:00:17.969189Z",
     "iopub.status.idle": "2024-04-20T00:00:17.977396Z",
     "shell.execute_reply": "2024-04-20T00:00:17.976151Z"
    },
    "papermill": {
     "duration": 0.022065,
     "end_time": "2024-04-20T00:00:17.979744",
     "exception": false,
     "start_time": "2024-04-20T00:00:17.957679",
     "status": "completed"
    },
    "tags": []
   },
   "outputs": [
    {
     "data": {
      "text/plain": [
       "\"\\ncount_match = 0\\ncheck_set = set()\\nfor i in range(len(id_to_title)):\\n    _id = id_to_title.iloc[i, 0]\\n    title = id_to_title.iloc[i, 1]\\n    #if (_id[9:-1] in set_summaries_id) and (_id[:9] == 'ObjectId(') and (not _id[9:-1] in check_set) and (title in title_with_text_set):\\n    if (_id in set_summaries_id) and (not _id in check_set) and (title in title_with_text_set):\\n        check_set.add(_id)\\n        count_match += 1\\nprint('matched summary to text: ', count_match)\\n\\n# 23107\\n\""
      ]
     },
     "execution_count": 17,
     "metadata": {},
     "output_type": "execute_result"
    }
   ],
   "source": [
    "'''\n",
    "count_match = 0\n",
    "check_set = set()\n",
    "for i in range(len(id_to_title)):\n",
    "    _id = id_to_title.iloc[i, 0]\n",
    "    title = id_to_title.iloc[i, 1]\n",
    "    #if (_id[9:-1] in set_summaries_id) and (_id[:9] == 'ObjectId(') and (not _id[9:-1] in check_set) and (title in title_with_text_set):\n",
    "    if (_id in set_summaries_id) and (not _id in check_set) and (title in title_with_text_set):\n",
    "        check_set.add(_id)\n",
    "        count_match += 1\n",
    "print('matched summary to text: ', count_match)\n",
    "\n",
    "# 23107\n",
    "'''"
   ]
  },
  {
   "cell_type": "code",
   "execution_count": null,
   "id": "4dc817f6",
   "metadata": {
    "papermill": {
     "duration": 0.009939,
     "end_time": "2024-04-20T00:00:18.000020",
     "exception": false,
     "start_time": "2024-04-20T00:00:17.990081",
     "status": "completed"
    },
    "tags": []
   },
   "outputs": [],
   "source": []
  },
  {
   "cell_type": "code",
   "execution_count": null,
   "id": "4f8e3be7",
   "metadata": {
    "papermill": {
     "duration": 0.010021,
     "end_time": "2024-04-20T00:00:18.020351",
     "exception": false,
     "start_time": "2024-04-20T00:00:18.010330",
     "status": "completed"
    },
    "tags": []
   },
   "outputs": [],
   "source": []
  },
  {
   "cell_type": "code",
   "execution_count": 18,
   "id": "09f3cd0b",
   "metadata": {
    "execution": {
     "iopub.execute_input": "2024-04-20T00:00:18.042524Z",
     "iopub.status.busy": "2024-04-20T00:00:18.042150Z",
     "iopub.status.idle": "2024-04-20T00:00:19.524987Z",
     "shell.execute_reply": "2024-04-20T00:00:19.523828Z"
    },
    "papermill": {
     "duration": 1.496902,
     "end_time": "2024-04-20T00:00:19.527490",
     "exception": false,
     "start_time": "2024-04-20T00:00:18.030588",
     "status": "completed"
    },
    "tags": []
   },
   "outputs": [],
   "source": [
    "#combined_df = pd.DataFrame(columns=['title', 'tag', 'unredacted_text', 'clean_text', 'id', 'artist', 'unredacted_summary', 'clean_summary'])\n",
    "combined_df = pd.read_csv('/kaggle/input/combined-partial/combined_first_tags.csv')"
   ]
  },
  {
   "cell_type": "code",
   "execution_count": 19,
   "id": "7aa945db",
   "metadata": {
    "execution": {
     "iopub.execute_input": "2024-04-20T00:00:19.549791Z",
     "iopub.status.busy": "2024-04-20T00:00:19.549357Z",
     "iopub.status.idle": "2024-04-20T00:00:19.554838Z",
     "shell.execute_reply": "2024-04-20T00:00:19.553982Z"
    },
    "papermill": {
     "duration": 0.019253,
     "end_time": "2024-04-20T00:00:19.556941",
     "exception": false,
     "start_time": "2024-04-20T00:00:19.537688",
     "status": "completed"
    },
    "tags": []
   },
   "outputs": [],
   "source": [
    "#combined_df.iloc[-1]['id']"
   ]
  },
  {
   "cell_type": "code",
   "execution_count": 20,
   "id": "977d12ef",
   "metadata": {
    "execution": {
     "iopub.execute_input": "2024-04-20T00:00:19.580004Z",
     "iopub.status.busy": "2024-04-20T00:00:19.578772Z",
     "iopub.status.idle": "2024-04-20T00:00:19.583499Z",
     "shell.execute_reply": "2024-04-20T00:00:19.582433Z"
    },
    "papermill": {
     "duration": 0.018538,
     "end_time": "2024-04-20T00:00:19.585846",
     "exception": false,
     "start_time": "2024-04-20T00:00:19.567308",
     "status": "completed"
    },
    "tags": []
   },
   "outputs": [],
   "source": [
    "#list_summaries_id.index(combined_df.iloc[-1]['id'])"
   ]
  },
  {
   "cell_type": "code",
   "execution_count": 21,
   "id": "99b9c483",
   "metadata": {
    "execution": {
     "iopub.execute_input": "2024-04-20T00:00:19.608227Z",
     "iopub.status.busy": "2024-04-20T00:00:19.607811Z",
     "iopub.status.idle": "2024-04-20T02:10:46.704638Z",
     "shell.execute_reply": "2024-04-20T02:10:46.703182Z"
    },
    "papermill": {
     "duration": 7827.120547,
     "end_time": "2024-04-20T02:10:46.716796",
     "exception": false,
     "start_time": "2024-04-20T00:00:19.596249",
     "status": "completed"
    },
    "tags": []
   },
   "outputs": [
    {
     "name": "stdout",
     "output_type": "stream",
     "text": [
      "count_all  47000\n",
      "count  31316\n",
      "1059.0020163059235\n",
      "count_all  48000\n",
      "count  31958\n",
      "2164.679279088974\n",
      "count_all  49000\n",
      "count  32613\n",
      "3268.8733716011047\n",
      "count_all  50000\n",
      "count  33268\n",
      "4376.101979494095\n",
      "count_all  51000\n",
      "count  33873\n",
      "5482.046710014343\n",
      "count_all  52000\n",
      "count  34532\n",
      "6585.010985612869\n",
      "count_all  53000\n",
      "count  35194\n",
      "7689.110816717148\n",
      "count_all  53123\n",
      "count  35281\n"
     ]
    }
   ],
   "source": [
    "# ''' '''\n",
    "start = time.time()\n",
    "if len(combined_df) > 0:\n",
    "    count = len(combined_df)\n",
    "    count_all = list_summaries_id.index(combined_df.iloc[-1]['id'])\n",
    "    start_from = (list_summaries_id.index(combined_df.iloc[-1]['id']) + 1)\n",
    "else:\n",
    "    count = 0\n",
    "    count_all = 0\n",
    "    start_from = 0\n",
    "\n",
    "with open('combined_second_tags.csv', 'w', newline='') as csvfile:\n",
    "    fieldnames = ['title', 'tag', 'unredacted_text', 'clean_text', 'id', 'artist', 'unredacted_summary', 'clean_summary']\n",
    "    writer = csv.DictWriter(csvfile, fieldnames=fieldnames)\n",
    "    writer.writeheader()\n",
    "    \n",
    "    for _id in list_summaries_id[start_from:]:\n",
    "        count_all += 1\n",
    "\n",
    "        if count_all % 1000 == 0:\n",
    "            #combined_df = pd.read_csv('/kaggle/working/combined.csv')\n",
    "            #combined_df.to_csv('combined_df_coma.csv', sep=',')\n",
    "            print('count_all ', count_all)\n",
    "            print('count ', count)\n",
    "            end = time.time()\n",
    "            print(end - start)\n",
    "\n",
    "        song_with_id = id_to_title.loc[id_to_title['_id'] == _id]\n",
    "        title = song_with_id['title'].iloc[0]\n",
    "        artist = song_with_id['artist'].iloc[0]\n",
    "\n",
    "        #candidate = title_to_text.loc[(title_to_text['title'] == title) & (title_to_text['artist'] == artist)]\n",
    "        #candidate = title_to_text.loc[(title_to_text['title'] == title)].loc[(title_to_text['artist'] == artist)]\n",
    "        candidate = title_to_text.loc[(title_to_text['artist'] == artist)].loc[(title_to_text['title'] == title)]\n",
    "\n",
    "        if len(candidate) > 0:\n",
    "            count += 1\n",
    "            unredacted_text = candidate['lyrics'].iloc[0]\n",
    "            tag = candidate['tag'].iloc[0]\n",
    "            summary = id_to_summary[_id]\n",
    "            \n",
    "            writer.writerow({'title': title, 'tag': tag, 'unredacted_text': unredacted_text, 'clean_text': '', 'id': _id, 'artist': artist, 'unredacted_summary': summary , 'clean_summary': ''})\n",
    "\n",
    "    print('count_all ', count_all)\n",
    "    print('count ', count )\n",
    "# '''"
   ]
  },
  {
   "cell_type": "code",
   "execution_count": 22,
   "id": "c673d84e",
   "metadata": {
    "execution": {
     "iopub.execute_input": "2024-04-20T02:10:46.741276Z",
     "iopub.status.busy": "2024-04-20T02:10:46.740785Z",
     "iopub.status.idle": "2024-04-20T02:10:46.751627Z",
     "shell.execute_reply": "2024-04-20T02:10:46.750293Z"
    },
    "papermill": {
     "duration": 0.02626,
     "end_time": "2024-04-20T02:10:46.753769",
     "exception": false,
     "start_time": "2024-04-20T02:10:46.727509",
     "status": "completed"
    },
    "tags": []
   },
   "outputs": [
    {
     "data": {
      "text/plain": [
       "\"\\nstart = time.time()\\nif len(combined_df) > 0:\\n    count = len(combined_df)\\n    count_all = ids_summary.index(combined_df.iloc[-1]['id'])\\nelse:\\n    count = 0\\n    count_all = 0\\n    \\nwith open('combined.csv', 'w', newline='') as csvfile:\\n    fieldnames = ['title', 'unredacted_text', 'clean_text', 'id', 'artist', 'unredacted_summary', 'clean_summary']\\n    writer = csv.DictWriter(csvfile, fieldnames=fieldnames)\\n    writer.writeheader()\\n    \\n    for index, row in id_to_title.iterrows():\\n        _id = row['_id']\\n        count_all += 1\\n\\n        if count_all % 1000 == 0:\\n            #combined_df.to_csv('combined_df_coma.csv', sep=',')\\n            print('count_all ', count_all)\\n            print('count ', count)\\n            end = time.time()\\n            print(end - start)\\n            \\n        if _id in set_summaries_id:\\n            title = row['title']\\n            artist = row['artist']\\n\\n            # candidate = title_to_text.loc[(title_to_text['title'] == title) & (title_to_text['artist'] == artist)]\\n            candidate = title_to_text.loc[(title_to_text['title'] == title)].loc[(title_to_text['artist'] == artist)]\\n            \\n            if len(candidate) > 0:\\n                count += 1\\n                unredacted_text = candidate['lyrics'].iloc[0]\\n                summary = id_to_summary[_id]\\n\\n                writer.writerow({'title': title, 'unredacted_text': unredacted_text, 'clean_text': '', 'id': _id, 'artist': artist, 'unredacted_summary': summary , 'clean_summary': ''})\\n\\n    print('count_all ', count_all)\\n    print('count ', count )\\n\""
      ]
     },
     "execution_count": 22,
     "metadata": {},
     "output_type": "execute_result"
    }
   ],
   "source": [
    "'''\n",
    "start = time.time()\n",
    "if len(combined_df) > 0:\n",
    "    count = len(combined_df)\n",
    "    count_all = ids_summary.index(combined_df.iloc[-1]['id'])\n",
    "else:\n",
    "    count = 0\n",
    "    count_all = 0\n",
    "    \n",
    "with open('combined.csv', 'w', newline='') as csvfile:\n",
    "    fieldnames = ['title', 'unredacted_text', 'clean_text', 'id', 'artist', 'unredacted_summary', 'clean_summary']\n",
    "    writer = csv.DictWriter(csvfile, fieldnames=fieldnames)\n",
    "    writer.writeheader()\n",
    "    \n",
    "    for index, row in id_to_title.iterrows():\n",
    "        _id = row['_id']\n",
    "        count_all += 1\n",
    "\n",
    "        if count_all % 1000 == 0:\n",
    "            #combined_df.to_csv('combined_df_coma.csv', sep=',')\n",
    "            print('count_all ', count_all)\n",
    "            print('count ', count)\n",
    "            end = time.time()\n",
    "            print(end - start)\n",
    "            \n",
    "        if _id in set_summaries_id:\n",
    "            title = row['title']\n",
    "            artist = row['artist']\n",
    "\n",
    "            # candidate = title_to_text.loc[(title_to_text['title'] == title) & (title_to_text['artist'] == artist)]\n",
    "            candidate = title_to_text.loc[(title_to_text['title'] == title)].loc[(title_to_text['artist'] == artist)]\n",
    "            \n",
    "            if len(candidate) > 0:\n",
    "                count += 1\n",
    "                unredacted_text = candidate['lyrics'].iloc[0]\n",
    "                summary = id_to_summary[_id]\n",
    "\n",
    "                writer.writerow({'title': title, 'unredacted_text': unredacted_text, 'clean_text': '', 'id': _id, 'artist': artist, 'unredacted_summary': summary , 'clean_summary': ''})\n",
    "\n",
    "    print('count_all ', count_all)\n",
    "    print('count ', count )\n",
    "'''"
   ]
  },
  {
   "cell_type": "code",
   "execution_count": 23,
   "id": "760d9909",
   "metadata": {
    "execution": {
     "iopub.execute_input": "2024-04-20T02:10:46.779046Z",
     "iopub.status.busy": "2024-04-20T02:10:46.778178Z",
     "iopub.status.idle": "2024-04-20T02:10:46.783035Z",
     "shell.execute_reply": "2024-04-20T02:10:46.781996Z"
    },
    "papermill": {
     "duration": 0.020155,
     "end_time": "2024-04-20T02:10:46.785353",
     "exception": false,
     "start_time": "2024-04-20T02:10:46.765198",
     "status": "completed"
    },
    "tags": []
   },
   "outputs": [],
   "source": [
    "#len(id_to_title)"
   ]
  },
  {
   "cell_type": "code",
   "execution_count": 24,
   "id": "9b6f6752",
   "metadata": {
    "execution": {
     "iopub.execute_input": "2024-04-20T02:10:46.812563Z",
     "iopub.status.busy": "2024-04-20T02:10:46.811790Z",
     "iopub.status.idle": "2024-04-20T02:10:46.816462Z",
     "shell.execute_reply": "2024-04-20T02:10:46.815160Z"
    },
    "papermill": {
     "duration": 0.02008,
     "end_time": "2024-04-20T02:10:46.818971",
     "exception": false,
     "start_time": "2024-04-20T02:10:46.798891",
     "status": "completed"
    },
    "tags": []
   },
   "outputs": [],
   "source": [
    "#combined_df = pd.read_csv('/kaggle/working/combined.csv')\n",
    "#combined_df"
   ]
  },
  {
   "cell_type": "code",
   "execution_count": 25,
   "id": "09a62dec",
   "metadata": {
    "execution": {
     "iopub.execute_input": "2024-04-20T02:10:46.843539Z",
     "iopub.status.busy": "2024-04-20T02:10:46.843108Z",
     "iopub.status.idle": "2024-04-20T02:10:46.848101Z",
     "shell.execute_reply": "2024-04-20T02:10:46.846598Z"
    },
    "papermill": {
     "duration": 0.020114,
     "end_time": "2024-04-20T02:10:46.850421",
     "exception": false,
     "start_time": "2024-04-20T02:10:46.830307",
     "status": "completed"
    },
    "tags": []
   },
   "outputs": [],
   "source": [
    "#combined_df.to_csv('combined_df.csv', sep=',')"
   ]
  },
  {
   "cell_type": "code",
   "execution_count": 26,
   "id": "dd40cf72",
   "metadata": {
    "execution": {
     "iopub.execute_input": "2024-04-20T02:10:46.874415Z",
     "iopub.status.busy": "2024-04-20T02:10:46.874003Z",
     "iopub.status.idle": "2024-04-20T02:10:46.878567Z",
     "shell.execute_reply": "2024-04-20T02:10:46.877391Z"
    },
    "papermill": {
     "duration": 0.019576,
     "end_time": "2024-04-20T02:10:46.881036",
     "exception": false,
     "start_time": "2024-04-20T02:10:46.861460",
     "status": "completed"
    },
    "tags": []
   },
   "outputs": [],
   "source": [
    "#!ls /kaggle/working"
   ]
  },
  {
   "cell_type": "code",
   "execution_count": 27,
   "id": "d79e5455",
   "metadata": {
    "execution": {
     "iopub.execute_input": "2024-04-20T02:10:46.905893Z",
     "iopub.status.busy": "2024-04-20T02:10:46.905261Z",
     "iopub.status.idle": "2024-04-20T02:10:46.910655Z",
     "shell.execute_reply": "2024-04-20T02:10:46.909317Z"
    },
    "papermill": {
     "duration": 0.020259,
     "end_time": "2024-04-20T02:10:46.912971",
     "exception": false,
     "start_time": "2024-04-20T02:10:46.892712",
     "status": "completed"
    },
    "tags": []
   },
   "outputs": [],
   "source": [
    "#combined_df.iloc[-1]['id']"
   ]
  },
  {
   "cell_type": "code",
   "execution_count": 28,
   "id": "e5c7ff81",
   "metadata": {
    "execution": {
     "iopub.execute_input": "2024-04-20T02:10:46.937034Z",
     "iopub.status.busy": "2024-04-20T02:10:46.936553Z",
     "iopub.status.idle": "2024-04-20T02:10:46.941229Z",
     "shell.execute_reply": "2024-04-20T02:10:46.940104Z"
    },
    "papermill": {
     "duration": 0.019268,
     "end_time": "2024-04-20T02:10:46.943418",
     "exception": false,
     "start_time": "2024-04-20T02:10:46.924150",
     "status": "completed"
    },
    "tags": []
   },
   "outputs": [],
   "source": [
    "#list_summaries_id.index(combined_df.iloc[-1]['id'])"
   ]
  },
  {
   "cell_type": "code",
   "execution_count": 29,
   "id": "d84f6b40",
   "metadata": {
    "execution": {
     "iopub.execute_input": "2024-04-20T02:10:46.968003Z",
     "iopub.status.busy": "2024-04-20T02:10:46.967311Z",
     "iopub.status.idle": "2024-04-20T02:10:46.971563Z",
     "shell.execute_reply": "2024-04-20T02:10:46.970340Z"
    },
    "papermill": {
     "duration": 0.019267,
     "end_time": "2024-04-20T02:10:46.973815",
     "exception": false,
     "start_time": "2024-04-20T02:10:46.954548",
     "status": "completed"
    },
    "tags": []
   },
   "outputs": [],
   "source": [
    "#combined_df.iloc[-1]['id']"
   ]
  },
  {
   "cell_type": "code",
   "execution_count": 30,
   "id": "1701de03",
   "metadata": {
    "execution": {
     "iopub.execute_input": "2024-04-20T02:10:46.998802Z",
     "iopub.status.busy": "2024-04-20T02:10:46.998179Z",
     "iopub.status.idle": "2024-04-20T02:10:47.002564Z",
     "shell.execute_reply": "2024-04-20T02:10:47.001479Z"
    },
    "papermill": {
     "duration": 0.019385,
     "end_time": "2024-04-20T02:10:47.004822",
     "exception": false,
     "start_time": "2024-04-20T02:10:46.985437",
     "status": "completed"
    },
    "tags": []
   },
   "outputs": [],
   "source": [
    "#list_summaries_id[list_summaries_id.index(combined_df.iloc[-1]['id'])]"
   ]
  },
  {
   "cell_type": "code",
   "execution_count": 31,
   "id": "4bfcb21c",
   "metadata": {
    "execution": {
     "iopub.execute_input": "2024-04-20T02:10:47.029829Z",
     "iopub.status.busy": "2024-04-20T02:10:47.029081Z",
     "iopub.status.idle": "2024-04-20T02:10:47.033076Z",
     "shell.execute_reply": "2024-04-20T02:10:47.032242Z"
    },
    "papermill": {
     "duration": 0.019,
     "end_time": "2024-04-20T02:10:47.035250",
     "exception": false,
     "start_time": "2024-04-20T02:10:47.016250",
     "status": "completed"
    },
    "tags": []
   },
   "outputs": [],
   "source": [
    "#test_read_pd = pd.read_csv('/kaggle/input/combined-df-coma-partial/combined_df_coma.csv', sep = ',')  "
   ]
  },
  {
   "cell_type": "code",
   "execution_count": 32,
   "id": "d83b6619",
   "metadata": {
    "execution": {
     "iopub.execute_input": "2024-04-20T02:10:47.059669Z",
     "iopub.status.busy": "2024-04-20T02:10:47.059252Z",
     "iopub.status.idle": "2024-04-20T02:10:47.064309Z",
     "shell.execute_reply": "2024-04-20T02:10:47.063207Z"
    },
    "papermill": {
     "duration": 0.020015,
     "end_time": "2024-04-20T02:10:47.066654",
     "exception": false,
     "start_time": "2024-04-20T02:10:47.046639",
     "status": "completed"
    },
    "tags": []
   },
   "outputs": [],
   "source": [
    "#test_read_pd.sample(10)"
   ]
  },
  {
   "cell_type": "code",
   "execution_count": 33,
   "id": "ba06a15d",
   "metadata": {
    "execution": {
     "iopub.execute_input": "2024-04-20T02:10:47.091328Z",
     "iopub.status.busy": "2024-04-20T02:10:47.090533Z",
     "iopub.status.idle": "2024-04-20T02:10:47.095116Z",
     "shell.execute_reply": "2024-04-20T02:10:47.094290Z"
    },
    "papermill": {
     "duration": 0.019535,
     "end_time": "2024-04-20T02:10:47.097338",
     "exception": false,
     "start_time": "2024-04-20T02:10:47.077803",
     "status": "completed"
    },
    "tags": []
   },
   "outputs": [],
   "source": [
    "#test_read_pd['unredacted_text'].nunique()"
   ]
  },
  {
   "cell_type": "code",
   "execution_count": 34,
   "id": "271d6e06",
   "metadata": {
    "execution": {
     "iopub.execute_input": "2024-04-20T02:10:47.122063Z",
     "iopub.status.busy": "2024-04-20T02:10:47.121091Z",
     "iopub.status.idle": "2024-04-20T02:10:47.126161Z",
     "shell.execute_reply": "2024-04-20T02:10:47.125248Z"
    },
    "papermill": {
     "duration": 0.019822,
     "end_time": "2024-04-20T02:10:47.128314",
     "exception": false,
     "start_time": "2024-04-20T02:10:47.108492",
     "status": "completed"
    },
    "tags": []
   },
   "outputs": [],
   "source": [
    "#test_read_pd['unredacted_text'].count()"
   ]
  },
  {
   "cell_type": "code",
   "execution_count": 35,
   "id": "5ce6d2ca",
   "metadata": {
    "execution": {
     "iopub.execute_input": "2024-04-20T02:10:47.152977Z",
     "iopub.status.busy": "2024-04-20T02:10:47.151692Z",
     "iopub.status.idle": "2024-04-20T02:10:47.157572Z",
     "shell.execute_reply": "2024-04-20T02:10:47.156368Z"
    },
    "papermill": {
     "duration": 0.020534,
     "end_time": "2024-04-20T02:10:47.159890",
     "exception": false,
     "start_time": "2024-04-20T02:10:47.139356",
     "status": "completed"
    },
    "tags": []
   },
   "outputs": [],
   "source": [
    "#test_read_pd['unredacted_text'].size"
   ]
  }
 ],
 "metadata": {
  "kaggle": {
   "accelerator": "none",
   "dataSources": [
    {
     "datasetId": 2104038,
     "sourceId": 3507350,
     "sourceType": "datasetVersion"
    },
    {
     "datasetId": 4667785,
     "sourceId": 7939623,
     "sourceType": "datasetVersion"
    },
    {
     "datasetId": 4668553,
     "sourceId": 7940666,
     "sourceType": "datasetVersion"
    },
    {
     "datasetId": 4811394,
     "sourceId": 8169474,
     "sourceType": "datasetVersion"
    }
   ],
   "dockerImageVersionId": 30673,
   "isGpuEnabled": false,
   "isInternetEnabled": true,
   "language": "python",
   "sourceType": "notebook"
  },
  "kernelspec": {
   "display_name": "Python 3",
   "language": "python",
   "name": "python3"
  },
  "language_info": {
   "codemirror_mode": {
    "name": "ipython",
    "version": 3
   },
   "file_extension": ".py",
   "mimetype": "text/x-python",
   "name": "python",
   "nbconvert_exporter": "python",
   "pygments_lexer": "ipython3",
   "version": "3.10.13"
  },
  "papermill": {
   "default_parameters": {},
   "duration": 8179.745277,
   "end_time": "2024-04-20T02:10:51.009740",
   "environment_variables": {},
   "exception": null,
   "input_path": "__notebook__.ipynb",
   "output_path": "__notebook__.ipynb",
   "parameters": {},
   "start_time": "2024-04-19T23:54:31.264463",
   "version": "2.5.0"
  }
 },
 "nbformat": 4,
 "nbformat_minor": 5
}
